{
 "cells": [
  {
   "cell_type": "markdown",
   "metadata": {},
   "source": [
    "# All imports #"
   ]
  },
  {
   "cell_type": "code",
   "execution_count": 1,
   "metadata": {
    "scrolled": false
   },
   "outputs": [
    {
     "name": "stderr",
     "output_type": "stream",
     "text": [
      "/home/dfki.uni-bremen.de/bmanickavasakan/.local/lib/python3.6/site-packages/tensorflow/python/framework/dtypes.py:526: FutureWarning: Passing (type, 1) or '1type' as a synonym of type is deprecated; in a future version of numpy, it will be understood as (type, (1,)) / '(1,)type'.\n",
      "  _np_qint8 = np.dtype([(\"qint8\", np.int8, 1)])\n",
      "/home/dfki.uni-bremen.de/bmanickavasakan/.local/lib/python3.6/site-packages/tensorflow/python/framework/dtypes.py:527: FutureWarning: Passing (type, 1) or '1type' as a synonym of type is deprecated; in a future version of numpy, it will be understood as (type, (1,)) / '(1,)type'.\n",
      "  _np_quint8 = np.dtype([(\"quint8\", np.uint8, 1)])\n",
      "/home/dfki.uni-bremen.de/bmanickavasakan/.local/lib/python3.6/site-packages/tensorflow/python/framework/dtypes.py:528: FutureWarning: Passing (type, 1) or '1type' as a synonym of type is deprecated; in a future version of numpy, it will be understood as (type, (1,)) / '(1,)type'.\n",
      "  _np_qint16 = np.dtype([(\"qint16\", np.int16, 1)])\n",
      "/home/dfki.uni-bremen.de/bmanickavasakan/.local/lib/python3.6/site-packages/tensorflow/python/framework/dtypes.py:529: FutureWarning: Passing (type, 1) or '1type' as a synonym of type is deprecated; in a future version of numpy, it will be understood as (type, (1,)) / '(1,)type'.\n",
      "  _np_quint16 = np.dtype([(\"quint16\", np.uint16, 1)])\n",
      "/home/dfki.uni-bremen.de/bmanickavasakan/.local/lib/python3.6/site-packages/tensorflow/python/framework/dtypes.py:530: FutureWarning: Passing (type, 1) or '1type' as a synonym of type is deprecated; in a future version of numpy, it will be understood as (type, (1,)) / '(1,)type'.\n",
      "  _np_qint32 = np.dtype([(\"qint32\", np.int32, 1)])\n",
      "/home/dfki.uni-bremen.de/bmanickavasakan/.local/lib/python3.6/site-packages/tensorflow/python/framework/dtypes.py:535: FutureWarning: Passing (type, 1) or '1type' as a synonym of type is deprecated; in a future version of numpy, it will be understood as (type, (1,)) / '(1,)type'.\n",
      "  np_resource = np.dtype([(\"resource\", np.ubyte, 1)])\n",
      "Using TensorFlow backend.\n"
     ]
    }
   ],
   "source": [
    "from __future__ import print_function\n",
    "\n",
    "import sys, os\n",
    "os.environ[\"CUDA_VISIBLE_DEVICES\"] = \"-1\"\n",
    "import tensorflow as tf\n",
    "import tensorflow.keras\n",
    "import pandas as pd\n",
    "import numpy as np\n",
    "import sklearn\n",
    "import keras\n",
    "import csv\n",
    "\n",
    "from sklearn.preprocessing import MinMaxScaler\n",
    "from sklearn.metrics import mean_absolute_error\n",
    "from sklearn.model_selection import train_test_split\n",
    "\n",
    "from tensorflow.keras.models import Sequential, load_model, Model\n",
    "from tensorflow.keras.layers import Dense, BatchNormalization, Dropout, Input\n",
    "\n",
    "from keras_uncertainty.models import MCDropoutClassifier, MCDropoutRegressor\n",
    "from keras_uncertainty.utils import numpy_regression_nll\n",
    "from keras_uncertainty.models import DeepEnsembleRegressor, deep_ensemble_regression_nll_loss, SimpleEnsemble\n",
    "\n"
   ]
  },
  {
   "cell_type": "code",
   "execution_count": 21,
   "metadata": {},
   "outputs": [],
   "source": [
    "def load_joint_space_csv_chunks(file_path):\n",
    "    data_frame = pd.read_csv(file_path, skiprows=1, header=None)\n",
    "    del data_frame[18]\n",
    "    return data_frame\n",
    "\n",
    "def load_task_space_csv_chunks(file_path):\n",
    "    return pd.read_csv(file_path, skiprows=1, header=None)\n"
   ]
  },
  {
   "cell_type": "code",
   "execution_count": 22,
   "metadata": {},
   "outputs": [],
   "source": [
    "##please select the appropriate folder, willl use os.path.join() for completed script\n",
    "TRAIN_FOLDER = '/home/dfki.uni-bremen.de/bmanickavasakan/newdataset_rh5_leg/leg_5steps/'\n",
    "TEST_FOLDER = '/home/dfki.uni-bremen.de/bmanickavasakan/newdataset_rh5_leg/leg_5steps/test_4steps'\n",
    "\n",
    "X_TRAIN_FILE = os.path.join(TRAIN_FOLDER, 'leg_forwardkinematics_x.csv')\n",
    "Q_TRAIN_FILE = os.path.join(TRAIN_FOLDER, 'leg_sysstate_q.csv')\n",
    "x_train = load_task_space_csv_chunks(X_TRAIN_FILE)\n",
    "q_train = load_joint_space_csv_chunks(Q_TRAIN_FILE)\n",
    "\n",
    "X_TEST_FILE = os.path.join(TEST_FOLDER, 'leg_forwardkinematics_x.csv')\n",
    "Q_TEST_FILE = os.path.join(TEST_FOLDER, 'leg_sysstate_q.csv')\n",
    "x_test = load_task_space_csv_chunks(X_TEST_FILE)\n",
    "q_test = load_joint_space_csv_chunks(Q_TEST_FILE)"
   ]
  },
  {
   "cell_type": "markdown",
   "metadata": {},
   "source": [
    "# Splitting the dataset with SD #"
   ]
  },
  {
   "cell_type": "code",
   "execution_count": 23,
   "metadata": {
    "scrolled": true
   },
   "outputs": [
    {
     "name": "stdout",
     "output_type": "stream",
     "text": [
      "0.9119140506494964 -0.5558160506494813\n",
      "//////////////////////\n",
      "(13750, 9) (1875, 9) (3840, 9) (256, 9)\n"
     ]
    }
   ],
   "source": [
    "'''\n",
    "\n",
    "Standard deviation based data splitting\n",
    "\n",
    "We consider the Q features and use the feature with the \n",
    "\n",
    "highest SD for dividing the dataset\n",
    "'''\n",
    "\n",
    "stats_q_train = pd.DataFrame()\n",
    "stats_q_train[\"Mean\"] = q_train.mean()\n",
    "stats_q_train[\"Var\"] = q_train.var()\n",
    "stats_q_train[\"STD\"] = q_train.std()\n",
    "stats_q_train[\"OneSigmaMax\"] = stats_q_train[\"Mean\"] + stats_q_train[\"STD\"]\n",
    "stats_q_train[\"OneSigmaMin\"] = stats_q_train[\"Mean\"] - stats_q_train[\"STD\"]\n",
    "stats_q_train.T\n",
    "\n",
    "max_std = stats_q_train[\"STD\"].max()\n",
    "colomn_max_std = stats_q_train[\"STD\"].idxmax()\n",
    "\n",
    "maximum = stats_q_train.loc[colomn_max_std, \"Mean\"] + (1.5 * max_std)\n",
    "minimum = stats_q_train.loc[colomn_max_std, \"Mean\"] - (1.5 * max_std)\n",
    "print(maximum, minimum)\n",
    "\n",
    "InDistribution_Q_Train = q_train[q_train[colomn_max_std].le(maximum) & q_train[colomn_max_std].ge(minimum)]\n",
    "OutDistribution_Q_Train = q_train[q_train[colomn_max_std].ge(maximum) | q_train[colomn_max_std].le(minimum)]\n",
    "InDistribution_X_Train = x_train[q_train[colomn_max_std].le(maximum) & q_train[colomn_max_std].ge(minimum)]\n",
    "OutDistribution_X_Train = x_train[q_train[colomn_max_std].ge(maximum) | q_train[colomn_max_std].le(minimum)]\n",
    "\n",
    "InDistribution_Q_Test = q_test[q_test[colomn_max_std].le(maximum) & q_test[colomn_max_std].ge(minimum)]\n",
    "OutDistribution_Q_Test = q_test[q_test[colomn_max_std].ge(maximum) | q_test[colomn_max_std].le(minimum)]\n",
    "InDistribution_X_Test = x_test[q_test[colomn_max_std].le(maximum) & q_test[colomn_max_std].ge(minimum)]\n",
    "OutDistribution_X_Test = x_test[q_test[colomn_max_std].ge(maximum) | q_test[colomn_max_std].le(minimum)]\n",
    "\n",
    "x_train_1 = InDistribution_X_Train\n",
    "q_train_1 = InDistribution_Q_Train\n",
    "x_test_1 = InDistribution_X_Test\n",
    "q_test_1 = InDistribution_Q_Test\n",
    "\n",
    "OOD_x_train = OutDistribution_X_Train\n",
    "OOD_q_train = OutDistribution_Q_Train\n",
    "OOD_x_test = OutDistribution_X_Test\n",
    "OOD_q_test = OutDistribution_Q_Test\n",
    "\n",
    "print(\"//////////////////////\")\n",
    "print(x_train_1.shape, OOD_x_train.shape, x_test_1.shape, OOD_x_test.shape)\n"
   ]
  },
  {
   "cell_type": "code",
   "execution_count": 24,
   "metadata": {},
   "outputs": [],
   "source": [
    "\n",
    "x_scaler = MinMaxScaler()\n",
    "q_scaler = MinMaxScaler()\n",
    "\n",
    "#In order training set\n",
    "x_train_1 = x_scaler.fit_transform(x_train_1)\n",
    "q_train_1 = q_scaler.fit_transform(q_train_1)\n",
    "\n",
    "#complete test set\n",
    "x_test = x_scaler.transform(x_test)\n",
    "q_test = q_scaler.transform(q_test)\n",
    "\n",
    "#split testing data\n",
    "IOD_x_test = x_scaler.transform(x_test_1)\n",
    "IOD_q_test = q_scaler.transform(q_test_1)\n",
    "\n",
    "OOD_x_test = x_scaler.transform(OOD_x_test)\n",
    "OOD_q_test = q_scaler.transform(OOD_q_test)"
   ]
  },
  {
   "cell_type": "code",
   "execution_count": 25,
   "metadata": {
    "scrolled": true
   },
   "outputs": [
    {
     "name": "stdout",
     "output_type": "stream",
     "text": [
      "[8.88403205e-01 6.52137067e-01 6.71030535e-01 4.60491315e-01\n",
      " 3.23972785e-02 3.98426058e-01 4.34750101e-01 2.35521144e-04\n",
      " 7.25466835e-04]\n"
     ]
    }
   ],
   "source": [
    "print(IOD_x_test[0])"
   ]
  },
  {
   "cell_type": "code",
   "execution_count": 7,
   "metadata": {
    "scrolled": true
   },
   "outputs": [
    {
     "name": "stdout",
     "output_type": "stream",
     "text": [
      "[t-SNE] Computing 121 nearest neighbors...\n",
      "[t-SNE] Indexed 4096 samples in 0.008s...\n",
      "[t-SNE] Computed neighbors for 4096 samples in 0.233s...\n",
      "[t-SNE] Computed conditional probabilities for sample 1000 / 4096\n",
      "[t-SNE] Computed conditional probabilities for sample 2000 / 4096\n",
      "[t-SNE] Computed conditional probabilities for sample 3000 / 4096\n",
      "[t-SNE] Computed conditional probabilities for sample 4000 / 4096\n",
      "[t-SNE] Computed conditional probabilities for sample 4096 / 4096\n",
      "[t-SNE] Mean sigma: 0.408712\n",
      "[t-SNE] KL divergence after 250 iterations with early exaggeration: 69.388878\n",
      "[t-SNE] KL divergence after 300 iterations: 1.617017\n"
     ]
    },
    {
     "data": {
      "text/plain": [
       "<AxesSubplot:>"
      ]
     },
     "execution_count": 7,
     "metadata": {},
     "output_type": "execute_result"
    }
   ],
   "source": [
    "import matplotlib.pyplot as plt\n",
    "import seaborn as sns\n",
    "from sklearn.manifold import TSNE\n",
    "\n",
    "tsne = TSNE(n_components=2, verbose=1, perplexity=40, n_iter=300)\n",
    "tsne_results = tsne.fit_transform(q_test)\n",
    "df_result = pd.DataFrame()\n",
    "df_result[0] = tsne_results[:,0]\n",
    "df_result[1] = tsne_results[:,1]\n",
    "\n",
    "plt.figure()\n",
    "sns.scatterplot(data=df_result)"
   ]
  },
  {
   "cell_type": "code",
   "execution_count": 8,
   "metadata": {},
   "outputs": [
    {
     "name": "stdout",
     "output_type": "stream",
     "text": [
      "[t-SNE] Computing 121 nearest neighbors...\n",
      "[t-SNE] Indexed 3840 samples in 0.004s...\n",
      "[t-SNE] Computed neighbors for 3840 samples in 0.300s...\n",
      "[t-SNE] Computed conditional probabilities for sample 1000 / 3840\n",
      "[t-SNE] Computed conditional probabilities for sample 2000 / 3840\n",
      "[t-SNE] Computed conditional probabilities for sample 3000 / 3840\n",
      "[t-SNE] Computed conditional probabilities for sample 3840 / 3840\n",
      "[t-SNE] Mean sigma: 0.406737\n",
      "[t-SNE] KL divergence after 250 iterations with early exaggeration: 69.778221\n",
      "[t-SNE] KL divergence after 300 iterations: 1.566312\n"
     ]
    },
    {
     "data": {
      "text/plain": [
       "<AxesSubplot:>"
      ]
     },
     "execution_count": 8,
     "metadata": {},
     "output_type": "execute_result"
    },
    {
     "data": {
      "image/png": "[encoded data removed]",
      "text/plain": [
       "<Figure size 432x288 with 1 Axes>"
      ]
     },
     "metadata": {
      "needs_background": "light"
     },
     "output_type": "display_data"
    }
   ],
   "source": [
    "tsne_results = tsne.fit_transform(IOD_q_test)\n",
    "df_result_1 = pd.DataFrame()\n",
    "df_result_1[0] = tsne_results[:,0]\n",
    "df_result_1[1] = tsne_results[:,1]\n",
    "\n",
    "plt.figure()\n",
    "sns.scatterplot(data=df_result_1)"
   ]
  },
  {
   "cell_type": "code",
   "execution_count": 9,
   "metadata": {},
   "outputs": [
    {
     "name": "stdout",
     "output_type": "stream",
     "text": [
      "[t-SNE] Computing 121 nearest neighbors...\n",
      "[t-SNE] Indexed 256 samples in 0.001s...\n",
      "[t-SNE] Computed neighbors for 256 samples in 0.007s...\n",
      "[t-SNE] Computed conditional probabilities for sample 256 / 256\n",
      "[t-SNE] Mean sigma: 0.471318\n",
      "[t-SNE] KL divergence after 250 iterations with early exaggeration: 58.612968\n",
      "[t-SNE] KL divergence after 300 iterations: 0.576743\n"
     ]
    },
    {
     "data": {
      "text/plain": [
       "<AxesSubplot:>"
      ]
     },
     "execution_count": 9,
     "metadata": {},
     "output_type": "execute_result"
    },
    {
     "data": {
      "image/png": "[encoded data removed]",
      "text/plain": [
       "<Figure size 432x288 with 1 Axes>"
      ]
     },
     "metadata": {
      "needs_background": "light"
     },
     "output_type": "display_data"
    }
   ],
   "source": [
    "tsne_results = tsne.fit_transform(OOD_q_test)\n",
    "df_result_2 = pd.DataFrame()\n",
    "df_result_2[0] = tsne_results[:,0]\n",
    "df_result_2[1] = tsne_results[:,1]\n",
    "\n",
    "plt.figure()\n",
    "sns.scatterplot(data=df_result_2)"
   ]
  },
  {
   "cell_type": "code",
   "execution_count": 26,
   "metadata": {},
   "outputs": [],
   "source": [
    "\n",
    "def model_builder():\n",
    "    input_shape = 9\n",
    "    output_shape = 18\n",
    "    depth = 6\n",
    "    width = 64\n",
    "    reduction_factor = 0.9\n",
    "    for i in range(depth):\n",
    "        num_neurons = max(int(width * (reduction_factor ** i)), 4)\n",
    "        if i == 0:\n",
    "            inp = Input(shape=(input_shape,))\n",
    "            x = Dense(num_neurons, activation='relu')(inp)\n",
    "        else:\n",
    "            x = Dense(num_neurons, activation='relu')(x)\n",
    "            \n",
    "    mean = Dense(output_shape, activation=\"sigmoid\")(x)\n",
    "    var = Dense(output_shape, activation=\"softplus\")(x)\n",
    "    \n",
    "    train_model = Model(inp, mean)\n",
    "    pred_model = Model(inp, [mean, var])\n",
    "\n",
    "    train_model.compile(loss=deep_ensemble_regression_nll_loss(var), optimizer=\"adam\", metrics=[\"mae\"])\n",
    "    return train_model, pred_model"
   ]
  },
  {
   "cell_type": "code",
   "execution_count": 27,
   "metadata": {},
   "outputs": [
    {
     "name": "stdout",
     "output_type": "stream",
     "text": [
      "<class 'function'>\n"
     ]
    }
   ],
   "source": [
    "\n",
    "\n",
    "model = model_builder\n",
    "\n",
    "print(type(model))"
   ]
  },
  {
   "cell_type": "code",
   "execution_count": 28,
   "metadata": {},
   "outputs": [
    {
     "name": "stdout",
     "output_type": "stream",
     "text": [
      "Train on 13750 samples, validate on 3840 samples\n",
      "Epoch 1/100\n",
      "13750/13750 [==============================] - 1s 41us/sample - loss: -0.2948 - mean_absolute_error: 0.2755 - val_loss: -0.4596 - val_mean_absolute_error: 0.2504\n",
      "Epoch 2/100\n",
      "13750/13750 [==============================] - 0s 18us/sample - loss: -0.5501 - mean_absolute_error: 0.2345 - val_loss: -0.5963 - val_mean_absolute_error: 0.2332\n",
      "Epoch 3/100\n",
      "13750/13750 [==============================] - 0s 19us/sample - loss: -0.6247 - mean_absolute_error: 0.2218 - val_loss: -0.6424 - val_mean_absolute_error: 0.2199\n",
      "Epoch 4/100\n",
      "13750/13750 [==============================] - 0s 19us/sample - loss: -0.6762 - mean_absolute_error: 0.2097 - val_loss: -0.6482 - val_mean_absolute_error: 0.2105\n",
      "Epoch 5/100\n",
      "13750/13750 [==============================] - 0s 19us/sample - loss: -0.7123 - mean_absolute_error: 0.2033 - val_loss: -0.6190 - val_mean_absolute_error: 0.2067\n",
      "Epoch 6/100\n",
      "13750/13750 [==============================] - 0s 20us/sample - loss: -0.7340 - mean_absolute_error: 0.1993 - val_loss: -0.6966 - val_mean_absolute_error: 0.2028\n",
      "Epoch 7/100\n",
      "13750/13750 [==============================] - 0s 19us/sample - loss: -0.7638 - mean_absolute_error: 0.1956 - val_loss: -0.7296 - val_mean_absolute_error: 0.1991\n",
      "Epoch 8/100\n",
      "13750/13750 [==============================] - 0s 18us/sample - loss: -0.7933 - mean_absolute_error: 0.1911 - val_loss: -0.7424 - val_mean_absolute_error: 0.1935\n",
      "Epoch 9/100\n",
      "13750/13750 [==============================] - 0s 18us/sample - loss: -0.8267 - mean_absolute_error: 0.1839 - val_loss: -0.7839 - val_mean_absolute_error: 0.1847\n",
      "Epoch 10/100\n",
      "13750/13750 [==============================] - 0s 19us/sample - loss: -0.8590 - mean_absolute_error: 0.1755 - val_loss: -0.7269 - val_mean_absolute_error: 0.1794\n",
      "Epoch 11/100\n",
      "13750/13750 [==============================] - 0s 19us/sample - loss: -0.9021 - mean_absolute_error: 0.1686 - val_loss: -0.8359 - val_mean_absolute_error: 0.1722\n",
      "Epoch 12/100\n",
      "13750/13750 [==============================] - 0s 19us/sample - loss: -0.9428 - mean_absolute_error: 0.1624 - val_loss: -0.7883 - val_mean_absolute_error: 0.1664\n",
      "Epoch 13/100\n",
      "13750/13750 [==============================] - 0s 19us/sample - loss: -0.9693 - mean_absolute_error: 0.1578 - val_loss: -0.7726 - val_mean_absolute_error: 0.1637\n",
      "Epoch 14/100\n",
      "13750/13750 [==============================] - 0s 19us/sample - loss: -0.9847 - mean_absolute_error: 0.1546 - val_loss: -0.5800 - val_mean_absolute_error: 0.1610\n",
      "Epoch 15/100\n",
      "13750/13750 [==============================] - 0s 18us/sample - loss: -1.0130 - mean_absolute_error: 0.1514 - val_loss: -0.6996 - val_mean_absolute_error: 0.1568\n",
      "Epoch 16/100\n",
      "13750/13750 [==============================] - 0s 19us/sample - loss: -1.0288 - mean_absolute_error: 0.1490 - val_loss: -0.5170 - val_mean_absolute_error: 0.1553\n",
      "Epoch 17/100\n",
      "13750/13750 [==============================] - 0s 18us/sample - loss: -1.0470 - mean_absolute_error: 0.1468 - val_loss: -0.5606 - val_mean_absolute_error: 0.1536\n",
      "Epoch 18/100\n",
      "13750/13750 [==============================] - 0s 18us/sample - loss: -1.0592 - mean_absolute_error: 0.1452 - val_loss: -0.6368 - val_mean_absolute_error: 0.1521\n",
      "Epoch 19/100\n",
      "13750/13750 [==============================] - 0s 18us/sample - loss: -1.0839 - mean_absolute_error: 0.1429 - val_loss: -0.5824 - val_mean_absolute_error: 0.1491\n",
      "Epoch 20/100\n",
      "13750/13750 [==============================] - 0s 18us/sample - loss: -1.0941 - mean_absolute_error: 0.1416 - val_loss: -0.5366 - val_mean_absolute_error: 0.1491\n",
      "Epoch 21/100\n",
      "13750/13750 [==============================] - 0s 18us/sample - loss: -1.1091 - mean_absolute_error: 0.1403 - val_loss: -0.6439 - val_mean_absolute_error: 0.1472\n",
      "Epoch 22/100\n",
      "13750/13750 [==============================] - 0s 18us/sample - loss: -1.1189 - mean_absolute_error: 0.1389 - val_loss: -0.6089 - val_mean_absolute_error: 0.1475\n",
      "Epoch 23/100\n",
      "13750/13750 [==============================] - 0s 19us/sample - loss: -1.1199 - mean_absolute_error: 0.1381 - val_loss: -0.6935 - val_mean_absolute_error: 0.1465\n",
      "Epoch 24/100\n",
      "13750/13750 [==============================] - 0s 18us/sample - loss: -1.1298 - mean_absolute_error: 0.1372 - val_loss: -0.5615 - val_mean_absolute_error: 0.1445\n",
      "Epoch 25/100\n",
      "13750/13750 [==============================] - 0s 19us/sample - loss: -1.1445 - mean_absolute_error: 0.1359 - val_loss: -0.5719 - val_mean_absolute_error: 0.1444\n",
      "Epoch 26/100\n",
      "13750/13750 [==============================] - 0s 19us/sample - loss: -1.1494 - mean_absolute_error: 0.1354 - val_loss: -0.3111 - val_mean_absolute_error: 0.1437\n",
      "Epoch 27/100\n",
      "13750/13750 [==============================] - 0s 20us/sample - loss: -1.1520 - mean_absolute_error: 0.1346 - val_loss: -0.5601 - val_mean_absolute_error: 0.1436\n",
      "Epoch 28/100\n",
      "13750/13750 [==============================] - 0s 19us/sample - loss: -1.1620 - mean_absolute_error: 0.1340 - val_loss: -0.3391 - val_mean_absolute_error: 0.1430\n",
      "Epoch 29/100\n",
      "13750/13750 [==============================] - 0s 18us/sample - loss: -1.1638 - mean_absolute_error: 0.1335 - val_loss: -0.4595 - val_mean_absolute_error: 0.1414\n",
      "Epoch 30/100\n",
      "13750/13750 [==============================] - 0s 18us/sample - loss: -1.1676 - mean_absolute_error: 0.1329 - val_loss: -0.3157 - val_mean_absolute_error: 0.1404\n",
      "Epoch 31/100\n",
      "13750/13750 [==============================] - 0s 18us/sample - loss: -1.1803 - mean_absolute_error: 0.1320 - val_loss: -0.4105 - val_mean_absolute_error: 0.1411\n",
      "Epoch 32/100\n",
      "13750/13750 [==============================] - 0s 20us/sample - loss: -1.1840 - mean_absolute_error: 0.1313 - val_loss: -0.2949 - val_mean_absolute_error: 0.1399\n",
      "Epoch 33/100\n",
      "13750/13750 [==============================] - 0s 19us/sample - loss: -1.1912 - mean_absolute_error: 0.1309 - val_loss: -0.2746 - val_mean_absolute_error: 0.1394\n",
      "Epoch 34/100\n",
      "13750/13750 [==============================] - 0s 18us/sample - loss: -1.1972 - mean_absolute_error: 0.1299 - val_loss: -0.1514 - val_mean_absolute_error: 0.1377\n",
      "Epoch 35/100\n",
      "13750/13750 [==============================] - 0s 19us/sample - loss: -1.1937 - mean_absolute_error: 0.1294 - val_loss: -0.5674 - val_mean_absolute_error: 0.1385\n",
      "Epoch 36/100\n",
      "13750/13750 [==============================] - 0s 19us/sample - loss: -1.2045 - mean_absolute_error: 0.1286 - val_loss: -0.4241 - val_mean_absolute_error: 0.1369\n",
      "Epoch 37/100\n",
      "13750/13750 [==============================] - 0s 18us/sample - loss: -1.2095 - mean_absolute_error: 0.1277 - val_loss: -0.2163 - val_mean_absolute_error: 0.1358\n",
      "Epoch 38/100\n",
      "13750/13750 [==============================] - 0s 19us/sample - loss: -1.2089 - mean_absolute_error: 0.1275 - val_loss: -0.3284 - val_mean_absolute_error: 0.1350\n",
      "Epoch 39/100\n",
      "13750/13750 [==============================] - 0s 19us/sample - loss: -1.2105 - mean_absolute_error: 0.1265 - val_loss: -0.3313 - val_mean_absolute_error: 0.1358\n",
      "Epoch 40/100\n",
      "13750/13750 [==============================] - 0s 18us/sample - loss: -1.2284 - mean_absolute_error: 0.1255 - val_loss: -0.1546 - val_mean_absolute_error: 0.1332\n",
      "Epoch 41/100\n",
      "13750/13750 [==============================] - 0s 18us/sample - loss: -1.2333 - mean_absolute_error: 0.1248 - val_loss: -0.1876 - val_mean_absolute_error: 0.1339\n",
      "Epoch 42/100\n",
      "13750/13750 [==============================] - 0s 19us/sample - loss: -1.2424 - mean_absolute_error: 0.1239 - val_loss: 0.1361 - val_mean_absolute_error: 0.1316\n",
      "Epoch 43/100\n",
      "13750/13750 [==============================] - 0s 18us/sample - loss: -1.2422 - mean_absolute_error: 0.1233 - val_loss: -0.0178 - val_mean_absolute_error: 0.1311\n",
      "Epoch 44/100\n",
      "13750/13750 [==============================] - 0s 19us/sample - loss: -1.2500 - mean_absolute_error: 0.1225 - val_loss: 0.4607 - val_mean_absolute_error: 0.1323\n",
      "Epoch 45/100\n",
      "13750/13750 [==============================] - 0s 18us/sample - loss: -1.2480 - mean_absolute_error: 0.1221 - val_loss: -0.1802 - val_mean_absolute_error: 0.1297\n",
      "Epoch 46/100\n",
      "13750/13750 [==============================] - 0s 19us/sample - loss: -1.2519 - mean_absolute_error: 0.1216 - val_loss: 0.1215 - val_mean_absolute_error: 0.1288\n",
      "Epoch 47/100\n",
      "13750/13750 [==============================] - 0s 20us/sample - loss: -1.2468 - mean_absolute_error: 0.1211 - val_loss: 0.2568 - val_mean_absolute_error: 0.1282\n",
      "Epoch 48/100\n",
      "13750/13750 [==============================] - 0s 19us/sample - loss: -1.2510 - mean_absolute_error: 0.1205 - val_loss: 0.0142 - val_mean_absolute_error: 0.1294\n",
      "Epoch 49/100\n",
      "13750/13750 [==============================] - 0s 19us/sample - loss: -1.2496 - mean_absolute_error: 0.1202 - val_loss: -0.2275 - val_mean_absolute_error: 0.1295\n",
      "Epoch 50/100\n",
      "13750/13750 [==============================] - 0s 19us/sample - loss: -1.2613 - mean_absolute_error: 0.1194 - val_loss: -0.5555 - val_mean_absolute_error: 0.1286\n",
      "Epoch 51/100\n",
      "13750/13750 [==============================] - 0s 18us/sample - loss: -1.2667 - mean_absolute_error: 0.1190 - val_loss: 0.3198 - val_mean_absolute_error: 0.1276\n",
      "Epoch 52/100\n",
      "13750/13750 [==============================] - 0s 18us/sample - loss: -1.2691 - mean_absolute_error: 0.1186 - val_loss: 0.3525 - val_mean_absolute_error: 0.1274\n",
      "Epoch 53/100\n",
      "13750/13750 [==============================] - 0s 19us/sample - loss: -1.2707 - mean_absolute_error: 0.1181 - val_loss: 0.4433 - val_mean_absolute_error: 0.1257\n",
      "Epoch 54/100\n",
      "13750/13750 [==============================] - 0s 19us/sample - loss: -1.2752 - mean_absolute_error: 0.1176 - val_loss: 0.1059 - val_mean_absolute_error: 0.1265\n",
      "Epoch 55/100\n",
      "13750/13750 [==============================] - 0s 19us/sample - loss: -1.2806 - mean_absolute_error: 0.1170 - val_loss: 0.2967 - val_mean_absolute_error: 0.1257\n",
      "Epoch 56/100\n",
      "13750/13750 [==============================] - 0s 19us/sample - loss: -1.2763 - mean_absolute_error: 0.1169 - val_loss: 0.3473 - val_mean_absolute_error: 0.1246\n",
      "Epoch 57/100\n",
      "13750/13750 [==============================] - 0s 19us/sample - loss: -1.2786 - mean_absolute_error: 0.1165 - val_loss: 0.4771 - val_mean_absolute_error: 0.1249\n",
      "Epoch 58/100\n",
      "13750/13750 [==============================] - 0s 18us/sample - loss: -1.2870 - mean_absolute_error: 0.1159 - val_loss: 0.5385 - val_mean_absolute_error: 0.1246\n",
      "Epoch 59/100\n",
      "13750/13750 [==============================] - 0s 19us/sample - loss: -1.2896 - mean_absolute_error: 0.1155 - val_loss: 0.5065 - val_mean_absolute_error: 0.1262\n",
      "Epoch 60/100\n",
      "13750/13750 [==============================] - 0s 18us/sample - loss: -1.2849 - mean_absolute_error: 0.1155 - val_loss: 0.0683 - val_mean_absolute_error: 0.1230\n",
      "Epoch 61/100\n",
      "13750/13750 [==============================] - 0s 18us/sample - loss: -1.2897 - mean_absolute_error: 0.1149 - val_loss: 0.4613 - val_mean_absolute_error: 0.1225\n",
      "Epoch 62/100\n",
      "13750/13750 [==============================] - 0s 18us/sample - loss: -1.2958 - mean_absolute_error: 0.1145 - val_loss: 0.6399 - val_mean_absolute_error: 0.1219\n",
      "Epoch 63/100\n",
      "13750/13750 [==============================] - 0s 18us/sample - loss: -1.2969 - mean_absolute_error: 0.1143 - val_loss: 0.5276 - val_mean_absolute_error: 0.1228\n",
      "Epoch 64/100\n",
      "13750/13750 [==============================] - 0s 18us/sample - loss: -1.2993 - mean_absolute_error: 0.1139 - val_loss: 0.7876 - val_mean_absolute_error: 0.1214\n",
      "Epoch 65/100\n",
      "13750/13750 [==============================] - 0s 18us/sample - loss: -1.2925 - mean_absolute_error: 0.1138 - val_loss: 0.5674 - val_mean_absolute_error: 0.1225\n",
      "Epoch 66/100\n",
      "13750/13750 [==============================] - 0s 19us/sample - loss: -1.2993 - mean_absolute_error: 0.1133 - val_loss: 0.4671 - val_mean_absolute_error: 0.1218\n",
      "Epoch 67/100\n",
      "13750/13750 [==============================] - 0s 20us/sample - loss: -1.2989 - mean_absolute_error: 0.1133 - val_loss: 0.5263 - val_mean_absolute_error: 0.1202\n",
      "Epoch 68/100\n",
      "13750/13750 [==============================] - 0s 19us/sample - loss: -1.2922 - mean_absolute_error: 0.1132 - val_loss: 0.4552 - val_mean_absolute_error: 0.1202\n",
      "Epoch 69/100\n",
      "13750/13750 [==============================] - 0s 18us/sample - loss: -1.3062 - mean_absolute_error: 0.1124 - val_loss: 0.7185 - val_mean_absolute_error: 0.1193\n",
      "Epoch 70/100\n",
      "13750/13750 [==============================] - 0s 19us/sample - loss: -1.2982 - mean_absolute_error: 0.1124 - val_loss: 0.6844 - val_mean_absolute_error: 0.1186\n",
      "Epoch 71/100\n",
      "13750/13750 [==============================] - 0s 19us/sample - loss: -1.3089 - mean_absolute_error: 0.1118 - val_loss: 0.2860 - val_mean_absolute_error: 0.1186\n",
      "Epoch 72/100\n",
      "13750/13750 [==============================] - 0s 19us/sample - loss: -1.3070 - mean_absolute_error: 0.1115 - val_loss: 0.7089 - val_mean_absolute_error: 0.1185\n",
      "Epoch 73/100\n",
      "13750/13750 [==============================] - 0s 18us/sample - loss: -1.3129 - mean_absolute_error: 0.1111 - val_loss: 0.8233 - val_mean_absolute_error: 0.1192\n",
      "Epoch 74/100\n",
      "13750/13750 [==============================] - 0s 19us/sample - loss: -1.3132 - mean_absolute_error: 0.1107 - val_loss: 0.8998 - val_mean_absolute_error: 0.1188\n",
      "Epoch 75/100\n",
      "13750/13750 [==============================] - 0s 19us/sample - loss: -1.3193 - mean_absolute_error: 0.1104 - val_loss: 1.2469 - val_mean_absolute_error: 0.1185\n",
      "Epoch 76/100\n",
      "13750/13750 [==============================] - 0s 18us/sample - loss: -1.3156 - mean_absolute_error: 0.1102 - val_loss: 0.6793 - val_mean_absolute_error: 0.1162\n",
      "Epoch 77/100\n",
      "13750/13750 [==============================] - 0s 19us/sample - loss: -1.3220 - mean_absolute_error: 0.1096 - val_loss: 1.0698 - val_mean_absolute_error: 0.1156\n",
      "Epoch 78/100\n",
      "13750/13750 [==============================] - 0s 19us/sample - loss: -1.3242 - mean_absolute_error: 0.1093 - val_loss: 1.0147 - val_mean_absolute_error: 0.1165\n",
      "Epoch 79/100\n",
      "13750/13750 [==============================] - 0s 18us/sample - loss: -1.3219 - mean_absolute_error: 0.1090 - val_loss: 1.2365 - val_mean_absolute_error: 0.1159\n",
      "Epoch 80/100\n",
      "13750/13750 [==============================] - 0s 19us/sample - loss: -1.3322 - mean_absolute_error: 0.1084 - val_loss: 1.0273 - val_mean_absolute_error: 0.1149\n",
      "Epoch 81/100\n",
      "13750/13750 [==============================] - 0s 18us/sample - loss: -1.3268 - mean_absolute_error: 0.1081 - val_loss: 0.5874 - val_mean_absolute_error: 0.1151\n",
      "Epoch 82/100\n",
      "13750/13750 [==============================] - 0s 19us/sample - loss: -1.3355 - mean_absolute_error: 0.1076 - val_loss: 1.3265 - val_mean_absolute_error: 0.1133\n",
      "Epoch 83/100\n",
      "13750/13750 [==============================] - 0s 18us/sample - loss: -1.3317 - mean_absolute_error: 0.1073 - val_loss: 0.9999 - val_mean_absolute_error: 0.1130\n",
      "Epoch 84/100\n",
      "13750/13750 [==============================] - 0s 19us/sample - loss: -1.3420 - mean_absolute_error: 0.1067 - val_loss: 1.2655 - val_mean_absolute_error: 0.1132\n",
      "Epoch 85/100\n",
      "13750/13750 [==============================] - 0s 18us/sample - loss: -1.3358 - mean_absolute_error: 0.1064 - val_loss: 1.0693 - val_mean_absolute_error: 0.1124\n",
      "Epoch 86/100\n",
      "13750/13750 [==============================] - 0s 19us/sample - loss: -1.3288 - mean_absolute_error: 0.1062 - val_loss: 0.9074 - val_mean_absolute_error: 0.1133\n",
      "Epoch 87/100\n",
      "13750/13750 [==============================] - 0s 20us/sample - loss: -1.3434 - mean_absolute_error: 0.1056 - val_loss: 1.5278 - val_mean_absolute_error: 0.1113\n",
      "Epoch 88/100\n",
      "13750/13750 [==============================] - 0s 19us/sample - loss: -1.3423 - mean_absolute_error: 0.1051 - val_loss: 1.0295 - val_mean_absolute_error: 0.1107\n",
      "Epoch 89/100\n",
      "13750/13750 [==============================] - 0s 19us/sample - loss: -1.3430 - mean_absolute_error: 0.1049 - val_loss: 0.8806 - val_mean_absolute_error: 0.1117\n",
      "Epoch 90/100\n",
      "13750/13750 [==============================] - 0s 18us/sample - loss: -1.3471 - mean_absolute_error: 0.1046 - val_loss: 1.7613 - val_mean_absolute_error: 0.1111\n",
      "Epoch 91/100\n",
      "13750/13750 [==============================] - 0s 19us/sample - loss: -1.3577 - mean_absolute_error: 0.1037 - val_loss: 2.2185 - val_mean_absolute_error: 0.1093\n",
      "Epoch 92/100\n",
      "13750/13750 [==============================] - 0s 20us/sample - loss: -1.3462 - mean_absolute_error: 0.1036 - val_loss: 1.6160 - val_mean_absolute_error: 0.1089\n",
      "Epoch 93/100\n",
      "13750/13750 [==============================] - 0s 18us/sample - loss: -1.3611 - mean_absolute_error: 0.1027 - val_loss: 1.4039 - val_mean_absolute_error: 0.1087\n",
      "Epoch 94/100\n"
     ]
    },
    {
     "name": "stdout",
     "output_type": "stream",
     "text": [
      "13750/13750 [==============================] - 0s 18us/sample - loss: -1.3592 - mean_absolute_error: 0.1023 - val_loss: 1.8434 - val_mean_absolute_error: 0.1083\n",
      "Epoch 95/100\n",
      "13750/13750 [==============================] - 0s 19us/sample - loss: -1.3622 - mean_absolute_error: 0.1019 - val_loss: 1.7413 - val_mean_absolute_error: 0.1068\n",
      "Epoch 96/100\n",
      "13750/13750 [==============================] - 0s 18us/sample - loss: -1.3596 - mean_absolute_error: 0.1017 - val_loss: 1.9995 - val_mean_absolute_error: 0.1065\n",
      "Epoch 97/100\n",
      "13750/13750 [==============================] - 0s 18us/sample - loss: -1.3732 - mean_absolute_error: 0.1007 - val_loss: 1.2575 - val_mean_absolute_error: 0.1077\n",
      "Epoch 98/100\n",
      "13750/13750 [==============================] - 0s 19us/sample - loss: -1.3571 - mean_absolute_error: 0.1008 - val_loss: 1.3760 - val_mean_absolute_error: 0.1062\n",
      "Epoch 99/100\n",
      "13750/13750 [==============================] - 0s 18us/sample - loss: -1.3789 - mean_absolute_error: 0.0997 - val_loss: 1.8946 - val_mean_absolute_error: 0.1064\n",
      "Epoch 100/100\n",
      "13750/13750 [==============================] - 0s 19us/sample - loss: -1.3746 - mean_absolute_error: 0.0995 - val_loss: 1.8292 - val_mean_absolute_error: 0.1046\n",
      "Train on 13750 samples, validate on 3840 samples\n",
      "Epoch 1/100\n",
      "13750/13750 [==============================] - 1s 45us/sample - loss: -0.3821 - mean_absolute_error: 0.2781 - val_loss: -0.5512 - val_mean_absolute_error: 0.2626\n",
      "Epoch 2/100\n",
      "13750/13750 [==============================] - 0s 18us/sample - loss: -0.6619 - mean_absolute_error: 0.2345 - val_loss: -0.6947 - val_mean_absolute_error: 0.2211\n",
      "Epoch 3/100\n",
      "13750/13750 [==============================] - 0s 19us/sample - loss: -0.8492 - mean_absolute_error: 0.1915 - val_loss: -0.9446 - val_mean_absolute_error: 0.1691\n",
      "Epoch 4/100\n",
      "13750/13750 [==============================] - 0s 20us/sample - loss: -1.0171 - mean_absolute_error: 0.1615 - val_loss: -1.0497 - val_mean_absolute_error: 0.1548\n",
      "Epoch 5/100\n",
      "13750/13750 [==============================] - 0s 19us/sample - loss: -1.0777 - mean_absolute_error: 0.1532 - val_loss: -1.0831 - val_mean_absolute_error: 0.1499\n",
      "Epoch 6/100\n",
      "13750/13750 [==============================] - 0s 19us/sample - loss: -1.1192 - mean_absolute_error: 0.1482 - val_loss: -1.0959 - val_mean_absolute_error: 0.1470\n",
      "Epoch 7/100\n",
      "13750/13750 [==============================] - 0s 19us/sample - loss: -1.1492 - mean_absolute_error: 0.1445 - val_loss: -1.1302 - val_mean_absolute_error: 0.1425\n",
      "Epoch 8/100\n",
      "13750/13750 [==============================] - 0s 18us/sample - loss: -1.1829 - mean_absolute_error: 0.1406 - val_loss: -1.1522 - val_mean_absolute_error: 0.1398\n",
      "Epoch 9/100\n",
      "13750/13750 [==============================] - 0s 19us/sample - loss: -1.2250 - mean_absolute_error: 0.1357 - val_loss: -1.2477 - val_mean_absolute_error: 0.1304\n",
      "Epoch 10/100\n",
      "13750/13750 [==============================] - 0s 19us/sample - loss: -1.3045 - mean_absolute_error: 0.1241 - val_loss: -1.3128 - val_mean_absolute_error: 0.1179\n",
      "Epoch 11/100\n",
      "13750/13750 [==============================] - 0s 19us/sample - loss: -1.4291 - mean_absolute_error: 0.1087 - val_loss: -1.4704 - val_mean_absolute_error: 0.1037\n",
      "Epoch 12/100\n",
      "13750/13750 [==============================] - 0s 18us/sample - loss: -1.5177 - mean_absolute_error: 0.1007 - val_loss: -1.4328 - val_mean_absolute_error: 0.1035\n",
      "Epoch 13/100\n",
      "13750/13750 [==============================] - 0s 18us/sample - loss: -1.5828 - mean_absolute_error: 0.0950 - val_loss: -1.6074 - val_mean_absolute_error: 0.0926\n",
      "Epoch 14/100\n",
      "13750/13750 [==============================] - 0s 18us/sample - loss: -1.6442 - mean_absolute_error: 0.0899 - val_loss: -1.5836 - val_mean_absolute_error: 0.0907\n",
      "Epoch 15/100\n",
      "13750/13750 [==============================] - 0s 19us/sample - loss: -1.6808 - mean_absolute_error: 0.0864 - val_loss: -1.6879 - val_mean_absolute_error: 0.0850\n",
      "Epoch 16/100\n",
      "13750/13750 [==============================] - 0s 18us/sample - loss: -1.7211 - mean_absolute_error: 0.0836 - val_loss: -1.6929 - val_mean_absolute_error: 0.0843\n",
      "Epoch 17/100\n",
      "13750/13750 [==============================] - 0s 19us/sample - loss: -1.7641 - mean_absolute_error: 0.0807 - val_loss: -1.6786 - val_mean_absolute_error: 0.0844\n",
      "Epoch 18/100\n",
      "13750/13750 [==============================] - 0s 19us/sample - loss: -1.7783 - mean_absolute_error: 0.0799 - val_loss: -1.7467 - val_mean_absolute_error: 0.0794\n",
      "Epoch 19/100\n",
      "13750/13750 [==============================] - 0s 19us/sample - loss: -1.8182 - mean_absolute_error: 0.0775 - val_loss: -1.7771 - val_mean_absolute_error: 0.0774\n",
      "Epoch 20/100\n",
      "13750/13750 [==============================] - 0s 20us/sample - loss: -1.8375 - mean_absolute_error: 0.0764 - val_loss: -1.7576 - val_mean_absolute_error: 0.0768\n",
      "Epoch 21/100\n",
      "13750/13750 [==============================] - 0s 20us/sample - loss: -1.8441 - mean_absolute_error: 0.0758 - val_loss: -1.7787 - val_mean_absolute_error: 0.0763\n",
      "Epoch 22/100\n",
      "13750/13750 [==============================] - 0s 19us/sample - loss: -1.8783 - mean_absolute_error: 0.0740 - val_loss: -1.7649 - val_mean_absolute_error: 0.0760\n",
      "Epoch 23/100\n",
      "13750/13750 [==============================] - 0s 19us/sample - loss: -1.8752 - mean_absolute_error: 0.0735 - val_loss: -1.7646 - val_mean_absolute_error: 0.0749\n",
      "Epoch 24/100\n",
      "13750/13750 [==============================] - 0s 20us/sample - loss: -1.8866 - mean_absolute_error: 0.0726 - val_loss: -1.8278 - val_mean_absolute_error: 0.0717\n",
      "Epoch 25/100\n",
      "13750/13750 [==============================] - 0s 19us/sample - loss: -1.9113 - mean_absolute_error: 0.0710 - val_loss: -1.8310 - val_mean_absolute_error: 0.0706\n",
      "Epoch 26/100\n",
      "13750/13750 [==============================] - 0s 19us/sample - loss: -1.9165 - mean_absolute_error: 0.0701 - val_loss: -1.8233 - val_mean_absolute_error: 0.0691\n",
      "Epoch 27/100\n",
      "13750/13750 [==============================] - 0s 19us/sample - loss: -1.9269 - mean_absolute_error: 0.0691 - val_loss: -1.8354 - val_mean_absolute_error: 0.0704\n",
      "Epoch 28/100\n",
      "13750/13750 [==============================] - 0s 19us/sample - loss: -1.9473 - mean_absolute_error: 0.0677 - val_loss: -1.8423 - val_mean_absolute_error: 0.0673\n",
      "Epoch 29/100\n",
      "13750/13750 [==============================] - 0s 19us/sample - loss: -1.9490 - mean_absolute_error: 0.0670 - val_loss: -1.8393 - val_mean_absolute_error: 0.0677\n",
      "Epoch 30/100\n",
      "13750/13750 [==============================] - 0s 19us/sample - loss: -1.9711 - mean_absolute_error: 0.0656 - val_loss: -1.8540 - val_mean_absolute_error: 0.0661\n",
      "Epoch 31/100\n",
      "13750/13750 [==============================] - 0s 19us/sample - loss: -1.9833 - mean_absolute_error: 0.0644 - val_loss: -1.7369 - val_mean_absolute_error: 0.0678\n",
      "Epoch 32/100\n",
      "13750/13750 [==============================] - 0s 19us/sample - loss: -1.9912 - mean_absolute_error: 0.0636 - val_loss: -1.7905 - val_mean_absolute_error: 0.0660\n",
      "Epoch 33/100\n",
      "13750/13750 [==============================] - 0s 18us/sample - loss: -1.9741 - mean_absolute_error: 0.0636 - val_loss: -1.8862 - val_mean_absolute_error: 0.0634\n",
      "Epoch 34/100\n",
      "13750/13750 [==============================] - 0s 18us/sample - loss: -2.0003 - mean_absolute_error: 0.0625 - val_loss: -1.8848 - val_mean_absolute_error: 0.0629\n",
      "Epoch 35/100\n",
      "13750/13750 [==============================] - 0s 18us/sample - loss: -2.0140 - mean_absolute_error: 0.0617 - val_loss: -1.8516 - val_mean_absolute_error: 0.0633\n",
      "Epoch 36/100\n",
      "13750/13750 [==============================] - 0s 19us/sample - loss: -2.0202 - mean_absolute_error: 0.0610 - val_loss: -1.8447 - val_mean_absolute_error: 0.0628\n",
      "Epoch 37/100\n",
      "13750/13750 [==============================] - 0s 19us/sample - loss: -2.0269 - mean_absolute_error: 0.0606 - val_loss: -1.8900 - val_mean_absolute_error: 0.0620\n",
      "Epoch 38/100\n",
      "13750/13750 [==============================] - 0s 19us/sample - loss: -2.0191 - mean_absolute_error: 0.0603 - val_loss: -1.9127 - val_mean_absolute_error: 0.0620\n",
      "Epoch 39/100\n",
      "13750/13750 [==============================] - 0s 19us/sample - loss: -2.0396 - mean_absolute_error: 0.0596 - val_loss: -1.8669 - val_mean_absolute_error: 0.0616\n",
      "Epoch 40/100\n",
      "13750/13750 [==============================] - 0s 20us/sample - loss: -2.0554 - mean_absolute_error: 0.0591 - val_loss: -1.8601 - val_mean_absolute_error: 0.0610\n"
     ]
    },
    {
     "name": "stdout",
     "output_type": "stream",
     "text": [
      "Epoch 41/100\n",
      "13750/13750 [==============================] - 0s 19us/sample - loss: -2.0676 - mean_absolute_error: 0.0583 - val_loss: -1.9253 - val_mean_absolute_error: 0.0596\n",
      "Epoch 42/100\n",
      "13750/13750 [==============================] - 0s 19us/sample - loss: -2.0757 - mean_absolute_error: 0.0577 - val_loss: -1.8992 - val_mean_absolute_error: 0.0602\n",
      "Epoch 43/100\n",
      "13750/13750 [==============================] - 0s 19us/sample - loss: -2.0767 - mean_absolute_error: 0.0576 - val_loss: -1.9080 - val_mean_absolute_error: 0.0593\n",
      "Epoch 44/100\n",
      "13750/13750 [==============================] - 0s 18us/sample - loss: -2.0837 - mean_absolute_error: 0.0569 - val_loss: -1.9156 - val_mean_absolute_error: 0.0587\n",
      "Epoch 45/100\n",
      "13750/13750 [==============================] - 0s 19us/sample - loss: -2.0955 - mean_absolute_error: 0.0563 - val_loss: -1.9137 - val_mean_absolute_error: 0.0583\n",
      "Epoch 46/100\n",
      "13750/13750 [==============================] - 0s 19us/sample - loss: -2.0857 - mean_absolute_error: 0.0562 - val_loss: -1.9081 - val_mean_absolute_error: 0.0578\n",
      "Epoch 47/100\n",
      "13750/13750 [==============================] - 0s 18us/sample - loss: -2.1120 - mean_absolute_error: 0.0552 - val_loss: -1.8595 - val_mean_absolute_error: 0.0586\n",
      "Epoch 48/100\n",
      "13750/13750 [==============================] - 0s 19us/sample - loss: -2.1038 - mean_absolute_error: 0.0549 - val_loss: -1.9165 - val_mean_absolute_error: 0.0568\n",
      "Epoch 49/100\n",
      "13750/13750 [==============================] - 0s 19us/sample - loss: -2.1288 - mean_absolute_error: 0.0541 - val_loss: -1.8990 - val_mean_absolute_error: 0.0577\n",
      "Epoch 50/100\n",
      "13750/13750 [==============================] - 0s 19us/sample - loss: -2.1248 - mean_absolute_error: 0.0541 - val_loss: -1.9300 - val_mean_absolute_error: 0.0565\n",
      "Epoch 51/100\n",
      "13750/13750 [==============================] - 0s 19us/sample - loss: -2.1257 - mean_absolute_error: 0.0541 - val_loss: -1.9087 - val_mean_absolute_error: 0.0568\n",
      "Epoch 52/100\n",
      "13750/13750 [==============================] - 0s 19us/sample - loss: -2.1382 - mean_absolute_error: 0.0536 - val_loss: -1.8724 - val_mean_absolute_error: 0.0572\n",
      "Epoch 53/100\n",
      "13750/13750 [==============================] - 0s 19us/sample - loss: -2.1444 - mean_absolute_error: 0.0532 - val_loss: -1.8998 - val_mean_absolute_error: 0.0573\n",
      "Epoch 54/100\n",
      "13750/13750 [==============================] - 0s 18us/sample - loss: -2.1671 - mean_absolute_error: 0.0526 - val_loss: -1.8589 - val_mean_absolute_error: 0.0578\n",
      "Epoch 55/100\n",
      "13750/13750 [==============================] - 0s 18us/sample - loss: -2.1656 - mean_absolute_error: 0.0526 - val_loss: -1.9257 - val_mean_absolute_error: 0.0556\n",
      "Epoch 56/100\n",
      "13750/13750 [==============================] - 0s 19us/sample - loss: -2.1677 - mean_absolute_error: 0.0523 - val_loss: -1.9086 - val_mean_absolute_error: 0.0557\n",
      "Epoch 57/100\n",
      "13750/13750 [==============================] - 0s 19us/sample - loss: -2.1836 - mean_absolute_error: 0.0517 - val_loss: -1.8922 - val_mean_absolute_error: 0.0551\n",
      "Epoch 58/100\n",
      "13750/13750 [==============================] - 0s 18us/sample - loss: -2.1756 - mean_absolute_error: 0.0521 - val_loss: -1.8861 - val_mean_absolute_error: 0.0562\n",
      "Epoch 59/100\n",
      "13750/13750 [==============================] - 0s 19us/sample - loss: -2.1730 - mean_absolute_error: 0.0520 - val_loss: -1.8396 - val_mean_absolute_error: 0.0573\n",
      "Epoch 60/100\n",
      "13750/13750 [==============================] - 0s 20us/sample - loss: -2.1767 - mean_absolute_error: 0.0519 - val_loss: -1.7974 - val_mean_absolute_error: 0.0582\n",
      "Epoch 61/100\n",
      "13750/13750 [==============================] - 0s 19us/sample - loss: -2.1881 - mean_absolute_error: 0.0514 - val_loss: -1.9317 - val_mean_absolute_error: 0.0548\n",
      "Epoch 62/100\n",
      "13750/13750 [==============================] - 0s 19us/sample - loss: -2.1936 - mean_absolute_error: 0.0511 - val_loss: -1.9212 - val_mean_absolute_error: 0.0547\n",
      "Epoch 63/100\n",
      "13750/13750 [==============================] - 0s 18us/sample - loss: -2.2050 - mean_absolute_error: 0.0507 - val_loss: -1.9492 - val_mean_absolute_error: 0.0556\n",
      "Epoch 64/100\n",
      "13750/13750 [==============================] - 0s 18us/sample - loss: -2.2101 - mean_absolute_error: 0.0507 - val_loss: -1.9470 - val_mean_absolute_error: 0.0542\n",
      "Epoch 65/100\n",
      "13750/13750 [==============================] - 0s 19us/sample - loss: -2.2190 - mean_absolute_error: 0.0504 - val_loss: -1.8535 - val_mean_absolute_error: 0.0547\n",
      "Epoch 66/100\n",
      "13750/13750 [==============================] - 0s 19us/sample - loss: -2.2015 - mean_absolute_error: 0.0507 - val_loss: -1.9094 - val_mean_absolute_error: 0.0554\n",
      "Epoch 67/100\n",
      "13750/13750 [==============================] - 0s 18us/sample - loss: -2.2165 - mean_absolute_error: 0.0503 - val_loss: -1.8976 - val_mean_absolute_error: 0.0543\n",
      "Epoch 68/100\n",
      "13750/13750 [==============================] - 0s 19us/sample - loss: -2.2166 - mean_absolute_error: 0.0503 - val_loss: -1.8923 - val_mean_absolute_error: 0.0554\n",
      "Epoch 69/100\n",
      "13750/13750 [==============================] - 0s 19us/sample - loss: -2.2432 - mean_absolute_error: 0.0496 - val_loss: -1.8319 - val_mean_absolute_error: 0.0561\n",
      "Epoch 70/100\n",
      "13750/13750 [==============================] - 0s 19us/sample - loss: -2.2295 - mean_absolute_error: 0.0498 - val_loss: -1.9374 - val_mean_absolute_error: 0.0540\n",
      "Epoch 71/100\n",
      "13750/13750 [==============================] - 0s 19us/sample - loss: -2.2216 - mean_absolute_error: 0.0500 - val_loss: -1.8907 - val_mean_absolute_error: 0.0555\n",
      "Epoch 72/100\n",
      "13750/13750 [==============================] - 0s 19us/sample - loss: -2.2459 - mean_absolute_error: 0.0494 - val_loss: -1.9151 - val_mean_absolute_error: 0.0537\n",
      "Epoch 73/100\n",
      "13750/13750 [==============================] - 0s 19us/sample - loss: -2.2371 - mean_absolute_error: 0.0495 - val_loss: -1.8110 - val_mean_absolute_error: 0.0557\n",
      "Epoch 74/100\n",
      "13750/13750 [==============================] - 0s 18us/sample - loss: -2.2517 - mean_absolute_error: 0.0490 - val_loss: -1.8834 - val_mean_absolute_error: 0.0545\n",
      "Epoch 75/100\n",
      "13750/13750 [==============================] - 0s 18us/sample - loss: -2.2591 - mean_absolute_error: 0.0489 - val_loss: -1.8331 - val_mean_absolute_error: 0.0551\n",
      "Epoch 76/100\n",
      "13750/13750 [==============================] - 0s 19us/sample - loss: -2.2732 - mean_absolute_error: 0.0485 - val_loss: -1.7677 - val_mean_absolute_error: 0.0565\n",
      "Epoch 77/100\n",
      "13750/13750 [==============================] - 0s 19us/sample - loss: -2.2674 - mean_absolute_error: 0.0487 - val_loss: -1.8156 - val_mean_absolute_error: 0.0549\n",
      "Epoch 78/100\n",
      "13750/13750 [==============================] - 0s 18us/sample - loss: -2.2585 - mean_absolute_error: 0.0488 - val_loss: -1.8948 - val_mean_absolute_error: 0.0541\n",
      "Epoch 79/100\n",
      "13750/13750 [==============================] - 0s 19us/sample - loss: -2.2580 - mean_absolute_error: 0.0486 - val_loss: -1.8927 - val_mean_absolute_error: 0.0534\n",
      "Epoch 80/100\n",
      "13750/13750 [==============================] - 0s 21us/sample - loss: -2.2875 - mean_absolute_error: 0.0479 - val_loss: -1.9057 - val_mean_absolute_error: 0.0549\n",
      "Epoch 81/100\n",
      "13750/13750 [==============================] - 0s 19us/sample - loss: -2.2795 - mean_absolute_error: 0.0481 - val_loss: -1.8479 - val_mean_absolute_error: 0.0542\n",
      "Epoch 82/100\n",
      "13750/13750 [==============================] - 0s 19us/sample - loss: -2.2854 - mean_absolute_error: 0.0479 - val_loss: -1.8722 - val_mean_absolute_error: 0.0535\n",
      "Epoch 83/100\n",
      "13750/13750 [==============================] - 0s 19us/sample - loss: -2.2874 - mean_absolute_error: 0.0479 - val_loss: -1.8291 - val_mean_absolute_error: 0.0539\n",
      "Epoch 84/100\n",
      "13750/13750 [==============================] - 0s 19us/sample - loss: -2.2814 - mean_absolute_error: 0.0480 - val_loss: -1.9507 - val_mean_absolute_error: 0.0536\n",
      "Epoch 85/100\n",
      "13750/13750 [==============================] - 0s 19us/sample - loss: -2.2960 - mean_absolute_error: 0.0476 - val_loss: -1.8779 - val_mean_absolute_error: 0.0525\n",
      "Epoch 86/100\n",
      "13750/13750 [==============================] - 0s 19us/sample - loss: -2.2817 - mean_absolute_error: 0.0478 - val_loss: -1.8663 - val_mean_absolute_error: 0.0544\n",
      "Epoch 87/100\n",
      "13750/13750 [==============================] - 0s 19us/sample - loss: -2.3005 - mean_absolute_error: 0.0475 - val_loss: -1.8262 - val_mean_absolute_error: 0.0545\n"
     ]
    },
    {
     "name": "stdout",
     "output_type": "stream",
     "text": [
      "Epoch 88/100\n",
      "13750/13750 [==============================] - 0s 19us/sample - loss: -2.3134 - mean_absolute_error: 0.0471 - val_loss: -1.7464 - val_mean_absolute_error: 0.0564\n",
      "Epoch 89/100\n",
      "13750/13750 [==============================] - 0s 19us/sample - loss: -2.2986 - mean_absolute_error: 0.0474 - val_loss: -1.8334 - val_mean_absolute_error: 0.0534\n",
      "Epoch 90/100\n",
      "13750/13750 [==============================] - 0s 19us/sample - loss: -2.2951 - mean_absolute_error: 0.0474 - val_loss: -1.8130 - val_mean_absolute_error: 0.0556\n",
      "Epoch 91/100\n",
      "13750/13750 [==============================] - 0s 19us/sample - loss: -2.3085 - mean_absolute_error: 0.0472 - val_loss: -1.9305 - val_mean_absolute_error: 0.0523\n",
      "Epoch 92/100\n",
      "13750/13750 [==============================] - 0s 19us/sample - loss: -2.3105 - mean_absolute_error: 0.0470 - val_loss: -1.7982 - val_mean_absolute_error: 0.0545\n",
      "Epoch 93/100\n",
      "13750/13750 [==============================] - 0s 18us/sample - loss: -2.3284 - mean_absolute_error: 0.0466 - val_loss: -1.8591 - val_mean_absolute_error: 0.0540\n",
      "Epoch 94/100\n",
      "13750/13750 [==============================] - 0s 18us/sample - loss: -2.3153 - mean_absolute_error: 0.0468 - val_loss: -1.7960 - val_mean_absolute_error: 0.0541\n",
      "Epoch 95/100\n",
      "13750/13750 [==============================] - 0s 18us/sample - loss: -2.3082 - mean_absolute_error: 0.0470 - val_loss: -1.9000 - val_mean_absolute_error: 0.0519\n",
      "Epoch 96/100\n",
      "13750/13750 [==============================] - 0s 19us/sample - loss: -2.3428 - mean_absolute_error: 0.0462 - val_loss: -1.8603 - val_mean_absolute_error: 0.0519\n",
      "Epoch 97/100\n",
      "13750/13750 [==============================] - 0s 19us/sample - loss: -2.3142 - mean_absolute_error: 0.0468 - val_loss: -1.8307 - val_mean_absolute_error: 0.0536\n",
      "Epoch 98/100\n",
      "13750/13750 [==============================] - 0s 20us/sample - loss: -2.3415 - mean_absolute_error: 0.0462 - val_loss: -1.8679 - val_mean_absolute_error: 0.0521\n",
      "Epoch 99/100\n",
      "13750/13750 [==============================] - 0s 18us/sample - loss: -2.3375 - mean_absolute_error: 0.0462 - val_loss: -1.9023 - val_mean_absolute_error: 0.0514\n",
      "Epoch 100/100\n",
      "13750/13750 [==============================] - 0s 20us/sample - loss: -2.3305 - mean_absolute_error: 0.0463 - val_loss: -1.8655 - val_mean_absolute_error: 0.0517\n",
      "Train on 13750 samples, validate on 3840 samples\n",
      "Epoch 1/100\n",
      "13750/13750 [==============================] - 1s 44us/sample - loss: -0.2543 - mean_absolute_error: 0.2826 - val_loss: -0.3338 - val_mean_absolute_error: 0.2805\n",
      "Epoch 2/100\n",
      "13750/13750 [==============================] - 0s 19us/sample - loss: -0.4101 - mean_absolute_error: 0.2600 - val_loss: -0.4838 - val_mean_absolute_error: 0.2472\n",
      "Epoch 3/100\n",
      "13750/13750 [==============================] - 0s 19us/sample - loss: -0.5895 - mean_absolute_error: 0.2292 - val_loss: -0.6494 - val_mean_absolute_error: 0.2246\n",
      "Epoch 4/100\n",
      "13750/13750 [==============================] - 0s 19us/sample - loss: -0.6874 - mean_absolute_error: 0.2121 - val_loss: -0.7203 - val_mean_absolute_error: 0.2056\n",
      "Epoch 5/100\n",
      "13750/13750 [==============================] - 0s 18us/sample - loss: -0.7649 - mean_absolute_error: 0.1906 - val_loss: -0.8002 - val_mean_absolute_error: 0.1830\n",
      "Epoch 6/100\n",
      "13750/13750 [==============================] - 0s 20us/sample - loss: -0.8576 - mean_absolute_error: 0.1663 - val_loss: -0.9204 - val_mean_absolute_error: 0.1554\n",
      "Epoch 7/100\n",
      "13750/13750 [==============================] - 0s 18us/sample - loss: -0.9999 - mean_absolute_error: 0.1378 - val_loss: -1.0547 - val_mean_absolute_error: 0.1290\n",
      "Epoch 8/100\n",
      "13750/13750 [==============================] - 0s 18us/sample - loss: -1.1022 - mean_absolute_error: 0.1199 - val_loss: -1.0150 - val_mean_absolute_error: 0.1213\n",
      "Epoch 9/100\n",
      "13750/13750 [==============================] - 0s 19us/sample - loss: -1.1881 - mean_absolute_error: 0.1082 - val_loss: -1.1264 - val_mean_absolute_error: 0.1086\n",
      "Epoch 10/100\n",
      "13750/13750 [==============================] - 0s 18us/sample - loss: -1.2379 - mean_absolute_error: 0.1014 - val_loss: -1.2295 - val_mean_absolute_error: 0.1018\n",
      "Epoch 11/100\n",
      "13750/13750 [==============================] - 0s 19us/sample - loss: -1.2957 - mean_absolute_error: 0.0956 - val_loss: -1.2806 - val_mean_absolute_error: 0.0951\n",
      "Epoch 12/100\n",
      "13750/13750 [==============================] - 0s 19us/sample - loss: -1.3339 - mean_absolute_error: 0.0918 - val_loss: -1.2689 - val_mean_absolute_error: 0.0947\n",
      "Epoch 13/100\n",
      "13750/13750 [==============================] - 0s 20us/sample - loss: -1.3516 - mean_absolute_error: 0.0896 - val_loss: -1.3473 - val_mean_absolute_error: 0.0897\n",
      "Epoch 14/100\n",
      "13750/13750 [==============================] - 0s 19us/sample - loss: -1.3824 - mean_absolute_error: 0.0872 - val_loss: -1.3246 - val_mean_absolute_error: 0.0897\n",
      "Epoch 15/100\n",
      "13750/13750 [==============================] - 0s 20us/sample - loss: -1.4144 - mean_absolute_error: 0.0847 - val_loss: -1.3781 - val_mean_absolute_error: 0.0859\n",
      "Epoch 16/100\n",
      "13750/13750 [==============================] - 0s 19us/sample - loss: -1.4068 - mean_absolute_error: 0.0843 - val_loss: -1.3653 - val_mean_absolute_error: 0.0862\n",
      "Epoch 17/100\n",
      "13750/13750 [==============================] - 0s 19us/sample - loss: -1.4455 - mean_absolute_error: 0.0818 - val_loss: -1.3968 - val_mean_absolute_error: 0.0839\n",
      "Epoch 18/100\n",
      "13750/13750 [==============================] - 0s 19us/sample - loss: -1.4804 - mean_absolute_error: 0.0800 - val_loss: -1.4021 - val_mean_absolute_error: 0.0824\n",
      "Epoch 19/100\n",
      "13750/13750 [==============================] - 0s 19us/sample - loss: -1.4830 - mean_absolute_error: 0.0793 - val_loss: -1.4278 - val_mean_absolute_error: 0.0807\n",
      "Epoch 20/100\n",
      "13750/13750 [==============================] - 0s 19us/sample - loss: -1.4988 - mean_absolute_error: 0.0784 - val_loss: -1.4247 - val_mean_absolute_error: 0.0803\n",
      "Epoch 21/100\n",
      "13750/13750 [==============================] - 0s 19us/sample - loss: -1.5157 - mean_absolute_error: 0.0773 - val_loss: -1.4061 - val_mean_absolute_error: 0.0800\n",
      "Epoch 22/100\n",
      "13750/13750 [==============================] - 0s 19us/sample - loss: -1.5061 - mean_absolute_error: 0.0773 - val_loss: -1.3052 - val_mean_absolute_error: 0.0839\n",
      "Epoch 23/100\n",
      "13750/13750 [==============================] - 0s 19us/sample - loss: -1.5270 - mean_absolute_error: 0.0764 - val_loss: -1.4344 - val_mean_absolute_error: 0.0797\n",
      "Epoch 24/100\n",
      "13750/13750 [==============================] - 0s 19us/sample - loss: -1.5314 - mean_absolute_error: 0.0759 - val_loss: -1.3731 - val_mean_absolute_error: 0.0791\n",
      "Epoch 25/100\n",
      "13750/13750 [==============================] - 0s 18us/sample - loss: -1.5300 - mean_absolute_error: 0.0756 - val_loss: -1.4672 - val_mean_absolute_error: 0.0780\n",
      "Epoch 26/100\n",
      "13750/13750 [==============================] - 0s 19us/sample - loss: -1.5526 - mean_absolute_error: 0.0746 - val_loss: -1.3572 - val_mean_absolute_error: 0.0788\n",
      "Epoch 27/100\n",
      "13750/13750 [==============================] - 0s 20us/sample - loss: -1.5540 - mean_absolute_error: 0.0740 - val_loss: -1.4290 - val_mean_absolute_error: 0.0778\n",
      "Epoch 28/100\n",
      "13750/13750 [==============================] - 0s 19us/sample - loss: -1.5735 - mean_absolute_error: 0.0733 - val_loss: -1.4046 - val_mean_absolute_error: 0.0771\n",
      "Epoch 29/100\n",
      "13750/13750 [==============================] - 0s 19us/sample - loss: -1.5655 - mean_absolute_error: 0.0731 - val_loss: -1.3785 - val_mean_absolute_error: 0.0776\n",
      "Epoch 30/100\n",
      "13750/13750 [==============================] - 0s 19us/sample - loss: -1.5911 - mean_absolute_error: 0.0725 - val_loss: -1.4289 - val_mean_absolute_error: 0.0757\n",
      "Epoch 31/100\n",
      "13750/13750 [==============================] - 0s 19us/sample - loss: -1.5980 - mean_absolute_error: 0.0718 - val_loss: -1.4607 - val_mean_absolute_error: 0.0747\n",
      "Epoch 32/100\n",
      "13750/13750 [==============================] - 0s 19us/sample - loss: -1.6015 - mean_absolute_error: 0.0716 - val_loss: -1.3841 - val_mean_absolute_error: 0.0763\n",
      "Epoch 33/100\n",
      "13750/13750 [==============================] - 0s 20us/sample - loss: -1.6007 - mean_absolute_error: 0.0713 - val_loss: -1.3983 - val_mean_absolute_error: 0.0754\n",
      "Epoch 34/100\n",
      "13750/13750 [==============================] - 0s 20us/sample - loss: -1.5943 - mean_absolute_error: 0.0713 - val_loss: -1.4236 - val_mean_absolute_error: 0.0760\n",
      "Epoch 35/100\n",
      "13750/13750 [==============================] - 0s 19us/sample - loss: -1.6094 - mean_absolute_error: 0.0708 - val_loss: -1.4642 - val_mean_absolute_error: 0.0746\n",
      "Epoch 36/100\n",
      "13750/13750 [==============================] - 0s 19us/sample - loss: -1.6268 - mean_absolute_error: 0.0700 - val_loss: -1.3679 - val_mean_absolute_error: 0.0749\n",
      "Epoch 37/100\n",
      "13750/13750 [==============================] - 0s 19us/sample - loss: -1.6213 - mean_absolute_error: 0.0700 - val_loss: -1.4444 - val_mean_absolute_error: 0.0741\n",
      "Epoch 38/100\n",
      "13750/13750 [==============================] - 0s 19us/sample - loss: -1.6191 - mean_absolute_error: 0.0698 - val_loss: -1.4313 - val_mean_absolute_error: 0.0741\n",
      "Epoch 39/100\n",
      "13750/13750 [==============================] - 0s 18us/sample - loss: -1.6318 - mean_absolute_error: 0.0692 - val_loss: -1.4404 - val_mean_absolute_error: 0.0728\n",
      "Epoch 40/100\n",
      "13750/13750 [==============================] - 0s 19us/sample - loss: -1.6418 - mean_absolute_error: 0.0687 - val_loss: -1.3851 - val_mean_absolute_error: 0.0728\n",
      "Epoch 41/100\n",
      "13750/13750 [==============================] - 0s 19us/sample - loss: -1.6376 - mean_absolute_error: 0.0687 - val_loss: -1.4555 - val_mean_absolute_error: 0.0737\n",
      "Epoch 42/100\n",
      "13750/13750 [==============================] - 0s 20us/sample - loss: -1.6310 - mean_absolute_error: 0.0686 - val_loss: -1.2423 - val_mean_absolute_error: 0.0735\n",
      "Epoch 43/100\n",
      "13750/13750 [==============================] - 0s 18us/sample - loss: -1.6242 - mean_absolute_error: 0.0684 - val_loss: -1.4518 - val_mean_absolute_error: 0.0711\n",
      "Epoch 44/100\n",
      "13750/13750 [==============================] - 0s 18us/sample - loss: -1.6539 - mean_absolute_error: 0.0673 - val_loss: -1.4633 - val_mean_absolute_error: 0.0709\n",
      "Epoch 45/100\n",
      "13750/13750 [==============================] - 0s 19us/sample - loss: -1.6585 - mean_absolute_error: 0.0671 - val_loss: -1.4332 - val_mean_absolute_error: 0.0724\n",
      "Epoch 46/100\n",
      "13750/13750 [==============================] - 0s 19us/sample - loss: -1.6687 - mean_absolute_error: 0.0666 - val_loss: -1.3883 - val_mean_absolute_error: 0.0712\n",
      "Epoch 47/100\n",
      "13750/13750 [==============================] - 0s 18us/sample - loss: -1.6792 - mean_absolute_error: 0.0660 - val_loss: -1.4413 - val_mean_absolute_error: 0.0703\n",
      "Epoch 48/100\n",
      "13750/13750 [==============================] - 0s 19us/sample - loss: -1.6701 - mean_absolute_error: 0.0662 - val_loss: -1.4048 - val_mean_absolute_error: 0.0702\n",
      "Epoch 49/100\n",
      "13750/13750 [==============================] - 0s 18us/sample - loss: -1.6801 - mean_absolute_error: 0.0655 - val_loss: -1.3901 - val_mean_absolute_error: 0.0705\n",
      "Epoch 50/100\n",
      "13750/13750 [==============================] - 0s 19us/sample - loss: -1.6848 - mean_absolute_error: 0.0652 - val_loss: -1.3841 - val_mean_absolute_error: 0.0697\n",
      "Epoch 51/100\n",
      "13750/13750 [==============================] - 0s 19us/sample - loss: -1.6884 - mean_absolute_error: 0.0648 - val_loss: -1.4093 - val_mean_absolute_error: 0.0695\n",
      "Epoch 52/100\n",
      "13750/13750 [==============================] - 0s 19us/sample - loss: -1.6834 - mean_absolute_error: 0.0646 - val_loss: -1.4370 - val_mean_absolute_error: 0.0680\n",
      "Epoch 53/100\n",
      "13750/13750 [==============================] - 0s 20us/sample - loss: -1.7039 - mean_absolute_error: 0.0639 - val_loss: -1.4177 - val_mean_absolute_error: 0.0674\n",
      "Epoch 54/100\n",
      "13750/13750 [==============================] - 0s 20us/sample - loss: -1.6974 - mean_absolute_error: 0.0638 - val_loss: -1.4186 - val_mean_absolute_error: 0.0672\n",
      "Epoch 55/100\n",
      "13750/13750 [==============================] - 0s 19us/sample - loss: -1.7157 - mean_absolute_error: 0.0630 - val_loss: -1.2149 - val_mean_absolute_error: 0.0696\n",
      "Epoch 56/100\n",
      "13750/13750 [==============================] - 0s 18us/sample - loss: -1.7142 - mean_absolute_error: 0.0628 - val_loss: -1.4210 - val_mean_absolute_error: 0.0672\n",
      "Epoch 57/100\n",
      "13750/13750 [==============================] - 0s 18us/sample - loss: -1.6999 - mean_absolute_error: 0.0630 - val_loss: -1.4423 - val_mean_absolute_error: 0.0666\n",
      "Epoch 58/100\n",
      "13750/13750 [==============================] - 0s 19us/sample - loss: -1.7214 - mean_absolute_error: 0.0623 - val_loss: -1.3373 - val_mean_absolute_error: 0.0673\n",
      "Epoch 59/100\n",
      "13750/13750 [==============================] - 0s 19us/sample - loss: -1.7228 - mean_absolute_error: 0.0619 - val_loss: -1.3317 - val_mean_absolute_error: 0.0695\n",
      "Epoch 60/100\n",
      "13750/13750 [==============================] - 0s 19us/sample - loss: -1.7156 - mean_absolute_error: 0.0621 - val_loss: -1.3336 - val_mean_absolute_error: 0.0676\n",
      "Epoch 61/100\n",
      "13750/13750 [==============================] - 0s 19us/sample - loss: -1.7385 - mean_absolute_error: 0.0612 - val_loss: -1.3777 - val_mean_absolute_error: 0.0661\n",
      "Epoch 62/100\n",
      "13750/13750 [==============================] - 0s 19us/sample - loss: -1.7260 - mean_absolute_error: 0.0616 - val_loss: -1.3360 - val_mean_absolute_error: 0.0662\n",
      "Epoch 63/100\n",
      "13750/13750 [==============================] - 0s 19us/sample - loss: -1.7419 - mean_absolute_error: 0.0609 - val_loss: -1.3412 - val_mean_absolute_error: 0.0651\n",
      "Epoch 64/100\n",
      "13750/13750 [==============================] - 0s 19us/sample - loss: -1.7391 - mean_absolute_error: 0.0607 - val_loss: -1.3824 - val_mean_absolute_error: 0.0657\n",
      "Epoch 65/100\n",
      "13750/13750 [==============================] - 0s 19us/sample - loss: -1.7266 - mean_absolute_error: 0.0611 - val_loss: -1.3899 - val_mean_absolute_error: 0.0658\n",
      "Epoch 66/100\n",
      "13750/13750 [==============================] - 0s 19us/sample - loss: -1.7518 - mean_absolute_error: 0.0603 - val_loss: -1.3996 - val_mean_absolute_error: 0.0639\n",
      "Epoch 67/100\n",
      "13750/13750 [==============================] - 0s 19us/sample - loss: -1.7543 - mean_absolute_error: 0.0600 - val_loss: -1.1814 - val_mean_absolute_error: 0.0659\n",
      "Epoch 68/100\n",
      "13750/13750 [==============================] - 0s 19us/sample - loss: -1.7497 - mean_absolute_error: 0.0600 - val_loss: -1.4187 - val_mean_absolute_error: 0.0633\n",
      "Epoch 69/100\n",
      "13750/13750 [==============================] - 0s 19us/sample - loss: -1.7338 - mean_absolute_error: 0.0601 - val_loss: -1.3199 - val_mean_absolute_error: 0.0647\n",
      "Epoch 70/100\n",
      "13750/13750 [==============================] - 0s 19us/sample - loss: -1.7681 - mean_absolute_error: 0.0593 - val_loss: -1.3561 - val_mean_absolute_error: 0.0642\n",
      "Epoch 71/100\n",
      "13750/13750 [==============================] - 0s 19us/sample - loss: -1.7673 - mean_absolute_error: 0.0592 - val_loss: -1.3732 - val_mean_absolute_error: 0.0630\n",
      "Epoch 72/100\n",
      "13750/13750 [==============================] - 0s 20us/sample - loss: -1.7600 - mean_absolute_error: 0.0594 - val_loss: -1.3108 - val_mean_absolute_error: 0.0638\n",
      "Epoch 73/100\n",
      "13750/13750 [==============================] - 0s 20us/sample - loss: -1.7445 - mean_absolute_error: 0.0596 - val_loss: -1.2837 - val_mean_absolute_error: 0.0636\n",
      "Epoch 74/100\n",
      "13750/13750 [==============================] - 0s 20us/sample - loss: -1.7729 - mean_absolute_error: 0.0589 - val_loss: -1.3271 - val_mean_absolute_error: 0.0644\n",
      "Epoch 75/100\n",
      "13750/13750 [==============================] - 0s 18us/sample - loss: -1.7810 - mean_absolute_error: 0.0586 - val_loss: -1.3250 - val_mean_absolute_error: 0.0621\n",
      "Epoch 76/100\n",
      "13750/13750 [==============================] - 0s 19us/sample - loss: -1.7756 - mean_absolute_error: 0.0587 - val_loss: -1.3308 - val_mean_absolute_error: 0.0618\n",
      "Epoch 77/100\n",
      "13750/13750 [==============================] - 0s 19us/sample - loss: -1.7797 - mean_absolute_error: 0.0585 - val_loss: -1.3384 - val_mean_absolute_error: 0.0620\n",
      "Epoch 78/100\n",
      "13750/13750 [==============================] - 0s 20us/sample - loss: -1.7799 - mean_absolute_error: 0.0583 - val_loss: -1.1425 - val_mean_absolute_error: 0.0646\n",
      "Epoch 79/100\n",
      "13750/13750 [==============================] - 0s 20us/sample - loss: -1.7774 - mean_absolute_error: 0.0583 - val_loss: -1.3399 - val_mean_absolute_error: 0.0634\n",
      "Epoch 80/100\n",
      "13750/13750 [==============================] - 0s 19us/sample - loss: -1.7951 - mean_absolute_error: 0.0579 - val_loss: -1.3122 - val_mean_absolute_error: 0.0620\n"
     ]
    },
    {
     "name": "stdout",
     "output_type": "stream",
     "text": [
      "Epoch 81/100\n",
      "13750/13750 [==============================] - 0s 20us/sample - loss: -1.7916 - mean_absolute_error: 0.0580 - val_loss: -1.2931 - val_mean_absolute_error: 0.0621\n",
      "Epoch 82/100\n",
      "13750/13750 [==============================] - 0s 19us/sample - loss: -1.7926 - mean_absolute_error: 0.0578 - val_loss: -1.1925 - val_mean_absolute_error: 0.0623\n",
      "Epoch 83/100\n",
      "13750/13750 [==============================] - 0s 19us/sample - loss: -1.8012 - mean_absolute_error: 0.0576 - val_loss: -1.2471 - val_mean_absolute_error: 0.0618\n",
      "Epoch 84/100\n",
      "13750/13750 [==============================] - 0s 19us/sample - loss: -1.7929 - mean_absolute_error: 0.0578 - val_loss: -1.3014 - val_mean_absolute_error: 0.0619\n",
      "Epoch 85/100\n",
      "13750/13750 [==============================] - 0s 19us/sample - loss: -1.7911 - mean_absolute_error: 0.0578 - val_loss: -1.1226 - val_mean_absolute_error: 0.0633\n",
      "Epoch 86/100\n",
      "13750/13750 [==============================] - 0s 18us/sample - loss: -1.7973 - mean_absolute_error: 0.0575 - val_loss: -1.3169 - val_mean_absolute_error: 0.0609\n",
      "Epoch 87/100\n",
      "13750/13750 [==============================] - 0s 19us/sample - loss: -1.7801 - mean_absolute_error: 0.0580 - val_loss: -1.3082 - val_mean_absolute_error: 0.0613\n",
      "Epoch 88/100\n",
      "13750/13750 [==============================] - 0s 19us/sample - loss: -1.8042 - mean_absolute_error: 0.0573 - val_loss: -1.3348 - val_mean_absolute_error: 0.0613\n",
      "Epoch 89/100\n",
      "13750/13750 [==============================] - 0s 19us/sample - loss: -1.8185 - mean_absolute_error: 0.0569 - val_loss: -1.2743 - val_mean_absolute_error: 0.0612\n",
      "Epoch 90/100\n",
      "13750/13750 [==============================] - 0s 19us/sample - loss: -1.8035 - mean_absolute_error: 0.0571 - val_loss: -1.3607 - val_mean_absolute_error: 0.0610\n",
      "Epoch 91/100\n",
      "13750/13750 [==============================] - 0s 19us/sample - loss: -1.7895 - mean_absolute_error: 0.0576 - val_loss: -1.2642 - val_mean_absolute_error: 0.0610\n",
      "Epoch 92/100\n",
      "13750/13750 [==============================] - 0s 19us/sample - loss: -1.8134 - mean_absolute_error: 0.0567 - val_loss: -1.3291 - val_mean_absolute_error: 0.0607\n",
      "Epoch 93/100\n",
      "13750/13750 [==============================] - 0s 20us/sample - loss: -1.8120 - mean_absolute_error: 0.0568 - val_loss: -1.1789 - val_mean_absolute_error: 0.0612\n",
      "Epoch 94/100\n",
      "13750/13750 [==============================] - 0s 19us/sample - loss: -1.8150 - mean_absolute_error: 0.0567 - val_loss: -1.2929 - val_mean_absolute_error: 0.0603\n",
      "Epoch 95/100\n",
      "13750/13750 [==============================] - 0s 19us/sample - loss: -1.8090 - mean_absolute_error: 0.0567 - val_loss: -1.0770 - val_mean_absolute_error: 0.0609\n",
      "Epoch 96/100\n",
      "13750/13750 [==============================] - 0s 19us/sample - loss: -1.8288 - mean_absolute_error: 0.0564 - val_loss: -1.1465 - val_mean_absolute_error: 0.0611\n",
      "Epoch 97/100\n",
      "13750/13750 [==============================] - 0s 20us/sample - loss: -1.8108 - mean_absolute_error: 0.0566 - val_loss: -1.1781 - val_mean_absolute_error: 0.0628\n",
      "Epoch 98/100\n",
      "13750/13750 [==============================] - 0s 19us/sample - loss: -1.8126 - mean_absolute_error: 0.0565 - val_loss: -1.1306 - val_mean_absolute_error: 0.0607\n",
      "Epoch 99/100\n",
      "13750/13750 [==============================] - 0s 19us/sample - loss: -1.8266 - mean_absolute_error: 0.0562 - val_loss: -1.3598 - val_mean_absolute_error: 0.0603\n",
      "Epoch 100/100\n",
      "13750/13750 [==============================] - 0s 19us/sample - loss: -1.8274 - mean_absolute_error: 0.0561 - val_loss: -1.0323 - val_mean_absolute_error: 0.0650\n"
     ]
    }
   ],
   "source": [
    "\n",
    "\n",
    "with tf.device('/cpu:0'):\n",
    "    ensemble_model = DeepEnsembleRegressor(model_builder, 3)\n",
    "    ensemble_model.fit(x_train_1, q_train_1, epochs = 100, batch_size = 128, verbose = 1, validation_data=(IOD_x_test, IOD_q_test))"
   ]
  },
  {
   "cell_type": "code",
   "execution_count": 29,
   "metadata": {},
   "outputs": [
    {
     "name": "stdout",
     "output_type": "stream",
     "text": [
      "NLL: -1.20797\n"
     ]
    }
   ],
   "source": [
    "mean_test, sd_test = ensemble_model.predict(x_test)\n",
    "mean_test = q_scaler.inverse_transform(mean_test)\n",
    "q_test_unorm = q_scaler.inverse_transform(q_test)\n",
    "print(\"NLL: {:.5f}\".format(numpy_regression_nll(q_test_unorm, mean_test, sd_test**2)))"
   ]
  },
  {
   "cell_type": "code",
   "execution_count": 30,
   "metadata": {
    "scrolled": true
   },
   "outputs": [
    {
     "name": "stdout",
     "output_type": "stream",
     "text": [
      "0.0412091031050779\n",
      "NLL: -1.22079\n"
     ]
    }
   ],
   "source": [
    "mean_test_IOD, sd_test_IOD = ensemble_model.predict(IOD_x_test)\n",
    "mean_test_IOD = q_scaler.inverse_transform(mean_test_IOD)\n",
    "#sd_test_IOD = q_scaler.inverse_transform(sd_test_IOD)\n",
    "q_test_unorm = q_scaler.inverse_transform(IOD_q_test)\n",
    "global_mae = mean_absolute_error(q_test_unorm, mean_test_IOD)\n",
    "print(global_mae)\n",
    "print(\"NLL: {:.5f}\".format(numpy_regression_nll(q_test_unorm, mean_test_IOD, sd_test_IOD**2)))"
   ]
  },
  {
   "cell_type": "code",
   "execution_count": 31,
   "metadata": {},
   "outputs": [
    {
     "name": "stdout",
     "output_type": "stream",
     "text": [
      "0.06597720160656119\n",
      "NLL: -1.01566\n"
     ]
    }
   ],
   "source": [
    "mean_test_OOD, sd_test_OOD = ensemble_model.predict(OOD_x_test)\n",
    "mean_test_OOD = q_scaler.inverse_transform(mean_test_OOD)\n",
    "#sd_test_OOD = q_scaler.inverse_transform(sd_test_OOD)\n",
    "q_test_unorm = q_scaler.inverse_transform(OOD_q_test)\n",
    "global_mae = mean_absolute_error(q_test_unorm, mean_test_OOD)\n",
    "print(global_mae)\n",
    "print(\"NLL: {:.5f}\".format(numpy_regression_nll(q_test_unorm, mean_test_OOD, sd_test_OOD**2)))"
   ]
  },
  {
   "cell_type": "code",
   "execution_count": 48,
   "metadata": {},
   "outputs": [],
   "source": [
    "col_no = 2"
   ]
  },
  {
   "cell_type": "code",
   "execution_count": 49,
   "metadata": {
    "scrolled": true
   },
   "outputs": [
    {
     "data": {
      "image/png": "[encoded data removed]",
      "text/plain": [
       "<Figure size 432x288 with 1 Axes>"
      ]
     },
     "metadata": {
      "needs_background": "light"
     },
     "output_type": "display_data"
    }
   ],
   "source": [
    "sd_test_IOD_df = pd.DataFrame(sd_test_IOD)\n",
    "sd_test_OOD_df = pd.DataFrame(sd_test_OOD)\n",
    "new_scores = np.concatenate([sd_test_IOD_df[col_no], sd_test_OOD_df[col_no]], axis=0)\n",
    "minmaxscaler = MinMaxScaler()\n",
    "new_scores_scaled = minmaxscaler.fit_transform(new_scores.reshape(-1, 1))\n",
    "\n",
    "new_labels = np.concatenate([np.zeros_like(sd_test_IOD_df[col_no]), np.ones_like(sd_test_OOD_df[col_no])], axis=0)\n",
    "histogram_df = pd.DataFrame(new_scores_scaled, new_labels)\n",
    "\n",
    "#histogram_df.hist(column=0)\n",
    "\n",
    "#sd_test_IOD_df.hist(column=0)\n",
    "#sd_test_OOD_df.hist(column=0)\n",
    "import matplotlib.pyplot as plt\n",
    "fig, ax = plt.subplots()\n",
    "\n",
    "a_heights, a_bins = np.histogram(sd_test_IOD_df[col_no].values.reshape(-1, 1), density=True)\n",
    "b_heights, b_bins = np.histogram(sd_test_OOD_df[col_no].values.reshape(-1, 1), bins=a_bins, density=True)\n",
    "\n",
    "width = (a_bins[1] - a_bins[0])/3\n",
    "\n",
    "ax.bar(a_bins[:-1], a_heights, width = width, facecolor='blue',label=\"IOD SD\")\n",
    "ax.bar(b_bins[:-1]+width, b_heights, width = width, facecolor='red', label=\"OOD SD\")\n",
    "ax.legend()\n",
    "ax.set_xlabel(\"Standard Deviation\")\n",
    "ax.set_ylabel(\"Normalised density of Samples\")\n",
    "fig.savefig(\"density_vs_sd_ensemble_sd_split_col_1.pdf\")"
   ]
  },
  {
   "cell_type": "code",
   "execution_count": 52,
   "metadata": {
    "scrolled": true
   },
   "outputs": [
    {
     "name": "stdout",
     "output_type": "stream",
     "text": [
      "0.527886962890625\n"
     ]
    },
    {
     "data": {
      "image/png": "[encoded data removed]",
      "text/plain": [
       "<Figure size 432x288 with 1 Axes>"
      ]
     },
     "metadata": {
      "needs_background": "light"
     },
     "output_type": "display_data"
    }
   ],
   "source": [
    "from sklearn.metrics import roc_curve, roc_auc_score\n",
    "norm_scores = new_scores - min(new_scores) / (max(new_scores) - min(new_scores))\n",
    "\n",
    "auc = roc_auc_score(new_labels, new_scores)\n",
    "fpr, tpr, threshs = roc_curve(new_labels, norm_scores, drop_intermediate=True)\n",
    "print(auc)\n",
    "plt.xlabel('FPR', fontsize=13)\n",
    "plt.ylabel('TPR', fontsize=13)\n",
    "plt.title('Receiver Operating Characteristic')\n",
    "plt.plot(fpr, tpr)\n",
    "plt.savefig(\"auc_ensemble_sd_split_col_1.pdf\")\n",
    "plt.show()\n"
   ]
  },
  {
   "cell_type": "code",
   "execution_count": 51,
   "metadata": {
    "scrolled": false
   },
   "outputs": [
    {
     "data": {
      "image/png": "[encoded data removed]",
      "text/plain": [
       "<Figure size 432x288 with 1 Axes>"
      ]
     },
     "metadata": {
      "needs_background": "light"
     },
     "output_type": "display_data"
    }
   ],
   "source": [
    "from sklearn.metrics import mean_squared_error\n",
    "\n",
    "mean_test, sd_test = ensemble_model.predict(x_test)\n",
    "mean_test = q_scaler.inverse_transform(mean_test)\n",
    "#sd_test_IOD = q_scaler.inverse_transform(sd_test_IOD)\n",
    "q_unorm = q_scaler.inverse_transform(q_test)\n",
    "\n",
    "mean_test_df = pd.DataFrame(mean_test)\n",
    "sd_test_df = pd.DataFrame(sd_test)\n",
    "q_df = pd.DataFrame(q_test)\n",
    "\n",
    "MEAN = np.array(mean_test_df[0])\n",
    "SD = np.array(sd_test_df[0])\n",
    "Q = np.array(q_df[0])\n",
    "Q = Q.reshape(-1, 1)\n",
    "\n",
    "\n",
    "mean_scaler = MinMaxScaler()\n",
    "MEAN = mean_scaler.fit_transform(MEAN.reshape(-1, 1))\n",
    "sd_scaler = MinMaxScaler()\n",
    "SD = sd_scaler.fit_transform(SD.reshape(-1, 1))\n",
    "\n",
    "MSE = np.square(np.subtract(Q, MEAN))\n",
    "plt.figure()\n",
    "\n",
    "plt.scatter(SD, MSE)\n",
    "plt.xlabel('Standard Deviation')\n",
    "plt.ylabel('MSE')\n",
    "#plt.savefig(\"./Art.pdf\")\n",
    "plt.show()"
   ]
  },
  {
   "cell_type": "code",
   "execution_count": null,
   "metadata": {},
   "outputs": [],
   "source": []
  }
 ],
 "metadata": {
  "kernelspec": {
   "display_name": "Python 3",
   "language": "python",
   "name": "python3"
  },
  "language_info": {
   "codemirror_mode": {
    "name": "ipython",
    "version": 3
   },
   "file_extension": ".py",
   "mimetype": "text/x-python",
   "name": "python",
   "nbconvert_exporter": "python",
   "pygments_lexer": "ipython3",
   "version": "3.6.9"
  }
 },
 "nbformat": 4,
 "nbformat_minor": 4
}
