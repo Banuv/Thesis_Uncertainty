{
 "cells": [
  {
   "cell_type": "code",
   "execution_count": 16,
   "metadata": {},
   "outputs": [],
   "source": [
    "from __future__ import print_function\n",
    "\n",
    "import sys, os\n",
    "os.environ[\"CUDA_VISIBLE_DEVICES\"] = \"-1\"\n",
    "import tensorflow.keras\n",
    "import pandas as pd\n",
    "import numpy as np\n",
    "import sklearn\n",
    "import keras\n",
    "import csv\n",
    "\n",
    "import keras_uncertainty\n",
    "from keras_uncertainty.utils import numpy_negative_log_likelihood, numpy_entropy\n",
    "from keras_uncertainty.layers import DropConnectConv2D, DropConnectDense\n",
    "from keras_uncertainty.models import MCDropoutClassifier\n",
    "from keras_uncertainty.utils import numpy_regression_nll\n",
    "\n",
    "import keras.backend as K\n",
    "from keras.layers import Input, Dense, Conv2D, MaxPooling2D, Dropout, Flatten, BatchNormalization\n",
    "from keras.models import Model, Sequential\n",
    "from keras.utils import to_categorical\n",
    "from sklearn.metrics import accuracy_score\n",
    "\n",
    "import matplotlib.pyplot as plt\n"
   ]
  },
  {
   "cell_type": "code",
   "execution_count": 17,
   "metadata": {},
   "outputs": [],
   "source": [
    "def load_joint_space_csv_chunks(file_path):\n",
    "    data_frame = pd.read_csv(file_path, skiprows=1, header=None)\n",
    "    del data_frame[18]\n",
    "    #print(data_frame.head(10))\n",
    "    return data_frame\n",
    "\n",
    "def load_task_space_csv_chunks(file_path):\n",
    "    return pd.read_csv(file_path, skiprows=1, header=None)\n"
   ]
  },
  {
   "cell_type": "code",
   "execution_count": 18,
   "metadata": {
    "scrolled": false
   },
   "outputs": [],
   "source": [
    "from sklearn.preprocessing import MinMaxScaler\n",
    "from sklearn.metrics import mean_absolute_error\n",
    "from sklearn.model_selection import train_test_split\n",
    "\n",
    "TRAIN_FOLDER = '/home/dfki.uni-bremen.de/bmanickavasakan/newdataset_rh5_leg/leg_5steps/'\n",
    "TEST_FOLDER = '/home/dfki.uni-bremen.de/bmanickavasakan/newdataset_rh5_leg/leg_5steps/test_4steps'\n",
    "\n",
    "X_TRAIN_FILE = os.path.join(TRAIN_FOLDER, 'leg_forwardkinematics_x.csv')\n",
    "Q_TRAIN_FILE = os.path.join(TRAIN_FOLDER, 'leg_sysstate_q.csv')\n",
    "\n",
    "X_TEST_FILE = os.path.join(TEST_FOLDER, 'leg_forwardkinematics_x.csv')\n",
    "Q_TEST_FILE = os.path.join(TEST_FOLDER, 'leg_sysstate_q.csv')\n",
    "\n",
    "x_train = load_task_space_csv_chunks(X_TRAIN_FILE)\n",
    "q_train = load_joint_space_csv_chunks(Q_TRAIN_FILE)\n",
    "\n",
    "x_test = load_task_space_csv_chunks(X_TEST_FILE)\n",
    "q_test = load_joint_space_csv_chunks(Q_TEST_FILE)\n",
    "\n",
    "\n"
   ]
  },
  {
   "cell_type": "code",
   "execution_count": 19,
   "metadata": {},
   "outputs": [
    {
     "name": "stderr",
     "output_type": "stream",
     "text": [
      "/home/dfki.uni-bremen.de/bmanickavasakan/.local/lib/python3.6/site-packages/sklearn/ensemble/iforest.py:237: FutureWarning: default contamination parameter 0.1 will change in version 0.22 to \"auto\". This will change the predict method behavior.\n",
      "  FutureWarning)\n",
      "/home/dfki.uni-bremen.de/bmanickavasakan/.local/lib/python3.6/site-packages/sklearn/ensemble/iforest.py:247: FutureWarning: behaviour=\"old\" is deprecated and will be removed in version 0.22. Please use behaviour=\"new\", which makes the decision_function change to match other anomaly detection algorithm API.\n",
      "  FutureWarning)\n",
      "/home/dfki.uni-bremen.de/bmanickavasakan/.local/lib/python3.6/site-packages/sklearn/ensemble/iforest.py:415: DeprecationWarning: threshold_ attribute is deprecated in 0.20 and will be removed in 0.22.\n",
      "  \" be removed in 0.22.\", DeprecationWarning)\n"
     ]
    },
    {
     "name": "stdout",
     "output_type": "stream",
     "text": [
      " 1    14062\n",
      "-1     1563\n",
      "Name: anamoly, dtype: int64\n"
     ]
    },
    {
     "name": "stderr",
     "output_type": "stream",
     "text": [
      "/home/dfki.uni-bremen.de/bmanickavasakan/.local/lib/python3.6/site-packages/sklearn/ensemble/iforest.py:237: FutureWarning: default contamination parameter 0.1 will change in version 0.22 to \"auto\". This will change the predict method behavior.\n",
      "  FutureWarning)\n",
      "/home/dfki.uni-bremen.de/bmanickavasakan/.local/lib/python3.6/site-packages/sklearn/ensemble/iforest.py:247: FutureWarning: behaviour=\"old\" is deprecated and will be removed in version 0.22. Please use behaviour=\"new\", which makes the decision_function change to match other anomaly detection algorithm API.\n",
      "  FutureWarning)\n",
      "/home/dfki.uni-bremen.de/bmanickavasakan/.local/lib/python3.6/site-packages/sklearn/ensemble/iforest.py:415: DeprecationWarning: threshold_ attribute is deprecated in 0.20 and will be removed in 0.22.\n",
      "  \" be removed in 0.22.\", DeprecationWarning)\n"
     ]
    }
   ],
   "source": [
    "\n",
    "x_train_df = pd.DataFrame(x_train)\n",
    "q_train_df = pd.DataFrame(q_train)\n",
    "x_test_df = pd.DataFrame(x_test)\n",
    "q_test_df = pd.DataFrame(q_test)\n",
    "\n",
    "\n",
    "from sklearn.ensemble import IsolationForest\n",
    "\n",
    "\n",
    "clf = IsolationForest(n_estimators=100, max_samples='auto', max_features=1, bootstrap=False, n_jobs= -1, random_state=42, verbose=0)\n",
    "clf.fit(q_train_df)\n",
    "\n",
    "pred = clf.predict(q_train_df)\n",
    "q_train_df['anamoly'] = pred\n",
    "print(q_train_df['anamoly'].value_counts())\n",
    "\n",
    "InDistribution_Q_Train = q_train_df[q_train_df['anamoly'] == 1]\n",
    "OutDistribution_Q_Train =   q_train_df[q_train_df['anamoly'] == -1]\n",
    "InDistribution_X_Train =    x_train_df[q_train_df['anamoly'] == 1]\n",
    "OutDistribution_X_Train =   x_train_df[q_train_df['anamoly'] == -1]\n",
    "\n",
    "clf_test = IsolationForest(n_estimators=100, max_samples='auto', max_features=1, bootstrap=False, n_jobs= -1, random_state=42, verbose=0)\n",
    "clf_test.fit(q_test_df)\n",
    "pred_test = clf.predict(q_test_df)\n",
    "q_test_df['anamoly'] = pred_test\n",
    "\n",
    "InDistribution_Q_Test = q_test_df[q_test_df['anamoly'] == 1]\n",
    "OutDistribution_Q_Test =q_test_df[q_test_df['anamoly'] == -1]\n",
    "InDistribution_X_Test = x_test_df[q_test_df['anamoly'] == 1]\n",
    "OutDistribution_X_Test =x_test_df[q_test_df['anamoly'] == -1]\n",
    "\n",
    "x_train_1 = InDistribution_X_Train\n",
    "q_train_1 = InDistribution_Q_Train.drop(['anamoly'], axis=1)\n",
    "x_test_1 = InDistribution_X_Test\n",
    "q_test_1 = InDistribution_Q_Test.drop(['anamoly'], axis=1)\n",
    "\n",
    "OOD_x_train = OutDistribution_X_Train\n",
    "OOD_q_train = OutDistribution_Q_Train.drop(['anamoly'], axis=1)\n",
    "OOD_x_test = OutDistribution_X_Test\n",
    "OOD_q_test = OutDistribution_Q_Test.drop(['anamoly'], axis=1)\n",
    "\n",
    "q_test = q_test.drop(['anamoly'], axis=1)\n",
    "\n",
    "\n"
   ]
  },
  {
   "cell_type": "code",
   "execution_count": 20,
   "metadata": {},
   "outputs": [],
   "source": [
    "\n",
    "x_scaler = MinMaxScaler()\n",
    "q_scaler = MinMaxScaler()\n",
    "\n",
    "#In order training set\n",
    "x_train_1 = x_scaler.fit_transform(x_train_1)\n",
    "q_train_1 = q_scaler.fit_transform(q_train_1)\n",
    "\n",
    "#complete test set\n",
    "x_test = x_scaler.transform(x_test)\n",
    "q_test = q_scaler.transform(q_test)\n",
    "\n",
    "#split testing data\n",
    "IOD_x_test = x_scaler.transform(x_test_1)\n",
    "IOD_q_test = q_scaler.transform(q_test_1)\n",
    "\n",
    "OOD_x_test = x_scaler.transform(OOD_x_test)\n",
    "OOD_q_test = q_scaler.transform(OOD_q_test)"
   ]
  },
  {
   "cell_type": "code",
   "execution_count": 21,
   "metadata": {},
   "outputs": [],
   "source": [
    "def model_builder(input_shape, output_shape):\n",
    "    def build_model(depth, width, reduction_factor):\n",
    "        model = Sequential()\n",
    "        \n",
    "\n",
    "        for i in range(depth):\n",
    "            num_neurons = max(int(width * (reduction_factor ** i)), 4)\n",
    "            if i == 0:\n",
    "                model.add(DropConnectDense(num_neurons, activation='relu', input_shape=(input_shape,), prob=0.5))\n",
    "            else:\n",
    "                model.add(DropConnectDense(num_neurons, activation='relu', prob=0.5))\n",
    "\n",
    "            model.add(BatchNormalization())\n",
    "            #num_neurons= num_neurons + 32\n",
    "            Flatten()\n",
    "\n",
    "        model.add(DropConnectDense(output_shape, activation='sigmoid', prob=0.1))\n",
    "        model.compile(loss='mse', optimizer='adam', metrics=[\"mae\"])\n",
    "\n",
    "        return model\n",
    "    return build_model\n"
   ]
  },
  {
   "cell_type": "code",
   "execution_count": 22,
   "metadata": {
    "scrolled": true
   },
   "outputs": [
    {
     "name": "stdout",
     "output_type": "stream",
     "text": [
      "Train on 14062 samples, validate on 3790 samples\n",
      "Epoch 1/100\n",
      "14062/14062 [==============================] - 2s 137us/step - loss: 0.1392 - mae: 0.3055 - val_loss: 0.0990 - val_mae: 0.2685\n",
      "Epoch 2/100\n",
      "14062/14062 [==============================] - 1s 40us/step - loss: 0.1196 - mae: 0.2842 - val_loss: 0.0982 - val_mae: 0.2674\n",
      "Epoch 3/100\n",
      "14062/14062 [==============================] - 1s 36us/step - loss: 0.1068 - mae: 0.2692 - val_loss: 0.0956 - val_mae: 0.2639\n",
      "Epoch 4/100\n",
      "14062/14062 [==============================] - 1s 39us/step - loss: 0.0956 - mae: 0.2548 - val_loss: 0.0815 - val_mae: 0.2402\n",
      "Epoch 5/100\n",
      "14062/14062 [==============================] - 1s 40us/step - loss: 0.0869 - mae: 0.2419 - val_loss: 0.0743 - val_mae: 0.2239\n",
      "Epoch 6/100\n",
      "14062/14062 [==============================] - 1s 39us/step - loss: 0.0797 - mae: 0.2306 - val_loss: 0.0689 - val_mae: 0.2120\n",
      "Epoch 7/100\n",
      "14062/14062 [==============================] - 1s 41us/step - loss: 0.0750 - mae: 0.2224 - val_loss: 0.0650 - val_mae: 0.2055\n",
      "Epoch 8/100\n",
      "14062/14062 [==============================] - 1s 38us/step - loss: 0.0718 - mae: 0.2165 - val_loss: 0.0631 - val_mae: 0.2030\n",
      "Epoch 9/100\n",
      "14062/14062 [==============================] - 1s 39us/step - loss: 0.0697 - mae: 0.2131 - val_loss: 0.0617 - val_mae: 0.1998\n",
      "Epoch 10/100\n",
      "14062/14062 [==============================] - 1s 40us/step - loss: 0.0675 - mae: 0.2091 - val_loss: 0.0600 - val_mae: 0.1971\n",
      "Epoch 11/100\n",
      "14062/14062 [==============================] - 1s 40us/step - loss: 0.0642 - mae: 0.2033 - val_loss: 0.0566 - val_mae: 0.1917\n",
      "Epoch 12/100\n",
      "14062/14062 [==============================] - 1s 39us/step - loss: 0.0610 - mae: 0.1973 - val_loss: 0.0517 - val_mae: 0.1823\n",
      "Epoch 13/100\n",
      "14062/14062 [==============================] - 1s 39us/step - loss: 0.0589 - mae: 0.1932 - val_loss: 0.0477 - val_mae: 0.1741\n",
      "Epoch 14/100\n",
      "14062/14062 [==============================] - 1s 40us/step - loss: 0.0561 - mae: 0.1882 - val_loss: 0.0471 - val_mae: 0.1731\n",
      "Epoch 15/100\n",
      "14062/14062 [==============================] - 1s 38us/step - loss: 0.0542 - mae: 0.1844 - val_loss: 0.0437 - val_mae: 0.1657\n",
      "Epoch 16/100\n",
      "14062/14062 [==============================] - 1s 38us/step - loss: 0.0533 - mae: 0.1825 - val_loss: 0.0436 - val_mae: 0.1658\n",
      "Epoch 17/100\n",
      "14062/14062 [==============================] - 1s 40us/step - loss: 0.0522 - mae: 0.1800 - val_loss: 0.0440 - val_mae: 0.1662\n",
      "Epoch 18/100\n",
      "14062/14062 [==============================] - 1s 39us/step - loss: 0.0511 - mae: 0.1780 - val_loss: 0.0419 - val_mae: 0.1611\n",
      "Epoch 19/100\n",
      "14062/14062 [==============================] - 1s 39us/step - loss: 0.0500 - mae: 0.1757 - val_loss: 0.0432 - val_mae: 0.1650\n",
      "Epoch 20/100\n",
      "14062/14062 [==============================] - 1s 40us/step - loss: 0.0495 - mae: 0.1752 - val_loss: 0.0422 - val_mae: 0.1623\n",
      "Epoch 21/100\n",
      "14062/14062 [==============================] - 1s 38us/step - loss: 0.0481 - mae: 0.1722 - val_loss: 0.0405 - val_mae: 0.1580\n",
      "Epoch 22/100\n",
      "14062/14062 [==============================] - 1s 40us/step - loss: 0.0477 - mae: 0.1714 - val_loss: 0.0379 - val_mae: 0.1515\n",
      "Epoch 23/100\n",
      "14062/14062 [==============================] - 1s 41us/step - loss: 0.0464 - mae: 0.1689 - val_loss: 0.0371 - val_mae: 0.1501\n",
      "Epoch 24/100\n",
      "14062/14062 [==============================] - 1s 39us/step - loss: 0.0452 - mae: 0.1662 - val_loss: 0.0380 - val_mae: 0.1524\n",
      "Epoch 25/100\n",
      "14062/14062 [==============================] - 1s 41us/step - loss: 0.0435 - mae: 0.1622 - val_loss: 0.0355 - val_mae: 0.1462\n",
      "Epoch 26/100\n",
      "14062/14062 [==============================] - 1s 37us/step - loss: 0.0433 - mae: 0.1612 - val_loss: 0.0330 - val_mae: 0.1380\n",
      "Epoch 27/100\n",
      "14062/14062 [==============================] - 0s 35us/step - loss: 0.0415 - mae: 0.1574 - val_loss: 0.0350 - val_mae: 0.1439\n",
      "Epoch 28/100\n",
      "14062/14062 [==============================] - 1s 36us/step - loss: 0.0412 - mae: 0.1563 - val_loss: 0.0345 - val_mae: 0.1427\n",
      "Epoch 29/100\n",
      "14062/14062 [==============================] - 1s 37us/step - loss: 0.0405 - mae: 0.1549 - val_loss: 0.0326 - val_mae: 0.1354\n",
      "Epoch 30/100\n",
      "14062/14062 [==============================] - 1s 37us/step - loss: 0.0401 - mae: 0.1538 - val_loss: 0.0319 - val_mae: 0.1341\n",
      "Epoch 31/100\n",
      "14062/14062 [==============================] - 1s 38us/step - loss: 0.0390 - mae: 0.1512 - val_loss: 0.0303 - val_mae: 0.1316\n",
      "Epoch 32/100\n",
      "14062/14062 [==============================] - 0s 35us/step - loss: 0.0385 - mae: 0.1497 - val_loss: 0.0303 - val_mae: 0.1298\n",
      "Epoch 33/100\n",
      "14062/14062 [==============================] - 1s 36us/step - loss: 0.0383 - mae: 0.1489 - val_loss: 0.0324 - val_mae: 0.1346\n",
      "Epoch 34/100\n",
      "14062/14062 [==============================] - 1s 38us/step - loss: 0.0380 - mae: 0.1484 - val_loss: 0.0335 - val_mae: 0.1388\n",
      "Epoch 35/100\n",
      "14062/14062 [==============================] - 1s 37us/step - loss: 0.0376 - mae: 0.1471 - val_loss: 0.0277 - val_mae: 0.1228\n",
      "Epoch 36/100\n",
      "14062/14062 [==============================] - 1s 36us/step - loss: 0.0368 - mae: 0.1453 - val_loss: 0.0282 - val_mae: 0.1239\n",
      "Epoch 37/100\n",
      "14062/14062 [==============================] - 1s 36us/step - loss: 0.0373 - mae: 0.1462 - val_loss: 0.0291 - val_mae: 0.1263\n",
      "Epoch 38/100\n",
      "14062/14062 [==============================] - 1s 38us/step - loss: 0.0368 - mae: 0.1451 - val_loss: 0.0375 - val_mae: 0.1497\n",
      "Epoch 39/100\n",
      "14062/14062 [==============================] - 1s 37us/step - loss: 0.0362 - mae: 0.1432 - val_loss: 0.0326 - val_mae: 0.1344\n",
      "Epoch 40/100\n",
      "14062/14062 [==============================] - 1s 36us/step - loss: 0.0360 - mae: 0.1428 - val_loss: 0.0297 - val_mae: 0.1266\n",
      "Epoch 41/100\n",
      "14062/14062 [==============================] - 0s 35us/step - loss: 0.0359 - mae: 0.1424 - val_loss: 0.0342 - val_mae: 0.1394\n",
      "Epoch 42/100\n",
      "14062/14062 [==============================] - 1s 36us/step - loss: 0.0355 - mae: 0.1413 - val_loss: 0.0339 - val_mae: 0.1396\n",
      "Epoch 43/100\n",
      "14062/14062 [==============================] - 0s 36us/step - loss: 0.0351 - mae: 0.1411 - val_loss: 0.0317 - val_mae: 0.1346\n",
      "Epoch 44/100\n",
      "14062/14062 [==============================] - 0s 36us/step - loss: 0.0357 - mae: 0.1420 - val_loss: 0.0308 - val_mae: 0.1313\n",
      "Epoch 45/100\n",
      "14062/14062 [==============================] - 1s 36us/step - loss: 0.0352 - mae: 0.1410 - val_loss: 0.0309 - val_mae: 0.1330\n",
      "Epoch 46/100\n",
      "14062/14062 [==============================] - 0s 35us/step - loss: 0.0345 - mae: 0.1391 - val_loss: 0.0298 - val_mae: 0.1285\n",
      "Epoch 47/100\n",
      "14062/14062 [==============================] - 1s 36us/step - loss: 0.0347 - mae: 0.1398 - val_loss: 0.0303 - val_mae: 0.1291\n",
      "Epoch 48/100\n",
      "14062/14062 [==============================] - 1s 36us/step - loss: 0.0342 - mae: 0.1385 - val_loss: 0.0330 - val_mae: 0.1371\n",
      "Epoch 49/100\n",
      "14062/14062 [==============================] - 0s 34us/step - loss: 0.0338 - mae: 0.1376 - val_loss: 0.0346 - val_mae: 0.1425\n",
      "Epoch 50/100\n",
      "14062/14062 [==============================] - 1s 38us/step - loss: 0.0339 - mae: 0.1375 - val_loss: 0.0338 - val_mae: 0.1397\n",
      "Epoch 51/100\n",
      "14062/14062 [==============================] - 1s 37us/step - loss: 0.0337 - mae: 0.1374 - val_loss: 0.0336 - val_mae: 0.1383\n",
      "Epoch 52/100\n",
      "14062/14062 [==============================] - 1s 38us/step - loss: 0.0336 - mae: 0.1370 - val_loss: 0.0319 - val_mae: 0.1331\n",
      "Epoch 53/100\n",
      "14062/14062 [==============================] - 1s 39us/step - loss: 0.0338 - mae: 0.1376 - val_loss: 0.0312 - val_mae: 0.1306\n",
      "Epoch 54/100\n",
      "14062/14062 [==============================] - 0s 35us/step - loss: 0.0331 - mae: 0.1358 - val_loss: 0.0322 - val_mae: 0.1352\n",
      "Epoch 55/100\n",
      "14062/14062 [==============================] - 1s 36us/step - loss: 0.0331 - mae: 0.1363 - val_loss: 0.0363 - val_mae: 0.1435\n",
      "Epoch 56/100\n",
      "14062/14062 [==============================] - 1s 38us/step - loss: 0.0328 - mae: 0.1353 - val_loss: 0.0304 - val_mae: 0.1274\n",
      "Epoch 57/100\n",
      "14062/14062 [==============================] - 1s 37us/step - loss: 0.0325 - mae: 0.1349 - val_loss: 0.0380 - val_mae: 0.1495\n",
      "Epoch 58/100\n",
      "14062/14062 [==============================] - 1s 36us/step - loss: 0.0321 - mae: 0.1345 - val_loss: 0.0337 - val_mae: 0.1407\n",
      "Epoch 59/100\n",
      "14062/14062 [==============================] - 1s 36us/step - loss: 0.0331 - mae: 0.1366 - val_loss: 0.0303 - val_mae: 0.1304\n",
      "Epoch 60/100\n",
      "14062/14062 [==============================] - 1s 37us/step - loss: 0.0317 - mae: 0.1335 - val_loss: 0.0351 - val_mae: 0.1441\n",
      "Epoch 61/100\n",
      "14062/14062 [==============================] - 1s 38us/step - loss: 0.0318 - mae: 0.1337 - val_loss: 0.0359 - val_mae: 0.1463\n",
      "Epoch 62/100\n",
      "14062/14062 [==============================] - 1s 36us/step - loss: 0.0319 - mae: 0.1341 - val_loss: 0.0297 - val_mae: 0.1319\n",
      "Epoch 63/100\n",
      "14062/14062 [==============================] - 1s 38us/step - loss: 0.0311 - mae: 0.1320 - val_loss: 0.0335 - val_mae: 0.1396\n",
      "Epoch 64/100\n",
      "14062/14062 [==============================] - 1s 37us/step - loss: 0.0312 - mae: 0.1326 - val_loss: 0.0334 - val_mae: 0.1412\n",
      "Epoch 65/100\n",
      "14062/14062 [==============================] - 1s 36us/step - loss: 0.0311 - mae: 0.1325 - val_loss: 0.0297 - val_mae: 0.1303\n",
      "Epoch 66/100\n",
      "14062/14062 [==============================] - 1s 36us/step - loss: 0.0315 - mae: 0.1334 - val_loss: 0.0311 - val_mae: 0.1352\n",
      "Epoch 67/100\n",
      "14062/14062 [==============================] - 1s 36us/step - loss: 0.0310 - mae: 0.1327 - val_loss: 0.0343 - val_mae: 0.1425\n",
      "Epoch 68/100\n",
      "14062/14062 [==============================] - 1s 37us/step - loss: 0.0304 - mae: 0.1309 - val_loss: 0.0358 - val_mae: 0.1452\n",
      "Epoch 69/100\n",
      "14062/14062 [==============================] - 1s 39us/step - loss: 0.0303 - mae: 0.1310 - val_loss: 0.0342 - val_mae: 0.1437\n",
      "Epoch 70/100\n",
      "14062/14062 [==============================] - 1s 38us/step - loss: 0.0297 - mae: 0.1296 - val_loss: 0.0331 - val_mae: 0.1396\n",
      "Epoch 71/100\n",
      "14062/14062 [==============================] - 1s 37us/step - loss: 0.0303 - mae: 0.1313 - val_loss: 0.0341 - val_mae: 0.1430\n",
      "Epoch 72/100\n",
      "14062/14062 [==============================] - 1s 37us/step - loss: 0.0298 - mae: 0.1301 - val_loss: 0.0319 - val_mae: 0.1378\n",
      "Epoch 73/100\n",
      "14062/14062 [==============================] - 0s 36us/step - loss: 0.0297 - mae: 0.1302 - val_loss: 0.0265 - val_mae: 0.1245\n",
      "Epoch 74/100\n",
      "14062/14062 [==============================] - 1s 36us/step - loss: 0.0290 - mae: 0.1288 - val_loss: 0.0257 - val_mae: 0.1224\n",
      "Epoch 75/100\n",
      "14062/14062 [==============================] - 1s 36us/step - loss: 0.0287 - mae: 0.1279 - val_loss: 0.0305 - val_mae: 0.1338\n",
      "Epoch 76/100\n",
      "14062/14062 [==============================] - 1s 37us/step - loss: 0.0286 - mae: 0.1281 - val_loss: 0.0296 - val_mae: 0.1312\n",
      "Epoch 77/100\n",
      "14062/14062 [==============================] - 1s 38us/step - loss: 0.0286 - mae: 0.1277 - val_loss: 0.0303 - val_mae: 0.1340\n",
      "Epoch 78/100\n",
      "14062/14062 [==============================] - 1s 36us/step - loss: 0.0275 - mae: 0.1255 - val_loss: 0.0254 - val_mae: 0.1225\n",
      "Epoch 79/100\n",
      "14062/14062 [==============================] - 1s 37us/step - loss: 0.0281 - mae: 0.1268 - val_loss: 0.0249 - val_mae: 0.1204\n",
      "Epoch 80/100\n",
      "14062/14062 [==============================] - 0s 35us/step - loss: 0.0277 - mae: 0.1260 - val_loss: 0.0326 - val_mae: 0.1392\n",
      "Epoch 81/100\n",
      "14062/14062 [==============================] - 1s 37us/step - loss: 0.0272 - mae: 0.1246 - val_loss: 0.0295 - val_mae: 0.1333\n",
      "Epoch 82/100\n",
      "14062/14062 [==============================] - 1s 36us/step - loss: 0.0276 - mae: 0.1258 - val_loss: 0.0317 - val_mae: 0.1372\n",
      "Epoch 83/100\n",
      "14062/14062 [==============================] - 1s 36us/step - loss: 0.0275 - mae: 0.1254 - val_loss: 0.0249 - val_mae: 0.1199\n",
      "Epoch 84/100\n",
      "14062/14062 [==============================] - 1s 38us/step - loss: 0.0269 - mae: 0.1241 - val_loss: 0.0294 - val_mae: 0.1316\n",
      "Epoch 85/100\n",
      "14062/14062 [==============================] - 1s 38us/step - loss: 0.0267 - mae: 0.1234 - val_loss: 0.0271 - val_mae: 0.1257\n",
      "Epoch 86/100\n",
      "14062/14062 [==============================] - 1s 39us/step - loss: 0.0265 - mae: 0.1226 - val_loss: 0.0280 - val_mae: 0.1284\n",
      "Epoch 87/100\n",
      "14062/14062 [==============================] - 1s 40us/step - loss: 0.0261 - mae: 0.1216 - val_loss: 0.0333 - val_mae: 0.1402\n",
      "Epoch 88/100\n",
      "14062/14062 [==============================] - 1s 40us/step - loss: 0.0267 - mae: 0.1231 - val_loss: 0.0348 - val_mae: 0.1442\n",
      "Epoch 89/100\n",
      "14062/14062 [==============================] - 1s 40us/step - loss: 0.0257 - mae: 0.1208 - val_loss: 0.0330 - val_mae: 0.1410\n",
      "Epoch 90/100\n",
      "14062/14062 [==============================] - 1s 42us/step - loss: 0.0267 - mae: 0.1228 - val_loss: 0.0295 - val_mae: 0.1322\n",
      "Epoch 91/100\n",
      "14062/14062 [==============================] - 0s 35us/step - loss: 0.0258 - mae: 0.1207 - val_loss: 0.0302 - val_mae: 0.1337\n",
      "Epoch 92/100\n",
      "14062/14062 [==============================] - 1s 37us/step - loss: 0.0255 - mae: 0.1200 - val_loss: 0.0337 - val_mae: 0.1434\n",
      "Epoch 93/100\n",
      "14062/14062 [==============================] - 1s 36us/step - loss: 0.0261 - mae: 0.1217 - val_loss: 0.0281 - val_mae: 0.1296\n",
      "Epoch 94/100\n",
      "14062/14062 [==============================] - 1s 37us/step - loss: 0.0261 - mae: 0.1212 - val_loss: 0.0322 - val_mae: 0.1381\n",
      "Epoch 95/100\n",
      "14062/14062 [==============================] - 1s 36us/step - loss: 0.0256 - mae: 0.1201 - val_loss: 0.0327 - val_mae: 0.1376\n",
      "Epoch 96/100\n",
      "14062/14062 [==============================] - 1s 36us/step - loss: 0.0255 - mae: 0.1195 - val_loss: 0.0300 - val_mae: 0.1324\n",
      "Epoch 97/100\n",
      "14062/14062 [==============================] - 1s 37us/step - loss: 0.0254 - mae: 0.1194 - val_loss: 0.0413 - val_mae: 0.1570\n",
      "Epoch 98/100\n",
      "14062/14062 [==============================] - 1s 36us/step - loss: 0.0249 - mae: 0.1179 - val_loss: 0.0368 - val_mae: 0.1483\n",
      "Epoch 99/100\n",
      "14062/14062 [==============================] - 0s 36us/step - loss: 0.0253 - mae: 0.1188 - val_loss: 0.0304 - val_mae: 0.1322\n",
      "Epoch 100/100\n",
      "14062/14062 [==============================] - 1s 36us/step - loss: 0.0254 - mae: 0.1194 - val_loss: 0.0271 - val_mae: 0.1261\n"
     ]
    }
   ],
   "source": [
    "HYPERPARAMETERS = {'depth': 6, 'width': 64, 'reduction_factor':  0.9}\n",
    "import tensorflow as tf\n",
    "with tf.device('/cpu:0'):\n",
    "    model = model_builder(9, 18)(**HYPERPARAMETERS)\n",
    "    hist = model.fit(x_train_1, q_train_1, epochs = 100, batch_size = 128, verbose = 1, validation_data=(IOD_x_test, IOD_q_test))\n",
    "    model.save(\"ik-rh5-leg-5steps_dropconnect_OOD.h5\")"
   ]
  },
  {
   "cell_type": "code",
   "execution_count": 23,
   "metadata": {},
   "outputs": [
    {
     "ename": "ValueError",
     "evalue": "x and y must have same first dimension, but have shapes (200,) and (100,)",
     "output_type": "error",
     "traceback": [
      "\u001b[0;31m---------------------------------------------------------------------------\u001b[0m",
      "\u001b[0;31mValueError\u001b[0m                                Traceback (most recent call last)",
      "\u001b[0;32m<ipython-input-23-c9a61375ff60>\u001b[0m in \u001b[0;36m<module>\u001b[0;34m()\u001b[0m\n\u001b[1;32m      3\u001b[0m \u001b[0;31m#print(hist.history['loss'])\u001b[0m\u001b[0;34m\u001b[0m\u001b[0;34m\u001b[0m\u001b[0;34m\u001b[0m\u001b[0m\n\u001b[1;32m      4\u001b[0m \u001b[0mplt\u001b[0m\u001b[0;34m.\u001b[0m\u001b[0mfigure\u001b[0m\u001b[0;34m(\u001b[0m\u001b[0;34m)\u001b[0m\u001b[0;34m\u001b[0m\u001b[0;34m\u001b[0m\u001b[0m\n\u001b[0;32m----> 5\u001b[0;31m \u001b[0mplt\u001b[0m\u001b[0;34m.\u001b[0m\u001b[0mplot\u001b[0m\u001b[0;34m(\u001b[0m \u001b[0mepoch\u001b[0m\u001b[0;34m,\u001b[0m \u001b[0mhist\u001b[0m\u001b[0;34m.\u001b[0m\u001b[0mhistory\u001b[0m\u001b[0;34m[\u001b[0m\u001b[0;34m'loss'\u001b[0m\u001b[0;34m]\u001b[0m\u001b[0;34m,\u001b[0m     \u001b[0mlabel\u001b[0m \u001b[0;34m=\u001b[0m \u001b[0;34m'Loss'\u001b[0m\u001b[0;34m)\u001b[0m\u001b[0;34m\u001b[0m\u001b[0;34m\u001b[0m\u001b[0m\n\u001b[0m\u001b[1;32m      6\u001b[0m \u001b[0mplt\u001b[0m\u001b[0;34m.\u001b[0m\u001b[0mplot\u001b[0m\u001b[0;34m(\u001b[0m \u001b[0mepoch\u001b[0m\u001b[0;34m,\u001b[0m \u001b[0mhist\u001b[0m\u001b[0;34m.\u001b[0m\u001b[0mhistory\u001b[0m\u001b[0;34m[\u001b[0m\u001b[0;34m'mae'\u001b[0m\u001b[0;34m]\u001b[0m\u001b[0;34m,\u001b[0m      \u001b[0mlabel\u001b[0m \u001b[0;34m=\u001b[0m \u001b[0;34m'MAE'\u001b[0m\u001b[0;34m)\u001b[0m\u001b[0;34m\u001b[0m\u001b[0;34m\u001b[0m\u001b[0m\n\u001b[1;32m      7\u001b[0m \u001b[0mplt\u001b[0m\u001b[0;34m.\u001b[0m\u001b[0mplot\u001b[0m\u001b[0;34m(\u001b[0m \u001b[0mepoch\u001b[0m\u001b[0;34m,\u001b[0m \u001b[0mhist\u001b[0m\u001b[0;34m.\u001b[0m\u001b[0mhistory\u001b[0m\u001b[0;34m[\u001b[0m\u001b[0;34m'val_loss'\u001b[0m\u001b[0;34m]\u001b[0m\u001b[0;34m,\u001b[0m \u001b[0mlabel\u001b[0m \u001b[0;34m=\u001b[0m \u001b[0;34m'val_loss'\u001b[0m\u001b[0;34m)\u001b[0m\u001b[0;34m\u001b[0m\u001b[0;34m\u001b[0m\u001b[0m\n",
      "\u001b[0;32m/home/dfki.uni-bremen.de/bmanickavasakan/.local/lib/python3.6/site-packages/matplotlib/pyplot.py\u001b[0m in \u001b[0;36mplot\u001b[0;34m(scalex, scaley, data, *args, **kwargs)\u001b[0m\n\u001b[1;32m   2840\u001b[0m     return gca().plot(\n\u001b[1;32m   2841\u001b[0m         \u001b[0;34m*\u001b[0m\u001b[0margs\u001b[0m\u001b[0;34m,\u001b[0m \u001b[0mscalex\u001b[0m\u001b[0;34m=\u001b[0m\u001b[0mscalex\u001b[0m\u001b[0;34m,\u001b[0m \u001b[0mscaley\u001b[0m\u001b[0;34m=\u001b[0m\u001b[0mscaley\u001b[0m\u001b[0;34m,\u001b[0m\u001b[0;34m\u001b[0m\u001b[0;34m\u001b[0m\u001b[0m\n\u001b[0;32m-> 2842\u001b[0;31m         **({\"data\": data} if data is not None else {}), **kwargs)\n\u001b[0m\u001b[1;32m   2843\u001b[0m \u001b[0;34m\u001b[0m\u001b[0m\n\u001b[1;32m   2844\u001b[0m \u001b[0;34m\u001b[0m\u001b[0m\n",
      "\u001b[0;32m/home/dfki.uni-bremen.de/bmanickavasakan/.local/lib/python3.6/site-packages/matplotlib/axes/_axes.py\u001b[0m in \u001b[0;36mplot\u001b[0;34m(self, scalex, scaley, data, *args, **kwargs)\u001b[0m\n\u001b[1;32m   1741\u001b[0m         \"\"\"\n\u001b[1;32m   1742\u001b[0m         \u001b[0mkwargs\u001b[0m \u001b[0;34m=\u001b[0m \u001b[0mcbook\u001b[0m\u001b[0;34m.\u001b[0m\u001b[0mnormalize_kwargs\u001b[0m\u001b[0;34m(\u001b[0m\u001b[0mkwargs\u001b[0m\u001b[0;34m,\u001b[0m \u001b[0mmlines\u001b[0m\u001b[0;34m.\u001b[0m\u001b[0mLine2D\u001b[0m\u001b[0;34m)\u001b[0m\u001b[0;34m\u001b[0m\u001b[0;34m\u001b[0m\u001b[0m\n\u001b[0;32m-> 1743\u001b[0;31m         \u001b[0mlines\u001b[0m \u001b[0;34m=\u001b[0m \u001b[0;34m[\u001b[0m\u001b[0;34m*\u001b[0m\u001b[0mself\u001b[0m\u001b[0;34m.\u001b[0m\u001b[0m_get_lines\u001b[0m\u001b[0;34m(\u001b[0m\u001b[0;34m*\u001b[0m\u001b[0margs\u001b[0m\u001b[0;34m,\u001b[0m \u001b[0mdata\u001b[0m\u001b[0;34m=\u001b[0m\u001b[0mdata\u001b[0m\u001b[0;34m,\u001b[0m \u001b[0;34m**\u001b[0m\u001b[0mkwargs\u001b[0m\u001b[0;34m)\u001b[0m\u001b[0;34m]\u001b[0m\u001b[0;34m\u001b[0m\u001b[0;34m\u001b[0m\u001b[0m\n\u001b[0m\u001b[1;32m   1744\u001b[0m         \u001b[0;32mfor\u001b[0m \u001b[0mline\u001b[0m \u001b[0;32min\u001b[0m \u001b[0mlines\u001b[0m\u001b[0;34m:\u001b[0m\u001b[0;34m\u001b[0m\u001b[0;34m\u001b[0m\u001b[0m\n\u001b[1;32m   1745\u001b[0m             \u001b[0mself\u001b[0m\u001b[0;34m.\u001b[0m\u001b[0madd_line\u001b[0m\u001b[0;34m(\u001b[0m\u001b[0mline\u001b[0m\u001b[0;34m)\u001b[0m\u001b[0;34m\u001b[0m\u001b[0;34m\u001b[0m\u001b[0m\n",
      "\u001b[0;32m/home/dfki.uni-bremen.de/bmanickavasakan/.local/lib/python3.6/site-packages/matplotlib/axes/_base.py\u001b[0m in \u001b[0;36m__call__\u001b[0;34m(self, data, *args, **kwargs)\u001b[0m\n\u001b[1;32m    271\u001b[0m                 \u001b[0mthis\u001b[0m \u001b[0;34m+=\u001b[0m \u001b[0margs\u001b[0m\u001b[0;34m[\u001b[0m\u001b[0;36m0\u001b[0m\u001b[0;34m]\u001b[0m\u001b[0;34m,\u001b[0m\u001b[0;34m\u001b[0m\u001b[0;34m\u001b[0m\u001b[0m\n\u001b[1;32m    272\u001b[0m                 \u001b[0margs\u001b[0m \u001b[0;34m=\u001b[0m \u001b[0margs\u001b[0m\u001b[0;34m[\u001b[0m\u001b[0;36m1\u001b[0m\u001b[0;34m:\u001b[0m\u001b[0;34m]\u001b[0m\u001b[0;34m\u001b[0m\u001b[0;34m\u001b[0m\u001b[0m\n\u001b[0;32m--> 273\u001b[0;31m             \u001b[0;32myield\u001b[0m \u001b[0;32mfrom\u001b[0m \u001b[0mself\u001b[0m\u001b[0;34m.\u001b[0m\u001b[0m_plot_args\u001b[0m\u001b[0;34m(\u001b[0m\u001b[0mthis\u001b[0m\u001b[0;34m,\u001b[0m \u001b[0mkwargs\u001b[0m\u001b[0;34m)\u001b[0m\u001b[0;34m\u001b[0m\u001b[0;34m\u001b[0m\u001b[0m\n\u001b[0m\u001b[1;32m    274\u001b[0m \u001b[0;34m\u001b[0m\u001b[0m\n\u001b[1;32m    275\u001b[0m     \u001b[0;32mdef\u001b[0m \u001b[0mget_next_color\u001b[0m\u001b[0;34m(\u001b[0m\u001b[0mself\u001b[0m\u001b[0;34m)\u001b[0m\u001b[0;34m:\u001b[0m\u001b[0;34m\u001b[0m\u001b[0;34m\u001b[0m\u001b[0m\n",
      "\u001b[0;32m/home/dfki.uni-bremen.de/bmanickavasakan/.local/lib/python3.6/site-packages/matplotlib/axes/_base.py\u001b[0m in \u001b[0;36m_plot_args\u001b[0;34m(self, tup, kwargs)\u001b[0m\n\u001b[1;32m    397\u001b[0m \u001b[0;34m\u001b[0m\u001b[0m\n\u001b[1;32m    398\u001b[0m         \u001b[0;32mif\u001b[0m \u001b[0mx\u001b[0m\u001b[0;34m.\u001b[0m\u001b[0mshape\u001b[0m\u001b[0;34m[\u001b[0m\u001b[0;36m0\u001b[0m\u001b[0;34m]\u001b[0m \u001b[0;34m!=\u001b[0m \u001b[0my\u001b[0m\u001b[0;34m.\u001b[0m\u001b[0mshape\u001b[0m\u001b[0;34m[\u001b[0m\u001b[0;36m0\u001b[0m\u001b[0;34m]\u001b[0m\u001b[0;34m:\u001b[0m\u001b[0;34m\u001b[0m\u001b[0;34m\u001b[0m\u001b[0m\n\u001b[0;32m--> 399\u001b[0;31m             raise ValueError(f\"x and y must have same first dimension, but \"\n\u001b[0m\u001b[1;32m    400\u001b[0m                              f\"have shapes {x.shape} and {y.shape}\")\n\u001b[1;32m    401\u001b[0m         \u001b[0;32mif\u001b[0m \u001b[0mx\u001b[0m\u001b[0;34m.\u001b[0m\u001b[0mndim\u001b[0m \u001b[0;34m>\u001b[0m \u001b[0;36m2\u001b[0m \u001b[0;32mor\u001b[0m \u001b[0my\u001b[0m\u001b[0;34m.\u001b[0m\u001b[0mndim\u001b[0m \u001b[0;34m>\u001b[0m \u001b[0;36m2\u001b[0m\u001b[0;34m:\u001b[0m\u001b[0;34m\u001b[0m\u001b[0;34m\u001b[0m\u001b[0m\n",
      "\u001b[0;31mValueError\u001b[0m: x and y must have same first dimension, but have shapes (200,) and (100,)"
     ]
    },
    {
     "data": {
      "image/png": "[encoded data removed]",
      "text/plain": [
       "<Figure size 432x288 with 1 Axes>"
      ]
     },
     "metadata": {
      "needs_background": "light"
     },
     "output_type": "display_data"
    }
   ],
   "source": [
    "epoch  = list(range(0, 200, 1))\n",
    "#print(epoch)\n",
    "#print(hist.history['loss'])\n",
    "plt.figure()\n",
    "plt.plot( epoch, hist.history['loss'],     label = 'Loss')\n",
    "plt.plot( epoch, hist.history['mae'],      label = 'MAE')\n",
    "plt.plot( epoch, hist.history['val_loss'], label = 'val_loss')\n",
    "plt.plot( epoch, hist.history['val_mae'],  label = 'val_mae')\n",
    "plt.xlabel(\"Number of Epochs\")\n",
    "plt.ylabel(\"Error\")\n",
    "plt.legend(loc='upper right')\n"
   ]
  },
  {
   "cell_type": "code",
   "execution_count": 10,
   "metadata": {},
   "outputs": [
    {
     "name": "stdout",
     "output_type": "stream",
     "text": [
      "Testing MAE: 0.10467\n",
      "Q feature 0 has unnorm MAE: 0.1965 (Range -0.7330 to 0.4398) normalized MAE: 0.1675\n",
      "Q feature 1 has unnorm MAE: 0.2385 (Range -0.3840 to 0.5792) normalized MAE: 0.2476\n",
      "Q feature 2 has unnorm MAE: 0.0767 (Range -0.8200 to -0.0680) normalized MAE: 0.1020\n",
      "Q feature 3 has unnorm MAE: 0.0764 (Range -0.8381 to -0.0792) normalized MAE: 0.1007\n",
      "Q feature 4 has unnorm MAE: 0.0085 (Range 0.0070 to 0.0907) normalized MAE: 0.1020\n",
      "Q feature 5 has unnorm MAE: 0.0440 (Range 0.0000 to 1.0000) normalized MAE: 0.0440\n",
      "Q feature 6 has unnorm MAE: 0.0053 (Range -0.0822 to 0.0000) normalized MAE: 0.0643\n",
      "Q feature 7 has unnorm MAE: 0.0033 (Range 0.0000 to 0.0782) normalized MAE: 0.0420\n",
      "Q feature 8 has unnorm MAE: 0.1689 (Range -0.7850 to 0.4710) normalized MAE: 0.1345\n",
      "Q feature 9 has unnorm MAE: 0.1000 (Range -0.7850 to 0.4710) normalized MAE: 0.0796\n",
      "Q feature 10 has unnorm MAE: 0.1725 (Range -0.5905 to 0.8678) normalized MAE: 0.1183\n",
      "Q feature 11 has unnorm MAE: 0.1818 (Range -0.5744 to 0.9404) normalized MAE: 0.1201\n",
      "Q feature 12 has unnorm MAE: 0.0222 (Range -0.0783 to 0.1694) normalized MAE: 0.0897\n",
      "Q feature 13 has unnorm MAE: 0.0092 (Range -0.0687 to 0.0186) normalized MAE: 0.1057\n",
      "Q feature 14 has unnorm MAE: 0.0098 (Range -0.0468 to 0.0678) normalized MAE: 0.0857\n",
      "Q feature 15 has unnorm MAE: 0.0224 (Range -0.1222 to 0.1126) normalized MAE: 0.0955\n",
      "Q feature 16 has unnorm MAE: 0.0114 (Range -0.0687 to 0.0249) normalized MAE: 0.1216\n",
      "Q feature 17 has unnorm MAE: 0.0075 (Range -0.0510 to 0.0678) normalized MAE: 0.0633\n"
     ]
    }
   ],
   "source": [
    "q_pred = model.predict(x_test, verbose=0)\n",
    "q_unnorm = q_scaler.inverse_transform(q_test)\n",
    "q_pred_unnorm = q_scaler.inverse_transform(q_pred)\n",
    "\n",
    "global_mae = mean_absolute_error(q_test, q_pred)\n",
    "\n",
    "print(\"Testing MAE: {:.5f}\".format(global_mae))\n",
    "\n",
    "# Compute MAE for each output independently.\n",
    "for i in range(q_test.shape[1]):\n",
    "    norm_mae_i = mean_absolute_error(q_test[:, i], q_pred[:, i])\n",
    "    mae_i = mean_absolute_error(q_unnorm[:, i], q_pred_unnorm[:, i])\n",
    "    print(\"Q feature {} has unnorm MAE: {:.4f} (Range {:.4f} to {:.4f}) normalized MAE: {:.4f}\".format(i, mae_i, q_scaler.data_min_[i], q_scaler.data_max_[i], norm_mae_i))\n",
    "\n"
   ]
  },
  {
   "cell_type": "code",
   "execution_count": 11,
   "metadata": {
    "scrolled": true
   },
   "outputs": [
    {
     "name": "stdout",
     "output_type": "stream",
     "text": [
      "Testing MAE: 0.28742\n",
      "NLL: 6.67680\n"
     ]
    }
   ],
   "source": [
    "from keras.layers import Dense, Dropout\n",
    "from tensorflow.keras.models import load_model\n",
    "from keras_uncertainty.models import MCDropoutRegressor\n",
    "from sklearn.preprocessing import MinMaxScaler\n",
    "\n",
    "def test_mcdropconnect_regressor(x_test_values, q_test_values, model, data_scaler):   \n",
    "    mc_model = MCDropoutRegressor(model)\n",
    "    inp = x_test_values  \n",
    "    \n",
    "    mean, std = mc_model.predict(inp, num_samples = 10)\n",
    "    \n",
    "    q_pred_unnormalised = data_scaler.inverse_transform(mean)\n",
    "    \n",
    "    #q_sd_unnromalised = data_scaler.inverse_transform(std)\n",
    "    \n",
    "    global_mae = mean_absolute_error(q_test_values, mean)\n",
    "\n",
    "    print(\"Testing MAE: {:.5f}\".format(global_mae))\n",
    "\n",
    "    return q_pred_unnormalised, std\n",
    "\n",
    "mean_1, std_1 = test_mcdropconnect_regressor(x_test, q_test, model, q_scaler)\n",
    "\n",
    "q_test_unorm = q_scaler.inverse_transform(q_test)\n",
    "\n",
    "print(\"NLL: {:.5f}\".format(numpy_regression_nll(q_test_unorm, mean_1, std_1**2)))\n"
   ]
  },
  {
   "cell_type": "code",
   "execution_count": 12,
   "metadata": {},
   "outputs": [
    {
     "name": "stdout",
     "output_type": "stream",
     "text": [
      "Testing MAE: 0.25237\n",
      "NLL: 6.06231\n"
     ]
    }
   ],
   "source": [
    "mean_test_IOD, sd_test_IOD = test_mcdropconnect_regressor(IOD_x_test, IOD_q_test, model, q_scaler)\n",
    "q_test_unorm = q_scaler.inverse_transform(IOD_q_test)\n",
    "print(\"NLL: {:.5f}\".format(numpy_regression_nll(q_test_unorm, mean_test_IOD, sd_test_IOD**2)))"
   ]
  },
  {
   "cell_type": "code",
   "execution_count": 13,
   "metadata": {},
   "outputs": [
    {
     "name": "stdout",
     "output_type": "stream",
     "text": [
      "Testing MAE: 0.35367\n",
      "NLL: 6.85776\n"
     ]
    }
   ],
   "source": [
    "mean_test_OOD, sd_test_OOD = test_mcdropconnect_regressor(OOD_x_test, OOD_q_test, model, q_scaler)\n",
    "q_test_unorm = q_scaler.inverse_transform(OOD_q_test)\n",
    "print(\"NLL: {:.5f}\".format(numpy_regression_nll(q_test_unorm, mean_test_OOD, sd_test_OOD**2)))"
   ]
  },
  {
   "cell_type": "code",
   "execution_count": 33,
   "metadata": {},
   "outputs": [],
   "source": [
    "col_no = 2"
   ]
  },
  {
   "cell_type": "code",
   "execution_count": 34,
   "metadata": {},
   "outputs": [
    {
     "data": {
      "image/png": "[encoded data removed]",
      "text/plain": [
       "<Figure size 432x288 with 1 Axes>"
      ]
     },
     "metadata": {
      "needs_background": "light"
     },
     "output_type": "display_data"
    }
   ],
   "source": [
    "sd_test_IOD_df = pd.DataFrame(sd_test_IOD)\n",
    "sd_test_OOD_df = pd.DataFrame(sd_test_OOD)\n",
    "new_scores = np.concatenate([sd_test_IOD_df[col_no], sd_test_OOD_df[col_no]], axis=0)\n",
    "minmaxscaler = MinMaxScaler()\n",
    "new_scores_scaled = minmaxscaler.fit_transform(new_scores.reshape(-1, 1))\n",
    "\n",
    "new_labels = np.concatenate([np.zeros_like(sd_test_IOD_df[col_no]), np.ones_like(sd_test_OOD_df[col_no])], axis=0)\n",
    "histogram_df = pd.DataFrame(new_scores_scaled, new_labels)\n",
    "\n",
    "import matplotlib.pyplot as plt\n",
    "fig, ax = plt.subplots()\n",
    "\n",
    "a_heights, a_bins = np.histogram(sd_test_IOD_df[col_no].values.reshape(-1, 1), density=True)\n",
    "b_heights, b_bins = np.histogram(sd_test_OOD_df[col_no].values.reshape(-1, 1), bins=a_bins, density=True)\n",
    "\n",
    "width = (a_bins[1] - a_bins[0])/3\n",
    "\n",
    "ax.bar(a_bins[:-1], a_heights, width = width, facecolor='blue',label=\"IOD SD\")\n",
    "ax.bar(b_bins[:-1]+width, b_heights, width = width, facecolor='red', label=\"OOD SD\")\n",
    "ax.legend()\n",
    "ax.set_xlabel(\"Standard Deviation\")\n",
    "ax.set_ylabel(\"Normailsed Density of Samples\")\n",
    "fig.savefig(\"density_vs_sd_dropconnect_iso_split_col_2.pdf\")"
   ]
  },
  {
   "cell_type": "code",
   "execution_count": 35,
   "metadata": {
    "scrolled": true
   },
   "outputs": [
    {
     "name": "stdout",
     "output_type": "stream",
     "text": [
      "0.5018185110455792\n"
     ]
    },
    {
     "data": {
      "image/png": "[encoded data removed]",
      "text/plain": [
       "<Figure size 432x288 with 1 Axes>"
      ]
     },
     "metadata": {
      "needs_background": "light"
     },
     "output_type": "display_data"
    }
   ],
   "source": [
    "from sklearn.metrics import roc_curve, roc_auc_score\n",
    "\n",
    "norm_scores = new_scores - min(new_scores) / (max(new_scores) - min(new_scores))\n",
    "\n",
    "auc = roc_auc_score(new_labels, new_scores)\n",
    "fpr, tpr, threshs = roc_curve(new_labels, norm_scores, drop_intermediate=True)\n",
    "print(auc)\n",
    "plt.xlabel('FPR', fontsize=13)\n",
    "plt.ylabel('TPR', fontsize=13)\n",
    "plt.title('Receiver Operating Characteristic')\n",
    "plt.plot(fpr, tpr)\n",
    "plt.savefig(\"auc_dropconnect_iso_split_col_2.pdf\")\n",
    "plt.show()\n"
   ]
  },
  {
   "cell_type": "code",
   "execution_count": null,
   "metadata": {},
   "outputs": [],
   "source": []
  }
 ],
 "metadata": {
  "kernelspec": {
   "display_name": "Python 3",
   "language": "python",
   "name": "python3"
  },
  "language_info": {
   "codemirror_mode": {
    "name": "ipython",
    "version": 3
   },
   "file_extension": ".py",
   "mimetype": "text/x-python",
   "name": "python",
   "nbconvert_exporter": "python",
   "pygments_lexer": "ipython3",
   "version": "3.6.9"
  }
 },
 "nbformat": 4,
 "nbformat_minor": 4
}
