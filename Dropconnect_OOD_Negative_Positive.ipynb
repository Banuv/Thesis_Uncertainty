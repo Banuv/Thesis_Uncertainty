{
 "cells": [
  {
   "cell_type": "code",
   "execution_count": 1,
   "metadata": {},
   "outputs": [
    {
     "name": "stderr",
     "output_type": "stream",
     "text": [
      "/home/dfki.uni-bremen.de/bmanickavasakan/.local/lib/python3.6/site-packages/tensorflow/python/framework/dtypes.py:526: FutureWarning: Passing (type, 1) or '1type' as a synonym of type is deprecated; in a future version of numpy, it will be understood as (type, (1,)) / '(1,)type'.\n",
      "  _np_qint8 = np.dtype([(\"qint8\", np.int8, 1)])\n",
      "/home/dfki.uni-bremen.de/bmanickavasakan/.local/lib/python3.6/site-packages/tensorflow/python/framework/dtypes.py:527: FutureWarning: Passing (type, 1) or '1type' as a synonym of type is deprecated; in a future version of numpy, it will be understood as (type, (1,)) / '(1,)type'.\n",
      "  _np_quint8 = np.dtype([(\"quint8\", np.uint8, 1)])\n",
      "/home/dfki.uni-bremen.de/bmanickavasakan/.local/lib/python3.6/site-packages/tensorflow/python/framework/dtypes.py:528: FutureWarning: Passing (type, 1) or '1type' as a synonym of type is deprecated; in a future version of numpy, it will be understood as (type, (1,)) / '(1,)type'.\n",
      "  _np_qint16 = np.dtype([(\"qint16\", np.int16, 1)])\n",
      "/home/dfki.uni-bremen.de/bmanickavasakan/.local/lib/python3.6/site-packages/tensorflow/python/framework/dtypes.py:529: FutureWarning: Passing (type, 1) or '1type' as a synonym of type is deprecated; in a future version of numpy, it will be understood as (type, (1,)) / '(1,)type'.\n",
      "  _np_quint16 = np.dtype([(\"quint16\", np.uint16, 1)])\n",
      "/home/dfki.uni-bremen.de/bmanickavasakan/.local/lib/python3.6/site-packages/tensorflow/python/framework/dtypes.py:530: FutureWarning: Passing (type, 1) or '1type' as a synonym of type is deprecated; in a future version of numpy, it will be understood as (type, (1,)) / '(1,)type'.\n",
      "  _np_qint32 = np.dtype([(\"qint32\", np.int32, 1)])\n",
      "/home/dfki.uni-bremen.de/bmanickavasakan/.local/lib/python3.6/site-packages/tensorflow/python/framework/dtypes.py:535: FutureWarning: Passing (type, 1) or '1type' as a synonym of type is deprecated; in a future version of numpy, it will be understood as (type, (1,)) / '(1,)type'.\n",
      "  np_resource = np.dtype([(\"resource\", np.ubyte, 1)])\n",
      "Using TensorFlow backend.\n"
     ]
    }
   ],
   "source": [
    "from __future__ import print_function\n",
    "\n",
    "import sys, os\n",
    "os.environ[\"CUDA_VISIBLE_DEVICES\"] = \"-1\"\n",
    "import tensorflow.keras\n",
    "import pandas as pd\n",
    "import numpy as np\n",
    "import sklearn\n",
    "import keras\n",
    "import csv\n",
    "\n",
    "import keras_uncertainty\n",
    "from keras_uncertainty.utils import numpy_negative_log_likelihood, numpy_entropy\n",
    "from keras_uncertainty.layers import DropConnectConv2D, DropConnectDense\n",
    "from keras_uncertainty.models import MCDropoutClassifier\n",
    "from keras_uncertainty.utils import numpy_regression_nll\n",
    "\n",
    "import keras.backend as K\n",
    "from keras.layers import Input, Dense, Conv2D, MaxPooling2D, Dropout, Flatten, BatchNormalization\n",
    "from keras.models import Model, Sequential\n",
    "from keras.utils import to_categorical\n",
    "from sklearn.metrics import accuracy_score\n",
    "\n",
    "import matplotlib.pyplot as plt\n"
   ]
  },
  {
   "cell_type": "code",
   "execution_count": 2,
   "metadata": {},
   "outputs": [],
   "source": [
    "def load_joint_space_csv_chunks(file_path):\n",
    "    data_frame = pd.read_csv(file_path, skiprows=1, header=None)\n",
    "    del data_frame[18]\n",
    "    #print(data_frame.head(10))\n",
    "    return data_frame\n",
    "\n",
    "def load_task_space_csv_chunks(file_path):\n",
    "    return pd.read_csv(file_path, skiprows=1, header=None)\n"
   ]
  },
  {
   "cell_type": "code",
   "execution_count": 3,
   "metadata": {
    "scrolled": false
   },
   "outputs": [],
   "source": [
    "from sklearn.preprocessing import MinMaxScaler\n",
    "from sklearn.metrics import mean_absolute_error\n",
    "from sklearn.model_selection import train_test_split\n",
    "\n",
    "TRAIN_FOLDER = '/home/dfki.uni-bremen.de/bmanickavasakan/newdataset_rh5_leg/leg_5steps/'\n",
    "TEST_FOLDER = '/home/dfki.uni-bremen.de/bmanickavasakan/newdataset_rh5_leg/leg_5steps/test_4steps'\n",
    "\n",
    "X_TRAIN_FILE = os.path.join(TRAIN_FOLDER, 'leg_forwardkinematics_x.csv')\n",
    "Q_TRAIN_FILE = os.path.join(TRAIN_FOLDER, 'leg_sysstate_q.csv')\n",
    "\n",
    "X_TEST_FILE = os.path.join(TEST_FOLDER, 'leg_forwardkinematics_x.csv')\n",
    "Q_TEST_FILE = os.path.join(TEST_FOLDER, 'leg_sysstate_q.csv')\n",
    "\n",
    "x_train = load_task_space_csv_chunks(X_TRAIN_FILE)\n",
    "q_train = load_joint_space_csv_chunks(Q_TRAIN_FILE)\n",
    "\n",
    "x_test = load_task_space_csv_chunks(X_TEST_FILE)\n",
    "q_test = load_joint_space_csv_chunks(Q_TEST_FILE)\n",
    "\n",
    "\n"
   ]
  },
  {
   "cell_type": "code",
   "execution_count": 4,
   "metadata": {},
   "outputs": [],
   "source": [
    "\"\"\"\n",
    "+/- based data splitting\n",
    "We consider the Q features and use the feature with the highest SD for dividing the dataset. \n",
    "We consider all the positive values as IOD and all the negative values as OOD\n",
    "\"\"\"\n",
    "\n",
    "stats_q_train = pd.DataFrame()\n",
    "stats_q_train[\"Mean\"] = q_train.mean()\n",
    "stats_q_train[\"Var\"] = q_train.var()\n",
    "stats_q_train[\"STD\"] = q_train.std()\n",
    "stats_q_train[\"OneSigmaMax\"] = stats_q_train[\"Mean\"] + stats_q_train[\"STD\"]\n",
    "stats_q_train[\"OneSigmaMin\"] = stats_q_train[\"Mean\"] - stats_q_train[\"STD\"]\n",
    "stats_q_train.T\n",
    "\n",
    "max_std = stats_q_train[\"STD\"].max()\n",
    "colomn_max_std = stats_q_train[\"STD\"].idxmax()\n",
    "\n",
    "value = 0\n",
    "\n",
    "InDistribution_Q_Train =  q_train[q_train[colomn_max_std] > value]\n",
    "OutDistribution_Q_Train = q_train[q_train[colomn_max_std] < value]\n",
    "InDistribution_X_Train =  x_train[q_train[colomn_max_std] > value]\n",
    "OutDistribution_X_Train = x_train[q_train[colomn_max_std] < value]\n",
    "\n",
    "InDistribution_Q_Test =  q_test[q_test[colomn_max_std] > value]\n",
    "OutDistribution_Q_Test = q_test[q_test[colomn_max_std] < value]\n",
    "InDistribution_X_Test =  x_test[q_test[colomn_max_std] > value]\n",
    "OutDistribution_X_Test = x_test[q_test[colomn_max_std] < value]\n",
    "\n",
    "x_train_1 = InDistribution_X_Train\n",
    "q_train_1 = InDistribution_Q_Train\n",
    "x_test_1 = InDistribution_X_Test\n",
    "q_test_1 = InDistribution_Q_Test\n",
    "\n",
    "OOD_x_train = OutDistribution_X_Train\n",
    "OOD_q_train = OutDistribution_Q_Train\n",
    "OOD_x_test = OutDistribution_X_Test\n",
    "OOD_q_test = OutDistribution_Q_Test"
   ]
  },
  {
   "cell_type": "code",
   "execution_count": 5,
   "metadata": {},
   "outputs": [],
   "source": [
    "\n",
    "x_scaler = MinMaxScaler()\n",
    "q_scaler = MinMaxScaler()\n",
    "\n",
    "#In order training set\n",
    "x_train_1 = x_scaler.fit_transform(x_train_1)\n",
    "q_train_1 = q_scaler.fit_transform(q_train_1)\n",
    "\n",
    "#complete test set\n",
    "x_test = x_scaler.transform(x_test)\n",
    "q_test = q_scaler.transform(q_test)\n",
    "\n",
    "#split testing data\n",
    "IOD_x_test = x_scaler.transform(x_test_1)\n",
    "IOD_q_test = q_scaler.transform(q_test_1)\n",
    "\n",
    "OOD_x_test = x_scaler.transform(OOD_x_test)\n",
    "OOD_q_test = q_scaler.transform(OOD_q_test)"
   ]
  },
  {
   "cell_type": "code",
   "execution_count": 6,
   "metadata": {},
   "outputs": [],
   "source": [
    "def model_builder(input_shape, output_shape):\n",
    "    def build_model(depth, width, reduction_factor):\n",
    "        model = Sequential()\n",
    "        \n",
    "\n",
    "        for i in range(depth):\n",
    "            num_neurons = max(int(width * (reduction_factor ** i)), 4)\n",
    "            if i == 0:\n",
    "                model.add(DropConnectDense(num_neurons, activation='relu', input_shape=(input_shape,), prob=0.5))\n",
    "            else:\n",
    "                model.add(DropConnectDense(num_neurons, activation='relu', prob=0.5))\n",
    "\n",
    "            model.add(BatchNormalization())\n",
    "            #num_neurons= num_neurons + 32\n",
    "            Flatten()\n",
    "\n",
    "        model.add(DropConnectDense(output_shape, activation='sigmoid', prob=0.1))\n",
    "        model.compile(loss='mse', optimizer='adam', metrics=[\"mae\"])\n",
    "\n",
    "        return model\n",
    "    return build_model\n"
   ]
  },
  {
   "cell_type": "code",
   "execution_count": 7,
   "metadata": {
    "scrolled": true
   },
   "outputs": [
    {
     "name": "stdout",
     "output_type": "stream",
     "text": [
      "WARNING:tensorflow:From /home/dfki.uni-bremen.de/bmanickavasakan/.local/lib/python3.6/site-packages/tensorflow/python/ops/resource_variable_ops.py:435: colocate_with (from tensorflow.python.framework.ops) is deprecated and will be removed in a future version.\n",
      "Instructions for updating:\n",
      "Colocations handled automatically by placer.\n",
      "WARNING:tensorflow:From /home/dfki.uni-bremen.de/bmanickavasakan/.local/lib/python3.6/site-packages/tensorflow/python/ops/math_ops.py:3066: to_int32 (from tensorflow.python.ops.math_ops) is deprecated and will be removed in a future version.\n",
      "Instructions for updating:\n",
      "Use tf.cast instead.\n",
      "Train on 9375 samples, validate on 2048 samples\n",
      "Epoch 1/100\n",
      "9375/9375 [==============================] - 1s 146us/step - loss: 0.1634 - mae: 0.3344 - val_loss: 0.1123 - val_mae: 0.2931\n",
      "Epoch 2/100\n",
      "9375/9375 [==============================] - 0s 35us/step - loss: 0.1461 - mae: 0.3178 - val_loss: 0.1098 - val_mae: 0.2899\n",
      "Epoch 3/100\n",
      "9375/9375 [==============================] - 0s 35us/step - loss: 0.1333 - mae: 0.3049 - val_loss: 0.1077 - val_mae: 0.2866\n",
      "Epoch 4/100\n",
      "9375/9375 [==============================] - 0s 33us/step - loss: 0.1237 - mae: 0.2949 - val_loss: 0.1048 - val_mae: 0.2828\n",
      "Epoch 5/100\n",
      "9375/9375 [==============================] - 0s 33us/step - loss: 0.1156 - mae: 0.2848 - val_loss: 0.0987 - val_mae: 0.2749\n",
      "Epoch 6/100\n",
      "9375/9375 [==============================] - 0s 33us/step - loss: 0.1081 - mae: 0.2753 - val_loss: 0.0869 - val_mae: 0.2579\n",
      "Epoch 7/100\n",
      "9375/9375 [==============================] - 0s 39us/step - loss: 0.1011 - mae: 0.2652 - val_loss: 0.0802 - val_mae: 0.2455\n",
      "Epoch 8/100\n",
      "9375/9375 [==============================] - 0s 30us/step - loss: 0.0951 - mae: 0.2562 - val_loss: 0.0770 - val_mae: 0.2390\n",
      "Epoch 9/100\n",
      "9375/9375 [==============================] - 0s 31us/step - loss: 0.0904 - mae: 0.2488 - val_loss: 0.0730 - val_mae: 0.2311\n",
      "Epoch 10/100\n",
      "9375/9375 [==============================] - 0s 32us/step - loss: 0.0872 - mae: 0.2436 - val_loss: 0.0693 - val_mae: 0.2236\n",
      "Epoch 11/100\n",
      "9375/9375 [==============================] - 0s 31us/step - loss: 0.0831 - mae: 0.2369 - val_loss: 0.0661 - val_mae: 0.2165\n",
      "Epoch 12/100\n",
      "9375/9375 [==============================] - 0s 32us/step - loss: 0.0804 - mae: 0.2319 - val_loss: 0.0648 - val_mae: 0.2149\n",
      "Epoch 13/100\n",
      "9375/9375 [==============================] - 0s 31us/step - loss: 0.0785 - mae: 0.2283 - val_loss: 0.0633 - val_mae: 0.2118\n",
      "Epoch 14/100\n",
      "9375/9375 [==============================] - 0s 32us/step - loss: 0.0769 - mae: 0.2253 - val_loss: 0.0633 - val_mae: 0.2108\n",
      "Epoch 15/100\n",
      "9375/9375 [==============================] - 0s 31us/step - loss: 0.0744 - mae: 0.2211 - val_loss: 0.0619 - val_mae: 0.2085\n",
      "Epoch 16/100\n",
      "9375/9375 [==============================] - 0s 31us/step - loss: 0.0722 - mae: 0.2173 - val_loss: 0.0608 - val_mae: 0.2055\n",
      "Epoch 17/100\n",
      "9375/9375 [==============================] - 0s 34us/step - loss: 0.0701 - mae: 0.2130 - val_loss: 0.0603 - val_mae: 0.2044\n",
      "Epoch 18/100\n",
      "9375/9375 [==============================] - 0s 30us/step - loss: 0.0686 - mae: 0.2102 - val_loss: 0.0574 - val_mae: 0.1978\n",
      "Epoch 19/100\n",
      "9375/9375 [==============================] - 0s 31us/step - loss: 0.0670 - mae: 0.2071 - val_loss: 0.0565 - val_mae: 0.1956\n",
      "Epoch 20/100\n",
      "9375/9375 [==============================] - 0s 31us/step - loss: 0.0661 - mae: 0.2054 - val_loss: 0.0574 - val_mae: 0.1978\n",
      "Epoch 21/100\n",
      "9375/9375 [==============================] - 0s 32us/step - loss: 0.0646 - mae: 0.2021 - val_loss: 0.0547 - val_mae: 0.1910\n",
      "Epoch 22/100\n",
      "9375/9375 [==============================] - 0s 30us/step - loss: 0.0638 - mae: 0.2008 - val_loss: 0.0526 - val_mae: 0.1857\n",
      "Epoch 23/100\n",
      "9375/9375 [==============================] - 0s 30us/step - loss: 0.0633 - mae: 0.1996 - val_loss: 0.0522 - val_mae: 0.1844\n",
      "Epoch 24/100\n",
      "9375/9375 [==============================] - 0s 31us/step - loss: 0.0627 - mae: 0.1979 - val_loss: 0.0506 - val_mae: 0.1807\n",
      "Epoch 25/100\n",
      "9375/9375 [==============================] - 0s 32us/step - loss: 0.0618 - mae: 0.1962 - val_loss: 0.0491 - val_mae: 0.1770\n",
      "Epoch 26/100\n",
      "9375/9375 [==============================] - 0s 30us/step - loss: 0.0608 - mae: 0.1942 - val_loss: 0.0486 - val_mae: 0.1758\n",
      "Epoch 27/100\n",
      "9375/9375 [==============================] - 0s 30us/step - loss: 0.0599 - mae: 0.1922 - val_loss: 0.0489 - val_mae: 0.1758\n",
      "Epoch 28/100\n",
      "9375/9375 [==============================] - 0s 30us/step - loss: 0.0603 - mae: 0.1925 - val_loss: 0.0477 - val_mae: 0.1732\n",
      "Epoch 29/100\n",
      "9375/9375 [==============================] - 0s 31us/step - loss: 0.0589 - mae: 0.1901 - val_loss: 0.0461 - val_mae: 0.1686\n",
      "Epoch 30/100\n",
      "9375/9375 [==============================] - 0s 31us/step - loss: 0.0583 - mae: 0.1888 - val_loss: 0.0478 - val_mae: 0.1728\n",
      "Epoch 31/100\n",
      "9375/9375 [==============================] - 0s 31us/step - loss: 0.0579 - mae: 0.1874 - val_loss: 0.0464 - val_mae: 0.1689\n",
      "Epoch 32/100\n",
      "9375/9375 [==============================] - 0s 30us/step - loss: 0.0570 - mae: 0.1855 - val_loss: 0.0474 - val_mae: 0.1712\n",
      "Epoch 33/100\n",
      "9375/9375 [==============================] - 0s 31us/step - loss: 0.0569 - mae: 0.1852 - val_loss: 0.0461 - val_mae: 0.1683\n",
      "Epoch 34/100\n",
      "9375/9375 [==============================] - 0s 30us/step - loss: 0.0565 - mae: 0.1842 - val_loss: 0.0484 - val_mae: 0.1722\n",
      "Epoch 35/100\n",
      "9375/9375 [==============================] - 0s 32us/step - loss: 0.0554 - mae: 0.1817 - val_loss: 0.0481 - val_mae: 0.1715\n",
      "Epoch 36/100\n",
      "9375/9375 [==============================] - 0s 30us/step - loss: 0.0549 - mae: 0.1808 - val_loss: 0.0502 - val_mae: 0.1756\n",
      "Epoch 37/100\n",
      "9375/9375 [==============================] - 0s 32us/step - loss: 0.0548 - mae: 0.1805 - val_loss: 0.0495 - val_mae: 0.1749\n",
      "Epoch 38/100\n",
      "9375/9375 [==============================] - 0s 31us/step - loss: 0.0548 - mae: 0.1798 - val_loss: 0.0440 - val_mae: 0.1622\n",
      "Epoch 39/100\n",
      "9375/9375 [==============================] - 0s 31us/step - loss: 0.0548 - mae: 0.1794 - val_loss: 0.0447 - val_mae: 0.1634\n",
      "Epoch 40/100\n",
      "9375/9375 [==============================] - 0s 32us/step - loss: 0.0538 - mae: 0.1779 - val_loss: 0.0433 - val_mae: 0.1598\n",
      "Epoch 41/100\n",
      "9375/9375 [==============================] - 0s 30us/step - loss: 0.0533 - mae: 0.1768 - val_loss: 0.0460 - val_mae: 0.1657\n",
      "Epoch 42/100\n",
      "9375/9375 [==============================] - 0s 32us/step - loss: 0.0533 - mae: 0.1762 - val_loss: 0.0462 - val_mae: 0.1658\n",
      "Epoch 43/100\n",
      "9375/9375 [==============================] - 0s 31us/step - loss: 0.0527 - mae: 0.1755 - val_loss: 0.0465 - val_mae: 0.1660\n",
      "Epoch 44/100\n",
      "9375/9375 [==============================] - 0s 32us/step - loss: 0.0527 - mae: 0.1755 - val_loss: 0.0452 - val_mae: 0.1639\n",
      "Epoch 45/100\n",
      "9375/9375 [==============================] - 0s 32us/step - loss: 0.0520 - mae: 0.1738 - val_loss: 0.0454 - val_mae: 0.1639\n",
      "Epoch 46/100\n",
      "9375/9375 [==============================] - 0s 31us/step - loss: 0.0513 - mae: 0.1725 - val_loss: 0.0454 - val_mae: 0.1637\n",
      "Epoch 47/100\n",
      "9375/9375 [==============================] - 0s 31us/step - loss: 0.0510 - mae: 0.1717 - val_loss: 0.0461 - val_mae: 0.1653\n",
      "Epoch 48/100\n",
      "9375/9375 [==============================] - 0s 31us/step - loss: 0.0517 - mae: 0.1728 - val_loss: 0.0467 - val_mae: 0.1657\n",
      "Epoch 49/100\n",
      "9375/9375 [==============================] - 0s 31us/step - loss: 0.0512 - mae: 0.1721 - val_loss: 0.0468 - val_mae: 0.1683\n",
      "Epoch 50/100\n",
      "9375/9375 [==============================] - 0s 31us/step - loss: 0.0499 - mae: 0.1692 - val_loss: 0.0423 - val_mae: 0.1568\n",
      "Epoch 51/100\n",
      "9375/9375 [==============================] - 0s 30us/step - loss: 0.0503 - mae: 0.1703 - val_loss: 0.0479 - val_mae: 0.1674\n",
      "Epoch 52/100\n",
      "9375/9375 [==============================] - 0s 30us/step - loss: 0.0493 - mae: 0.1684 - val_loss: 0.0483 - val_mae: 0.1707\n",
      "Epoch 53/100\n",
      "9375/9375 [==============================] - 0s 32us/step - loss: 0.0493 - mae: 0.1681 - val_loss: 0.0460 - val_mae: 0.1655\n",
      "Epoch 54/100\n",
      "9375/9375 [==============================] - 0s 32us/step - loss: 0.0494 - mae: 0.1684 - val_loss: 0.0423 - val_mae: 0.1583\n",
      "Epoch 55/100\n",
      "9375/9375 [==============================] - 0s 30us/step - loss: 0.0486 - mae: 0.1666 - val_loss: 0.0464 - val_mae: 0.1655\n"
     ]
    },
    {
     "name": "stdout",
     "output_type": "stream",
     "text": [
      "Epoch 56/100\n",
      "9375/9375 [==============================] - 0s 31us/step - loss: 0.0483 - mae: 0.1662 - val_loss: 0.0414 - val_mae: 0.1535\n",
      "Epoch 57/100\n",
      "9375/9375 [==============================] - 0s 30us/step - loss: 0.0480 - mae: 0.1655 - val_loss: 0.0427 - val_mae: 0.1578\n",
      "Epoch 58/100\n",
      "9375/9375 [==============================] - 0s 32us/step - loss: 0.0483 - mae: 0.1657 - val_loss: 0.0428 - val_mae: 0.1584\n",
      "Epoch 59/100\n",
      "9375/9375 [==============================] - 0s 30us/step - loss: 0.0483 - mae: 0.1659 - val_loss: 0.0475 - val_mae: 0.1678\n",
      "Epoch 60/100\n",
      "9375/9375 [==============================] - 0s 33us/step - loss: 0.0478 - mae: 0.1650 - val_loss: 0.0427 - val_mae: 0.1572\n",
      "Epoch 61/100\n",
      "9375/9375 [==============================] - 0s 32us/step - loss: 0.0468 - mae: 0.1629 - val_loss: 0.0454 - val_mae: 0.1639\n",
      "Epoch 62/100\n",
      "9375/9375 [==============================] - 0s 30us/step - loss: 0.0469 - mae: 0.1632 - val_loss: 0.0451 - val_mae: 0.1619\n",
      "Epoch 63/100\n",
      "9375/9375 [==============================] - 0s 33us/step - loss: 0.0471 - mae: 0.1638 - val_loss: 0.0437 - val_mae: 0.1603\n",
      "Epoch 64/100\n",
      "9375/9375 [==============================] - 0s 31us/step - loss: 0.0462 - mae: 0.1622 - val_loss: 0.0419 - val_mae: 0.1563\n",
      "Epoch 65/100\n",
      "9375/9375 [==============================] - 0s 30us/step - loss: 0.0458 - mae: 0.1610 - val_loss: 0.0473 - val_mae: 0.1684\n",
      "Epoch 66/100\n",
      "9375/9375 [==============================] - 0s 30us/step - loss: 0.0455 - mae: 0.1608 - val_loss: 0.0446 - val_mae: 0.1621\n",
      "Epoch 67/100\n",
      "9375/9375 [==============================] - 0s 38us/step - loss: 0.0450 - mae: 0.1594 - val_loss: 0.0447 - val_mae: 0.1619\n",
      "Epoch 68/100\n",
      "9375/9375 [==============================] - 0s 30us/step - loss: 0.0442 - mae: 0.1582 - val_loss: 0.0421 - val_mae: 0.1565\n",
      "Epoch 69/100\n",
      "9375/9375 [==============================] - 0s 30us/step - loss: 0.0436 - mae: 0.1568 - val_loss: 0.0423 - val_mae: 0.1559\n",
      "Epoch 70/100\n",
      "9375/9375 [==============================] - 0s 31us/step - loss: 0.0433 - mae: 0.1561 - val_loss: 0.0430 - val_mae: 0.1585\n",
      "Epoch 71/100\n",
      "9375/9375 [==============================] - 0s 30us/step - loss: 0.0431 - mae: 0.1556 - val_loss: 0.0408 - val_mae: 0.1537\n",
      "Epoch 72/100\n",
      "9375/9375 [==============================] - 0s 33us/step - loss: 0.0423 - mae: 0.1541 - val_loss: 0.0503 - val_mae: 0.1718\n",
      "Epoch 73/100\n",
      "9375/9375 [==============================] - 0s 31us/step - loss: 0.0423 - mae: 0.1541 - val_loss: 0.0458 - val_mae: 0.1631\n",
      "Epoch 74/100\n",
      "9375/9375 [==============================] - 0s 31us/step - loss: 0.0409 - mae: 0.1515 - val_loss: 0.0487 - val_mae: 0.1689\n",
      "Epoch 75/100\n",
      "9375/9375 [==============================] - 0s 31us/step - loss: 0.0408 - mae: 0.1508 - val_loss: 0.0467 - val_mae: 0.1674\n",
      "Epoch 76/100\n",
      "9375/9375 [==============================] - 0s 30us/step - loss: 0.0420 - mae: 0.1535 - val_loss: 0.0485 - val_mae: 0.1714\n",
      "Epoch 77/100\n",
      "9375/9375 [==============================] - 0s 37us/step - loss: 0.0410 - mae: 0.1516 - val_loss: 0.0437 - val_mae: 0.1627\n",
      "Epoch 78/100\n",
      "9375/9375 [==============================] - 0s 38us/step - loss: 0.0410 - mae: 0.1512 - val_loss: 0.0429 - val_mae: 0.1610\n",
      "Epoch 79/100\n",
      "9375/9375 [==============================] - 0s 40us/step - loss: 0.0402 - mae: 0.1497 - val_loss: 0.0468 - val_mae: 0.1673\n",
      "Epoch 80/100\n",
      "9375/9375 [==============================] - 0s 37us/step - loss: 0.0402 - mae: 0.1493 - val_loss: 0.0406 - val_mae: 0.1533\n",
      "Epoch 81/100\n",
      "9375/9375 [==============================] - 0s 42us/step - loss: 0.0396 - mae: 0.1485 - val_loss: 0.0506 - val_mae: 0.1753\n",
      "Epoch 82/100\n",
      "9375/9375 [==============================] - 0s 33us/step - loss: 0.0395 - mae: 0.1478 - val_loss: 0.0442 - val_mae: 0.1625\n",
      "Epoch 83/100\n",
      "9375/9375 [==============================] - 0s 33us/step - loss: 0.0391 - mae: 0.1471 - val_loss: 0.0372 - val_mae: 0.1474\n",
      "Epoch 84/100\n",
      "9375/9375 [==============================] - 0s 33us/step - loss: 0.0383 - mae: 0.1454 - val_loss: 0.0373 - val_mae: 0.1456\n",
      "Epoch 85/100\n",
      "9375/9375 [==============================] - 0s 31us/step - loss: 0.0381 - mae: 0.1449 - val_loss: 0.0409 - val_mae: 0.1552\n",
      "Epoch 86/100\n",
      "9375/9375 [==============================] - 0s 32us/step - loss: 0.0394 - mae: 0.1473 - val_loss: 0.0434 - val_mae: 0.1588\n",
      "Epoch 87/100\n",
      "9375/9375 [==============================] - 0s 31us/step - loss: 0.0391 - mae: 0.1466 - val_loss: 0.0465 - val_mae: 0.1657\n",
      "Epoch 88/100\n",
      "9375/9375 [==============================] - 0s 33us/step - loss: 0.0383 - mae: 0.1445 - val_loss: 0.0453 - val_mae: 0.1631\n",
      "Epoch 89/100\n",
      "9375/9375 [==============================] - 0s 31us/step - loss: 0.0378 - mae: 0.1439 - val_loss: 0.0379 - val_mae: 0.1462\n",
      "Epoch 90/100\n",
      "9375/9375 [==============================] - 0s 32us/step - loss: 0.0379 - mae: 0.1439 - val_loss: 0.0415 - val_mae: 0.1542\n",
      "Epoch 91/100\n",
      "9375/9375 [==============================] - 0s 31us/step - loss: 0.0374 - mae: 0.1431 - val_loss: 0.0401 - val_mae: 0.1523\n",
      "Epoch 92/100\n",
      "9375/9375 [==============================] - 0s 30us/step - loss: 0.0374 - mae: 0.1430 - val_loss: 0.0455 - val_mae: 0.1649\n",
      "Epoch 93/100\n",
      "9375/9375 [==============================] - 0s 32us/step - loss: 0.0375 - mae: 0.1427 - val_loss: 0.0434 - val_mae: 0.1589\n",
      "Epoch 94/100\n",
      "9375/9375 [==============================] - 0s 32us/step - loss: 0.0372 - mae: 0.1417 - val_loss: 0.0467 - val_mae: 0.1639\n",
      "Epoch 95/100\n",
      "9375/9375 [==============================] - 0s 32us/step - loss: 0.0381 - mae: 0.1441 - val_loss: 0.0362 - val_mae: 0.1400\n",
      "Epoch 96/100\n",
      "9375/9375 [==============================] - 0s 30us/step - loss: 0.0373 - mae: 0.1423 - val_loss: 0.0453 - val_mae: 0.1597\n",
      "Epoch 97/100\n",
      "9375/9375 [==============================] - 0s 30us/step - loss: 0.0373 - mae: 0.1428 - val_loss: 0.0370 - val_mae: 0.1439\n",
      "Epoch 98/100\n",
      "9375/9375 [==============================] - 0s 30us/step - loss: 0.0374 - mae: 0.1427 - val_loss: 0.0368 - val_mae: 0.1408\n",
      "Epoch 99/100\n",
      "9375/9375 [==============================] - 0s 31us/step - loss: 0.0375 - mae: 0.1426 - val_loss: 0.0377 - val_mae: 0.1440\n",
      "Epoch 100/100\n",
      "9375/9375 [==============================] - 0s 30us/step - loss: 0.0370 - mae: 0.1414 - val_loss: 0.0392 - val_mae: 0.1467\n"
     ]
    }
   ],
   "source": [
    "HYPERPARAMETERS = {'depth': 6, 'width': 64, 'reduction_factor':  0.9}\n",
    "import tensorflow as tf\n",
    "with tf.device('/cpu:0'):\n",
    "    model = model_builder(9, 18)(**HYPERPARAMETERS)\n",
    "    hist = model.fit(x_train_1, q_train_1, epochs = 100, batch_size = 128, verbose = 1, validation_data=(IOD_x_test, IOD_q_test))\n",
    "    model.save(\"ik-rh5-leg-5steps_dropconnect_OOD.h5\")"
   ]
  },
  {
   "cell_type": "code",
   "execution_count": 8,
   "metadata": {},
   "outputs": [
    {
     "data": {
      "text/plain": [
       "<matplotlib.legend.Legend at 0x7fa01064a278>"
      ]
     },
     "execution_count": 8,
     "metadata": {},
     "output_type": "execute_result"
    },
    {
     "data": {
      "image/png": "[encoded data removed]",
      "text/plain": [
       "<matplotlib.figure.Figure at 0x7fa0107da208>"
      ]
     },
     "metadata": {
      "needs_background": "light"
     },
     "output_type": "display_data"
    }
   ],
   "source": [
    "epoch  = list(range(0, 100, 1))\n",
    "#print(epoch)\n",
    "#print(hist.history['loss'])\n",
    "plt.figure()\n",
    "plt.plot( epoch, hist.history['loss'],     label = 'Loss')\n",
    "plt.plot( epoch, hist.history['mae'],      label = 'MAE')\n",
    "plt.plot( epoch, hist.history['val_loss'], label = 'val_loss')\n",
    "plt.plot( epoch, hist.history['val_mae'],  label = 'val_mae')\n",
    "plt.xlabel(\"Number of Epochs\")\n",
    "plt.ylabel(\"Error\")\n",
    "plt.legend(loc='upper right')\n"
   ]
  },
  {
   "cell_type": "code",
   "execution_count": 9,
   "metadata": {},
   "outputs": [
    {
     "name": "stdout",
     "output_type": "stream",
     "text": [
      "Testing MAE: 0.21192\n",
      "Q feature 0 has unnorm MAE: 0.3641 (Range -0.7330 to 0.4398) normalized MAE: 0.3105\n",
      "Q feature 1 has unnorm MAE: 0.2932 (Range -0.3840 to 0.5792) normalized MAE: 0.3044\n",
      "Q feature 2 has unnorm MAE: 0.1889 (Range -0.8200 to -0.0680) normalized MAE: 0.2511\n",
      "Q feature 3 has unnorm MAE: 0.1905 (Range -0.8381 to -0.0792) normalized MAE: 0.2510\n",
      "Q feature 4 has unnorm MAE: 0.0211 (Range 0.0070 to 0.0907) normalized MAE: 0.2522\n",
      "Q feature 5 has unnorm MAE: 0.0582 (Range 0.0000 to 1.0000) normalized MAE: 0.0582\n",
      "Q feature 6 has unnorm MAE: 0.0054 (Range -0.0822 to 0.0000) normalized MAE: 0.0659\n",
      "Q feature 7 has unnorm MAE: 0.0044 (Range 0.0000 to 0.0782) normalized MAE: 0.0562\n",
      "Q feature 8 has unnorm MAE: 0.2312 (Range -0.7850 to -0.1570) normalized MAE: 0.3681\n",
      "Q feature 9 has unnorm MAE: 0.1966 (Range -0.7850 to 0.4710) normalized MAE: 0.1565\n",
      "Q feature 10 has unnorm MAE: 0.2471 (Range 0.1543 to 0.8678) normalized MAE: 0.3463\n",
      "Q feature 11 has unnorm MAE: 0.2506 (Range 0.1576 to 0.9404) normalized MAE: 0.3202\n",
      "Q feature 12 has unnorm MAE: 0.0343 (Range -0.0304 to 0.1694) normalized MAE: 0.1714\n",
      "Q feature 13 has unnorm MAE: 0.0154 (Range -0.0687 to 0.0019) normalized MAE: 0.2186\n",
      "Q feature 14 has unnorm MAE: 0.0197 (Range -0.0245 to 0.0678) normalized MAE: 0.2134\n",
      "Q feature 15 has unnorm MAE: 0.0387 (Range -0.1222 to 0.1126) normalized MAE: 0.1648\n",
      "Q feature 16 has unnorm MAE: 0.0163 (Range -0.0639 to 0.0249) normalized MAE: 0.1837\n",
      "Q feature 17 has unnorm MAE: 0.0124 (Range -0.0510 to 0.0510) normalized MAE: 0.1219\n"
     ]
    }
   ],
   "source": [
    "q_pred = model.predict(x_test, verbose=0)\n",
    "q_unnorm = q_scaler.inverse_transform(q_test)\n",
    "q_pred_unnorm = q_scaler.inverse_transform(q_pred)\n",
    "\n",
    "global_mae = mean_absolute_error(q_test, q_pred)\n",
    "\n",
    "print(\"Testing MAE: {:.5f}\".format(global_mae))\n",
    "\n",
    "# Compute MAE for each output independently.\n",
    "for i in range(q_test.shape[1]):\n",
    "    norm_mae_i = mean_absolute_error(q_test[:, i], q_pred[:, i])\n",
    "    mae_i = mean_absolute_error(q_unnorm[:, i], q_pred_unnorm[:, i])\n",
    "    print(\"Q feature {} has unnorm MAE: {:.4f} (Range {:.4f} to {:.4f}) normalized MAE: {:.4f}\".format(i, mae_i, q_scaler.data_min_[i], q_scaler.data_max_[i], norm_mae_i))\n",
    "\n"
   ]
  },
  {
   "cell_type": "code",
   "execution_count": 10,
   "metadata": {
    "scrolled": true
   },
   "outputs": [
    {
     "name": "stdout",
     "output_type": "stream",
     "text": [
      "Testing MAE: 0.37171\n"
     ]
    }
   ],
   "source": [
    "from keras.layers import Dense, Dropout\n",
    "from tensorflow.keras.models import load_model\n",
    "from keras_uncertainty.models import MCDropoutRegressor\n",
    "from sklearn.preprocessing import MinMaxScaler\n",
    "\n",
    "def test_mcdropconnect_regressor(x_test_values, q_test_values, model, data_scaler):   \n",
    "    mc_model = MCDropoutRegressor(model)\n",
    "    inp = x_test_values  \n",
    "    \n",
    "    mean, std = mc_model.predict(inp, num_samples = 10)\n",
    "    \n",
    "    q_pred_unnormalised = data_scaler.inverse_transform(mean)\n",
    "    \n",
    "    #q_sd_unnromalised = data_scaler.inverse_transform(std)\n",
    "    \n",
    "    global_mae = mean_absolute_error(q_test_values, mean)\n",
    "\n",
    "    print(\"Testing MAE: {:.5f}\".format(global_mae))\n",
    "\n",
    "    return q_pred_unnormalised, std\n",
    "\n",
    "mean_1, std_1 = test_mcdropconnect_regressor(x_test, q_test, model, q_scaler)\n",
    "\n",
    "q_test_unorm = q_scaler.inverse_transform(q_test)\n",
    "    "
   ]
  },
  {
   "cell_type": "code",
   "execution_count": 11,
   "metadata": {},
   "outputs": [
    {
     "name": "stdout",
     "output_type": "stream",
     "text": [
      "Testing MAE: 0.31423\n",
      "NLL: 18.87617\n"
     ]
    }
   ],
   "source": [
    "mean_test_IOD, sd_test_IOD = test_mcdropconnect_regressor(IOD_x_test, IOD_q_test, model, q_scaler)\n",
    "q_test_unorm = q_scaler.inverse_transform(IOD_q_test)\n",
    "print(\"NLL: {:.5f}\".format(numpy_regression_nll(q_test_unorm, mean_test_IOD, sd_test_IOD**2)))"
   ]
  },
  {
   "cell_type": "code",
   "execution_count": 12,
   "metadata": {},
   "outputs": [
    {
     "name": "stdout",
     "output_type": "stream",
     "text": [
      "Testing MAE: 0.44213\n",
      "NLL: 24.96743\n"
     ]
    }
   ],
   "source": [
    "mean_test_OOD, sd_test_OOD = test_mcdropconnect_regressor(OOD_x_test, OOD_q_test, model, q_scaler)\n",
    "q_test_unorm = q_scaler.inverse_transform(OOD_q_test)\n",
    "print(\"NLL: {:.5f}\".format(numpy_regression_nll(q_test_unorm, mean_test_OOD, sd_test_OOD**2)))"
   ]
  },
  {
   "cell_type": "code",
   "execution_count": 13,
   "metadata": {},
   "outputs": [
    {
     "name": "stdout",
     "output_type": "stream",
     "text": [
      "0.061941043\n",
      "0.0050457553\n"
     ]
    },
    {
     "data": {
      "text/plain": [
       "Text(0,0.5,'Number of samples')"
      ]
     },
     "execution_count": 13,
     "metadata": {},
     "output_type": "execute_result"
    },
    {
     "data": {
      "image/png": "[encoded data removed]",
      "text/plain": [
       "<matplotlib.figure.Figure at 0x7fa0105c0c18>"
      ]
     },
     "metadata": {
      "needs_background": "light"
     },
     "output_type": "display_data"
    }
   ],
   "source": [
    "sd_test_IOD_df = pd.DataFrame(sd_test_IOD)\n",
    "sd_test_OOD_df = pd.DataFrame(sd_test_OOD)\n",
    "new_scores = np.concatenate([sd_test_IOD_df[0], sd_test_OOD_df[0]], axis=0)\n",
    "new_labels = np.concatenate([np.zeros_like(sd_test_IOD_df[0]), np.ones_like(sd_test_OOD_df[0])], axis=0)\n",
    "histogram_df = pd.DataFrame(new_scores, new_labels)\n",
    "print(new_scores.max())\n",
    "print(new_scores.min())\n",
    "import matplotlib.pyplot as plt\n",
    "fig, ax = plt.subplots()\n",
    "\n",
    "a_heights, a_bins = np.histogram(sd_test_IOD_df[0])\n",
    "b_heights, b_bins = np.histogram(sd_test_OOD_df[0], bins=a_bins)\n",
    "\n",
    "width = (a_bins[1] - a_bins[0])/3\n",
    "\n",
    "ax.bar(a_bins[:-1], a_heights, width = width, facecolor='blue',label=\"IOD SD\")\n",
    "ax.bar(b_bins[:-1]+width, b_heights, width = width, facecolor='red', label=\"OOD SD\")\n",
    "ax.legend()\n",
    "ax.set_xlabel(\"Standard Deviation Values\")\n",
    "ax.set_ylabel(\"Number of samples\")\n"
   ]
  },
  {
   "cell_type": "code",
   "execution_count": 14,
   "metadata": {},
   "outputs": [
    {
     "name": "stdout",
     "output_type": "stream",
     "text": [
      "0.5300677163260323\n"
     ]
    },
    {
     "data": {
      "image/png": "[encoded data removed]",
      "text/plain": [
       "<matplotlib.figure.Figure at 0x7fa0107eefd0>"
      ]
     },
     "metadata": {
      "needs_background": "light"
     },
     "output_type": "display_data"
    }
   ],
   "source": [
    "from sklearn.metrics import roc_curve, roc_auc_score\n",
    "\n",
    "norm_scores = new_scores - min(new_scores) / (max(new_scores) - min(new_scores))\n",
    "\n",
    "auc = roc_auc_score(new_labels, new_scores)\n",
    "fpr, tpr, threshs = roc_curve(new_labels, norm_scores, drop_intermediate=True)\n",
    "print(auc)\n",
    "\n",
    "plt.title('Receiver Operating Characteristic')\n",
    "plt.plot(fpr, tpr)\n",
    "plt.show()\n"
   ]
  },
  {
   "cell_type": "code",
   "execution_count": null,
   "metadata": {},
   "outputs": [],
   "source": []
  }
 ],
 "metadata": {
  "kernelspec": {
   "display_name": "Python 3",
   "language": "python",
   "name": "python3"
  },
  "language_info": {
   "codemirror_mode": {
    "name": "ipython",
    "version": 3
   },
   "file_extension": ".py",
   "mimetype": "text/x-python",
   "name": "python",
   "nbconvert_exporter": "python",
   "pygments_lexer": "ipython3",
   "version": "3.6.9"
  }
 },
 "nbformat": 4,
 "nbformat_minor": 4
}
