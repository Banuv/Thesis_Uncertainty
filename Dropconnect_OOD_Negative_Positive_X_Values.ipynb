{
 "cells": [
  {
   "cell_type": "code",
   "execution_count": 1,
   "metadata": {},
   "outputs": [
    {
     "name": "stderr",
     "output_type": "stream",
     "text": [
      "/home/dfki.uni-bremen.de/bmanickavasakan/.local/lib/python3.6/site-packages/tensorflow/python/framework/dtypes.py:526: FutureWarning: Passing (type, 1) or '1type' as a synonym of type is deprecated; in a future version of numpy, it will be understood as (type, (1,)) / '(1,)type'.\n",
      "  _np_qint8 = np.dtype([(\"qint8\", np.int8, 1)])\n",
      "/home/dfki.uni-bremen.de/bmanickavasakan/.local/lib/python3.6/site-packages/tensorflow/python/framework/dtypes.py:527: FutureWarning: Passing (type, 1) or '1type' as a synonym of type is deprecated; in a future version of numpy, it will be understood as (type, (1,)) / '(1,)type'.\n",
      "  _np_quint8 = np.dtype([(\"quint8\", np.uint8, 1)])\n",
      "/home/dfki.uni-bremen.de/bmanickavasakan/.local/lib/python3.6/site-packages/tensorflow/python/framework/dtypes.py:528: FutureWarning: Passing (type, 1) or '1type' as a synonym of type is deprecated; in a future version of numpy, it will be understood as (type, (1,)) / '(1,)type'.\n",
      "  _np_qint16 = np.dtype([(\"qint16\", np.int16, 1)])\n",
      "/home/dfki.uni-bremen.de/bmanickavasakan/.local/lib/python3.6/site-packages/tensorflow/python/framework/dtypes.py:529: FutureWarning: Passing (type, 1) or '1type' as a synonym of type is deprecated; in a future version of numpy, it will be understood as (type, (1,)) / '(1,)type'.\n",
      "  _np_quint16 = np.dtype([(\"quint16\", np.uint16, 1)])\n",
      "/home/dfki.uni-bremen.de/bmanickavasakan/.local/lib/python3.6/site-packages/tensorflow/python/framework/dtypes.py:530: FutureWarning: Passing (type, 1) or '1type' as a synonym of type is deprecated; in a future version of numpy, it will be understood as (type, (1,)) / '(1,)type'.\n",
      "  _np_qint32 = np.dtype([(\"qint32\", np.int32, 1)])\n",
      "/home/dfki.uni-bremen.de/bmanickavasakan/.local/lib/python3.6/site-packages/tensorflow/python/framework/dtypes.py:535: FutureWarning: Passing (type, 1) or '1type' as a synonym of type is deprecated; in a future version of numpy, it will be understood as (type, (1,)) / '(1,)type'.\n",
      "  np_resource = np.dtype([(\"resource\", np.ubyte, 1)])\n",
      "Using TensorFlow backend.\n"
     ]
    }
   ],
   "source": [
    "from __future__ import print_function\n",
    "\n",
    "import sys, os\n",
    "os.environ[\"CUDA_VISIBLE_DEVICES\"] = \"-1\"\n",
    "import tensorflow.keras\n",
    "import pandas as pd\n",
    "import numpy as np\n",
    "import sklearn\n",
    "import keras\n",
    "import csv\n",
    "\n",
    "import keras_uncertainty\n",
    "from keras_uncertainty.utils import numpy_negative_log_likelihood, numpy_entropy\n",
    "from keras_uncertainty.layers import DropConnectConv2D, DropConnectDense\n",
    "from keras_uncertainty.models import MCDropoutClassifier\n",
    "from keras_uncertainty.utils import numpy_regression_nll\n",
    "\n",
    "import keras.backend as K\n",
    "from keras.layers import Input, Dense, Conv2D, MaxPooling2D, Dropout, Flatten, BatchNormalization\n",
    "from keras.models import Model, Sequential\n",
    "from keras.utils import to_categorical\n",
    "from sklearn.metrics import accuracy_score\n",
    "\n",
    "import matplotlib.pyplot as plt\n"
   ]
  },
  {
   "cell_type": "code",
   "execution_count": 2,
   "metadata": {},
   "outputs": [],
   "source": [
    "def load_joint_space_csv_chunks(file_path):\n",
    "    data_frame = pd.read_csv(file_path, skiprows=1, header=None)\n",
    "    del data_frame[18]\n",
    "    #print(data_frame.head(10))\n",
    "    return data_frame\n",
    "\n",
    "def load_task_space_csv_chunks(file_path):\n",
    "    return pd.read_csv(file_path, skiprows=1, header=None)\n"
   ]
  },
  {
   "cell_type": "code",
   "execution_count": 3,
   "metadata": {
    "scrolled": false
   },
   "outputs": [],
   "source": [
    "from sklearn.preprocessing import MinMaxScaler\n",
    "from sklearn.metrics import mean_absolute_error\n",
    "from sklearn.model_selection import train_test_split\n",
    "\n",
    "TRAIN_FOLDER = '/home/dfki.uni-bremen.de/bmanickavasakan/newdataset_rh5_leg/leg_5steps/'\n",
    "TEST_FOLDER = '/home/dfki.uni-bremen.de/bmanickavasakan/newdataset_rh5_leg/leg_5steps/test_4steps'\n",
    "\n",
    "X_TRAIN_FILE = os.path.join(TRAIN_FOLDER, 'leg_forwardkinematics_x.csv')\n",
    "Q_TRAIN_FILE = os.path.join(TRAIN_FOLDER, 'leg_sysstate_q.csv')\n",
    "\n",
    "X_TEST_FILE = os.path.join(TEST_FOLDER, 'leg_forwardkinematics_x.csv')\n",
    "Q_TEST_FILE = os.path.join(TEST_FOLDER, 'leg_sysstate_q.csv')\n",
    "\n",
    "x_train = load_task_space_csv_chunks(X_TRAIN_FILE)\n",
    "q_train = load_joint_space_csv_chunks(Q_TRAIN_FILE)\n",
    "\n",
    "x_test = load_task_space_csv_chunks(X_TEST_FILE)\n",
    "q_test = load_joint_space_csv_chunks(Q_TEST_FILE)\n",
    "\n",
    "\n"
   ]
  },
  {
   "cell_type": "code",
   "execution_count": 4,
   "metadata": {},
   "outputs": [],
   "source": [
    "\n",
    "value = 0\n",
    "\n",
    "InDistribution_Q_Train =  q_train[x_train[0] > value]\n",
    "OutDistribution_Q_Train = q_train[x_train[0] < value]\n",
    "InDistribution_X_Train =  x_train[x_train[0] > value]\n",
    "OutDistribution_X_Train = x_train[x_train[0] < value]\n",
    "\n",
    "InDistribution_Q_Test =  q_test[x_test[0] > value]\n",
    "OutDistribution_Q_Test = q_test[x_test[0] < value]\n",
    "InDistribution_X_Test =  x_test[x_test[0] > value]\n",
    "OutDistribution_X_Test = x_test[x_test[0] < value]\n",
    "\n",
    "x_train_1 = InDistribution_X_Train\n",
    "q_train_1 = InDistribution_Q_Train\n",
    "x_test_1 = InDistribution_X_Test\n",
    "q_test_1 = InDistribution_Q_Test\n",
    "\n",
    "OOD_x_train = OutDistribution_X_Train\n",
    "OOD_q_train = OutDistribution_Q_Train\n",
    "OOD_x_test = OutDistribution_X_Test\n",
    "OOD_q_test = OutDistribution_Q_Test"
   ]
  },
  {
   "cell_type": "code",
   "execution_count": 5,
   "metadata": {},
   "outputs": [
    {
     "name": "stdout",
     "output_type": "stream",
     "text": [
      "(5226, 9) (1485, 9) (15625, 9) (4096, 9)\n"
     ]
    }
   ],
   "source": [
    "print(x_train_1.shape, x_test_1.shape, x_train.shape, x_test.shape)"
   ]
  },
  {
   "cell_type": "code",
   "execution_count": 6,
   "metadata": {},
   "outputs": [],
   "source": [
    "\n",
    "x_scaler = MinMaxScaler()\n",
    "q_scaler = MinMaxScaler()\n",
    "\n",
    "#In order training set\n",
    "x_train_1 = x_scaler.fit_transform(x_train_1)\n",
    "q_train_1 = q_scaler.fit_transform(q_train_1)\n",
    "\n",
    "#complete test set\n",
    "x_test = x_scaler.transform(x_test)\n",
    "q_test = q_scaler.transform(q_test)\n",
    "\n",
    "#split testing data\n",
    "IOD_x_test = x_scaler.transform(x_test_1)\n",
    "IOD_q_test = q_scaler.transform(q_test_1)\n",
    "\n",
    "OOD_x_test = x_scaler.transform(OOD_x_test)\n",
    "OOD_q_test = q_scaler.transform(OOD_q_test)"
   ]
  },
  {
   "cell_type": "code",
   "execution_count": 30,
   "metadata": {},
   "outputs": [],
   "source": [
    "def model_builder(input_shape, output_shape):\n",
    "    def build_model(depth, width, reduction_factor):\n",
    "        model = Sequential()\n",
    "        \n",
    "\n",
    "        for i in range(depth):\n",
    "            num_neurons = max(int(width * (reduction_factor ** i)), 4)\n",
    "            if i == 0:\n",
    "                model.add(DropConnectDense(num_neurons, activation='relu', input_shape=(input_shape,), prob=0.4))\n",
    "            else:\n",
    "                model.add(DropConnectDense(num_neurons, activation='relu', prob=0.4))\n",
    "\n",
    "            model.add(BatchNormalization())\n",
    "            #num_neurons= num_neurons + 32\n",
    "            Flatten()\n",
    "\n",
    "        model.add(DropConnectDense(output_shape, activation='sigmoid', prob=0.4))\n",
    "        model.compile(loss='mse', optimizer='adam', metrics=[\"mae\"])\n",
    "\n",
    "        return model\n",
    "    return build_model\n"
   ]
  },
  {
   "cell_type": "code",
   "execution_count": 31,
   "metadata": {
    "scrolled": true
   },
   "outputs": [
    {
     "name": "stdout",
     "output_type": "stream",
     "text": [
      "Train on 5226 samples, validate on 1485 samples\n",
      "Epoch 1/100\n",
      "5226/5226 [==============================] - 1s 254us/step - loss: 0.1728 - mae: 0.3408 - val_loss: 0.1078 - val_mae: 0.2853\n",
      "Epoch 2/100\n",
      "5226/5226 [==============================] - 0s 38us/step - loss: 0.1546 - mae: 0.3226 - val_loss: 0.1057 - val_mae: 0.2811\n",
      "Epoch 3/100\n",
      "5226/5226 [==============================] - 0s 38us/step - loss: 0.1432 - mae: 0.3099 - val_loss: 0.1036 - val_mae: 0.2764\n",
      "Epoch 4/100\n",
      "5226/5226 [==============================] - 0s 39us/step - loss: 0.1322 - mae: 0.2978 - val_loss: 0.1024 - val_mae: 0.2735\n",
      "Epoch 5/100\n",
      "5226/5226 [==============================] - 0s 40us/step - loss: 0.1203 - mae: 0.2841 - val_loss: 0.1011 - val_mae: 0.2710\n",
      "Epoch 6/100\n",
      "5226/5226 [==============================] - 0s 38us/step - loss: 0.1106 - mae: 0.2722 - val_loss: 0.0993 - val_mae: 0.2673\n",
      "Epoch 7/100\n",
      "5226/5226 [==============================] - 0s 38us/step - loss: 0.1032 - mae: 0.2628 - val_loss: 0.0962 - val_mae: 0.2615\n",
      "Epoch 8/100\n",
      "5226/5226 [==============================] - 0s 39us/step - loss: 0.0958 - mae: 0.2534 - val_loss: 0.0897 - val_mae: 0.2520\n",
      "Epoch 9/100\n",
      "5226/5226 [==============================] - 0s 39us/step - loss: 0.0892 - mae: 0.2436 - val_loss: 0.0769 - val_mae: 0.2343\n",
      "Epoch 10/100\n",
      "5226/5226 [==============================] - 0s 38us/step - loss: 0.0830 - mae: 0.2345 - val_loss: 0.0647 - val_mae: 0.2140\n",
      "Epoch 11/100\n",
      "5226/5226 [==============================] - 0s 39us/step - loss: 0.0777 - mae: 0.2260 - val_loss: 0.0573 - val_mae: 0.1990\n",
      "Epoch 12/100\n",
      "5226/5226 [==============================] - 0s 37us/step - loss: 0.0751 - mae: 0.2219 - val_loss: 0.0525 - val_mae: 0.1882\n",
      "Epoch 13/100\n",
      "5226/5226 [==============================] - 0s 38us/step - loss: 0.0700 - mae: 0.2134 - val_loss: 0.0496 - val_mae: 0.1815\n",
      "Epoch 14/100\n",
      "5226/5226 [==============================] - 0s 39us/step - loss: 0.0670 - mae: 0.2087 - val_loss: 0.0477 - val_mae: 0.1773\n",
      "Epoch 15/100\n",
      "5226/5226 [==============================] - 0s 39us/step - loss: 0.0651 - mae: 0.2048 - val_loss: 0.0443 - val_mae: 0.1694\n",
      "Epoch 16/100\n",
      "5226/5226 [==============================] - 0s 40us/step - loss: 0.0632 - mae: 0.2015 - val_loss: 0.0429 - val_mae: 0.1659\n",
      "Epoch 17/100\n",
      "5226/5226 [==============================] - 0s 37us/step - loss: 0.0605 - mae: 0.1971 - val_loss: 0.0409 - val_mae: 0.1619\n",
      "Epoch 18/100\n",
      "5226/5226 [==============================] - 0s 38us/step - loss: 0.0583 - mae: 0.1934 - val_loss: 0.0397 - val_mae: 0.1596\n",
      "Epoch 19/100\n",
      "5226/5226 [==============================] - 0s 38us/step - loss: 0.0573 - mae: 0.1913 - val_loss: 0.0387 - val_mae: 0.1576\n",
      "Epoch 20/100\n",
      "5226/5226 [==============================] - 0s 39us/step - loss: 0.0563 - mae: 0.1895 - val_loss: 0.0378 - val_mae: 0.1557\n",
      "Epoch 21/100\n",
      "5226/5226 [==============================] - 0s 37us/step - loss: 0.0548 - mae: 0.1866 - val_loss: 0.0364 - val_mae: 0.1517\n",
      "Epoch 22/100\n",
      "5226/5226 [==============================] - 0s 38us/step - loss: 0.0534 - mae: 0.1845 - val_loss: 0.0359 - val_mae: 0.1511\n",
      "Epoch 23/100\n",
      "5226/5226 [==============================] - 0s 38us/step - loss: 0.0519 - mae: 0.1809 - val_loss: 0.0341 - val_mae: 0.1469\n",
      "Epoch 24/100\n",
      "5226/5226 [==============================] - 0s 37us/step - loss: 0.0500 - mae: 0.1780 - val_loss: 0.0321 - val_mae: 0.1419\n",
      "Epoch 25/100\n",
      "5226/5226 [==============================] - 0s 39us/step - loss: 0.0498 - mae: 0.1775 - val_loss: 0.0311 - val_mae: 0.1401\n",
      "Epoch 26/100\n",
      "5226/5226 [==============================] - 0s 38us/step - loss: 0.0475 - mae: 0.1737 - val_loss: 0.0293 - val_mae: 0.1354\n",
      "Epoch 27/100\n",
      "5226/5226 [==============================] - 0s 38us/step - loss: 0.0470 - mae: 0.1719 - val_loss: 0.0280 - val_mae: 0.1328\n",
      "Epoch 28/100\n",
      "5226/5226 [==============================] - 0s 38us/step - loss: 0.0465 - mae: 0.1708 - val_loss: 0.0273 - val_mae: 0.1311\n",
      "Epoch 29/100\n",
      "5226/5226 [==============================] - 0s 37us/step - loss: 0.0442 - mae: 0.1667 - val_loss: 0.0273 - val_mae: 0.1313\n",
      "Epoch 30/100\n",
      "5226/5226 [==============================] - 0s 37us/step - loss: 0.0426 - mae: 0.1635 - val_loss: 0.0246 - val_mae: 0.1236\n",
      "Epoch 31/100\n",
      "5226/5226 [==============================] - 0s 38us/step - loss: 0.0429 - mae: 0.1633 - val_loss: 0.0245 - val_mae: 0.1238\n",
      "Epoch 32/100\n",
      "5226/5226 [==============================] - 0s 38us/step - loss: 0.0422 - mae: 0.1620 - val_loss: 0.0243 - val_mae: 0.1229\n",
      "Epoch 33/100\n",
      "5226/5226 [==============================] - 0s 39us/step - loss: 0.0408 - mae: 0.1597 - val_loss: 0.0242 - val_mae: 0.1216\n",
      "Epoch 34/100\n",
      "5226/5226 [==============================] - 0s 38us/step - loss: 0.0412 - mae: 0.1601 - val_loss: 0.0235 - val_mae: 0.1200\n",
      "Epoch 35/100\n",
      "5226/5226 [==============================] - 0s 38us/step - loss: 0.0403 - mae: 0.1582 - val_loss: 0.0225 - val_mae: 0.1173\n",
      "Epoch 36/100\n",
      "5226/5226 [==============================] - 0s 39us/step - loss: 0.0390 - mae: 0.1559 - val_loss: 0.0224 - val_mae: 0.1173\n",
      "Epoch 37/100\n",
      "5226/5226 [==============================] - 0s 40us/step - loss: 0.0390 - mae: 0.1554 - val_loss: 0.0217 - val_mae: 0.1156\n",
      "Epoch 38/100\n",
      "5226/5226 [==============================] - 0s 37us/step - loss: 0.0387 - mae: 0.1539 - val_loss: 0.0230 - val_mae: 0.1198\n",
      "Epoch 39/100\n",
      "5226/5226 [==============================] - 0s 38us/step - loss: 0.0379 - mae: 0.1528 - val_loss: 0.0213 - val_mae: 0.1140\n",
      "Epoch 40/100\n",
      "5226/5226 [==============================] - 0s 38us/step - loss: 0.0383 - mae: 0.1538 - val_loss: 0.0222 - val_mae: 0.1171\n",
      "Epoch 41/100\n",
      "5226/5226 [==============================] - 0s 38us/step - loss: 0.0364 - mae: 0.1499 - val_loss: 0.0216 - val_mae: 0.1154\n",
      "Epoch 42/100\n",
      "5226/5226 [==============================] - 0s 37us/step - loss: 0.0362 - mae: 0.1489 - val_loss: 0.0206 - val_mae: 0.1117\n",
      "Epoch 43/100\n",
      "5226/5226 [==============================] - 0s 38us/step - loss: 0.0364 - mae: 0.1495 - val_loss: 0.0192 - val_mae: 0.1066\n",
      "Epoch 44/100\n",
      "5226/5226 [==============================] - 0s 38us/step - loss: 0.0359 - mae: 0.1482 - val_loss: 0.0187 - val_mae: 0.1047\n",
      "Epoch 45/100\n",
      "5226/5226 [==============================] - 0s 37us/step - loss: 0.0348 - mae: 0.1458 - val_loss: 0.0186 - val_mae: 0.1049\n",
      "Epoch 46/100\n",
      "5226/5226 [==============================] - 0s 39us/step - loss: 0.0355 - mae: 0.1470 - val_loss: 0.0190 - val_mae: 0.1069\n",
      "Epoch 47/100\n",
      "5226/5226 [==============================] - 0s 39us/step - loss: 0.0348 - mae: 0.1459 - val_loss: 0.0189 - val_mae: 0.1064\n",
      "Epoch 48/100\n",
      "5226/5226 [==============================] - 0s 38us/step - loss: 0.0347 - mae: 0.1453 - val_loss: 0.0197 - val_mae: 0.1092\n",
      "Epoch 49/100\n",
      "5226/5226 [==============================] - 0s 40us/step - loss: 0.0344 - mae: 0.1445 - val_loss: 0.0199 - val_mae: 0.1097\n",
      "Epoch 50/100\n",
      "5226/5226 [==============================] - 0s 39us/step - loss: 0.0343 - mae: 0.1445 - val_loss: 0.0204 - val_mae: 0.1112\n",
      "Epoch 51/100\n",
      "5226/5226 [==============================] - 0s 37us/step - loss: 0.0343 - mae: 0.1435 - val_loss: 0.0194 - val_mae: 0.1082\n",
      "Epoch 52/100\n",
      "5226/5226 [==============================] - 0s 37us/step - loss: 0.0332 - mae: 0.1419 - val_loss: 0.0185 - val_mae: 0.1049\n",
      "Epoch 53/100\n",
      "5226/5226 [==============================] - 0s 37us/step - loss: 0.0331 - mae: 0.1417 - val_loss: 0.0190 - val_mae: 0.1073\n",
      "Epoch 54/100\n",
      "5226/5226 [==============================] - 0s 39us/step - loss: 0.0335 - mae: 0.1418 - val_loss: 0.0188 - val_mae: 0.1066\n",
      "Epoch 55/100\n",
      "5226/5226 [==============================] - 0s 38us/step - loss: 0.0334 - mae: 0.1418 - val_loss: 0.0190 - val_mae: 0.1075\n",
      "Epoch 56/100\n",
      "5226/5226 [==============================] - 0s 38us/step - loss: 0.0327 - mae: 0.1404 - val_loss: 0.0174 - val_mae: 0.1007\n",
      "Epoch 57/100\n",
      "5226/5226 [==============================] - 0s 40us/step - loss: 0.0327 - mae: 0.1402 - val_loss: 0.0184 - val_mae: 0.1049\n",
      "Epoch 58/100\n",
      "5226/5226 [==============================] - 0s 38us/step - loss: 0.0326 - mae: 0.1401 - val_loss: 0.0188 - val_mae: 0.1063\n",
      "Epoch 59/100\n",
      "5226/5226 [==============================] - 0s 38us/step - loss: 0.0318 - mae: 0.1380 - val_loss: 0.0196 - val_mae: 0.1087\n",
      "Epoch 60/100\n",
      "5226/5226 [==============================] - 0s 37us/step - loss: 0.0314 - mae: 0.1374 - val_loss: 0.0175 - val_mae: 0.1016\n",
      "Epoch 61/100\n",
      "5226/5226 [==============================] - 0s 38us/step - loss: 0.0319 - mae: 0.1378 - val_loss: 0.0173 - val_mae: 0.1011\n",
      "Epoch 62/100\n",
      "5226/5226 [==============================] - 0s 38us/step - loss: 0.0320 - mae: 0.1380 - val_loss: 0.0172 - val_mae: 0.1010\n",
      "Epoch 63/100\n",
      "5226/5226 [==============================] - 0s 39us/step - loss: 0.0304 - mae: 0.1352 - val_loss: 0.0172 - val_mae: 0.1011\n",
      "Epoch 64/100\n",
      "5226/5226 [==============================] - 0s 38us/step - loss: 0.0312 - mae: 0.1364 - val_loss: 0.0183 - val_mae: 0.1047\n",
      "Epoch 65/100\n",
      "5226/5226 [==============================] - 0s 38us/step - loss: 0.0301 - mae: 0.1336 - val_loss: 0.0171 - val_mae: 0.1007\n",
      "Epoch 66/100\n",
      "5226/5226 [==============================] - 0s 39us/step - loss: 0.0310 - mae: 0.1358 - val_loss: 0.0188 - val_mae: 0.1077\n",
      "Epoch 67/100\n",
      "5226/5226 [==============================] - 0s 41us/step - loss: 0.0318 - mae: 0.1374 - val_loss: 0.0187 - val_mae: 0.1063\n",
      "Epoch 68/100\n",
      "5226/5226 [==============================] - 0s 40us/step - loss: 0.0300 - mae: 0.1338 - val_loss: 0.0189 - val_mae: 0.1070\n",
      "Epoch 69/100\n",
      "5226/5226 [==============================] - 0s 38us/step - loss: 0.0297 - mae: 0.1331 - val_loss: 0.0184 - val_mae: 0.1059\n",
      "Epoch 70/100\n",
      "5226/5226 [==============================] - 0s 39us/step - loss: 0.0300 - mae: 0.1335 - val_loss: 0.0196 - val_mae: 0.1093\n",
      "Epoch 71/100\n",
      "5226/5226 [==============================] - 0s 38us/step - loss: 0.0293 - mae: 0.1318 - val_loss: 0.0185 - val_mae: 0.1058\n",
      "Epoch 72/100\n",
      "5226/5226 [==============================] - 0s 38us/step - loss: 0.0289 - mae: 0.1311 - val_loss: 0.0195 - val_mae: 0.1093\n",
      "Epoch 73/100\n",
      "5226/5226 [==============================] - 0s 37us/step - loss: 0.0291 - mae: 0.1314 - val_loss: 0.0162 - val_mae: 0.0973\n",
      "Epoch 74/100\n",
      "5226/5226 [==============================] - 0s 38us/step - loss: 0.0299 - mae: 0.1335 - val_loss: 0.0202 - val_mae: 0.1114\n",
      "Epoch 75/100\n",
      "5226/5226 [==============================] - 0s 39us/step - loss: 0.0296 - mae: 0.1318 - val_loss: 0.0181 - val_mae: 0.1047\n",
      "Epoch 76/100\n",
      "5226/5226 [==============================] - 0s 38us/step - loss: 0.0287 - mae: 0.1304 - val_loss: 0.0182 - val_mae: 0.1051\n",
      "Epoch 77/100\n",
      "5226/5226 [==============================] - 0s 39us/step - loss: 0.0288 - mae: 0.1300 - val_loss: 0.0174 - val_mae: 0.1025\n",
      "Epoch 78/100\n",
      "5226/5226 [==============================] - 0s 38us/step - loss: 0.0295 - mae: 0.1321 - val_loss: 0.0194 - val_mae: 0.1083\n",
      "Epoch 79/100\n",
      "5226/5226 [==============================] - 0s 39us/step - loss: 0.0289 - mae: 0.1302 - val_loss: 0.0190 - val_mae: 0.1066\n",
      "Epoch 80/100\n",
      "5226/5226 [==============================] - 0s 39us/step - loss: 0.0290 - mae: 0.1305 - val_loss: 0.0181 - val_mae: 0.1044\n",
      "Epoch 81/100\n",
      "5226/5226 [==============================] - 0s 38us/step - loss: 0.0285 - mae: 0.1296 - val_loss: 0.0181 - val_mae: 0.1051\n",
      "Epoch 82/100\n",
      "5226/5226 [==============================] - 0s 39us/step - loss: 0.0292 - mae: 0.1312 - val_loss: 0.0173 - val_mae: 0.1021\n",
      "Epoch 83/100\n",
      "5226/5226 [==============================] - 0s 39us/step - loss: 0.0276 - mae: 0.1273 - val_loss: 0.0171 - val_mae: 0.1015\n",
      "Epoch 84/100\n",
      "5226/5226 [==============================] - 0s 38us/step - loss: 0.0276 - mae: 0.1273 - val_loss: 0.0152 - val_mae: 0.0937\n",
      "Epoch 85/100\n",
      "5226/5226 [==============================] - 0s 38us/step - loss: 0.0277 - mae: 0.1281 - val_loss: 0.0159 - val_mae: 0.0963\n",
      "Epoch 86/100\n",
      "5226/5226 [==============================] - 0s 38us/step - loss: 0.0284 - mae: 0.1290 - val_loss: 0.0167 - val_mae: 0.0989\n",
      "Epoch 87/100\n",
      "5226/5226 [==============================] - 0s 38us/step - loss: 0.0278 - mae: 0.1278 - val_loss: 0.0182 - val_mae: 0.1048\n",
      "Epoch 88/100\n",
      "5226/5226 [==============================] - 0s 37us/step - loss: 0.0279 - mae: 0.1277 - val_loss: 0.0177 - val_mae: 0.1030\n",
      "Epoch 89/100\n",
      "5226/5226 [==============================] - 0s 38us/step - loss: 0.0279 - mae: 0.1273 - val_loss: 0.0156 - val_mae: 0.0952\n",
      "Epoch 90/100\n",
      "5226/5226 [==============================] - 0s 40us/step - loss: 0.0276 - mae: 0.1264 - val_loss: 0.0177 - val_mae: 0.1027\n",
      "Epoch 91/100\n",
      "5226/5226 [==============================] - 0s 37us/step - loss: 0.0275 - mae: 0.1266 - val_loss: 0.0158 - val_mae: 0.0957\n",
      "Epoch 92/100\n",
      "5226/5226 [==============================] - 0s 38us/step - loss: 0.0273 - mae: 0.1267 - val_loss: 0.0159 - val_mae: 0.0968\n",
      "Epoch 93/100\n",
      "5226/5226 [==============================] - 0s 39us/step - loss: 0.0267 - mae: 0.1240 - val_loss: 0.0175 - val_mae: 0.1016\n",
      "Epoch 94/100\n",
      "5226/5226 [==============================] - 0s 39us/step - loss: 0.0267 - mae: 0.1243 - val_loss: 0.0171 - val_mae: 0.1005\n",
      "Epoch 95/100\n",
      "5226/5226 [==============================] - 0s 39us/step - loss: 0.0267 - mae: 0.1247 - val_loss: 0.0192 - val_mae: 0.1081\n",
      "Epoch 96/100\n",
      "5226/5226 [==============================] - 0s 39us/step - loss: 0.0263 - mae: 0.1239 - val_loss: 0.0196 - val_mae: 0.1083\n",
      "Epoch 97/100\n",
      "5226/5226 [==============================] - 0s 39us/step - loss: 0.0277 - mae: 0.1265 - val_loss: 0.0201 - val_mae: 0.1099\n",
      "Epoch 98/100\n",
      "5226/5226 [==============================] - 0s 38us/step - loss: 0.0267 - mae: 0.1244 - val_loss: 0.0187 - val_mae: 0.1052\n",
      "Epoch 99/100\n",
      "5226/5226 [==============================] - 0s 38us/step - loss: 0.0267 - mae: 0.1247 - val_loss: 0.0186 - val_mae: 0.1041\n",
      "Epoch 100/100\n",
      "5226/5226 [==============================] - 0s 37us/step - loss: 0.0264 - mae: 0.1236 - val_loss: 0.0179 - val_mae: 0.1025\n"
     ]
    }
   ],
   "source": [
    "HYPERPARAMETERS = {'depth': 6, 'width': 64, 'reduction_factor':  0.9}\n",
    "import tensorflow as tf\n",
    "with tf.device('/cpu:0'):\n",
    "    model = model_builder(9, 18)(**HYPERPARAMETERS)\n",
    "    hist = model.fit(x_train_1, q_train_1, epochs = 100, batch_size = 128, verbose = 1, validation_data=(IOD_x_test, IOD_q_test))\n",
    "    model.save(\"ik-rh5-leg-5steps_dropconnect_OOD.h5\")"
   ]
  },
  {
   "cell_type": "code",
   "execution_count": 32,
   "metadata": {},
   "outputs": [
    {
     "data": {
      "text/plain": [
       "<matplotlib.legend.Legend at 0x7f798cfc35f8>"
      ]
     },
     "execution_count": 32,
     "metadata": {},
     "output_type": "execute_result"
    },
    {
     "data": {
      "image/png": "[encoded data removed]",
      "text/plain": [
       "<Figure size 432x288 with 1 Axes>"
      ]
     },
     "metadata": {
      "needs_background": "light"
     },
     "output_type": "display_data"
    }
   ],
   "source": [
    "epoch  = list(range(0, 100, 1))\n",
    "#print(epoch)\n",
    "#print(hist.history['loss'])\n",
    "plt.figure()\n",
    "plt.plot( epoch, hist.history['loss'],     label = 'Loss')\n",
    "plt.plot( epoch, hist.history['mae'],      label = 'MAE')\n",
    "plt.plot( epoch, hist.history['val_loss'], label = 'val_loss')\n",
    "plt.plot( epoch, hist.history['val_mae'],  label = 'val_mae')\n",
    "plt.xlabel(\"Number of Epochs\")\n",
    "plt.ylabel(\"Error\")\n",
    "plt.legend(loc='upper right')\n"
   ]
  },
  {
   "cell_type": "code",
   "execution_count": 33,
   "metadata": {},
   "outputs": [
    {
     "name": "stdout",
     "output_type": "stream",
     "text": [
      "Testing MAE: 0.13163\n",
      "Q feature 0 has unnorm MAE: 0.3423 (Range -0.7330 to 0.4398) normalized MAE: 0.2918\n",
      "Q feature 1 has unnorm MAE: 0.3675 (Range -0.3840 to 0.5792) normalized MAE: 0.3815\n",
      "Q feature 2 has unnorm MAE: 0.1137 (Range -0.8200 to -0.0680) normalized MAE: 0.1512\n",
      "Q feature 3 has unnorm MAE: 0.1148 (Range -0.8381 to -0.0792) normalized MAE: 0.1513\n",
      "Q feature 4 has unnorm MAE: 0.0126 (Range 0.0070 to 0.0907) normalized MAE: 0.1507\n",
      "Q feature 5 has unnorm MAE: 0.0461 (Range 0.0000 to 1.0000) normalized MAE: 0.0461\n",
      "Q feature 6 has unnorm MAE: 0.0046 (Range -0.0822 to 0.0000) normalized MAE: 0.0565\n",
      "Q feature 7 has unnorm MAE: 0.0034 (Range 0.0000 to 0.0782) normalized MAE: 0.0440\n",
      "Q feature 8 has unnorm MAE: 0.1295 (Range -0.7850 to 0.4710) normalized MAE: 0.1031\n",
      "Q feature 9 has unnorm MAE: 0.1545 (Range -0.7850 to 0.4710) normalized MAE: 0.1230\n",
      "Q feature 10 has unnorm MAE: 0.1289 (Range -0.5905 to 0.8678) normalized MAE: 0.0884\n",
      "Q feature 11 has unnorm MAE: 0.1380 (Range -0.5744 to 0.9404) normalized MAE: 0.0911\n",
      "Q feature 12 has unnorm MAE: 0.0241 (Range -0.0783 to 0.1694) normalized MAE: 0.0975\n",
      "Q feature 13 has unnorm MAE: 0.0129 (Range -0.0687 to 0.0186) normalized MAE: 0.1483\n",
      "Q feature 14 has unnorm MAE: 0.0122 (Range -0.0468 to 0.0678) normalized MAE: 0.1066\n",
      "Q feature 15 has unnorm MAE: 0.0225 (Range -0.1222 to 0.1126) normalized MAE: 0.0958\n",
      "Q feature 16 has unnorm MAE: 0.0143 (Range -0.0687 to 0.0249) normalized MAE: 0.1527\n",
      "Q feature 17 has unnorm MAE: 0.0107 (Range -0.0510 to 0.0678) normalized MAE: 0.0897\n"
     ]
    }
   ],
   "source": [
    "q_pred = model.predict(x_test, verbose=0)\n",
    "q_unnorm = q_scaler.inverse_transform(q_test)\n",
    "q_pred_unnorm = q_scaler.inverse_transform(q_pred)\n",
    "\n",
    "global_mae = mean_absolute_error(q_test, q_pred)\n",
    "\n",
    "print(\"Testing MAE: {:.5f}\".format(global_mae))\n",
    "\n",
    "# Compute MAE for each output independently.\n",
    "for i in range(q_test.shape[1]):\n",
    "    norm_mae_i = mean_absolute_error(q_test[:, i], q_pred[:, i])\n",
    "    mae_i = mean_absolute_error(q_unnorm[:, i], q_pred_unnorm[:, i])\n",
    "    print(\"Q feature {} has unnorm MAE: {:.4f} (Range {:.4f} to {:.4f}) normalized MAE: {:.4f}\".format(i, mae_i, q_scaler.data_min_[i], q_scaler.data_max_[i], norm_mae_i))\n",
    "\n"
   ]
  },
  {
   "cell_type": "code",
   "execution_count": 34,
   "metadata": {
    "scrolled": true
   },
   "outputs": [
    {
     "name": "stdout",
     "output_type": "stream",
     "text": [
      "Testing MAE: 0.30334\n"
     ]
    }
   ],
   "source": [
    "from keras.layers import Dense, Dropout\n",
    "from tensorflow.keras.models import load_model\n",
    "from keras_uncertainty.models import MCDropoutRegressor\n",
    "from sklearn.preprocessing import MinMaxScaler\n",
    "\n",
    "def test_mcdropconnect_regressor(x_test_values, q_test_values, model, data_scaler):   \n",
    "    mc_model = MCDropoutRegressor(model)\n",
    "    inp = x_test_values  \n",
    "    \n",
    "    mean, std = mc_model.predict(inp, num_samples = 10)\n",
    "    \n",
    "    q_pred_unnormalised = data_scaler.inverse_transform(mean)\n",
    "    \n",
    "    #q_sd_unnromalised = data_scaler.inverse_transform(std)\n",
    "    \n",
    "    global_mae = mean_absolute_error(q_test_values, mean)\n",
    "\n",
    "    print(\"Testing MAE: {:.5f}\".format(global_mae))\n",
    "\n",
    "    return q_pred_unnormalised, std\n",
    "\n",
    "mean_1, std_1 = test_mcdropconnect_regressor(x_test, q_test, model, q_scaler)\n",
    "\n",
    "q_test_unorm = q_scaler.inverse_transform(q_test)\n",
    "    "
   ]
  },
  {
   "cell_type": "code",
   "execution_count": 35,
   "metadata": {},
   "outputs": [
    {
     "name": "stdout",
     "output_type": "stream",
     "text": [
      "Testing MAE: 0.23652\n",
      "NLL: 4.66199\n"
     ]
    }
   ],
   "source": [
    "mean_test_IOD, sd_test_IOD = test_mcdropconnect_regressor(IOD_x_test, IOD_q_test, model, q_scaler)\n",
    "q_test_unorm = q_scaler.inverse_transform(IOD_q_test)\n",
    "print(\"NLL: {:.5f}\".format(numpy_regression_nll(q_test_unorm, mean_test_IOD, sd_test_IOD**2)))"
   ]
  },
  {
   "cell_type": "code",
   "execution_count": 36,
   "metadata": {},
   "outputs": [
    {
     "name": "stdout",
     "output_type": "stream",
     "text": [
      "Testing MAE: 0.28563\n",
      "NLL: 17.38847\n"
     ]
    }
   ],
   "source": [
    "mean_test_OOD, sd_test_OOD = test_mcdropconnect_regressor(OOD_x_test, OOD_q_test, model, q_scaler)\n",
    "q_test_unorm = q_scaler.inverse_transform(OOD_q_test)\n",
    "print(\"NLL: {:.5f}\".format(numpy_regression_nll(q_test_unorm, mean_test_OOD, sd_test_OOD**2)))"
   ]
  },
  {
   "cell_type": "code",
   "execution_count": 43,
   "metadata": {},
   "outputs": [],
   "source": [
    "col_no = 2"
   ]
  },
  {
   "cell_type": "code",
   "execution_count": 44,
   "metadata": {},
   "outputs": [
    {
     "data": {
      "image/png": "[encoded data removed]",
      "text/plain": [
       "<Figure size 432x288 with 1 Axes>"
      ]
     },
     "metadata": {
      "needs_background": "light"
     },
     "output_type": "display_data"
    }
   ],
   "source": [
    "sd_test_IOD_df = pd.DataFrame(sd_test_IOD)\n",
    "sd_test_OOD_df = pd.DataFrame(sd_test_OOD)\n",
    "new_scores = np.concatenate([sd_test_IOD_df[col_no], sd_test_OOD_df[col_no]], axis=0)\n",
    "minmaxscaler = MinMaxScaler()\n",
    "new_scores_scaled = minmaxscaler.fit_transform(new_scores.reshape(-1, 1))\n",
    "\n",
    "new_labels = np.concatenate([np.zeros_like(sd_test_IOD_df[col_no]), np.ones_like(sd_test_OOD_df[col_no])], axis=0)\n",
    "histogram_df = pd.DataFrame(new_scores_scaled, new_labels)\n",
    "\n",
    "#histogram_df.hist(column=0)\n",
    "\n",
    "#sd_test_IOD_df.hist(column=0)\n",
    "#sd_test_OOD_df.hist(column=0)\n",
    "import matplotlib.pyplot as plt\n",
    "fig, ax = plt.subplots()\n",
    "\n",
    "a_heights, a_bins = np.histogram(sd_test_IOD_df[col_no].values.reshape(-1, 1), density=True)\n",
    "b_heights, b_bins = np.histogram(sd_test_OOD_df[col_no].values.reshape(-1, 1), bins=a_bins, density=True)\n",
    "\n",
    "width = (a_bins[1] - a_bins[0])/3\n",
    "\n",
    "ax.bar(a_bins[:-1], a_heights, width = width, facecolor='blue',label=\"IOD SD\")\n",
    "ax.bar(b_bins[:-1]+width, b_heights, width = width, facecolor='red', label=\"OOD SD\")\n",
    "ax.legend()\n",
    "ax.set_xlabel(\"Standard Deviation\")\n",
    "ax.set_ylabel(\"Normalised Density of Samples\")\n",
    "fig.savefig(\"density_vs_sd_dropconnect_neg_split_col_2.pdf\")"
   ]
  },
  {
   "cell_type": "code",
   "execution_count": 45,
   "metadata": {},
   "outputs": [
    {
     "name": "stdout",
     "output_type": "stream",
     "text": [
      "AUC Score:  0.4638969807870612\n"
     ]
    },
    {
     "data": {
      "image/png": "[encoded data removed]",
      "text/plain": [
       "<Figure size 432x288 with 1 Axes>"
      ]
     },
     "metadata": {
      "needs_background": "light"
     },
     "output_type": "display_data"
    }
   ],
   "source": [
    "from sklearn.metrics import roc_curve, roc_auc_score\n",
    "\n",
    "norm_scores = new_scores - min(new_scores) / (max(new_scores) - min(new_scores))\n",
    "\n",
    "auc = roc_auc_score(new_labels, new_scores)\n",
    "fpr, tpr, threshs = roc_curve(new_labels, norm_scores, drop_intermediate=True)\n",
    "print(\"AUC Score: \",auc)\n",
    "plt.xlabel('FPR', fontsize=13)\n",
    "plt.ylabel('TPR', fontsize=13)\n",
    "plt.title('Receiver Operating Characteristic')\n",
    "plt.plot(fpr, tpr)\n",
    "plt.savefig(\"auc_dropconnect_neg_split_col_2.pdf\")\n",
    "plt.show()\n"
   ]
  },
  {
   "cell_type": "code",
   "execution_count": null,
   "metadata": {},
   "outputs": [],
   "source": []
  }
 ],
 "metadata": {
  "kernelspec": {
   "display_name": "Python 3",
   "language": "python",
   "name": "python3"
  },
  "language_info": {
   "codemirror_mode": {
    "name": "ipython",
    "version": 3
   },
   "file_extension": ".py",
   "mimetype": "text/x-python",
   "name": "python",
   "nbconvert_exporter": "python",
   "pygments_lexer": "ipython3",
   "version": "3.6.9"
  }
 },
 "nbformat": 4,
 "nbformat_minor": 4
}
