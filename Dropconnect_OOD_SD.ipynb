{
 "cells": [
  {
   "cell_type": "code",
   "execution_count": 207,
   "metadata": {},
   "outputs": [],
   "source": [
    "from __future__ import print_function\n",
    "\n",
    "import sys, os\n",
    "os.environ[\"CUDA_VISIBLE_DEVICES\"] = \"-1\"\n",
    "import tensorflow.keras\n",
    "import pandas as pd\n",
    "import numpy as np\n",
    "import sklearn\n",
    "import keras\n",
    "import csv\n",
    "\n",
    "import keras_uncertainty\n",
    "from keras_uncertainty.utils import numpy_negative_log_likelihood, numpy_entropy\n",
    "from keras_uncertainty.layers import DropConnectConv2D, DropConnectDense\n",
    "from keras_uncertainty.models import MCDropoutClassifier\n",
    "from keras_uncertainty.utils import numpy_regression_nll\n",
    "\n",
    "import keras.backend as K\n",
    "from keras.layers import Input, Dense, Conv2D, MaxPooling2D, Dropout, Flatten, BatchNormalization\n",
    "from keras.models import Model, Sequential\n",
    "from keras.utils import to_categorical\n",
    "from sklearn.metrics import accuracy_score\n",
    "\n",
    "import matplotlib.pyplot as plt\n"
   ]
  },
  {
   "cell_type": "code",
   "execution_count": 208,
   "metadata": {},
   "outputs": [],
   "source": [
    "def load_joint_space_csv_chunks(file_path):\n",
    "    data_frame = pd.read_csv(file_path, skiprows=1, header=None)\n",
    "    del data_frame[18]\n",
    "    #print(data_frame.head(10))\n",
    "    return data_frame\n",
    "\n",
    "def load_task_space_csv_chunks(file_path):\n",
    "    return pd.read_csv(file_path, skiprows=1, header=None)\n"
   ]
  },
  {
   "cell_type": "code",
   "execution_count": 209,
   "metadata": {
    "scrolled": false
   },
   "outputs": [],
   "source": [
    "from sklearn.preprocessing import MinMaxScaler\n",
    "from sklearn.metrics import mean_absolute_error\n",
    "from sklearn.model_selection import train_test_split\n",
    "\n",
    "TRAIN_FOLDER = '/home/dfki.uni-bremen.de/bmanickavasakan/newdataset_rh5_leg/leg_5steps/'\n",
    "TEST_FOLDER = '/home/dfki.uni-bremen.de/bmanickavasakan/newdataset_rh5_leg/leg_5steps/test_4steps'\n",
    "\n",
    "X_TRAIN_FILE = os.path.join(TRAIN_FOLDER, 'leg_forwardkinematics_x.csv')\n",
    "Q_TRAIN_FILE = os.path.join(TRAIN_FOLDER, 'leg_sysstate_q.csv')\n",
    "\n",
    "X_TEST_FILE = os.path.join(TEST_FOLDER, 'leg_forwardkinematics_x.csv')\n",
    "Q_TEST_FILE = os.path.join(TEST_FOLDER, 'leg_sysstate_q.csv')\n",
    "\n",
    "x_train = load_task_space_csv_chunks(X_TRAIN_FILE)\n",
    "q_train = load_joint_space_csv_chunks(Q_TRAIN_FILE)\n",
    "\n",
    "x_test = load_task_space_csv_chunks(X_TEST_FILE)\n",
    "q_test = load_joint_space_csv_chunks(Q_TEST_FILE)\n",
    "\n",
    "\n"
   ]
  },
  {
   "cell_type": "code",
   "execution_count": 210,
   "metadata": {},
   "outputs": [
    {
     "name": "stdout",
     "output_type": "stream",
     "text": [
      "0.9119140506494964 -0.5558160506494813\n",
      "//////////////////////\n",
      "(13750, 9) (1875, 9) (3840, 9) (256, 9)\n"
     ]
    }
   ],
   "source": [
    "'''\n",
    "\n",
    "Standard deviation based data splitting\n",
    "\n",
    "We consider the Q features and use the feature with the \n",
    "\n",
    "highest SD for dividing the dataset\n",
    "'''\n",
    "\n",
    "stats_q_train = pd.DataFrame()\n",
    "stats_q_train[\"Mean\"] = q_train.mean()\n",
    "stats_q_train[\"Var\"] = q_train.var()\n",
    "stats_q_train[\"STD\"] = q_train.std()\n",
    "stats_q_train[\"OneSigmaMax\"] = stats_q_train[\"Mean\"] + stats_q_train[\"STD\"]\n",
    "stats_q_train[\"OneSigmaMin\"] = stats_q_train[\"Mean\"] - stats_q_train[\"STD\"]\n",
    "stats_q_train.T\n",
    "\n",
    "max_std = stats_q_train[\"STD\"].max()\n",
    "colomn_max_std = stats_q_train[\"STD\"].idxmax()\n",
    "\n",
    "maximum = stats_q_train.loc[colomn_max_std, \"Mean\"] + (1.5 * max_std)\n",
    "minimum = stats_q_train.loc[colomn_max_std, \"Mean\"] - (1.5 * max_std)\n",
    "print(maximum, minimum)\n",
    "\n",
    "InDistribution_Q_Train = q_train[q_train[colomn_max_std].le(maximum) & q_train[colomn_max_std].ge(minimum)]\n",
    "OutDistribution_Q_Train = q_train[q_train[colomn_max_std].ge(maximum) | q_train[colomn_max_std].le(minimum)]\n",
    "InDistribution_X_Train = x_train[q_train[colomn_max_std].le(maximum) & q_train[colomn_max_std].ge(minimum)]\n",
    "OutDistribution_X_Train = x_train[q_train[colomn_max_std].ge(maximum) | q_train[colomn_max_std].le(minimum)]\n",
    "\n",
    "InDistribution_Q_Test = q_test[q_test[colomn_max_std].le(maximum) & q_test[colomn_max_std].ge(minimum)]\n",
    "OutDistribution_Q_Test = q_test[q_test[colomn_max_std].ge(maximum) | q_test[colomn_max_std].le(minimum)]\n",
    "InDistribution_X_Test = x_test[q_test[colomn_max_std].le(maximum) & q_test[colomn_max_std].ge(minimum)]\n",
    "OutDistribution_X_Test = x_test[q_test[colomn_max_std].ge(maximum) | q_test[colomn_max_std].le(minimum)]\n",
    "\n",
    "x_train_1 = InDistribution_X_Train\n",
    "q_train_1 = InDistribution_Q_Train\n",
    "x_test_1 = InDistribution_X_Test\n",
    "q_test_1 = InDistribution_Q_Test\n",
    "\n",
    "OOD_x_train = OutDistribution_X_Train\n",
    "OOD_q_train = OutDistribution_Q_Train\n",
    "OOD_x_test = OutDistribution_X_Test\n",
    "OOD_q_test = OutDistribution_Q_Test\n",
    "\n",
    "print(\"//////////////////////\")\n",
    "print(x_train_1.shape, OOD_x_train.shape, x_test_1.shape, OOD_x_test.shape)\n"
   ]
  },
  {
   "cell_type": "code",
   "execution_count": 211,
   "metadata": {},
   "outputs": [],
   "source": [
    "\n",
    "x_scaler = MinMaxScaler()\n",
    "q_scaler = MinMaxScaler()\n",
    "\n",
    "#In order training set\n",
    "x_train_1 = x_scaler.fit_transform(x_train_1)\n",
    "q_train_1 = q_scaler.fit_transform(q_train_1)\n",
    "\n",
    "#complete test set\n",
    "x_test = x_scaler.transform(x_test)\n",
    "q_test = q_scaler.transform(q_test)\n",
    "\n",
    "#split testing data\n",
    "IOD_x_test = x_scaler.transform(x_test_1)\n",
    "IOD_q_test = q_scaler.transform(q_test_1)\n",
    "\n",
    "OOD_x_test = x_scaler.transform(OOD_x_test)\n",
    "OOD_q_test = q_scaler.transform(OOD_q_test)"
   ]
  },
  {
   "cell_type": "code",
   "execution_count": 212,
   "metadata": {},
   "outputs": [],
   "source": [
    "dropconnectProb = 0.5"
   ]
  },
  {
   "cell_type": "code",
   "execution_count": 213,
   "metadata": {},
   "outputs": [],
   "source": [
    "def model_builder(input_shape, output_shape):\n",
    "    def build_model(depth, width, reduction_factor):\n",
    "        model = Sequential()\n",
    "        \n",
    "\n",
    "        for i in range(depth):\n",
    "            num_neurons = max(int(width * (reduction_factor ** i)), 4)\n",
    "            if i == 0:\n",
    "                model.add(DropConnectDense(num_neurons, activation='relu', input_shape=(input_shape,), prob=dropconnectProb))\n",
    "            else:\n",
    "                model.add(DropConnectDense(num_neurons, activation='relu', prob=dropconnectProb))\n",
    "\n",
    "            model.add(BatchNormalization())\n",
    "            #num_neurons= num_neurons + 32\n",
    "            Flatten()\n",
    "\n",
    "        model.add(DropConnectDense(output_shape, activation='sigmoid', prob=dropconnectProb))\n",
    "        model.compile(loss='mse', optimizer='adam', metrics=[\"mae\"])\n",
    "\n",
    "        return model\n",
    "    return build_model\n"
   ]
  },
  {
   "cell_type": "code",
   "execution_count": 214,
   "metadata": {
    "scrolled": true
   },
   "outputs": [
    {
     "name": "stdout",
     "output_type": "stream",
     "text": [
      "Train on 13750 samples, validate on 3840 samples\n",
      "Epoch 1/100\n",
      "13750/13750 [==============================] - 3s 252us/step - loss: 0.1681 - mae: 0.3351 - val_loss: 0.1098 - val_mae: 0.2859\n",
      "Epoch 2/100\n",
      "13750/13750 [==============================] - 1s 54us/step - loss: 0.1412 - mae: 0.3085 - val_loss: 0.1080 - val_mae: 0.2828\n",
      "Epoch 3/100\n",
      "13750/13750 [==============================] - 1s 54us/step - loss: 0.1233 - mae: 0.2902 - val_loss: 0.1040 - val_mae: 0.2782\n",
      "Epoch 4/100\n",
      "13750/13750 [==============================] - 1s 54us/step - loss: 0.1093 - mae: 0.2745 - val_loss: 0.0933 - val_mae: 0.2600\n",
      "Epoch 5/100\n",
      "13750/13750 [==============================] - 1s 53us/step - loss: 0.0992 - mae: 0.2617 - val_loss: 0.0868 - val_mae: 0.2444\n",
      "Epoch 6/100\n",
      "13750/13750 [==============================] - 1s 53us/step - loss: 0.0934 - mae: 0.2531 - val_loss: 0.0849 - val_mae: 0.2390\n",
      "Epoch 7/100\n",
      "13750/13750 [==============================] - 1s 53us/step - loss: 0.0892 - mae: 0.2466 - val_loss: 0.0825 - val_mae: 0.2348\n",
      "Epoch 8/100\n",
      "13750/13750 [==============================] - 1s 52us/step - loss: 0.0863 - mae: 0.2417 - val_loss: 0.0791 - val_mae: 0.2294\n",
      "Epoch 9/100\n",
      "13750/13750 [==============================] - 1s 54us/step - loss: 0.0834 - mae: 0.2368 - val_loss: 0.0767 - val_mae: 0.2246\n",
      "Epoch 10/100\n",
      "13750/13750 [==============================] - 1s 53us/step - loss: 0.0810 - mae: 0.2325 - val_loss: 0.0743 - val_mae: 0.2202\n",
      "Epoch 11/100\n",
      "13750/13750 [==============================] - 1s 52us/step - loss: 0.0788 - mae: 0.2284 - val_loss: 0.0717 - val_mae: 0.2157\n",
      "Epoch 12/100\n",
      "13750/13750 [==============================] - 1s 54us/step - loss: 0.0774 - mae: 0.2258 - val_loss: 0.0714 - val_mae: 0.2151\n",
      "Epoch 13/100\n",
      "13750/13750 [==============================] - 1s 53us/step - loss: 0.0759 - mae: 0.2230 - val_loss: 0.0696 - val_mae: 0.2123\n",
      "Epoch 14/100\n",
      "13750/13750 [==============================] - 1s 54us/step - loss: 0.0749 - mae: 0.2212 - val_loss: 0.0683 - val_mae: 0.2100\n",
      "Epoch 15/100\n",
      "13750/13750 [==============================] - 1s 53us/step - loss: 0.0741 - mae: 0.2195 - val_loss: 0.0679 - val_mae: 0.2089\n",
      "Epoch 16/100\n",
      "13750/13750 [==============================] - 1s 53us/step - loss: 0.0733 - mae: 0.2181 - val_loss: 0.0664 - val_mae: 0.2065\n",
      "Epoch 17/100\n",
      "13750/13750 [==============================] - 1s 53us/step - loss: 0.0710 - mae: 0.2146 - val_loss: 0.0636 - val_mae: 0.2012\n",
      "Epoch 18/100\n",
      "13750/13750 [==============================] - 1s 53us/step - loss: 0.0688 - mae: 0.2108 - val_loss: 0.0598 - val_mae: 0.1942\n",
      "Epoch 19/100\n",
      "13750/13750 [==============================] - 1s 52us/step - loss: 0.0656 - mae: 0.2052 - val_loss: 0.0575 - val_mae: 0.1901\n",
      "Epoch 20/100\n",
      "13750/13750 [==============================] - 1s 54us/step - loss: 0.0639 - mae: 0.2017 - val_loss: 0.0577 - val_mae: 0.1900\n",
      "Epoch 21/100\n",
      "13750/13750 [==============================] - 1s 53us/step - loss: 0.0619 - mae: 0.1981 - val_loss: 0.0529 - val_mae: 0.1804\n",
      "Epoch 22/100\n",
      "13750/13750 [==============================] - 1s 53us/step - loss: 0.0607 - mae: 0.1960 - val_loss: 0.0531 - val_mae: 0.1803\n",
      "Epoch 23/100\n",
      "13750/13750 [==============================] - 1s 52us/step - loss: 0.0607 - mae: 0.1956 - val_loss: 0.0518 - val_mae: 0.1783\n",
      "Epoch 24/100\n",
      "13750/13750 [==============================] - 1s 53us/step - loss: 0.0590 - mae: 0.1927 - val_loss: 0.0566 - val_mae: 0.1878\n",
      "Epoch 25/100\n",
      "13750/13750 [==============================] - 1s 52us/step - loss: 0.0585 - mae: 0.1917 - val_loss: 0.0517 - val_mae: 0.1779\n",
      "Epoch 26/100\n",
      "13750/13750 [==============================] - 1s 53us/step - loss: 0.0589 - mae: 0.1921 - val_loss: 0.0516 - val_mae: 0.1773\n",
      "Epoch 27/100\n",
      "13750/13750 [==============================] - 1s 54us/step - loss: 0.0571 - mae: 0.1891 - val_loss: 0.0524 - val_mae: 0.1790\n",
      "Epoch 28/100\n",
      "13750/13750 [==============================] - 1s 54us/step - loss: 0.0568 - mae: 0.1881 - val_loss: 0.0529 - val_mae: 0.1799\n",
      "Epoch 29/100\n",
      "13750/13750 [==============================] - 1s 53us/step - loss: 0.0567 - mae: 0.1877 - val_loss: 0.0529 - val_mae: 0.1794\n",
      "Epoch 30/100\n",
      "13750/13750 [==============================] - 1s 53us/step - loss: 0.0564 - mae: 0.1874 - val_loss: 0.0533 - val_mae: 0.1798\n",
      "Epoch 31/100\n",
      "13750/13750 [==============================] - 1s 53us/step - loss: 0.0558 - mae: 0.1860 - val_loss: 0.0538 - val_mae: 0.1810\n",
      "Epoch 32/100\n",
      "13750/13750 [==============================] - 1s 54us/step - loss: 0.0555 - mae: 0.1854 - val_loss: 0.0546 - val_mae: 0.1821\n",
      "Epoch 33/100\n",
      "13750/13750 [==============================] - 1s 53us/step - loss: 0.0550 - mae: 0.1845 - val_loss: 0.0613 - val_mae: 0.1920\n",
      "Epoch 34/100\n",
      "13750/13750 [==============================] - 1s 52us/step - loss: 0.0554 - mae: 0.1852 - val_loss: 0.0546 - val_mae: 0.1811\n",
      "Epoch 35/100\n",
      "13750/13750 [==============================] - 1s 53us/step - loss: 0.0550 - mae: 0.1843 - val_loss: 0.0541 - val_mae: 0.1803\n",
      "Epoch 36/100\n",
      "13750/13750 [==============================] - 1s 53us/step - loss: 0.0550 - mae: 0.1844 - val_loss: 0.0528 - val_mae: 0.1775\n",
      "Epoch 37/100\n",
      "13750/13750 [==============================] - 1s 54us/step - loss: 0.0543 - mae: 0.1828 - val_loss: 0.0561 - val_mae: 0.1831\n",
      "Epoch 38/100\n",
      "13750/13750 [==============================] - 1s 54us/step - loss: 0.0540 - mae: 0.1822 - val_loss: 0.0562 - val_mae: 0.1834\n",
      "Epoch 39/100\n",
      "13750/13750 [==============================] - 1s 54us/step - loss: 0.0536 - mae: 0.1814 - val_loss: 0.0596 - val_mae: 0.1877\n",
      "Epoch 40/100\n",
      "13750/13750 [==============================] - 1s 52us/step - loss: 0.0534 - mae: 0.1808 - val_loss: 0.0578 - val_mae: 0.1853\n",
      "Epoch 41/100\n",
      "13750/13750 [==============================] - 1s 53us/step - loss: 0.0532 - mae: 0.1807 - val_loss: 0.0546 - val_mae: 0.1801\n",
      "Epoch 42/100\n",
      "13750/13750 [==============================] - 1s 53us/step - loss: 0.0529 - mae: 0.1798 - val_loss: 0.0539 - val_mae: 0.1781\n",
      "Epoch 43/100\n",
      "13750/13750 [==============================] - 1s 52us/step - loss: 0.0529 - mae: 0.1798 - val_loss: 0.0562 - val_mae: 0.1823\n",
      "Epoch 44/100\n",
      "13750/13750 [==============================] - 1s 53us/step - loss: 0.0529 - mae: 0.1799 - val_loss: 0.0567 - val_mae: 0.1830\n",
      "Epoch 45/100\n",
      "13750/13750 [==============================] - 1s 54us/step - loss: 0.0526 - mae: 0.1788 - val_loss: 0.0560 - val_mae: 0.1821\n",
      "Epoch 46/100\n",
      "13750/13750 [==============================] - 1s 51us/step - loss: 0.0523 - mae: 0.1784 - val_loss: 0.0575 - val_mae: 0.1848\n",
      "Epoch 47/100\n",
      "13750/13750 [==============================] - 1s 52us/step - loss: 0.0519 - mae: 0.1777 - val_loss: 0.0571 - val_mae: 0.1838\n",
      "Epoch 48/100\n",
      "13750/13750 [==============================] - 1s 55us/step - loss: 0.0524 - mae: 0.1786 - val_loss: 0.0544 - val_mae: 0.1799\n",
      "Epoch 49/100\n",
      "13750/13750 [==============================] - 1s 53us/step - loss: 0.0516 - mae: 0.1774 - val_loss: 0.0538 - val_mae: 0.1788\n",
      "Epoch 50/100\n",
      "13750/13750 [==============================] - 1s 56us/step - loss: 0.0513 - mae: 0.1767 - val_loss: 0.0515 - val_mae: 0.1751\n",
      "Epoch 51/100\n",
      "13750/13750 [==============================] - 1s 56us/step - loss: 0.0511 - mae: 0.1761 - val_loss: 0.0543 - val_mae: 0.1798\n",
      "Epoch 52/100\n",
      "13750/13750 [==============================] - 1s 55us/step - loss: 0.0503 - mae: 0.1744 - val_loss: 0.0533 - val_mae: 0.1782\n",
      "Epoch 53/100\n",
      "13750/13750 [==============================] - 1s 56us/step - loss: 0.0505 - mae: 0.1747 - val_loss: 0.0530 - val_mae: 0.1771\n",
      "Epoch 54/100\n",
      "13750/13750 [==============================] - 1s 55us/step - loss: 0.0500 - mae: 0.1741 - val_loss: 0.0527 - val_mae: 0.1755\n",
      "Epoch 55/100\n",
      "13750/13750 [==============================] - 1s 56us/step - loss: 0.0504 - mae: 0.1744 - val_loss: 0.0507 - val_mae: 0.1729\n",
      "Epoch 56/100\n",
      "13750/13750 [==============================] - 1s 59us/step - loss: 0.0497 - mae: 0.1734 - val_loss: 0.0510 - val_mae: 0.1740\n",
      "Epoch 57/100\n",
      "13750/13750 [==============================] - 1s 60us/step - loss: 0.0497 - mae: 0.1733 - val_loss: 0.0508 - val_mae: 0.1743\n",
      "Epoch 58/100\n",
      "13750/13750 [==============================] - 1s 57us/step - loss: 0.0489 - mae: 0.1714 - val_loss: 0.0542 - val_mae: 0.1816\n",
      "Epoch 59/100\n"
     ]
    },
    {
     "name": "stdout",
     "output_type": "stream",
     "text": [
      "13750/13750 [==============================] - 1s 56us/step - loss: 0.0484 - mae: 0.1709 - val_loss: 0.0531 - val_mae: 0.1789\n",
      "Epoch 60/100\n",
      "13750/13750 [==============================] - 1s 54us/step - loss: 0.0493 - mae: 0.1723 - val_loss: 0.0537 - val_mae: 0.1799\n",
      "Epoch 61/100\n",
      "13750/13750 [==============================] - 1s 54us/step - loss: 0.0484 - mae: 0.1706 - val_loss: 0.0564 - val_mae: 0.1850\n",
      "Epoch 62/100\n",
      "13750/13750 [==============================] - 1s 56us/step - loss: 0.0482 - mae: 0.1702 - val_loss: 0.0487 - val_mae: 0.1714\n",
      "Epoch 63/100\n",
      "13750/13750 [==============================] - 1s 55us/step - loss: 0.0479 - mae: 0.1701 - val_loss: 0.0489 - val_mae: 0.1715\n",
      "Epoch 64/100\n",
      "13750/13750 [==============================] - 1s 54us/step - loss: 0.0474 - mae: 0.1688 - val_loss: 0.0461 - val_mae: 0.1671\n",
      "Epoch 65/100\n",
      "13750/13750 [==============================] - 1s 53us/step - loss: 0.0471 - mae: 0.1685 - val_loss: 0.0444 - val_mae: 0.1638\n",
      "Epoch 66/100\n",
      "13750/13750 [==============================] - 1s 53us/step - loss: 0.0460 - mae: 0.1662 - val_loss: 0.0439 - val_mae: 0.1628\n",
      "Epoch 67/100\n",
      "13750/13750 [==============================] - 1s 55us/step - loss: 0.0461 - mae: 0.1663 - val_loss: 0.0476 - val_mae: 0.1699\n",
      "Epoch 68/100\n",
      "13750/13750 [==============================] - 1s 54us/step - loss: 0.0452 - mae: 0.1645 - val_loss: 0.0443 - val_mae: 0.1635\n",
      "Epoch 69/100\n",
      "13750/13750 [==============================] - 1s 55us/step - loss: 0.0451 - mae: 0.1641 - val_loss: 0.0447 - val_mae: 0.1646\n",
      "Epoch 70/100\n",
      "13750/13750 [==============================] - 1s 53us/step - loss: 0.0447 - mae: 0.1634 - val_loss: 0.0437 - val_mae: 0.1621\n",
      "Epoch 71/100\n",
      "13750/13750 [==============================] - 1s 54us/step - loss: 0.0438 - mae: 0.1616 - val_loss: 0.0458 - val_mae: 0.1660\n",
      "Epoch 72/100\n",
      "13750/13750 [==============================] - 1s 53us/step - loss: 0.0444 - mae: 0.1622 - val_loss: 0.0445 - val_mae: 0.1636\n",
      "Epoch 73/100\n",
      "13750/13750 [==============================] - 1s 53us/step - loss: 0.0438 - mae: 0.1612 - val_loss: 0.0487 - val_mae: 0.1718\n",
      "Epoch 74/100\n",
      "13750/13750 [==============================] - 1s 52us/step - loss: 0.0427 - mae: 0.1584 - val_loss: 0.0449 - val_mae: 0.1645\n",
      "Epoch 75/100\n",
      "13750/13750 [==============================] - 1s 53us/step - loss: 0.0429 - mae: 0.1592 - val_loss: 0.0510 - val_mae: 0.1765\n",
      "Epoch 76/100\n",
      "13750/13750 [==============================] - 1s 54us/step - loss: 0.0432 - mae: 0.1595 - val_loss: 0.0474 - val_mae: 0.1678\n",
      "Epoch 77/100\n",
      "13750/13750 [==============================] - 1s 54us/step - loss: 0.0419 - mae: 0.1567 - val_loss: 0.0525 - val_mae: 0.1766\n",
      "Epoch 78/100\n",
      "13750/13750 [==============================] - 1s 52us/step - loss: 0.0424 - mae: 0.1578 - val_loss: 0.0428 - val_mae: 0.1591\n",
      "Epoch 79/100\n",
      "13750/13750 [==============================] - 1s 54us/step - loss: 0.0418 - mae: 0.1562 - val_loss: 0.0502 - val_mae: 0.1748\n",
      "Epoch 80/100\n",
      "13750/13750 [==============================] - 1s 53us/step - loss: 0.0416 - mae: 0.1556 - val_loss: 0.0527 - val_mae: 0.1790\n",
      "Epoch 81/100\n",
      "13750/13750 [==============================] - 1s 53us/step - loss: 0.0416 - mae: 0.1555 - val_loss: 0.0491 - val_mae: 0.1708\n",
      "Epoch 82/100\n",
      "13750/13750 [==============================] - 1s 54us/step - loss: 0.0414 - mae: 0.1549 - val_loss: 0.0405 - val_mae: 0.1536\n",
      "Epoch 83/100\n",
      "13750/13750 [==============================] - 1s 53us/step - loss: 0.0419 - mae: 0.1559 - val_loss: 0.0439 - val_mae: 0.1595\n",
      "Epoch 84/100\n",
      "13750/13750 [==============================] - 1s 54us/step - loss: 0.0413 - mae: 0.1545 - val_loss: 0.0382 - val_mae: 0.1496\n",
      "Epoch 85/100\n",
      "13750/13750 [==============================] - 1s 53us/step - loss: 0.0408 - mae: 0.1534 - val_loss: 0.0476 - val_mae: 0.1668\n",
      "Epoch 86/100\n",
      "13750/13750 [==============================] - 1s 54us/step - loss: 0.0415 - mae: 0.1549 - val_loss: 0.0486 - val_mae: 0.1698\n",
      "Epoch 87/100\n",
      "13750/13750 [==============================] - 1s 53us/step - loss: 0.0401 - mae: 0.1521 - val_loss: 0.0506 - val_mae: 0.1726\n",
      "Epoch 88/100\n",
      "13750/13750 [==============================] - 1s 54us/step - loss: 0.0402 - mae: 0.1519 - val_loss: 0.0467 - val_mae: 0.1655\n",
      "Epoch 89/100\n",
      "13750/13750 [==============================] - 1s 53us/step - loss: 0.0402 - mae: 0.1513 - val_loss: 0.0458 - val_mae: 0.1630\n",
      "Epoch 90/100\n",
      "13750/13750 [==============================] - 1s 54us/step - loss: 0.0404 - mae: 0.1520 - val_loss: 0.0445 - val_mae: 0.1608\n",
      "Epoch 91/100\n",
      "13750/13750 [==============================] - 1s 52us/step - loss: 0.0397 - mae: 0.1504 - val_loss: 0.0429 - val_mae: 0.1576\n",
      "Epoch 92/100\n",
      "13750/13750 [==============================] - 1s 54us/step - loss: 0.0401 - mae: 0.1510 - val_loss: 0.0468 - val_mae: 0.1656\n",
      "Epoch 93/100\n",
      "13750/13750 [==============================] - 1s 52us/step - loss: 0.0392 - mae: 0.1490 - val_loss: 0.0488 - val_mae: 0.1660\n",
      "Epoch 94/100\n",
      "13750/13750 [==============================] - 1s 53us/step - loss: 0.0403 - mae: 0.1514 - val_loss: 0.0545 - val_mae: 0.1761\n",
      "Epoch 95/100\n",
      "13750/13750 [==============================] - 1s 53us/step - loss: 0.0395 - mae: 0.1491 - val_loss: 0.0458 - val_mae: 0.1640\n",
      "Epoch 96/100\n",
      "13750/13750 [==============================] - 1s 52us/step - loss: 0.0395 - mae: 0.1494 - val_loss: 0.0500 - val_mae: 0.1692\n",
      "Epoch 97/100\n",
      "13750/13750 [==============================] - 1s 53us/step - loss: 0.0396 - mae: 0.1496 - val_loss: 0.0422 - val_mae: 0.1563\n",
      "Epoch 98/100\n",
      "13750/13750 [==============================] - 1s 54us/step - loss: 0.0398 - mae: 0.1502 - val_loss: 0.0484 - val_mae: 0.1686\n",
      "Epoch 99/100\n",
      "13750/13750 [==============================] - 1s 54us/step - loss: 0.0396 - mae: 0.1497 - val_loss: 0.0541 - val_mae: 0.1743\n",
      "Epoch 100/100\n",
      "13750/13750 [==============================] - 1s 54us/step - loss: 0.0390 - mae: 0.1486 - val_loss: 0.0525 - val_mae: 0.1742\n"
     ]
    }
   ],
   "source": [
    "HYPERPARAMETERS = {'depth': 6, 'width': 64, 'reduction_factor':  0.9}\n",
    "import tensorflow as tf\n",
    "with tf.device('/cpu:0'):\n",
    "    model = model_builder(9, 18)(**HYPERPARAMETERS)\n",
    "    hist = model.fit(x_train_1, q_train_1, epochs = 100, batch_size = 128, verbose = 1, validation_data=(IOD_x_test, IOD_q_test))\n",
    "    model.save(\"ik-rh5-leg-5steps_dropconnect_OOD.h5\")"
   ]
  },
  {
   "cell_type": "code",
   "execution_count": 215,
   "metadata": {},
   "outputs": [],
   "source": [
    "epoch  = list(range(0, 200, 1))\n",
    "#print(epoch)\n",
    "#print(hist.history['loss'])\n",
    "# plt.figure()\n",
    "# plt.plot( epoch, hist.history['loss'],     label = 'Loss')\n",
    "# plt.plot( epoch, hist.history['mae'],      label = 'MAE')\n",
    "# plt.plot( epoch, hist.history['val_loss'], label = 'val_loss')\n",
    "# plt.plot( epoch, hist.history['val_mae'],  label = 'val_mae')\n",
    "# plt.xlabel(\"Number of Epochs\")\n",
    "# plt.ylabel(\"Error\")\n",
    "# plt.legend(loc='upper right')\n"
   ]
  },
  {
   "cell_type": "code",
   "execution_count": 216,
   "metadata": {},
   "outputs": [
    {
     "name": "stdout",
     "output_type": "stream",
     "text": [
      "Testing MAE: 0.17410\n",
      "Q feature 0 has unnorm MAE: 0.3621 (Range -0.7330 to 0.4398) normalized MAE: 0.3087\n",
      "Q feature 1 has unnorm MAE: 0.2945 (Range -0.3840 to 0.5792) normalized MAE: 0.3057\n",
      "Q feature 2 has unnorm MAE: 0.0909 (Range -0.8200 to -0.0680) normalized MAE: 0.1209\n",
      "Q feature 3 has unnorm MAE: 0.0925 (Range -0.8381 to -0.0792) normalized MAE: 0.1219\n",
      "Q feature 4 has unnorm MAE: 0.0102 (Range 0.0070 to 0.0907) normalized MAE: 0.1219\n",
      "Q feature 5 has unnorm MAE: 0.0429 (Range 0.0000 to 1.0000) normalized MAE: 0.0429\n",
      "Q feature 6 has unnorm MAE: 0.0033 (Range -0.0822 to 0.0000) normalized MAE: 0.0401\n",
      "Q feature 7 has unnorm MAE: 0.0036 (Range 0.0000 to 0.0782) normalized MAE: 0.0458\n",
      "Q feature 8 has unnorm MAE: 0.2997 (Range -0.7850 to 0.4710) normalized MAE: 0.2386\n",
      "Q feature 9 has unnorm MAE: 0.1827 (Range -0.7850 to 0.4710) normalized MAE: 0.1455\n",
      "Q feature 10 has unnorm MAE: 0.3129 (Range -0.5483 to 0.7767) normalized MAE: 0.2362\n",
      "Q feature 11 has unnorm MAE: 0.3325 (Range -0.5236 to 0.8523) normalized MAE: 0.2417\n",
      "Q feature 12 has unnorm MAE: 0.0419 (Range -0.0425 to 0.1199) normalized MAE: 0.2583\n",
      "Q feature 13 has unnorm MAE: 0.0165 (Range -0.0687 to 0.0186) normalized MAE: 0.1892\n",
      "Q feature 14 has unnorm MAE: 0.0199 (Range -0.0468 to 0.0678) normalized MAE: 0.1735\n",
      "Q feature 15 has unnorm MAE: 0.0377 (Range -0.0730 to 0.0783) normalized MAE: 0.2494\n",
      "Q feature 16 has unnorm MAE: 0.0184 (Range -0.0687 to 0.0249) normalized MAE: 0.1972\n",
      "Q feature 17 has unnorm MAE: 0.0105 (Range -0.0468 to 0.0625) normalized MAE: 0.0963\n"
     ]
    }
   ],
   "source": [
    "q_pred = model.predict(x_test, verbose=0)\n",
    "q_unnorm = q_scaler.inverse_transform(q_test)\n",
    "q_pred_unnorm = q_scaler.inverse_transform(q_pred)\n",
    "\n",
    "global_mae = mean_absolute_error(q_test, q_pred)\n",
    "\n",
    "print(\"Testing MAE: {:.5f}\".format(global_mae))\n",
    "\n",
    "# Compute MAE for each output independently.\n",
    "for i in range(q_test.shape[1]):\n",
    "    norm_mae_i = mean_absolute_error(q_test[:, i], q_pred[:, i])\n",
    "    mae_i = mean_absolute_error(q_unnorm[:, i], q_pred_unnorm[:, i])\n",
    "    print(\"Q feature {} has unnorm MAE: {:.4f} (Range {:.4f} to {:.4f}) normalized MAE: {:.4f}\".format(i, mae_i, q_scaler.data_min_[i], q_scaler.data_max_[i], norm_mae_i))\n",
    "\n"
   ]
  },
  {
   "cell_type": "code",
   "execution_count": 217,
   "metadata": {
    "scrolled": false
   },
   "outputs": [
    {
     "name": "stdout",
     "output_type": "stream",
     "text": [
      "Testing MAE: 0.31371\n",
      "NLL: 13.86549\n"
     ]
    }
   ],
   "source": [
    "from keras.layers import Dense, Dropout\n",
    "from tensorflow.keras.models import load_model\n",
    "from keras_uncertainty.models import MCDropoutRegressor\n",
    "from sklearn.preprocessing import MinMaxScaler\n",
    "\n",
    "def test_mcdropconnect_regressor(x_test_values, q_test_values, model, data_scaler):   \n",
    "    mc_model = MCDropoutRegressor(model)\n",
    "    inp = x_test_values  \n",
    "    \n",
    "    mean, std = mc_model.predict(inp, num_samples = 10)\n",
    "    \n",
    "    q_pred_unnormalised = data_scaler.inverse_transform(mean)\n",
    "    \n",
    "    #q_sd_unnromalised = data_scaler.inverse_transform(std)\n",
    "    \n",
    "    global_mae = mean_absolute_error(q_test_values, mean)\n",
    "\n",
    "    print(\"Testing MAE: {:.5f}\".format(global_mae))\n",
    "\n",
    "    return q_pred_unnormalised, std\n",
    "\n",
    "mean_1, std_1 = test_mcdropconnect_regressor(x_test, q_test, model, q_scaler)\n",
    "\n",
    "q_test_unorm = q_scaler.inverse_transform(q_test)\n",
    "\n",
    "print(\"NLL: {:.5f}\".format(numpy_regression_nll(q_test_unorm, mean_1, std_1**2)))\n"
   ]
  },
  {
   "cell_type": "code",
   "execution_count": 218,
   "metadata": {
    "scrolled": true
   },
   "outputs": [
    {
     "name": "stdout",
     "output_type": "stream",
     "text": [
      "Testing MAE: 0.30525\n",
      "NLL: 14.30626\n"
     ]
    }
   ],
   "source": [
    "mean_test_IOD, sd_test_IOD = test_mcdropconnect_regressor(IOD_x_test, IOD_q_test, model, q_scaler)\n",
    "q_test_unorm = q_scaler.inverse_transform(IOD_q_test)\n",
    "print(\"NLL: {:.5f}\".format(numpy_regression_nll(q_test_unorm, mean_test_IOD, sd_test_IOD**2)))"
   ]
  },
  {
   "cell_type": "code",
   "execution_count": 219,
   "metadata": {},
   "outputs": [
    {
     "name": "stdout",
     "output_type": "stream",
     "text": [
      "Testing MAE: 0.43374\n",
      "NLL: 18.41770\n"
     ]
    }
   ],
   "source": [
    "mean_test_OOD, sd_test_OOD = test_mcdropconnect_regressor(OOD_x_test, OOD_q_test, model, q_scaler)\n",
    "q_test_unorm = q_scaler.inverse_transform(OOD_q_test)\n",
    "print(\"NLL: {:.5f}\".format(numpy_regression_nll(q_test_unorm, mean_test_OOD, sd_test_OOD**2)))"
   ]
  },
  {
   "cell_type": "code",
   "execution_count": 220,
   "metadata": {},
   "outputs": [],
   "source": [
    "col_no = 2"
   ]
  },
  {
   "cell_type": "code",
   "execution_count": 221,
   "metadata": {
    "scrolled": true
   },
   "outputs": [
    {
     "data": {
      "image/png": "[encoded data removed]",
      "text/plain": [
       "<Figure size 432x288 with 1 Axes>"
      ]
     },
     "metadata": {
      "needs_background": "light"
     },
     "output_type": "display_data"
    }
   ],
   "source": [
    "sd_test_IOD_df = pd.DataFrame(sd_test_IOD)\n",
    "sd_test_OOD_df = pd.DataFrame(sd_test_OOD)\n",
    "new_scores = np.concatenate([sd_test_IOD_df[col_no], sd_test_OOD_df[col_no]], axis=0)\n",
    "minmaxscaler = MinMaxScaler()\n",
    "new_scores_scaled = minmaxscaler.fit_transform(new_scores.reshape(-1, 1))\n",
    "\n",
    "new_labels = np.concatenate([np.zeros_like(sd_test_IOD_df[col_no]), np.ones_like(sd_test_OOD_df[col_no])], axis=0)\n",
    "histogram_df = pd.DataFrame(new_scores_scaled, new_labels)\n",
    "\n",
    "import matplotlib.pyplot as plt\n",
    "fig, ax = plt.subplots()\n",
    "\n",
    "a_heights, a_bins = np.histogram(sd_test_IOD_df[col_no].values.reshape(-1, 1), density=True)\n",
    "b_heights, b_bins = np.histogram(sd_test_OOD_df[col_no].values.reshape(-1, 1), bins=a_bins, density=True)\n",
    "\n",
    "width = (a_bins[1] - a_bins[0])/3\n",
    "\n",
    "ax.bar(a_bins[:-1], a_heights, width = width, facecolor='blue',label=\"IOD SD\")\n",
    "ax.bar(b_bins[:-1]+width, b_heights, width = width, facecolor='red', label=\"OOD SD\")\n",
    "ax.legend()\n",
    "ax.set_xlabel(\"Standard Deviation\")\n",
    "ax.set_ylabel(\"Normailsed density of Samples\")\n",
    "fig.savefig(\"density_vs_sd_dropconnect_sd_split_col_2.pdf\")"
   ]
  },
  {
   "cell_type": "code",
   "execution_count": 224,
   "metadata": {},
   "outputs": [
    {
     "name": "stdout",
     "output_type": "stream",
     "text": [
      "0.477294921875\n"
     ]
    },
    {
     "data": {
      "image/png": "[encoded data removed]",
      "text/plain": [
       "<Figure size 432x288 with 1 Axes>"
      ]
     },
     "metadata": {
      "needs_background": "light"
     },
     "output_type": "display_data"
    }
   ],
   "source": [
    "from sklearn.metrics import roc_curve, roc_auc_score\n",
    "\n",
    "norm_scores = new_scores - min(new_scores) / (max(new_scores) - min(new_scores))\n",
    "\n",
    "auc = roc_auc_score(new_labels, new_scores)\n",
    "fpr, tpr, threshs = roc_curve(new_labels, norm_scores, drop_intermediate=True)\n",
    "print(auc)\n",
    "plt.xlabel('FPR', fontsize=13)\n",
    "plt.ylabel('TPR', fontsize=13)\n",
    "plt.title('Receiver Operating Characteristic')\n",
    "plt.plot(fpr, tpr)\n",
    "plt.savefig(\"auc_dropconnect_sd_split_col_2.pdf\")\n",
    "plt.show()\n"
   ]
  },
  {
   "cell_type": "code",
   "execution_count": null,
   "metadata": {},
   "outputs": [],
   "source": []
  }
 ],
 "metadata": {
  "kernelspec": {
   "display_name": "Python 3",
   "language": "python",
   "name": "python3"
  },
  "language_info": {
   "codemirror_mode": {
    "name": "ipython",
    "version": 3
   },
   "file_extension": ".py",
   "mimetype": "text/x-python",
   "name": "python",
   "nbconvert_exporter": "python",
   "pygments_lexer": "ipython3",
   "version": "3.6.9"
  }
 },
 "nbformat": 4,
 "nbformat_minor": 4
}
