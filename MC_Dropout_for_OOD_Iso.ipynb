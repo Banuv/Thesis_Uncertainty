{
 "cells": [
  {
   "cell_type": "markdown",
   "metadata": {},
   "source": [
    "# All imports #"
   ]
  },
  {
   "cell_type": "code",
   "execution_count": 1,
   "metadata": {
    "scrolled": true
   },
   "outputs": [
    {
     "name": "stderr",
     "output_type": "stream",
     "text": [
      "/home/dfki.uni-bremen.de/bmanickavasakan/.local/lib/python3.6/site-packages/tensorflow/python/framework/dtypes.py:526: FutureWarning: Passing (type, 1) or '1type' as a synonym of type is deprecated; in a future version of numpy, it will be understood as (type, (1,)) / '(1,)type'.\n",
      "  _np_qint8 = np.dtype([(\"qint8\", np.int8, 1)])\n",
      "/home/dfki.uni-bremen.de/bmanickavasakan/.local/lib/python3.6/site-packages/tensorflow/python/framework/dtypes.py:527: FutureWarning: Passing (type, 1) or '1type' as a synonym of type is deprecated; in a future version of numpy, it will be understood as (type, (1,)) / '(1,)type'.\n",
      "  _np_quint8 = np.dtype([(\"quint8\", np.uint8, 1)])\n",
      "/home/dfki.uni-bremen.de/bmanickavasakan/.local/lib/python3.6/site-packages/tensorflow/python/framework/dtypes.py:528: FutureWarning: Passing (type, 1) or '1type' as a synonym of type is deprecated; in a future version of numpy, it will be understood as (type, (1,)) / '(1,)type'.\n",
      "  _np_qint16 = np.dtype([(\"qint16\", np.int16, 1)])\n",
      "/home/dfki.uni-bremen.de/bmanickavasakan/.local/lib/python3.6/site-packages/tensorflow/python/framework/dtypes.py:529: FutureWarning: Passing (type, 1) or '1type' as a synonym of type is deprecated; in a future version of numpy, it will be understood as (type, (1,)) / '(1,)type'.\n",
      "  _np_quint16 = np.dtype([(\"quint16\", np.uint16, 1)])\n",
      "/home/dfki.uni-bremen.de/bmanickavasakan/.local/lib/python3.6/site-packages/tensorflow/python/framework/dtypes.py:530: FutureWarning: Passing (type, 1) or '1type' as a synonym of type is deprecated; in a future version of numpy, it will be understood as (type, (1,)) / '(1,)type'.\n",
      "  _np_qint32 = np.dtype([(\"qint32\", np.int32, 1)])\n",
      "/home/dfki.uni-bremen.de/bmanickavasakan/.local/lib/python3.6/site-packages/tensorflow/python/framework/dtypes.py:535: FutureWarning: Passing (type, 1) or '1type' as a synonym of type is deprecated; in a future version of numpy, it will be understood as (type, (1,)) / '(1,)type'.\n",
      "  np_resource = np.dtype([(\"resource\", np.ubyte, 1)])\n",
      "Using TensorFlow backend.\n"
     ]
    }
   ],
   "source": [
    "from __future__ import print_function\n",
    "\n",
    "import sys, os\n",
    "\n",
    "import tensorflow.keras\n",
    "import pandas as pd\n",
    "import numpy as np\n",
    "import sklearn\n",
    "import keras\n",
    "import csv\n",
    "\n",
    "from sklearn.preprocessing import MinMaxScaler\n",
    "from sklearn.metrics import mean_absolute_error\n",
    "from sklearn.model_selection import train_test_split\n",
    "\n",
    "from tensorflow.keras.models import Sequential, load_model\n",
    "from tensorflow.keras.layers import Dense, BatchNormalization, Dropout\n",
    "\n",
    "from keras_uncertainty.models import MCDropoutClassifier, MCDropoutRegressor\n",
    "from keras_uncertainty.utils import numpy_regression_nll\n"
   ]
  },
  {
   "cell_type": "code",
   "execution_count": 2,
   "metadata": {},
   "outputs": [],
   "source": [
    "def load_joint_space_csv_chunks(file_path):\n",
    "    data_frame = pd.read_csv(file_path, skiprows=1, header=None)\n",
    "    del data_frame[18]\n",
    "    return data_frame\n",
    "\n",
    "def load_task_space_csv_chunks(file_path):\n",
    "    return pd.read_csv(file_path, skiprows=1, header=None)\n"
   ]
  },
  {
   "cell_type": "code",
   "execution_count": 3,
   "metadata": {},
   "outputs": [],
   "source": [
    "##please select the appropriate folder, willl use os.path.join() for completed script\n",
    "TRAIN_FOLDER = '/home/dfki.uni-bremen.de/bmanickavasakan/newdataset_rh5_leg/leg_5steps/'\n",
    "TEST_FOLDER = '/home/dfki.uni-bremen.de/bmanickavasakan/newdataset_rh5_leg/leg_5steps/test_4steps'\n",
    "\n",
    "X_TRAIN_FILE = os.path.join(TRAIN_FOLDER, 'leg_forwardkinematics_x.csv')\n",
    "Q_TRAIN_FILE = os.path.join(TRAIN_FOLDER, 'leg_sysstate_q.csv')\n",
    "x_train = load_task_space_csv_chunks(X_TRAIN_FILE)\n",
    "q_train = load_joint_space_csv_chunks(Q_TRAIN_FILE)\n",
    "\n",
    "X_TEST_FILE = os.path.join(TEST_FOLDER, 'leg_forwardkinematics_x.csv')\n",
    "Q_TEST_FILE = os.path.join(TEST_FOLDER, 'leg_sysstate_q.csv')\n",
    "x_test = load_task_space_csv_chunks(X_TEST_FILE)\n",
    "q_test = load_joint_space_csv_chunks(Q_TEST_FILE)"
   ]
  },
  {
   "cell_type": "code",
   "execution_count": 4,
   "metadata": {},
   "outputs": [
    {
     "name": "stderr",
     "output_type": "stream",
     "text": [
      "/home/dfki.uni-bremen.de/bmanickavasakan/.local/lib/python3.6/site-packages/sklearn/ensemble/iforest.py:237: FutureWarning: default contamination parameter 0.1 will change in version 0.22 to \"auto\". This will change the predict method behavior.\n",
      "  FutureWarning)\n",
      "/home/dfki.uni-bremen.de/bmanickavasakan/.local/lib/python3.6/site-packages/sklearn/ensemble/iforest.py:247: FutureWarning: behaviour=\"old\" is deprecated and will be removed in version 0.22. Please use behaviour=\"new\", which makes the decision_function change to match other anomaly detection algorithm API.\n",
      "  FutureWarning)\n",
      "/home/dfki.uni-bremen.de/bmanickavasakan/.local/lib/python3.6/site-packages/sklearn/ensemble/iforest.py:415: DeprecationWarning: threshold_ attribute is deprecated in 0.20 and will be removed in 0.22.\n",
      "  \" be removed in 0.22.\", DeprecationWarning)\n"
     ]
    },
    {
     "name": "stdout",
     "output_type": "stream",
     "text": [
      " 1    14062\n",
      "-1     1563\n",
      "Name: anamoly, dtype: int64\n"
     ]
    },
    {
     "name": "stderr",
     "output_type": "stream",
     "text": [
      "/home/dfki.uni-bremen.de/bmanickavasakan/.local/lib/python3.6/site-packages/sklearn/ensemble/iforest.py:237: FutureWarning: default contamination parameter 0.1 will change in version 0.22 to \"auto\". This will change the predict method behavior.\n",
      "  FutureWarning)\n",
      "/home/dfki.uni-bremen.de/bmanickavasakan/.local/lib/python3.6/site-packages/sklearn/ensemble/iforest.py:247: FutureWarning: behaviour=\"old\" is deprecated and will be removed in version 0.22. Please use behaviour=\"new\", which makes the decision_function change to match other anomaly detection algorithm API.\n",
      "  FutureWarning)\n",
      "/home/dfki.uni-bremen.de/bmanickavasakan/.local/lib/python3.6/site-packages/sklearn/ensemble/iforest.py:415: DeprecationWarning: threshold_ attribute is deprecated in 0.20 and will be removed in 0.22.\n",
      "  \" be removed in 0.22.\", DeprecationWarning)\n"
     ]
    }
   ],
   "source": [
    "\n",
    "x_train_df = pd.DataFrame(x_train)\n",
    "q_train_df = pd.DataFrame(q_train)\n",
    "x_test_df = pd.DataFrame(x_test)\n",
    "q_test_df = pd.DataFrame(q_test)\n",
    "\n",
    "\n",
    "from sklearn.ensemble import IsolationForest\n",
    "\n",
    "\n",
    "clf = IsolationForest(n_estimators=100, max_samples='auto', max_features=1, bootstrap=False, n_jobs= -1, random_state=42, verbose=0)\n",
    "clf.fit(q_train_df)\n",
    "\n",
    "pred = clf.predict(q_train_df)\n",
    "q_train_df['anamoly'] = pred\n",
    "print(q_train_df['anamoly'].value_counts())\n",
    "\n",
    "InDistribution_Q_Train = q_train_df[q_train_df['anamoly'] == 1]\n",
    "OutDistribution_Q_Train =   q_train_df[q_train_df['anamoly'] == -1]\n",
    "InDistribution_X_Train =    x_train_df[q_train_df['anamoly'] == 1]\n",
    "OutDistribution_X_Train =   x_train_df[q_train_df['anamoly'] == -1]\n",
    "\n",
    "clf_test = IsolationForest(n_estimators=100, max_samples='auto', max_features=1, bootstrap=False, n_jobs= -1, random_state=42, verbose=0)\n",
    "clf_test.fit(q_test_df)\n",
    "pred_test = clf.predict(q_test_df)\n",
    "q_test_df['anamoly'] = pred_test\n",
    "\n",
    "InDistribution_Q_Test = q_test_df[q_test_df['anamoly'] == 1]\n",
    "OutDistribution_Q_Test =q_test_df[q_test_df['anamoly'] == -1]\n",
    "InDistribution_X_Test = x_test_df[q_test_df['anamoly'] == 1]\n",
    "OutDistribution_X_Test =x_test_df[q_test_df['anamoly'] == -1]\n",
    "\n",
    "x_train_1 = InDistribution_X_Train\n",
    "q_train_1 = InDistribution_Q_Train.drop(['anamoly'], axis=1)\n",
    "x_test_1 = InDistribution_X_Test\n",
    "q_test_1 = InDistribution_Q_Test.drop(['anamoly'], axis=1)\n",
    "\n",
    "OOD_x_train = OutDistribution_X_Train\n",
    "OOD_q_train = OutDistribution_Q_Train.drop(['anamoly'], axis=1)\n",
    "OOD_x_test = OutDistribution_X_Test\n",
    "OOD_q_test = OutDistribution_Q_Test.drop(['anamoly'], axis=1)\n",
    "\n",
    "q_test = q_test.drop(['anamoly'], axis=1)\n",
    "\n"
   ]
  },
  {
   "cell_type": "code",
   "execution_count": 8,
   "metadata": {
    "scrolled": false
   },
   "outputs": [
    {
     "name": "stdout",
     "output_type": "stream",
     "text": [
      "(3790, 18) (14062, 18) (4096, 18)\n",
      "(14062, 9) (1563, 9) (3790, 9) (306, 9)\n"
     ]
    }
   ],
   "source": [
    "print(q_test_1.shape, q_train_1.shape, q_test.shape)\n",
    "print(x_train_1.shape, OOD_x_train.shape, x_test_1.shape, OOD_x_test.shape)"
   ]
  },
  {
   "cell_type": "markdown",
   "metadata": {},
   "source": [
    "# Building the model with MC Droput #"
   ]
  },
  {
   "cell_type": "code",
   "execution_count": 9,
   "metadata": {
    "scrolled": true
   },
   "outputs": [
    {
     "data": {
      "text/plain": [
       "'\\nstats_q_train = pd.DataFrame()\\nstats_q_train[\"Mean\"] = q_train.mean()\\nstats_q_train[\"Var\"] = q_train.var()\\nstats_q_train[\"STD\"] = q_train.std()\\nstats_q_train[\"OneSigmaMax\"] = stats_q_train[\"Mean\"] + stats_q_train[\"STD\"]\\nstats_q_train[\"OneSigmaMin\"] = stats_q_train[\"Mean\"] - stats_q_train[\"STD\"]\\nstats_q_train.T\\n\\nmax_std = stats_q_train[\"STD\"].max()\\ncolomn_max_std = stats_q_train[\"STD\"].idxmax()\\n\\nmaximum = stats_q_train.loc[colomn_max_std, \"Mean\"] + (1.5 * max_std)\\nminimum = stats_q_train.loc[colomn_max_std, \"Mean\"] - (1.5 * max_std)\\nprint(maximum, minimum)\\n\\nInDistribution_Q_Train = q_train[q_train[colomn_max_std].le(maximum) & q_train[colomn_max_std].ge(minimum)]\\nOutDistribution_Q_Train = q_train[q_train[colomn_max_std].ge(maximum) | q_train[colomn_max_std].le(minimum)]\\nInDistribution_X_Train = x_train[q_train[colomn_max_std].le(maximum) & q_train[colomn_max_std].ge(minimum)]\\nOutDistribution_X_Train = x_train[q_train[colomn_max_std].ge(maximum) | q_train[colomn_max_std].le(minimum)]\\n\\nInDistribution_Q_Test = q_test[q_test[colomn_max_std].le(maximum) & q_test[colomn_max_std].ge(minimum)]\\nOutDistribution_Q_Test = q_test[q_test[colomn_max_std].ge(maximum) | q_test[colomn_max_std].le(minimum)]\\nInDistribution_X_Test = x_test[q_test[colomn_max_std].le(maximum) & q_test[colomn_max_std].ge(minimum)]\\nOutDistribution_X_Test = x_test[q_test[colomn_max_std].ge(maximum) | q_test[colomn_max_std].le(minimum)]\\n\\nx_train_1 = InDistribution_X_Train\\nq_train_1 = InDistribution_Q_Train\\nx_test_1 = InDistribution_X_Test\\nq_test_1 = InDistribution_Q_Test\\n\\nOOD_x_train = OutDistribution_X_Train\\nOOD_q_train = OutDistribution_Q_Train\\nOOD_x_test = OutDistribution_X_Test\\nOOD_q_test = OutDistribution_Q_Test\\n\\nprint(\"//////////////////////\")\\nprint(x_train_1.shape, OOD_x_train.shape, x_test_1.shape, OOD_x_test.shape)\\n'"
      ]
     },
     "execution_count": 9,
     "metadata": {},
     "output_type": "execute_result"
    }
   ],
   "source": [
    "'''\n",
    "\n",
    "Standard deviation based data splitting\n",
    "\n",
    "We consider the Q features and use the feature with the \n",
    "\n",
    "highest SD for dividing the dataset\n",
    "'''\n",
    "'''\n",
    "stats_q_train = pd.DataFrame()\n",
    "stats_q_train[\"Mean\"] = q_train.mean()\n",
    "stats_q_train[\"Var\"] = q_train.var()\n",
    "stats_q_train[\"STD\"] = q_train.std()\n",
    "stats_q_train[\"OneSigmaMax\"] = stats_q_train[\"Mean\"] + stats_q_train[\"STD\"]\n",
    "stats_q_train[\"OneSigmaMin\"] = stats_q_train[\"Mean\"] - stats_q_train[\"STD\"]\n",
    "stats_q_train.T\n",
    "\n",
    "max_std = stats_q_train[\"STD\"].max()\n",
    "colomn_max_std = stats_q_train[\"STD\"].idxmax()\n",
    "\n",
    "maximum = stats_q_train.loc[colomn_max_std, \"Mean\"] + (1.5 * max_std)\n",
    "minimum = stats_q_train.loc[colomn_max_std, \"Mean\"] - (1.5 * max_std)\n",
    "print(maximum, minimum)\n",
    "\n",
    "InDistribution_Q_Train = q_train[q_train[colomn_max_std].le(maximum) & q_train[colomn_max_std].ge(minimum)]\n",
    "OutDistribution_Q_Train = q_train[q_train[colomn_max_std].ge(maximum) | q_train[colomn_max_std].le(minimum)]\n",
    "InDistribution_X_Train = x_train[q_train[colomn_max_std].le(maximum) & q_train[colomn_max_std].ge(minimum)]\n",
    "OutDistribution_X_Train = x_train[q_train[colomn_max_std].ge(maximum) | q_train[colomn_max_std].le(minimum)]\n",
    "\n",
    "InDistribution_Q_Test = q_test[q_test[colomn_max_std].le(maximum) & q_test[colomn_max_std].ge(minimum)]\n",
    "OutDistribution_Q_Test = q_test[q_test[colomn_max_std].ge(maximum) | q_test[colomn_max_std].le(minimum)]\n",
    "InDistribution_X_Test = x_test[q_test[colomn_max_std].le(maximum) & q_test[colomn_max_std].ge(minimum)]\n",
    "OutDistribution_X_Test = x_test[q_test[colomn_max_std].ge(maximum) | q_test[colomn_max_std].le(minimum)]\n",
    "\n",
    "x_train_1 = InDistribution_X_Train\n",
    "q_train_1 = InDistribution_Q_Train\n",
    "x_test_1 = InDistribution_X_Test\n",
    "q_test_1 = InDistribution_Q_Test\n",
    "\n",
    "OOD_x_train = OutDistribution_X_Train\n",
    "OOD_q_train = OutDistribution_Q_Train\n",
    "OOD_x_test = OutDistribution_X_Test\n",
    "OOD_q_test = OutDistribution_Q_Test\n",
    "\n",
    "print(\"//////////////////////\")\n",
    "print(x_train_1.shape, OOD_x_train.shape, x_test_1.shape, OOD_x_test.shape)\n",
    "'''"
   ]
  },
  {
   "cell_type": "code",
   "execution_count": 10,
   "metadata": {},
   "outputs": [],
   "source": [
    "\n",
    "x_scaler = MinMaxScaler()\n",
    "q_scaler = MinMaxScaler()\n",
    "\n",
    "#In order training set\n",
    "x_train_1 = x_scaler.fit_transform(x_train_1)\n",
    "q_train_1 = q_scaler.fit_transform(q_train_1)\n",
    "\n",
    "#complete test set\n",
    "x_test = x_scaler.transform(x_test)\n",
    "#q_test = q_scaler.transform(q_test)\n",
    "\n",
    "#split testing data\n",
    "IOD_x_test = x_scaler.transform(x_test_1)\n",
    "IOD_q_test = q_scaler.transform(q_test_1)\n",
    "\n",
    "OOD_x_test = x_scaler.transform(OOD_x_test)\n",
    "OOD_q_test = q_scaler.transform(OOD_q_test)"
   ]
  },
  {
   "cell_type": "code",
   "execution_count": 11,
   "metadata": {},
   "outputs": [],
   "source": [
    "def model_builder(input_shape, output_shape):\n",
    "    def build_model(depth, width, reduction_factor):\n",
    "        model = Sequential()\n",
    "\n",
    "        for i in range(depth):\n",
    "            num_neurons = max(int(width * (reduction_factor ** i)), 4)\n",
    "            if i == 0:\n",
    "                model.add(Dense(num_neurons, activation='relu', input_shape=(input_shape,)))\n",
    "            else:\n",
    "                model.add(Dropout(0.5))\n",
    "                model.add(Dense(num_neurons, activation='relu'))\n",
    "                \n",
    "\n",
    "            model.add(BatchNormalization())\n",
    "\n",
    "        model.add(Dense(output_shape, activation='sigmoid'))\n",
    "\n",
    "        model.compile(loss='mse', optimizer='adam', metrics=[\"mae\"])\n",
    "\n",
    "        return model\n",
    "    return build_model\n"
   ]
  },
  {
   "cell_type": "code",
   "execution_count": 12,
   "metadata": {},
   "outputs": [
    {
     "name": "stdout",
     "output_type": "stream",
     "text": [
      "WARNING:tensorflow:From /home/dfki.uni-bremen.de/bmanickavasakan/.local/lib/python3.6/site-packages/tensorflow/python/ops/resource_variable_ops.py:435: colocate_with (from tensorflow.python.framework.ops) is deprecated and will be removed in a future version.\n",
      "Instructions for updating:\n",
      "Colocations handled automatically by placer.\n",
      "WARNING:tensorflow:From /home/dfki.uni-bremen.de/bmanickavasakan/.local/lib/python3.6/site-packages/tensorflow/python/keras/layers/core.py:143: calling dropout (from tensorflow.python.ops.nn_ops) with keep_prob is deprecated and will be removed in a future version.\n",
      "Instructions for updating:\n",
      "Please use `rate` instead of `keep_prob`. Rate should be set to `rate = 1 - keep_prob`.\n",
      "WARNING:tensorflow:From /home/dfki.uni-bremen.de/bmanickavasakan/.local/lib/python3.6/site-packages/tensorflow/python/keras/utils/losses_utils.py:170: to_float (from tensorflow.python.ops.math_ops) is deprecated and will be removed in a future version.\n",
      "Instructions for updating:\n",
      "Use tf.cast instead.\n"
     ]
    }
   ],
   "source": [
    "HYPERPARAMETERS = {'depth': 6, 'width': 64, 'reduction_factor':  0.9}\n",
    "\n",
    "model = model_builder(9, 18)(**HYPERPARAMETERS)\n"
   ]
  },
  {
   "cell_type": "code",
   "execution_count": 13,
   "metadata": {},
   "outputs": [
    {
     "name": "stdout",
     "output_type": "stream",
     "text": [
      "Train on 14062 samples, validate on 3790 samples\n",
      "WARNING:tensorflow:From /home/dfki.uni-bremen.de/bmanickavasakan/.local/lib/python3.6/site-packages/tensorflow/python/ops/math_ops.py:3066: to_int32 (from tensorflow.python.ops.math_ops) is deprecated and will be removed in a future version.\n",
      "Instructions for updating:\n",
      "Use tf.cast instead.\n",
      "Epoch 1/100\n",
      "14062/14062 [==============================] - 3s 214us/sample - loss: 0.1186 - mean_absolute_error: 0.2836 - val_loss: 0.4037 - val_mean_absolute_error: 0.5575\n",
      "Epoch 2/100\n",
      "14062/14062 [==============================] - 1s 106us/sample - loss: 0.0921 - mean_absolute_error: 0.2496 - val_loss: 0.4186 - val_mean_absolute_error: 0.5597\n",
      "Epoch 3/100\n",
      "14062/14062 [==============================] - 1s 106us/sample - loss: 0.0834 - mean_absolute_error: 0.2356 - val_loss: 0.4462 - val_mean_absolute_error: 0.5703\n",
      "Epoch 4/100\n",
      "14062/14062 [==============================] - 1s 105us/sample - loss: 0.0773 - mean_absolute_error: 0.2253 - val_loss: 0.4810 - val_mean_absolute_error: 0.5780\n",
      "Epoch 5/100\n",
      "14062/14062 [==============================] - 1s 103us/sample - loss: 0.0727 - mean_absolute_error: 0.2178 - val_loss: 0.5126 - val_mean_absolute_error: 0.5870\n",
      "Epoch 6/100\n",
      "14062/14062 [==============================] - 2s 107us/sample - loss: 0.0695 - mean_absolute_error: 0.2122 - val_loss: 0.5256 - val_mean_absolute_error: 0.5911\n",
      "Epoch 7/100\n",
      "14062/14062 [==============================] - 1s 105us/sample - loss: 0.0663 - mean_absolute_error: 0.2064 - val_loss: 0.5392 - val_mean_absolute_error: 0.6025\n",
      "Epoch 8/100\n",
      "14062/14062 [==============================] - 1s 100us/sample - loss: 0.0639 - mean_absolute_error: 0.2018 - val_loss: 0.5486 - val_mean_absolute_error: 0.6054\n",
      "Epoch 9/100\n",
      "14062/14062 [==============================] - 1s 98us/sample - loss: 0.0621 - mean_absolute_error: 0.1983 - val_loss: 0.5562 - val_mean_absolute_error: 0.6060\n",
      "Epoch 10/100\n",
      "14062/14062 [==============================] - 1s 106us/sample - loss: 0.0606 - mean_absolute_error: 0.1954 - val_loss: 0.5516 - val_mean_absolute_error: 0.6073\n",
      "Epoch 11/100\n",
      "14062/14062 [==============================] - 1s 104us/sample - loss: 0.0593 - mean_absolute_error: 0.1927 - val_loss: 0.5650 - val_mean_absolute_error: 0.6122\n",
      "Epoch 12/100\n",
      "14062/14062 [==============================] - 1s 103us/sample - loss: 0.0585 - mean_absolute_error: 0.1912 - val_loss: 0.5776 - val_mean_absolute_error: 0.6193\n",
      "Epoch 13/100\n",
      "14062/14062 [==============================] - 1s 105us/sample - loss: 0.0576 - mean_absolute_error: 0.1894 - val_loss: 0.5785 - val_mean_absolute_error: 0.6203\n",
      "Epoch 14/100\n",
      "14062/14062 [==============================] - 1s 104us/sample - loss: 0.0573 - mean_absolute_error: 0.1891 - val_loss: 0.5763 - val_mean_absolute_error: 0.6196\n",
      "Epoch 15/100\n",
      "14062/14062 [==============================] - 1s 103us/sample - loss: 0.0567 - mean_absolute_error: 0.1876 - val_loss: 0.5809 - val_mean_absolute_error: 0.6205\n",
      "Epoch 16/100\n",
      "14062/14062 [==============================] - 1s 102us/sample - loss: 0.0562 - mean_absolute_error: 0.1868 - val_loss: 0.5770 - val_mean_absolute_error: 0.6221\n",
      "Epoch 17/100\n",
      "14062/14062 [==============================] - 1s 105us/sample - loss: 0.0559 - mean_absolute_error: 0.1861 - val_loss: 0.5704 - val_mean_absolute_error: 0.6197\n",
      "Epoch 18/100\n",
      "14062/14062 [==============================] - 1s 106us/sample - loss: 0.0553 - mean_absolute_error: 0.1850 - val_loss: 0.5711 - val_mean_absolute_error: 0.6196\n",
      "Epoch 19/100\n",
      "14062/14062 [==============================] - 2s 107us/sample - loss: 0.0552 - mean_absolute_error: 0.1847 - val_loss: 0.5735 - val_mean_absolute_error: 0.6210\n",
      "Epoch 20/100\n",
      "14062/14062 [==============================] - 1s 104us/sample - loss: 0.0546 - mean_absolute_error: 0.1834 - val_loss: 0.5828 - val_mean_absolute_error: 0.6265\n",
      "Epoch 21/100\n",
      "14062/14062 [==============================] - 2s 107us/sample - loss: 0.0545 - mean_absolute_error: 0.1831 - val_loss: 0.5836 - val_mean_absolute_error: 0.6282\n",
      "Epoch 22/100\n",
      "14062/14062 [==============================] - 1s 103us/sample - loss: 0.0544 - mean_absolute_error: 0.1829 - val_loss: 0.5968 - val_mean_absolute_error: 0.6311\n",
      "Epoch 23/100\n",
      "14062/14062 [==============================] - 1s 104us/sample - loss: 0.0539 - mean_absolute_error: 0.1817 - val_loss: 0.5831 - val_mean_absolute_error: 0.6247\n",
      "Epoch 24/100\n",
      "14062/14062 [==============================] - 2s 107us/sample - loss: 0.0539 - mean_absolute_error: 0.1818 - val_loss: 0.5909 - val_mean_absolute_error: 0.6301\n",
      "Epoch 25/100\n",
      "14062/14062 [==============================] - 1s 106us/sample - loss: 0.0534 - mean_absolute_error: 0.1807 - val_loss: 0.5872 - val_mean_absolute_error: 0.6289\n",
      "Epoch 26/100\n",
      "14062/14062 [==============================] - 1s 101us/sample - loss: 0.0532 - mean_absolute_error: 0.1802 - val_loss: 0.5864 - val_mean_absolute_error: 0.6294\n",
      "Epoch 27/100\n",
      "14062/14062 [==============================] - 1s 103us/sample - loss: 0.0530 - mean_absolute_error: 0.1798 - val_loss: 0.5827 - val_mean_absolute_error: 0.6275\n",
      "Epoch 28/100\n",
      "14062/14062 [==============================] - 2s 108us/sample - loss: 0.0526 - mean_absolute_error: 0.1792 - val_loss: 0.5900 - val_mean_absolute_error: 0.6317\n",
      "Epoch 29/100\n",
      "14062/14062 [==============================] - 1s 105us/sample - loss: 0.0527 - mean_absolute_error: 0.1792 - val_loss: 0.5850 - val_mean_absolute_error: 0.6305\n",
      "Epoch 30/100\n",
      "14062/14062 [==============================] - 1s 107us/sample - loss: 0.0520 - mean_absolute_error: 0.1778 - val_loss: 0.5885 - val_mean_absolute_error: 0.6266\n",
      "Epoch 31/100\n",
      "14062/14062 [==============================] - 2s 109us/sample - loss: 0.0520 - mean_absolute_error: 0.1778 - val_loss: 0.5782 - val_mean_absolute_error: 0.6265\n",
      "Epoch 32/100\n",
      "14062/14062 [==============================] - 1s 104us/sample - loss: 0.0519 - mean_absolute_error: 0.1777 - val_loss: 0.5915 - val_mean_absolute_error: 0.6299\n",
      "Epoch 33/100\n",
      "14062/14062 [==============================] - 1s 104us/sample - loss: 0.0511 - mean_absolute_error: 0.1763 - val_loss: 0.5777 - val_mean_absolute_error: 0.6191\n",
      "Epoch 34/100\n",
      "14062/14062 [==============================] - 1s 103us/sample - loss: 0.0508 - mean_absolute_error: 0.1758 - val_loss: 0.5691 - val_mean_absolute_error: 0.6150\n",
      "Epoch 35/100\n",
      "14062/14062 [==============================] - 1s 106us/sample - loss: 0.0500 - mean_absolute_error: 0.1743 - val_loss: 0.5696 - val_mean_absolute_error: 0.6133\n",
      "Epoch 36/100\n",
      "14062/14062 [==============================] - 2s 108us/sample - loss: 0.0496 - mean_absolute_error: 0.1739 - val_loss: 0.5662 - val_mean_absolute_error: 0.6083\n",
      "Epoch 37/100\n",
      "14062/14062 [==============================] - 1s 105us/sample - loss: 0.0486 - mean_absolute_error: 0.1720 - val_loss: 0.5616 - val_mean_absolute_error: 0.6045\n",
      "Epoch 38/100\n",
      "14062/14062 [==============================] - 1s 103us/sample - loss: 0.0478 - mean_absolute_error: 0.1706 - val_loss: 0.5455 - val_mean_absolute_error: 0.5926\n",
      "Epoch 39/100\n",
      "14062/14062 [==============================] - 1s 105us/sample - loss: 0.0467 - mean_absolute_error: 0.1683 - val_loss: 0.5461 - val_mean_absolute_error: 0.5938\n",
      "Epoch 40/100\n",
      "14062/14062 [==============================] - 1s 105us/sample - loss: 0.0459 - mean_absolute_error: 0.1665 - val_loss: 0.5304 - val_mean_absolute_error: 0.5846\n",
      "Epoch 41/100\n",
      "14062/14062 [==============================] - 1s 106us/sample - loss: 0.0449 - mean_absolute_error: 0.1646 - val_loss: 0.5381 - val_mean_absolute_error: 0.5816\n",
      "Epoch 42/100\n",
      "14062/14062 [==============================] - 2s 107us/sample - loss: 0.0446 - mean_absolute_error: 0.1639 - val_loss: 0.5317 - val_mean_absolute_error: 0.5830\n",
      "Epoch 43/100\n",
      "14062/14062 [==============================] - 2s 108us/sample - loss: 0.0439 - mean_absolute_error: 0.1620 - val_loss: 0.5302 - val_mean_absolute_error: 0.5724\n",
      "Epoch 44/100\n",
      "14062/14062 [==============================] - 1s 106us/sample - loss: 0.0430 - mean_absolute_error: 0.1603 - val_loss: 0.5515 - val_mean_absolute_error: 0.5919\n",
      "Epoch 45/100\n",
      "14062/14062 [==============================] - 1s 106us/sample - loss: 0.0426 - mean_absolute_error: 0.1593 - val_loss: 0.5523 - val_mean_absolute_error: 0.5942\n",
      "Epoch 46/100\n",
      "14062/14062 [==============================] - 1s 105us/sample - loss: 0.0420 - mean_absolute_error: 0.1578 - val_loss: 0.5435 - val_mean_absolute_error: 0.5854\n",
      "Epoch 47/100\n",
      "14062/14062 [==============================] - 1s 105us/sample - loss: 0.0415 - mean_absolute_error: 0.1566 - val_loss: 0.5370 - val_mean_absolute_error: 0.5775\n",
      "Epoch 48/100\n",
      "14062/14062 [==============================] - 1s 103us/sample - loss: 0.0409 - mean_absolute_error: 0.1550 - val_loss: 0.5513 - val_mean_absolute_error: 0.5895\n",
      "Epoch 49/100\n",
      "14062/14062 [==============================] - 1s 105us/sample - loss: 0.0408 - mean_absolute_error: 0.1549 - val_loss: 0.5513 - val_mean_absolute_error: 0.5855\n",
      "Epoch 50/100\n",
      "14062/14062 [==============================] - 1s 104us/sample - loss: 0.0405 - mean_absolute_error: 0.1542 - val_loss: 0.5523 - val_mean_absolute_error: 0.5808\n",
      "Epoch 51/100\n",
      "14062/14062 [==============================] - 1s 105us/sample - loss: 0.0398 - mean_absolute_error: 0.1524 - val_loss: 0.5644 - val_mean_absolute_error: 0.5964\n",
      "Epoch 52/100\n",
      "14062/14062 [==============================] - 1s 104us/sample - loss: 0.0397 - mean_absolute_error: 0.1522 - val_loss: 0.5626 - val_mean_absolute_error: 0.5897\n",
      "Epoch 53/100\n",
      "14062/14062 [==============================] - 1s 104us/sample - loss: 0.0393 - mean_absolute_error: 0.1511 - val_loss: 0.5653 - val_mean_absolute_error: 0.5900\n",
      "Epoch 54/100\n",
      "14062/14062 [==============================] - 2s 107us/sample - loss: 0.0388 - mean_absolute_error: 0.1500 - val_loss: 0.5654 - val_mean_absolute_error: 0.5913\n",
      "Epoch 55/100\n",
      "14062/14062 [==============================] - 1s 104us/sample - loss: 0.0387 - mean_absolute_error: 0.1493 - val_loss: 0.5763 - val_mean_absolute_error: 0.5974\n",
      "Epoch 56/100\n",
      "14062/14062 [==============================] - 1s 104us/sample - loss: 0.0385 - mean_absolute_error: 0.1489 - val_loss: 0.5678 - val_mean_absolute_error: 0.5901\n",
      "Epoch 57/100\n",
      "14062/14062 [==============================] - 1s 103us/sample - loss: 0.0381 - mean_absolute_error: 0.1476 - val_loss: 0.5709 - val_mean_absolute_error: 0.5926\n",
      "Epoch 58/100\n",
      "14062/14062 [==============================] - 1s 105us/sample - loss: 0.0378 - mean_absolute_error: 0.1472 - val_loss: 0.5760 - val_mean_absolute_error: 0.6003\n",
      "Epoch 59/100\n",
      "14062/14062 [==============================] - 1s 106us/sample - loss: 0.0374 - mean_absolute_error: 0.1459 - val_loss: 0.5780 - val_mean_absolute_error: 0.6026\n",
      "Epoch 60/100\n",
      "14062/14062 [==============================] - 1s 106us/sample - loss: 0.0373 - mean_absolute_error: 0.1454 - val_loss: 0.5757 - val_mean_absolute_error: 0.5986\n",
      "Epoch 61/100\n",
      "14062/14062 [==============================] - 1s 103us/sample - loss: 0.0371 - mean_absolute_error: 0.1450 - val_loss: 0.5745 - val_mean_absolute_error: 0.5946\n",
      "Epoch 62/100\n",
      "14062/14062 [==============================] - 1s 103us/sample - loss: 0.0367 - mean_absolute_error: 0.1440 - val_loss: 0.5741 - val_mean_absolute_error: 0.6014\n",
      "Epoch 63/100\n",
      "14062/14062 [==============================] - 1s 102us/sample - loss: 0.0367 - mean_absolute_error: 0.1436 - val_loss: 0.5774 - val_mean_absolute_error: 0.5972\n",
      "Epoch 64/100\n",
      "14062/14062 [==============================] - 2s 108us/sample - loss: 0.0361 - mean_absolute_error: 0.1422 - val_loss: 0.5827 - val_mean_absolute_error: 0.6048\n",
      "Epoch 65/100\n",
      "14062/14062 [==============================] - 1s 104us/sample - loss: 0.0361 - mean_absolute_error: 0.1419 - val_loss: 0.5928 - val_mean_absolute_error: 0.6176\n",
      "Epoch 66/100\n",
      "14062/14062 [==============================] - 1s 103us/sample - loss: 0.0358 - mean_absolute_error: 0.1413 - val_loss: 0.5843 - val_mean_absolute_error: 0.6102\n",
      "Epoch 67/100\n",
      "14062/14062 [==============================] - 1s 104us/sample - loss: 0.0355 - mean_absolute_error: 0.1404 - val_loss: 0.5809 - val_mean_absolute_error: 0.6041\n",
      "Epoch 68/100\n",
      "14062/14062 [==============================] - 1s 105us/sample - loss: 0.0352 - mean_absolute_error: 0.1397 - val_loss: 0.5859 - val_mean_absolute_error: 0.6131\n",
      "Epoch 69/100\n",
      "14062/14062 [==============================] - 1s 103us/sample - loss: 0.0351 - mean_absolute_error: 0.1393 - val_loss: 0.5854 - val_mean_absolute_error: 0.6067\n",
      "Epoch 70/100\n",
      "14062/14062 [==============================] - 1s 103us/sample - loss: 0.0347 - mean_absolute_error: 0.1383 - val_loss: 0.5841 - val_mean_absolute_error: 0.6061\n",
      "Epoch 71/100\n",
      "14062/14062 [==============================] - 1s 106us/sample - loss: 0.0348 - mean_absolute_error: 0.1382 - val_loss: 0.5861 - val_mean_absolute_error: 0.6092\n",
      "Epoch 72/100\n",
      "14062/14062 [==============================] - 1s 103us/sample - loss: 0.0347 - mean_absolute_error: 0.1381 - val_loss: 0.5818 - val_mean_absolute_error: 0.6013\n",
      "Epoch 73/100\n",
      "14062/14062 [==============================] - 1s 103us/sample - loss: 0.0346 - mean_absolute_error: 0.1375 - val_loss: 0.5891 - val_mean_absolute_error: 0.6150\n",
      "Epoch 74/100\n",
      "14062/14062 [==============================] - 1s 104us/sample - loss: 0.0342 - mean_absolute_error: 0.1369 - val_loss: 0.5883 - val_mean_absolute_error: 0.6126\n",
      "Epoch 75/100\n",
      "14062/14062 [==============================] - 1s 107us/sample - loss: 0.0341 - mean_absolute_error: 0.1364 - val_loss: 0.5959 - val_mean_absolute_error: 0.6135\n",
      "Epoch 76/100\n",
      "14062/14062 [==============================] - 1s 104us/sample - loss: 0.0343 - mean_absolute_error: 0.1368 - val_loss: 0.5964 - val_mean_absolute_error: 0.6207\n",
      "Epoch 77/100\n",
      "14062/14062 [==============================] - 2s 109us/sample - loss: 0.0336 - mean_absolute_error: 0.1350 - val_loss: 0.6040 - val_mean_absolute_error: 0.6299\n",
      "Epoch 78/100\n",
      "14062/14062 [==============================] - 2s 114us/sample - loss: 0.0338 - mean_absolute_error: 0.1355 - val_loss: 0.5947 - val_mean_absolute_error: 0.6159\n",
      "Epoch 79/100\n",
      "14062/14062 [==============================] - 1s 105us/sample - loss: 0.0338 - mean_absolute_error: 0.1355 - val_loss: 0.5978 - val_mean_absolute_error: 0.6205\n",
      "Epoch 80/100\n",
      "14062/14062 [==============================] - 1s 102us/sample - loss: 0.0335 - mean_absolute_error: 0.1346 - val_loss: 0.5980 - val_mean_absolute_error: 0.6204\n",
      "Epoch 81/100\n",
      "14062/14062 [==============================] - 1s 105us/sample - loss: 0.0336 - mean_absolute_error: 0.1349 - val_loss: 0.6002 - val_mean_absolute_error: 0.6203\n",
      "Epoch 82/100\n",
      "14062/14062 [==============================] - 1s 105us/sample - loss: 0.0337 - mean_absolute_error: 0.1350 - val_loss: 0.6034 - val_mean_absolute_error: 0.6223\n",
      "Epoch 83/100\n",
      "14062/14062 [==============================] - 1s 105us/sample - loss: 0.0329 - mean_absolute_error: 0.1328 - val_loss: 0.6033 - val_mean_absolute_error: 0.6251\n",
      "Epoch 84/100\n",
      "14062/14062 [==============================] - 1s 101us/sample - loss: 0.0332 - mean_absolute_error: 0.1336 - val_loss: 0.5990 - val_mean_absolute_error: 0.6192\n",
      "Epoch 85/100\n",
      "14062/14062 [==============================] - 1s 104us/sample - loss: 0.0332 - mean_absolute_error: 0.1338 - val_loss: 0.6033 - val_mean_absolute_error: 0.6249\n",
      "Epoch 86/100\n",
      "14062/14062 [==============================] - 1s 103us/sample - loss: 0.0329 - mean_absolute_error: 0.1329 - val_loss: 0.6089 - val_mean_absolute_error: 0.6293\n",
      "Epoch 87/100\n",
      "14062/14062 [==============================] - 1s 102us/sample - loss: 0.0328 - mean_absolute_error: 0.1329 - val_loss: 0.6028 - val_mean_absolute_error: 0.6266\n",
      "Epoch 88/100\n",
      "14062/14062 [==============================] - 1s 102us/sample - loss: 0.0331 - mean_absolute_error: 0.1331 - val_loss: 0.6045 - val_mean_absolute_error: 0.6251\n",
      "Epoch 89/100\n",
      "14062/14062 [==============================] - 2s 108us/sample - loss: 0.0327 - mean_absolute_error: 0.1325 - val_loss: 0.6049 - val_mean_absolute_error: 0.6246\n",
      "Epoch 90/100\n",
      "14062/14062 [==============================] - 1s 105us/sample - loss: 0.0327 - mean_absolute_error: 0.1322 - val_loss: 0.5988 - val_mean_absolute_error: 0.6208\n",
      "Epoch 91/100\n",
      "14062/14062 [==============================] - 1s 104us/sample - loss: 0.0324 - mean_absolute_error: 0.1312 - val_loss: 0.6002 - val_mean_absolute_error: 0.6215\n",
      "Epoch 92/100\n",
      "14062/14062 [==============================] - 1s 106us/sample - loss: 0.0329 - mean_absolute_error: 0.1327 - val_loss: 0.5996 - val_mean_absolute_error: 0.6232\n",
      "Epoch 93/100\n"
     ]
    },
    {
     "name": "stdout",
     "output_type": "stream",
     "text": [
      "14062/14062 [==============================] - 1s 105us/sample - loss: 0.0327 - mean_absolute_error: 0.1322 - val_loss: 0.6030 - val_mean_absolute_error: 0.6230\n",
      "Epoch 94/100\n",
      "14062/14062 [==============================] - 2s 107us/sample - loss: 0.0323 - mean_absolute_error: 0.1312 - val_loss: 0.6028 - val_mean_absolute_error: 0.6251\n",
      "Epoch 95/100\n",
      "14062/14062 [==============================] - 1s 101us/sample - loss: 0.0325 - mean_absolute_error: 0.1315 - val_loss: 0.6033 - val_mean_absolute_error: 0.6225\n",
      "Epoch 96/100\n",
      "14062/14062 [==============================] - 1s 106us/sample - loss: 0.0323 - mean_absolute_error: 0.1312 - val_loss: 0.6076 - val_mean_absolute_error: 0.6286\n",
      "Epoch 97/100\n",
      "14062/14062 [==============================] - 1s 102us/sample - loss: 0.0321 - mean_absolute_error: 0.1305 - val_loss: 0.6115 - val_mean_absolute_error: 0.6332\n",
      "Epoch 98/100\n",
      "14062/14062 [==============================] - 1s 105us/sample - loss: 0.0325 - mean_absolute_error: 0.1313 - val_loss: 0.6128 - val_mean_absolute_error: 0.6309\n",
      "Epoch 99/100\n",
      "14062/14062 [==============================] - 1s 104us/sample - loss: 0.0323 - mean_absolute_error: 0.1308 - val_loss: 0.6151 - val_mean_absolute_error: 0.6339\n",
      "Epoch 100/100\n",
      "14062/14062 [==============================] - 1s 105us/sample - loss: 0.0324 - mean_absolute_error: 0.1312 - val_loss: 0.6134 - val_mean_absolute_error: 0.6306\n"
     ]
    }
   ],
   "source": [
    "import tensorflow as tf\n",
    "with tf.device('/gpu:2'):\n",
    "    hist = model.fit(x_train_1, q_train_1, epochs = 100, batch_size = 128, verbose = 1, validation_data=(IOD_x_test, IOD_q_test), use_multiprocessing=True, workers=1000)\n"
   ]
  },
  {
   "cell_type": "code",
   "execution_count": 14,
   "metadata": {},
   "outputs": [],
   "source": [
    "import tensorflow as tf\n",
    "model_iso = tf.keras.models.load_model(\"MC_DROPOUT_OOD_SD_MODEL.h5\")"
   ]
  },
  {
   "cell_type": "code",
   "execution_count": 15,
   "metadata": {},
   "outputs": [
    {
     "name": "stdout",
     "output_type": "stream",
     "text": [
      "Testing MAE: 0.57966\n",
      "Testing MAEX: 0.57966\n",
      "Q feature 0 has unnorm MAE: 0.6455 (Range 0.0000 to 1.0000) normalized MAE: 0.6455\n",
      "Q feature 1 has unnorm MAE: 0.4475 (Range 0.0000 to 1.0000) normalized MAE: 0.4475\n",
      "Q feature 2 has unnorm MAE: 1.3989 (Range 0.0000 to 1.0000) normalized MAE: 1.3989\n",
      "Q feature 3 has unnorm MAE: 1.4188 (Range 0.0000 to 1.0000) normalized MAE: 1.4188\n",
      "Q feature 4 has unnorm MAE: 0.0603 (Range 0.0000 to 1.0000) normalized MAE: 0.0603\n",
      "Q feature 5 has unnorm MAE: 0.4072 (Range 0.0000 to 1.0000) normalized MAE: 0.4072\n",
      "Q feature 6 has unnorm MAE: 0.8011 (Range 0.0000 to 1.0000) normalized MAE: 0.8011\n",
      "Q feature 7 has unnorm MAE: 0.0566 (Range 0.0000 to 1.0000) normalized MAE: 0.0566\n",
      "Q feature 8 has unnorm MAE: 0.3688 (Range 0.0000 to 1.0000) normalized MAE: 0.3688\n",
      "Q feature 9 has unnorm MAE: 0.8046 (Range 0.0000 to 1.0000) normalized MAE: 0.8046\n",
      "Q feature 10 has unnorm MAE: 0.8319 (Range 0.0000 to 1.0000) normalized MAE: 0.8319\n",
      "Q feature 11 has unnorm MAE: 0.8111 (Range 0.0000 to 1.0000) normalized MAE: 0.8111\n",
      "Q feature 12 has unnorm MAE: 0.5407 (Range 0.0000 to 1.0000) normalized MAE: 0.5407\n",
      "Q feature 13 has unnorm MAE: 0.0979 (Range 0.0000 to 1.0000) normalized MAE: 0.0979\n",
      "Q feature 14 has unnorm MAE: 0.7224 (Range 0.0000 to 1.0000) normalized MAE: 0.7224\n",
      "Q feature 15 has unnorm MAE: 0.3750 (Range 0.0000 to 1.0000) normalized MAE: 0.3750\n",
      "Q feature 16 has unnorm MAE: 0.5582 (Range 0.0000 to 1.0000) normalized MAE: 0.5582\n",
      "Q feature 17 has unnorm MAE: 0.0873 (Range 0.0000 to 1.0000) normalized MAE: 0.0873\n"
     ]
    }
   ],
   "source": [
    "q_pred = model_iso.predict(IOD_x_test, verbose=0)\n",
    "q_unnorm = q_scaler.inverse_transform(IOD_q_test)\n",
    "q_pred_unnorm = q_scaler.inverse_transform(q_pred)\n",
    "\n",
    "global_mae = mean_absolute_error(IOD_q_test, q_pred)\n",
    "mae_1 = mean_absolute_error(q_unnorm, q_pred_unnorm)\n",
    "\n",
    "print(\"Testing MAE: {:.5f}\".format(global_mae))\n",
    "print(\"Testing MAEX: {:.5f}\".format(mae_1))\n",
    "\n",
    "\n",
    "# Compute MAE for each output independently.\n",
    "for i in range(IOD_q_test.shape[1]):\n",
    "    norm_mae_i = mean_absolute_error(IOD_q_test[:, i], q_pred[:, i])\n",
    "    mae_i = mean_absolute_error(q_unnorm[:, i], q_pred_unnorm[:, i])\n",
    "    print(\"Q feature {} has unnorm MAE: {:.4f} (Range {:.4f} to {:.4f}) normalized MAE: {:.4f}\".format(i, mae_i, q_scaler.data_min_[i], q_scaler.data_max_[i], norm_mae_i))\n"
   ]
  },
  {
   "cell_type": "markdown",
   "metadata": {},
   "source": [
    "# MC Dropout Regressor, O/P : mean, Std #"
   ]
  },
  {
   "cell_type": "code",
   "execution_count": 16,
   "metadata": {
    "scrolled": true
   },
   "outputs": [],
   "source": [
    "def test_mcdropout_regressor(x_test_values, q_test_values, model, data_scaler):   \n",
    "    mc_model = MCDropoutRegressor(model)\n",
    "    inp = x_test_values  \n",
    "    \n",
    "    mean, std = mc_model.predict(inp, num_samples = 10)\n",
    "    \n",
    "    q_pred_unnormalised = data_scaler.inverse_transform(mean)\n",
    "    \n",
    "    q_sd_unnromalised = data_scaler.inverse_transform(std)\n",
    "    \n",
    "    global_mae = mean_absolute_error(q_test_values, mean)\n",
    "\n",
    "    print(\"Testing MAE: {:.5f}\".format(global_mae))\n",
    "\n",
    "    return q_pred_unnormalised, q_sd_unnromalised\n"
   ]
  },
  {
   "cell_type": "code",
   "execution_count": 17,
   "metadata": {},
   "outputs": [
    {
     "name": "stdout",
     "output_type": "stream",
     "text": [
      "Testing MAE: 0.56598\n",
      "NLL: 95.12561\n"
     ]
    }
   ],
   "source": [
    "\n",
    "mean_1, std_1 = test_mcdropout_regressor(x_test, q_test, model, q_scaler)\n",
    "\n",
    "q_test_unorm = q_scaler.inverse_transform(q_test)\n",
    "\n",
    "print(\"NLL: {:.5f}\".format(numpy_regression_nll(q_test_unorm, mean_1, std_1**2)))\n"
   ]
  },
  {
   "cell_type": "code",
   "execution_count": 18,
   "metadata": {
    "scrolled": true
   },
   "outputs": [
    {
     "name": "stdout",
     "output_type": "stream",
     "text": [
      "Testing MAE: 0.56049\n",
      "NLL: 153.47614\n"
     ]
    }
   ],
   "source": [
    "mean_test_IOD, sd_test_IOD = test_mcdropout_regressor(IOD_x_test, IOD_q_test, model_iso, q_scaler)\n",
    "q_test_unorm = q_scaler.inverse_transform(IOD_q_test)\n",
    "print(\"NLL: {:.5f}\".format(numpy_regression_nll(q_test_unorm, mean_test_IOD, sd_test_IOD**2)))"
   ]
  },
  {
   "cell_type": "code",
   "execution_count": 19,
   "metadata": {},
   "outputs": [
    {
     "name": "stdout",
     "output_type": "stream",
     "text": [
      "Testing MAE: 0.35678\n",
      "NLL: 47.06870\n"
     ]
    }
   ],
   "source": [
    "mean_test_OOD, sd_test_OOD = test_mcdropout_regressor(OOD_x_test, OOD_q_test, model_iso, q_scaler)\n",
    "q_test_unorm = q_scaler.inverse_transform(OOD_q_test)\n",
    "print(\"NLL: {:.5f}\".format(numpy_regression_nll(q_test_unorm, mean_test_OOD, sd_test_OOD**2)))"
   ]
  },
  {
   "cell_type": "code",
   "execution_count": 39,
   "metadata": {},
   "outputs": [],
   "source": [
    "col_no = 2"
   ]
  },
  {
   "cell_type": "code",
   "execution_count": 40,
   "metadata": {
    "scrolled": false
   },
   "outputs": [
    {
     "data": {
      "image/png": "[encoded data removed]",
      "text/plain": [
       "<Figure size 432x288 with 1 Axes>"
      ]
     },
     "metadata": {
      "needs_background": "light"
     },
     "output_type": "display_data"
    }
   ],
   "source": [
    "sd_test_IOD_df = pd.DataFrame(sd_test_IOD)\n",
    "sd_test_OOD_df = pd.DataFrame(sd_test_OOD)\n",
    "new_scores = np.concatenate([sd_test_IOD_df[col_no], sd_test_OOD_df[col_no]], axis=0)\n",
    "minmaxscaler = MinMaxScaler()\n",
    "new_scores_scaled = minmaxscaler.fit_transform(new_scores.reshape(-1, 1))\n",
    "\n",
    "new_labels = np.concatenate([np.zeros_like(sd_test_IOD_df[col_no]), np.ones_like(sd_test_OOD_df[col_no])], axis=0)\n",
    "histogram_df = pd.DataFrame(new_scores_scaled, new_labels)\n",
    "\n",
    "#histogram_df.hist(column=0)\n",
    "\n",
    "#sd_test_IOD_df.hist(column=0)\n",
    "#sd_test_OOD_df.hist(column=0)\n",
    "import matplotlib.pyplot as plt\n",
    "fig, ax = plt.subplots()\n",
    "\n",
    "a_heights, a_bins = np.histogram(sd_test_IOD_df[col_no].values.reshape(-1, 1), density=True)\n",
    "b_heights, b_bins = np.histogram(sd_test_OOD_df[col_no].values.reshape(-1, 1), bins=a_bins, density=True)\n",
    "\n",
    "width = (a_bins[1] - a_bins[0])/3\n",
    "\n",
    "ax.bar(a_bins[:-1], a_heights, width = width, facecolor='blue',label=\"IOD SD\")\n",
    "ax.bar(b_bins[:-1]+width, b_heights, width = width, facecolor='red', label=\"OOD SD\")\n",
    "ax.legend()\n",
    "ax.set_xlabel(\"Standard Deviation\")\n",
    "ax.set_ylabel(\"Normalised density of Samples\")\n",
    "fig.savefig(\"density_vs_sd_dropout_iso_split_col_2.pdf\")"
   ]
  },
  {
   "cell_type": "code",
   "execution_count": 41,
   "metadata": {},
   "outputs": [
    {
     "name": "stdout",
     "output_type": "stream",
     "text": [
      "0.5080716367461673\n"
     ]
    },
    {
     "data": {
      "image/png": "[encoded data removed]",
      "text/plain": [
       "<Figure size 432x288 with 1 Axes>"
      ]
     },
     "metadata": {
      "needs_background": "light"
     },
     "output_type": "display_data"
    }
   ],
   "source": [
    "from sklearn.metrics import roc_curve, roc_auc_score\n",
    "\n",
    "norm_scores = new_scores - min(new_scores) / (max(new_scores) - min(new_scores))\n",
    "\n",
    "auc = roc_auc_score(new_labels, new_scores)\n",
    "fpr, tpr, threshs = roc_curve(new_labels, norm_scores, drop_intermediate=True)\n",
    "print(auc)\n",
    "plt.xlabel('FPR', fontsize=13)\n",
    "plt.ylabel('TPR', fontsize=13)\n",
    "plt.title('Receiver Operating Characteristic')\n",
    "plt.plot(fpr, tpr)\n",
    "plt.savefig(\"auc_dropout_iso_split_col_2.pdf\")\n",
    "plt.show()\n"
   ]
  },
  {
   "cell_type": "code",
   "execution_count": null,
   "metadata": {},
   "outputs": [],
   "source": []
  },
  {
   "cell_type": "code",
   "execution_count": null,
   "metadata": {},
   "outputs": [],
   "source": []
  }
 ],
 "metadata": {
  "kernelspec": {
   "display_name": "Python 3",
   "language": "python",
   "name": "python3"
  },
  "language_info": {
   "codemirror_mode": {
    "name": "ipython",
    "version": 3
   },
   "file_extension": ".py",
   "mimetype": "text/x-python",
   "name": "python",
   "nbconvert_exporter": "python",
   "pygments_lexer": "ipython3",
   "version": "3.6.9"
  }
 },
 "nbformat": 4,
 "nbformat_minor": 4
}
