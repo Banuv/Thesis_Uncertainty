{
 "cells": [
  {
   "cell_type": "markdown",
   "metadata": {},
   "source": [
    "# All imports #"
   ]
  },
  {
   "cell_type": "code",
   "execution_count": 1,
   "metadata": {
    "scrolled": true
   },
   "outputs": [
    {
     "name": "stderr",
     "output_type": "stream",
     "text": [
      "/home/dfki.uni-bremen.de/bmanickavasakan/.local/lib/python3.6/site-packages/tensorflow/python/framework/dtypes.py:526: FutureWarning: Passing (type, 1) or '1type' as a synonym of type is deprecated; in a future version of numpy, it will be understood as (type, (1,)) / '(1,)type'.\n",
      "  _np_qint8 = np.dtype([(\"qint8\", np.int8, 1)])\n",
      "/home/dfki.uni-bremen.de/bmanickavasakan/.local/lib/python3.6/site-packages/tensorflow/python/framework/dtypes.py:527: FutureWarning: Passing (type, 1) or '1type' as a synonym of type is deprecated; in a future version of numpy, it will be understood as (type, (1,)) / '(1,)type'.\n",
      "  _np_quint8 = np.dtype([(\"quint8\", np.uint8, 1)])\n",
      "/home/dfki.uni-bremen.de/bmanickavasakan/.local/lib/python3.6/site-packages/tensorflow/python/framework/dtypes.py:528: FutureWarning: Passing (type, 1) or '1type' as a synonym of type is deprecated; in a future version of numpy, it will be understood as (type, (1,)) / '(1,)type'.\n",
      "  _np_qint16 = np.dtype([(\"qint16\", np.int16, 1)])\n",
      "/home/dfki.uni-bremen.de/bmanickavasakan/.local/lib/python3.6/site-packages/tensorflow/python/framework/dtypes.py:529: FutureWarning: Passing (type, 1) or '1type' as a synonym of type is deprecated; in a future version of numpy, it will be understood as (type, (1,)) / '(1,)type'.\n",
      "  _np_quint16 = np.dtype([(\"quint16\", np.uint16, 1)])\n",
      "/home/dfki.uni-bremen.de/bmanickavasakan/.local/lib/python3.6/site-packages/tensorflow/python/framework/dtypes.py:530: FutureWarning: Passing (type, 1) or '1type' as a synonym of type is deprecated; in a future version of numpy, it will be understood as (type, (1,)) / '(1,)type'.\n",
      "  _np_qint32 = np.dtype([(\"qint32\", np.int32, 1)])\n",
      "/home/dfki.uni-bremen.de/bmanickavasakan/.local/lib/python3.6/site-packages/tensorflow/python/framework/dtypes.py:535: FutureWarning: Passing (type, 1) or '1type' as a synonym of type is deprecated; in a future version of numpy, it will be understood as (type, (1,)) / '(1,)type'.\n",
      "  np_resource = np.dtype([(\"resource\", np.ubyte, 1)])\n",
      "Using TensorFlow backend.\n"
     ]
    }
   ],
   "source": [
    "from __future__ import print_function\n",
    "\n",
    "import sys, os\n",
    "import tensorflow as tf\n",
    "import tensorflow.keras\n",
    "import pandas as pd\n",
    "import numpy as np\n",
    "import sklearn\n",
    "import keras\n",
    "import csv\n",
    "\n",
    "from sklearn.preprocessing import MinMaxScaler\n",
    "from sklearn.metrics import mean_absolute_error\n",
    "from sklearn.model_selection import train_test_split\n",
    "\n",
    "from tensorflow.keras.models import Sequential, load_model\n",
    "from tensorflow.keras.layers import Dense, BatchNormalization, Dropout\n",
    "\n",
    "from keras_uncertainty.models import MCDropoutClassifier, MCDropoutRegressor\n",
    "from keras_uncertainty.utils import numpy_regression_nll\n"
   ]
  },
  {
   "cell_type": "code",
   "execution_count": 2,
   "metadata": {},
   "outputs": [],
   "source": [
    "def load_joint_space_csv_chunks(file_path):\n",
    "    data_frame = pd.read_csv(file_path, skiprows=1, header=None)\n",
    "    del data_frame[18]\n",
    "    return data_frame\n",
    "\n",
    "def load_task_space_csv_chunks(file_path):\n",
    "    return pd.read_csv(file_path, skiprows=1, header=None)\n"
   ]
  },
  {
   "cell_type": "code",
   "execution_count": 3,
   "metadata": {},
   "outputs": [],
   "source": [
    "##please select the appropriate folder, willl use os.path.join() for completed script\n",
    "TRAIN_FOLDER = '/home/dfki.uni-bremen.de/bmanickavasakan/newdataset_rh5_leg/leg_5steps/'\n",
    "TEST_FOLDER = '/home/dfki.uni-bremen.de/bmanickavasakan/newdataset_rh5_leg/leg_5steps/test_4steps'\n",
    "\n",
    "X_TRAIN_FILE = os.path.join(TRAIN_FOLDER, 'leg_forwardkinematics_x.csv')\n",
    "Q_TRAIN_FILE = os.path.join(TRAIN_FOLDER, 'leg_sysstate_q.csv')\n",
    "x_train = load_task_space_csv_chunks(X_TRAIN_FILE)\n",
    "q_train = load_joint_space_csv_chunks(Q_TRAIN_FILE)\n",
    "\n",
    "X_TEST_FILE = os.path.join(TEST_FOLDER, 'leg_forwardkinematics_x.csv')\n",
    "Q_TEST_FILE = os.path.join(TEST_FOLDER, 'leg_sysstate_q.csv')\n",
    "x_test = load_task_space_csv_chunks(X_TEST_FILE)\n",
    "q_test = load_joint_space_csv_chunks(Q_TEST_FILE)"
   ]
  },
  {
   "cell_type": "markdown",
   "metadata": {},
   "source": [
    "# Building the model with MC Droput #"
   ]
  },
  {
   "cell_type": "code",
   "execution_count": 4,
   "metadata": {
    "scrolled": true
   },
   "outputs": [
    {
     "name": "stdout",
     "output_type": "stream",
     "text": [
      "//////////////////////\n",
      "(9375, 9) (6250, 9) (2304, 9) (2048, 9)\n"
     ]
    }
   ],
   "source": [
    "\"\"\"\n",
    "+/- based data splitting\n",
    "We consider the Q features and use the feature with the highest SD for dividing the dataset. \n",
    "We consider all the positive values as IOD and all the negative values as OOD\n",
    "\"\"\"\n",
    "\n",
    "stats_q_train = pd.DataFrame()\n",
    "stats_q_train[\"Mean\"] = q_train.mean()\n",
    "stats_q_train[\"Var\"] = q_train.var()\n",
    "stats_q_train[\"STD\"] = q_train.std()\n",
    "stats_q_train[\"OneSigmaMax\"] = stats_q_train[\"Mean\"] + stats_q_train[\"STD\"]\n",
    "stats_q_train[\"OneSigmaMin\"] = stats_q_train[\"Mean\"] - stats_q_train[\"STD\"]\n",
    "stats_q_train.T\n",
    "\n",
    "max_std = stats_q_train[\"STD\"].max()\n",
    "colomn_max_std = stats_q_train[\"STD\"].idxmax()\n",
    "\n",
    "value = 0\n",
    "\n",
    "InDistribution_Q_Train =  q_train[q_train[colomn_max_std].ge(value)]\n",
    "OutDistribution_Q_Train = q_train[q_train[colomn_max_std].le(value)]\n",
    "InDistribution_X_Train =  x_train[q_train[colomn_max_std].ge(value)]\n",
    "OutDistribution_X_Train = x_train[q_train[colomn_max_std].le(value)]\n",
    "\n",
    "InDistribution_Q_Test =  q_test[q_test[colomn_max_std].ge(value)]\n",
    "OutDistribution_Q_Test = q_test[q_test[colomn_max_std].le(value)]\n",
    "InDistribution_X_Test =  x_test[q_test[colomn_max_std].ge(value)]\n",
    "OutDistribution_X_Test = x_test[q_test[colomn_max_std].le(value)]\n",
    "\n",
    "x_train_1 = InDistribution_X_Train\n",
    "q_train_1 = InDistribution_Q_Train\n",
    "x_test_1 = InDistribution_X_Test\n",
    "q_test_1 = InDistribution_Q_Test\n",
    "\n",
    "OOD_x_train = OutDistribution_X_Train\n",
    "OOD_q_train = OutDistribution_Q_Train\n",
    "OOD_x_test = OutDistribution_X_Test\n",
    "OOD_q_test = OutDistribution_Q_Test\n",
    "\n",
    "print(\"//////////////////////\")\n",
    "print(x_train_1.shape, OOD_x_train.shape, x_test_1.shape, OOD_x_test.shape)\n"
   ]
  },
  {
   "cell_type": "code",
   "execution_count": 5,
   "metadata": {},
   "outputs": [],
   "source": [
    "\n",
    "x_scaler = MinMaxScaler()\n",
    "q_scaler = MinMaxScaler()\n",
    "\n",
    "#In order training set\n",
    "x_train_1 = x_scaler.fit_transform(x_train_1)\n",
    "q_train_1 = q_scaler.fit_transform(q_train_1)\n",
    "\n",
    "#complete test set\n",
    "x_test = x_scaler.transform(x_test)\n",
    "#q_test = q_scaler.transform(q_test)\n",
    "\n",
    "#split testing data\n",
    "IOD_x_test = x_scaler.transform(x_test_1)\n",
    "IOD_q_test = q_scaler.transform(q_test_1)\n",
    "\n",
    "OOD_x_test = x_scaler.transform(OOD_x_test)\n",
    "OOD_q_test = q_scaler.transform(OOD_q_test)"
   ]
  },
  {
   "cell_type": "code",
   "execution_count": 6,
   "metadata": {},
   "outputs": [],
   "source": [
    "def model_builder(input_shape, output_shape):\n",
    "    def build_model(depth, width, reduction_factor):\n",
    "        model = Sequential()\n",
    "\n",
    "        for i in range(depth):\n",
    "            num_neurons = max(int(width * (reduction_factor ** i)), 4)\n",
    "            if i == 0:\n",
    "                model.add(Dense(num_neurons, activation='relu', input_shape=(input_shape,)))\n",
    "            else:\n",
    "                model.add(Dense(num_neurons, activation='relu'))\n",
    "                model.add(Dropout(0.5))\n",
    "\n",
    "            model.add(BatchNormalization())\n",
    "\n",
    "        model.add(Dense(output_shape, activation='sigmoid'))\n",
    "\n",
    "        model.compile(loss='mse', optimizer='adam', metrics=[\"mae\"])\n",
    "\n",
    "        return model\n",
    "    return build_model\n"
   ]
  },
  {
   "cell_type": "code",
   "execution_count": 7,
   "metadata": {
    "scrolled": true
   },
   "outputs": [
    {
     "name": "stdout",
     "output_type": "stream",
     "text": [
      "WARNING:tensorflow:From /home/dfki.uni-bremen.de/bmanickavasakan/.local/lib/python3.6/site-packages/tensorflow/python/ops/resource_variable_ops.py:435: colocate_with (from tensorflow.python.framework.ops) is deprecated and will be removed in a future version.\n",
      "Instructions for updating:\n",
      "Colocations handled automatically by placer.\n",
      "WARNING:tensorflow:From /home/dfki.uni-bremen.de/bmanickavasakan/.local/lib/python3.6/site-packages/tensorflow/python/keras/layers/core.py:143: calling dropout (from tensorflow.python.ops.nn_ops) with keep_prob is deprecated and will be removed in a future version.\n",
      "Instructions for updating:\n",
      "Please use `rate` instead of `keep_prob`. Rate should be set to `rate = 1 - keep_prob`.\n",
      "WARNING:tensorflow:From /home/dfki.uni-bremen.de/bmanickavasakan/.local/lib/python3.6/site-packages/tensorflow/python/keras/utils/losses_utils.py:170: to_float (from tensorflow.python.ops.math_ops) is deprecated and will be removed in a future version.\n",
      "Instructions for updating:\n",
      "Use tf.cast instead.\n"
     ]
    }
   ],
   "source": [
    "HYPERPARAMETERS = {'depth': 6, 'width': 64, 'reduction_factor':  1.1}\n",
    "with tf.device('/gpu:0'):\n",
    "    model = model_builder(9, 18)(**HYPERPARAMETERS)\n"
   ]
  },
  {
   "cell_type": "code",
   "execution_count": 8,
   "metadata": {
    "scrolled": true
   },
   "outputs": [
    {
     "name": "stdout",
     "output_type": "stream",
     "text": [
      "Train on 9375 samples, validate on 2304 samples\n",
      "WARNING:tensorflow:From /home/dfki.uni-bremen.de/bmanickavasakan/.local/lib/python3.6/site-packages/tensorflow/python/ops/math_ops.py:3066: to_int32 (from tensorflow.python.ops.math_ops) is deprecated and will be removed in a future version.\n",
      "Instructions for updating:\n",
      "Use tf.cast instead.\n",
      "Epoch 1/200\n",
      "9375/9375 [==============================] - 2s 220us/sample - loss: 0.1554 - mean_absolute_error: 0.3252 - val_loss: 0.1179 - val_mean_absolute_error: 0.2929\n",
      "Epoch 2/200\n",
      "9375/9375 [==============================] - 1s 95us/sample - loss: 0.1219 - mean_absolute_error: 0.2873 - val_loss: 0.1209 - val_mean_absolute_error: 0.2919\n",
      "Epoch 3/200\n",
      "9375/9375 [==============================] - 1s 92us/sample - loss: 0.1022 - mean_absolute_error: 0.2612 - val_loss: 0.1130 - val_mean_absolute_error: 0.2827\n",
      "Epoch 4/200\n",
      "9375/9375 [==============================] - 1s 90us/sample - loss: 0.0895 - mean_absolute_error: 0.2432 - val_loss: 0.0940 - val_mean_absolute_error: 0.2582\n",
      "Epoch 5/200\n",
      "9375/9375 [==============================] - 1s 92us/sample - loss: 0.0817 - mean_absolute_error: 0.2301 - val_loss: 0.0751 - val_mean_absolute_error: 0.2326\n",
      "Epoch 6/200\n",
      "9375/9375 [==============================] - 1s 92us/sample - loss: 0.0750 - mean_absolute_error: 0.2196 - val_loss: 0.0583 - val_mean_absolute_error: 0.2031\n",
      "Epoch 7/200\n",
      "9375/9375 [==============================] - 1s 91us/sample - loss: 0.0687 - mean_absolute_error: 0.2083 - val_loss: 0.0494 - val_mean_absolute_error: 0.1837\n",
      "Epoch 8/200\n",
      "9375/9375 [==============================] - 1s 89us/sample - loss: 0.0652 - mean_absolute_error: 0.2021 - val_loss: 0.0415 - val_mean_absolute_error: 0.1650\n",
      "Epoch 9/200\n",
      "9375/9375 [==============================] - 1s 89us/sample - loss: 0.0619 - mean_absolute_error: 0.1961 - val_loss: 0.0341 - val_mean_absolute_error: 0.1427\n",
      "Epoch 10/200\n",
      "9375/9375 [==============================] - 1s 91us/sample - loss: 0.0594 - mean_absolute_error: 0.1911 - val_loss: 0.0341 - val_mean_absolute_error: 0.1459\n",
      "Epoch 11/200\n",
      "9375/9375 [==============================] - 1s 91us/sample - loss: 0.0575 - mean_absolute_error: 0.1872 - val_loss: 0.0312 - val_mean_absolute_error: 0.1362\n",
      "Epoch 12/200\n",
      "9375/9375 [==============================] - 1s 92us/sample - loss: 0.0562 - mean_absolute_error: 0.1848 - val_loss: 0.0294 - val_mean_absolute_error: 0.1274\n",
      "Epoch 13/200\n",
      "9375/9375 [==============================] - 1s 89us/sample - loss: 0.0544 - mean_absolute_error: 0.1811 - val_loss: 0.0281 - val_mean_absolute_error: 0.1232\n",
      "Epoch 14/200\n",
      "9375/9375 [==============================] - 1s 92us/sample - loss: 0.0536 - mean_absolute_error: 0.1788 - val_loss: 0.0290 - val_mean_absolute_error: 0.1273\n",
      "Epoch 15/200\n",
      "9375/9375 [==============================] - 1s 91us/sample - loss: 0.0520 - mean_absolute_error: 0.1756 - val_loss: 0.0276 - val_mean_absolute_error: 0.1231\n",
      "Epoch 16/200\n",
      "9375/9375 [==============================] - 1s 95us/sample - loss: 0.0512 - mean_absolute_error: 0.1740 - val_loss: 0.0271 - val_mean_absolute_error: 0.1225\n",
      "Epoch 17/200\n",
      "9375/9375 [==============================] - 1s 92us/sample - loss: 0.0505 - mean_absolute_error: 0.1722 - val_loss: 0.0265 - val_mean_absolute_error: 0.1195\n",
      "Epoch 18/200\n",
      "9375/9375 [==============================] - 1s 92us/sample - loss: 0.0498 - mean_absolute_error: 0.1705 - val_loss: 0.0264 - val_mean_absolute_error: 0.1209\n",
      "Epoch 19/200\n",
      "9375/9375 [==============================] - 1s 91us/sample - loss: 0.0494 - mean_absolute_error: 0.1696 - val_loss: 0.0259 - val_mean_absolute_error: 0.1185\n",
      "Epoch 20/200\n",
      "9375/9375 [==============================] - 1s 88us/sample - loss: 0.0487 - mean_absolute_error: 0.1679 - val_loss: 0.0251 - val_mean_absolute_error: 0.1153\n",
      "Epoch 21/200\n",
      "9375/9375 [==============================] - 1s 91us/sample - loss: 0.0483 - mean_absolute_error: 0.1669 - val_loss: 0.0250 - val_mean_absolute_error: 0.1144\n",
      "Epoch 22/200\n",
      "9375/9375 [==============================] - 1s 91us/sample - loss: 0.0478 - mean_absolute_error: 0.1660 - val_loss: 0.0268 - val_mean_absolute_error: 0.1218\n",
      "Epoch 23/200\n",
      "9375/9375 [==============================] - 1s 92us/sample - loss: 0.0473 - mean_absolute_error: 0.1647 - val_loss: 0.0242 - val_mean_absolute_error: 0.1110\n",
      "Epoch 24/200\n",
      "9375/9375 [==============================] - 1s 92us/sample - loss: 0.0473 - mean_absolute_error: 0.1648 - val_loss: 0.0246 - val_mean_absolute_error: 0.1142\n",
      "Epoch 25/200\n",
      "9375/9375 [==============================] - 1s 92us/sample - loss: 0.0461 - mean_absolute_error: 0.1621 - val_loss: 0.0244 - val_mean_absolute_error: 0.1127\n",
      "Epoch 26/200\n",
      "9375/9375 [==============================] - 1s 88us/sample - loss: 0.0461 - mean_absolute_error: 0.1621 - val_loss: 0.0241 - val_mean_absolute_error: 0.1114\n",
      "Epoch 27/200\n",
      "9375/9375 [==============================] - 1s 89us/sample - loss: 0.0459 - mean_absolute_error: 0.1614 - val_loss: 0.0240 - val_mean_absolute_error: 0.1110\n",
      "Epoch 28/200\n",
      "9375/9375 [==============================] - 1s 92us/sample - loss: 0.0457 - mean_absolute_error: 0.1606 - val_loss: 0.0241 - val_mean_absolute_error: 0.1107\n",
      "Epoch 29/200\n",
      "9375/9375 [==============================] - 1s 91us/sample - loss: 0.0449 - mean_absolute_error: 0.1588 - val_loss: 0.0238 - val_mean_absolute_error: 0.1107\n",
      "Epoch 30/200\n",
      "9375/9375 [==============================] - 1s 87us/sample - loss: 0.0447 - mean_absolute_error: 0.1584 - val_loss: 0.0244 - val_mean_absolute_error: 0.1138\n",
      "Epoch 31/200\n",
      "9375/9375 [==============================] - 1s 90us/sample - loss: 0.0443 - mean_absolute_error: 0.1574 - val_loss: 0.0234 - val_mean_absolute_error: 0.1101\n",
      "Epoch 32/200\n",
      "9375/9375 [==============================] - 1s 93us/sample - loss: 0.0442 - mean_absolute_error: 0.1575 - val_loss: 0.0237 - val_mean_absolute_error: 0.1106\n",
      "Epoch 33/200\n",
      "9375/9375 [==============================] - 1s 93us/sample - loss: 0.0439 - mean_absolute_error: 0.1567 - val_loss: 0.0227 - val_mean_absolute_error: 0.1066\n",
      "Epoch 34/200\n",
      "9375/9375 [==============================] - 1s 90us/sample - loss: 0.0435 - mean_absolute_error: 0.1559 - val_loss: 0.0230 - val_mean_absolute_error: 0.1071\n",
      "Epoch 35/200\n",
      "9375/9375 [==============================] - 1s 94us/sample - loss: 0.0431 - mean_absolute_error: 0.1546 - val_loss: 0.0234 - val_mean_absolute_error: 0.1075\n",
      "Epoch 36/200\n",
      "9375/9375 [==============================] - 1s 92us/sample - loss: 0.0430 - mean_absolute_error: 0.1540 - val_loss: 0.0226 - val_mean_absolute_error: 0.1063\n",
      "Epoch 37/200\n",
      "9375/9375 [==============================] - 1s 92us/sample - loss: 0.0429 - mean_absolute_error: 0.1540 - val_loss: 0.0235 - val_mean_absolute_error: 0.1110\n",
      "Epoch 38/200\n",
      "9375/9375 [==============================] - 1s 93us/sample - loss: 0.0428 - mean_absolute_error: 0.1538 - val_loss: 0.0226 - val_mean_absolute_error: 0.1067\n",
      "Epoch 39/200\n",
      "9375/9375 [==============================] - 1s 101us/sample - loss: 0.0426 - mean_absolute_error: 0.1529 - val_loss: 0.0232 - val_mean_absolute_error: 0.1086\n",
      "Epoch 40/200\n",
      "9375/9375 [==============================] - 1s 96us/sample - loss: 0.0426 - mean_absolute_error: 0.1528 - val_loss: 0.0223 - val_mean_absolute_error: 0.1054\n",
      "Epoch 41/200\n",
      "9375/9375 [==============================] - 1s 88us/sample - loss: 0.0419 - mean_absolute_error: 0.1513 - val_loss: 0.0246 - val_mean_absolute_error: 0.1147\n",
      "Epoch 42/200\n",
      "9375/9375 [==============================] - 1s 92us/sample - loss: 0.0418 - mean_absolute_error: 0.1508 - val_loss: 0.0221 - val_mean_absolute_error: 0.1038\n",
      "Epoch 43/200\n",
      "9375/9375 [==============================] - 1s 93us/sample - loss: 0.0416 - mean_absolute_error: 0.1501 - val_loss: 0.0218 - val_mean_absolute_error: 0.1031\n",
      "Epoch 44/200\n",
      "9375/9375 [==============================] - 1s 93us/sample - loss: 0.0415 - mean_absolute_error: 0.1497 - val_loss: 0.0218 - val_mean_absolute_error: 0.1021\n",
      "Epoch 45/200\n",
      "9375/9375 [==============================] - 1s 95us/sample - loss: 0.0405 - mean_absolute_error: 0.1477 - val_loss: 0.0222 - val_mean_absolute_error: 0.1046\n",
      "Epoch 46/200\n",
      "9375/9375 [==============================] - 1s 95us/sample - loss: 0.0406 - mean_absolute_error: 0.1479 - val_loss: 0.0238 - val_mean_absolute_error: 0.1115\n"
     ]
    },
    {
     "name": "stdout",
     "output_type": "stream",
     "text": [
      "Epoch 47/200\n",
      "9375/9375 [==============================] - 1s 94us/sample - loss: 0.0410 - mean_absolute_error: 0.1483 - val_loss: 0.0225 - val_mean_absolute_error: 0.1068\n",
      "Epoch 48/200\n",
      "9375/9375 [==============================] - 1s 92us/sample - loss: 0.0405 - mean_absolute_error: 0.1476 - val_loss: 0.0219 - val_mean_absolute_error: 0.1031\n",
      "Epoch 49/200\n",
      "9375/9375 [==============================] - 1s 92us/sample - loss: 0.0399 - mean_absolute_error: 0.1457 - val_loss: 0.0227 - val_mean_absolute_error: 0.1068\n",
      "Epoch 50/200\n",
      "9375/9375 [==============================] - 1s 90us/sample - loss: 0.0400 - mean_absolute_error: 0.1460 - val_loss: 0.0225 - val_mean_absolute_error: 0.1056\n",
      "Epoch 51/200\n",
      "9375/9375 [==============================] - 1s 91us/sample - loss: 0.0399 - mean_absolute_error: 0.1458 - val_loss: 0.0219 - val_mean_absolute_error: 0.1023\n",
      "Epoch 52/200\n",
      "9375/9375 [==============================] - 1s 92us/sample - loss: 0.0393 - mean_absolute_error: 0.1439 - val_loss: 0.0217 - val_mean_absolute_error: 0.1021\n",
      "Epoch 53/200\n",
      "9375/9375 [==============================] - 1s 92us/sample - loss: 0.0391 - mean_absolute_error: 0.1434 - val_loss: 0.0222 - val_mean_absolute_error: 0.1045\n",
      "Epoch 54/200\n",
      "9375/9375 [==============================] - 1s 90us/sample - loss: 0.0390 - mean_absolute_error: 0.1429 - val_loss: 0.0224 - val_mean_absolute_error: 0.1053\n",
      "Epoch 55/200\n",
      "9375/9375 [==============================] - 1s 91us/sample - loss: 0.0389 - mean_absolute_error: 0.1426 - val_loss: 0.0222 - val_mean_absolute_error: 0.1039\n",
      "Epoch 56/200\n",
      "9375/9375 [==============================] - 1s 95us/sample - loss: 0.0385 - mean_absolute_error: 0.1416 - val_loss: 0.0222 - val_mean_absolute_error: 0.1034\n",
      "Epoch 57/200\n",
      "9375/9375 [==============================] - 1s 94us/sample - loss: 0.0387 - mean_absolute_error: 0.1418 - val_loss: 0.0221 - val_mean_absolute_error: 0.1042\n",
      "Epoch 58/200\n",
      "9375/9375 [==============================] - 1s 91us/sample - loss: 0.0385 - mean_absolute_error: 0.1416 - val_loss: 0.0220 - val_mean_absolute_error: 0.1032\n",
      "Epoch 59/200\n",
      "9375/9375 [==============================] - 1s 94us/sample - loss: 0.0375 - mean_absolute_error: 0.1389 - val_loss: 0.0221 - val_mean_absolute_error: 0.1035\n",
      "Epoch 60/200\n",
      "9375/9375 [==============================] - 1s 94us/sample - loss: 0.0378 - mean_absolute_error: 0.1393 - val_loss: 0.0227 - val_mean_absolute_error: 0.1059\n",
      "Epoch 61/200\n",
      "9375/9375 [==============================] - 1s 92us/sample - loss: 0.0377 - mean_absolute_error: 0.1387 - val_loss: 0.0225 - val_mean_absolute_error: 0.1050\n",
      "Epoch 62/200\n",
      "9375/9375 [==============================] - 1s 91us/sample - loss: 0.0376 - mean_absolute_error: 0.1388 - val_loss: 0.0215 - val_mean_absolute_error: 0.1015\n",
      "Epoch 63/200\n",
      "9375/9375 [==============================] - 1s 93us/sample - loss: 0.0375 - mean_absolute_error: 0.1382 - val_loss: 0.0221 - val_mean_absolute_error: 0.1035\n",
      "Epoch 64/200\n",
      "9375/9375 [==============================] - 1s 94us/sample - loss: 0.0368 - mean_absolute_error: 0.1365 - val_loss: 0.0219 - val_mean_absolute_error: 0.1031\n",
      "Epoch 65/200\n",
      "9375/9375 [==============================] - 1s 90us/sample - loss: 0.0370 - mean_absolute_error: 0.1369 - val_loss: 0.0237 - val_mean_absolute_error: 0.1073\n",
      "Epoch 66/200\n",
      "9375/9375 [==============================] - 1s 92us/sample - loss: 0.0366 - mean_absolute_error: 0.1356 - val_loss: 0.0237 - val_mean_absolute_error: 0.1080\n",
      "Epoch 67/200\n",
      "9375/9375 [==============================] - 1s 91us/sample - loss: 0.0366 - mean_absolute_error: 0.1358 - val_loss: 0.0228 - val_mean_absolute_error: 0.1046\n",
      "Epoch 68/200\n",
      "9375/9375 [==============================] - 1s 92us/sample - loss: 0.0362 - mean_absolute_error: 0.1347 - val_loss: 0.0221 - val_mean_absolute_error: 0.1028\n",
      "Epoch 69/200\n",
      "9375/9375 [==============================] - 1s 95us/sample - loss: 0.0366 - mean_absolute_error: 0.1359 - val_loss: 0.0221 - val_mean_absolute_error: 0.1039\n",
      "Epoch 70/200\n",
      "9375/9375 [==============================] - 1s 90us/sample - loss: 0.0360 - mean_absolute_error: 0.1340 - val_loss: 0.0219 - val_mean_absolute_error: 0.1018\n",
      "Epoch 71/200\n",
      "9375/9375 [==============================] - 1s 90us/sample - loss: 0.0358 - mean_absolute_error: 0.1335 - val_loss: 0.0211 - val_mean_absolute_error: 0.0983\n",
      "Epoch 72/200\n",
      "9375/9375 [==============================] - 1s 90us/sample - loss: 0.0358 - mean_absolute_error: 0.1335 - val_loss: 0.0215 - val_mean_absolute_error: 0.0989\n",
      "Epoch 73/200\n",
      "9375/9375 [==============================] - 1s 91us/sample - loss: 0.0356 - mean_absolute_error: 0.1328 - val_loss: 0.0235 - val_mean_absolute_error: 0.1046\n",
      "Epoch 74/200\n",
      "9375/9375 [==============================] - 1s 93us/sample - loss: 0.0352 - mean_absolute_error: 0.1319 - val_loss: 0.0221 - val_mean_absolute_error: 0.1010\n",
      "Epoch 75/200\n",
      "9375/9375 [==============================] - 1s 92us/sample - loss: 0.0354 - mean_absolute_error: 0.1320 - val_loss: 0.0227 - val_mean_absolute_error: 0.1046\n",
      "Epoch 76/200\n",
      "9375/9375 [==============================] - 1s 92us/sample - loss: 0.0351 - mean_absolute_error: 0.1315 - val_loss: 0.0220 - val_mean_absolute_error: 0.1013\n",
      "Epoch 77/200\n",
      "9375/9375 [==============================] - 1s 93us/sample - loss: 0.0350 - mean_absolute_error: 0.1313 - val_loss: 0.0217 - val_mean_absolute_error: 0.0992\n",
      "Epoch 78/200\n",
      "9375/9375 [==============================] - 1s 92us/sample - loss: 0.0351 - mean_absolute_error: 0.1312 - val_loss: 0.0220 - val_mean_absolute_error: 0.1005\n",
      "Epoch 79/200\n",
      "9375/9375 [==============================] - 1s 92us/sample - loss: 0.0349 - mean_absolute_error: 0.1307 - val_loss: 0.0230 - val_mean_absolute_error: 0.1010\n",
      "Epoch 80/200\n",
      "9375/9375 [==============================] - 1s 92us/sample - loss: 0.0347 - mean_absolute_error: 0.1301 - val_loss: 0.0223 - val_mean_absolute_error: 0.1001\n",
      "Epoch 81/200\n",
      "9375/9375 [==============================] - 1s 91us/sample - loss: 0.0341 - mean_absolute_error: 0.1286 - val_loss: 0.0211 - val_mean_absolute_error: 0.0966\n",
      "Epoch 82/200\n",
      "9375/9375 [==============================] - 1s 91us/sample - loss: 0.0340 - mean_absolute_error: 0.1284 - val_loss: 0.0221 - val_mean_absolute_error: 0.0998\n",
      "Epoch 83/200\n",
      "9375/9375 [==============================] - 1s 91us/sample - loss: 0.0340 - mean_absolute_error: 0.1283 - val_loss: 0.0220 - val_mean_absolute_error: 0.0981\n",
      "Epoch 84/200\n",
      "9375/9375 [==============================] - 1s 90us/sample - loss: 0.0337 - mean_absolute_error: 0.1279 - val_loss: 0.0216 - val_mean_absolute_error: 0.0992\n",
      "Epoch 85/200\n",
      "9375/9375 [==============================] - 1s 92us/sample - loss: 0.0345 - mean_absolute_error: 0.1295 - val_loss: 0.0212 - val_mean_absolute_error: 0.0960\n",
      "Epoch 86/200\n",
      "9375/9375 [==============================] - 1s 91us/sample - loss: 0.0338 - mean_absolute_error: 0.1277 - val_loss: 0.0217 - val_mean_absolute_error: 0.0985\n",
      "Epoch 87/200\n",
      "9375/9375 [==============================] - 1s 91us/sample - loss: 0.0335 - mean_absolute_error: 0.1270 - val_loss: 0.0221 - val_mean_absolute_error: 0.0999\n",
      "Epoch 88/200\n",
      "9375/9375 [==============================] - 1s 91us/sample - loss: 0.0335 - mean_absolute_error: 0.1266 - val_loss: 0.0212 - val_mean_absolute_error: 0.0962\n",
      "Epoch 89/200\n",
      "9375/9375 [==============================] - 1s 91us/sample - loss: 0.0337 - mean_absolute_error: 0.1272 - val_loss: 0.0226 - val_mean_absolute_error: 0.1019\n",
      "Epoch 90/200\n",
      "9375/9375 [==============================] - 1s 93us/sample - loss: 0.0334 - mean_absolute_error: 0.1268 - val_loss: 0.0224 - val_mean_absolute_error: 0.1006\n",
      "Epoch 91/200\n",
      "9375/9375 [==============================] - 1s 91us/sample - loss: 0.0332 - mean_absolute_error: 0.1262 - val_loss: 0.0218 - val_mean_absolute_error: 0.0981\n",
      "Epoch 92/200\n",
      "9375/9375 [==============================] - 1s 89us/sample - loss: 0.0333 - mean_absolute_error: 0.1264 - val_loss: 0.0229 - val_mean_absolute_error: 0.1019\n",
      "Epoch 93/200\n",
      "9375/9375 [==============================] - 1s 93us/sample - loss: 0.0331 - mean_absolute_error: 0.1257 - val_loss: 0.0242 - val_mean_absolute_error: 0.1048\n",
      "Epoch 94/200\n",
      "9375/9375 [==============================] - 1s 91us/sample - loss: 0.0330 - mean_absolute_error: 0.1253 - val_loss: 0.0221 - val_mean_absolute_error: 0.0983\n"
     ]
    },
    {
     "name": "stdout",
     "output_type": "stream",
     "text": [
      "Epoch 95/200\n",
      "9375/9375 [==============================] - 1s 90us/sample - loss: 0.0333 - mean_absolute_error: 0.1259 - val_loss: 0.0222 - val_mean_absolute_error: 0.0995\n",
      "Epoch 96/200\n",
      "9375/9375 [==============================] - 1s 88us/sample - loss: 0.0328 - mean_absolute_error: 0.1248 - val_loss: 0.0218 - val_mean_absolute_error: 0.0992\n",
      "Epoch 97/200\n",
      "9375/9375 [==============================] - 1s 88us/sample - loss: 0.0323 - mean_absolute_error: 0.1236 - val_loss: 0.0217 - val_mean_absolute_error: 0.0980\n",
      "Epoch 98/200\n",
      "9375/9375 [==============================] - 1s 91us/sample - loss: 0.0328 - mean_absolute_error: 0.1248 - val_loss: 0.0216 - val_mean_absolute_error: 0.0965\n",
      "Epoch 99/200\n",
      "9375/9375 [==============================] - 1s 91us/sample - loss: 0.0325 - mean_absolute_error: 0.1242 - val_loss: 0.0239 - val_mean_absolute_error: 0.1029\n",
      "Epoch 100/200\n",
      "9375/9375 [==============================] - 1s 88us/sample - loss: 0.0328 - mean_absolute_error: 0.1248 - val_loss: 0.0220 - val_mean_absolute_error: 0.1000\n",
      "Epoch 101/200\n",
      "9375/9375 [==============================] - 1s 88us/sample - loss: 0.0322 - mean_absolute_error: 0.1235 - val_loss: 0.0211 - val_mean_absolute_error: 0.0961\n",
      "Epoch 102/200\n",
      "9375/9375 [==============================] - 1s 89us/sample - loss: 0.0325 - mean_absolute_error: 0.1240 - val_loss: 0.0207 - val_mean_absolute_error: 0.0942\n",
      "Epoch 103/200\n",
      "9375/9375 [==============================] - 1s 88us/sample - loss: 0.0322 - mean_absolute_error: 0.1233 - val_loss: 0.0218 - val_mean_absolute_error: 0.0966\n",
      "Epoch 104/200\n",
      "9375/9375 [==============================] - 1s 90us/sample - loss: 0.0318 - mean_absolute_error: 0.1222 - val_loss: 0.0216 - val_mean_absolute_error: 0.0978\n",
      "Epoch 105/200\n",
      "9375/9375 [==============================] - 1s 88us/sample - loss: 0.0323 - mean_absolute_error: 0.1232 - val_loss: 0.0240 - val_mean_absolute_error: 0.1039\n",
      "Epoch 106/200\n",
      "9375/9375 [==============================] - 1s 88us/sample - loss: 0.0317 - mean_absolute_error: 0.1217 - val_loss: 0.0225 - val_mean_absolute_error: 0.1015\n",
      "Epoch 107/200\n",
      "9375/9375 [==============================] - 1s 88us/sample - loss: 0.0320 - mean_absolute_error: 0.1227 - val_loss: 0.0231 - val_mean_absolute_error: 0.1012\n",
      "Epoch 108/200\n",
      "9375/9375 [==============================] - 1s 88us/sample - loss: 0.0318 - mean_absolute_error: 0.1222 - val_loss: 0.0215 - val_mean_absolute_error: 0.0970\n",
      "Epoch 109/200\n",
      "9375/9375 [==============================] - 1s 87us/sample - loss: 0.0317 - mean_absolute_error: 0.1218 - val_loss: 0.0228 - val_mean_absolute_error: 0.0987\n",
      "Epoch 110/200\n",
      "9375/9375 [==============================] - 1s 96us/sample - loss: 0.0318 - mean_absolute_error: 0.1223 - val_loss: 0.0220 - val_mean_absolute_error: 0.0984\n",
      "Epoch 111/200\n",
      "9375/9375 [==============================] - 1s 92us/sample - loss: 0.0316 - mean_absolute_error: 0.1214 - val_loss: 0.0212 - val_mean_absolute_error: 0.0958\n",
      "Epoch 112/200\n",
      "9375/9375 [==============================] - 1s 93us/sample - loss: 0.0317 - mean_absolute_error: 0.1217 - val_loss: 0.0229 - val_mean_absolute_error: 0.1003\n",
      "Epoch 113/200\n",
      "9375/9375 [==============================] - 1s 93us/sample - loss: 0.0314 - mean_absolute_error: 0.1209 - val_loss: 0.0217 - val_mean_absolute_error: 0.0969\n",
      "Epoch 114/200\n",
      "9375/9375 [==============================] - 1s 91us/sample - loss: 0.0314 - mean_absolute_error: 0.1208 - val_loss: 0.0216 - val_mean_absolute_error: 0.0969\n",
      "Epoch 115/200\n",
      "9375/9375 [==============================] - 1s 94us/sample - loss: 0.0314 - mean_absolute_error: 0.1209 - val_loss: 0.0250 - val_mean_absolute_error: 0.1069\n",
      "Epoch 116/200\n",
      "9375/9375 [==============================] - 1s 92us/sample - loss: 0.0318 - mean_absolute_error: 0.1219 - val_loss: 0.0217 - val_mean_absolute_error: 0.0970\n",
      "Epoch 117/200\n",
      "9375/9375 [==============================] - 1s 94us/sample - loss: 0.0312 - mean_absolute_error: 0.1206 - val_loss: 0.0206 - val_mean_absolute_error: 0.0929\n",
      "Epoch 118/200\n",
      "9375/9375 [==============================] - 1s 97us/sample - loss: 0.0313 - mean_absolute_error: 0.1205 - val_loss: 0.0222 - val_mean_absolute_error: 0.0976\n",
      "Epoch 119/200\n",
      "9375/9375 [==============================] - 1s 92us/sample - loss: 0.0311 - mean_absolute_error: 0.1203 - val_loss: 0.0229 - val_mean_absolute_error: 0.1007\n",
      "Epoch 120/200\n",
      "9375/9375 [==============================] - 1s 92us/sample - loss: 0.0314 - mean_absolute_error: 0.1210 - val_loss: 0.0227 - val_mean_absolute_error: 0.1010\n",
      "Epoch 121/200\n",
      "9375/9375 [==============================] - 1s 89us/sample - loss: 0.0312 - mean_absolute_error: 0.1202 - val_loss: 0.0236 - val_mean_absolute_error: 0.1001\n",
      "Epoch 122/200\n",
      "9375/9375 [==============================] - 1s 89us/sample - loss: 0.0307 - mean_absolute_error: 0.1193 - val_loss: 0.0220 - val_mean_absolute_error: 0.0979\n",
      "Epoch 123/200\n",
      "9375/9375 [==============================] - 1s 89us/sample - loss: 0.0306 - mean_absolute_error: 0.1192 - val_loss: 0.0232 - val_mean_absolute_error: 0.1006\n",
      "Epoch 124/200\n",
      "9375/9375 [==============================] - 1s 91us/sample - loss: 0.0313 - mean_absolute_error: 0.1204 - val_loss: 0.0238 - val_mean_absolute_error: 0.0998\n",
      "Epoch 125/200\n",
      "9375/9375 [==============================] - 1s 89us/sample - loss: 0.0306 - mean_absolute_error: 0.1190 - val_loss: 0.0225 - val_mean_absolute_error: 0.0998\n",
      "Epoch 126/200\n",
      "9375/9375 [==============================] - 1s 92us/sample - loss: 0.0314 - mean_absolute_error: 0.1207 - val_loss: 0.0219 - val_mean_absolute_error: 0.0973\n",
      "Epoch 127/200\n",
      "9375/9375 [==============================] - 1s 91us/sample - loss: 0.0316 - mean_absolute_error: 0.1211 - val_loss: 0.0212 - val_mean_absolute_error: 0.0930\n",
      "Epoch 128/200\n",
      "9375/9375 [==============================] - 1s 90us/sample - loss: 0.0309 - mean_absolute_error: 0.1196 - val_loss: 0.0225 - val_mean_absolute_error: 0.0983\n",
      "Epoch 129/200\n",
      "9375/9375 [==============================] - 1s 89us/sample - loss: 0.0307 - mean_absolute_error: 0.1192 - val_loss: 0.0217 - val_mean_absolute_error: 0.0962\n",
      "Epoch 130/200\n",
      "9375/9375 [==============================] - 1s 89us/sample - loss: 0.0306 - mean_absolute_error: 0.1189 - val_loss: 0.0210 - val_mean_absolute_error: 0.0923\n",
      "Epoch 131/200\n",
      "9375/9375 [==============================] - 1s 89us/sample - loss: 0.0306 - mean_absolute_error: 0.1188 - val_loss: 0.0214 - val_mean_absolute_error: 0.0939\n",
      "Epoch 132/200\n",
      "9375/9375 [==============================] - 1s 91us/sample - loss: 0.0307 - mean_absolute_error: 0.1191 - val_loss: 0.0206 - val_mean_absolute_error: 0.0918\n",
      "Epoch 133/200\n",
      "9375/9375 [==============================] - 1s 90us/sample - loss: 0.0306 - mean_absolute_error: 0.1190 - val_loss: 0.0209 - val_mean_absolute_error: 0.0931\n",
      "Epoch 134/200\n",
      "9375/9375 [==============================] - 1s 90us/sample - loss: 0.0308 - mean_absolute_error: 0.1192 - val_loss: 0.0218 - val_mean_absolute_error: 0.0953\n",
      "Epoch 135/200\n",
      "9375/9375 [==============================] - 1s 88us/sample - loss: 0.0306 - mean_absolute_error: 0.1186 - val_loss: 0.0215 - val_mean_absolute_error: 0.0972\n",
      "Epoch 136/200\n",
      "9375/9375 [==============================] - 1s 88us/sample - loss: 0.0301 - mean_absolute_error: 0.1177 - val_loss: 0.0220 - val_mean_absolute_error: 0.0973\n",
      "Epoch 137/200\n",
      "9375/9375 [==============================] - 1s 89us/sample - loss: 0.0305 - mean_absolute_error: 0.1184 - val_loss: 0.0222 - val_mean_absolute_error: 0.0963\n",
      "Epoch 138/200\n",
      "9375/9375 [==============================] - 1s 89us/sample - loss: 0.0304 - mean_absolute_error: 0.1183 - val_loss: 0.0215 - val_mean_absolute_error: 0.0954\n",
      "Epoch 139/200\n",
      "9375/9375 [==============================] - 1s 90us/sample - loss: 0.0306 - mean_absolute_error: 0.1187 - val_loss: 0.0203 - val_mean_absolute_error: 0.0901\n",
      "Epoch 140/200\n",
      "9375/9375 [==============================] - 1s 88us/sample - loss: 0.0305 - mean_absolute_error: 0.1184 - val_loss: 0.0218 - val_mean_absolute_error: 0.0964\n",
      "Epoch 141/200\n",
      "9375/9375 [==============================] - 1s 90us/sample - loss: 0.0305 - mean_absolute_error: 0.1183 - val_loss: 0.0212 - val_mean_absolute_error: 0.0930\n",
      "Epoch 142/200\n",
      "9375/9375 [==============================] - 1s 90us/sample - loss: 0.0306 - mean_absolute_error: 0.1184 - val_loss: 0.0236 - val_mean_absolute_error: 0.1009\n"
     ]
    },
    {
     "name": "stdout",
     "output_type": "stream",
     "text": [
      "Epoch 143/200\n",
      "9375/9375 [==============================] - 1s 89us/sample - loss: 0.0302 - mean_absolute_error: 0.1176 - val_loss: 0.0215 - val_mean_absolute_error: 0.0960\n",
      "Epoch 144/200\n",
      "9375/9375 [==============================] - 1s 90us/sample - loss: 0.0302 - mean_absolute_error: 0.1175 - val_loss: 0.0221 - val_mean_absolute_error: 0.0984\n",
      "Epoch 145/200\n",
      "9375/9375 [==============================] - 1s 88us/sample - loss: 0.0304 - mean_absolute_error: 0.1180 - val_loss: 0.0221 - val_mean_absolute_error: 0.0982\n",
      "Epoch 146/200\n",
      "9375/9375 [==============================] - 1s 89us/sample - loss: 0.0332 - mean_absolute_error: 0.1240 - val_loss: 0.0249 - val_mean_absolute_error: 0.1033\n",
      "Epoch 147/200\n",
      "9375/9375 [==============================] - 1s 91us/sample - loss: 0.0313 - mean_absolute_error: 0.1198 - val_loss: 0.0220 - val_mean_absolute_error: 0.0963\n",
      "Epoch 148/200\n",
      "9375/9375 [==============================] - 1s 89us/sample - loss: 0.0308 - mean_absolute_error: 0.1190 - val_loss: 0.0222 - val_mean_absolute_error: 0.1003\n",
      "Epoch 149/200\n",
      "9375/9375 [==============================] - 1s 90us/sample - loss: 0.0300 - mean_absolute_error: 0.1172 - val_loss: 0.0220 - val_mean_absolute_error: 0.0991\n",
      "Epoch 150/200\n",
      "9375/9375 [==============================] - 1s 88us/sample - loss: 0.0301 - mean_absolute_error: 0.1173 - val_loss: 0.0219 - val_mean_absolute_error: 0.0991\n",
      "Epoch 151/200\n",
      "9375/9375 [==============================] - 1s 90us/sample - loss: 0.0311 - mean_absolute_error: 0.1198 - val_loss: 0.0211 - val_mean_absolute_error: 0.0951\n",
      "Epoch 152/200\n",
      "9375/9375 [==============================] - 1s 90us/sample - loss: 0.0306 - mean_absolute_error: 0.1187 - val_loss: 0.0214 - val_mean_absolute_error: 0.0942\n",
      "Epoch 153/200\n",
      "9375/9375 [==============================] - 1s 89us/sample - loss: 0.0303 - mean_absolute_error: 0.1176 - val_loss: 0.0222 - val_mean_absolute_error: 0.0957\n",
      "Epoch 154/200\n",
      "9375/9375 [==============================] - 1s 89us/sample - loss: 0.0300 - mean_absolute_error: 0.1173 - val_loss: 0.0224 - val_mean_absolute_error: 0.0975\n",
      "Epoch 155/200\n",
      "9375/9375 [==============================] - 1s 89us/sample - loss: 0.0297 - mean_absolute_error: 0.1159 - val_loss: 0.0219 - val_mean_absolute_error: 0.0975\n",
      "Epoch 156/200\n",
      "9375/9375 [==============================] - 1s 91us/sample - loss: 0.0299 - mean_absolute_error: 0.1168 - val_loss: 0.0214 - val_mean_absolute_error: 0.0948\n",
      "Epoch 157/200\n",
      "9375/9375 [==============================] - 1s 90us/sample - loss: 0.0301 - mean_absolute_error: 0.1171 - val_loss: 0.0203 - val_mean_absolute_error: 0.0910\n",
      "Epoch 158/200\n",
      "9375/9375 [==============================] - 1s 91us/sample - loss: 0.0300 - mean_absolute_error: 0.1169 - val_loss: 0.0212 - val_mean_absolute_error: 0.0930\n",
      "Epoch 159/200\n",
      "9375/9375 [==============================] - 1s 93us/sample - loss: 0.0303 - mean_absolute_error: 0.1172 - val_loss: 0.0222 - val_mean_absolute_error: 0.0954\n",
      "Epoch 160/200\n",
      "9375/9375 [==============================] - 1s 91us/sample - loss: 0.0300 - mean_absolute_error: 0.1168 - val_loss: 0.0224 - val_mean_absolute_error: 0.0980\n",
      "Epoch 161/200\n",
      "9375/9375 [==============================] - 1s 90us/sample - loss: 0.0297 - mean_absolute_error: 0.1158 - val_loss: 0.0221 - val_mean_absolute_error: 0.0964\n",
      "Epoch 162/200\n",
      "9375/9375 [==============================] - 1s 90us/sample - loss: 0.0294 - mean_absolute_error: 0.1155 - val_loss: 0.0214 - val_mean_absolute_error: 0.0955\n",
      "Epoch 163/200\n",
      "9375/9375 [==============================] - 1s 89us/sample - loss: 0.0297 - mean_absolute_error: 0.1160 - val_loss: 0.0208 - val_mean_absolute_error: 0.0923\n",
      "Epoch 164/200\n",
      "9375/9375 [==============================] - 1s 89us/sample - loss: 0.0293 - mean_absolute_error: 0.1152 - val_loss: 0.0206 - val_mean_absolute_error: 0.0894\n",
      "Epoch 165/200\n",
      "9375/9375 [==============================] - 1s 93us/sample - loss: 0.0292 - mean_absolute_error: 0.1150 - val_loss: 0.0210 - val_mean_absolute_error: 0.0950\n",
      "Epoch 166/200\n",
      "9375/9375 [==============================] - 1s 91us/sample - loss: 0.0294 - mean_absolute_error: 0.1151 - val_loss: 0.0203 - val_mean_absolute_error: 0.0906\n",
      "Epoch 167/200\n",
      "9375/9375 [==============================] - 1s 90us/sample - loss: 0.0296 - mean_absolute_error: 0.1156 - val_loss: 0.0231 - val_mean_absolute_error: 0.0993\n",
      "Epoch 168/200\n",
      "9375/9375 [==============================] - 1s 89us/sample - loss: 0.0298 - mean_absolute_error: 0.1164 - val_loss: 0.0212 - val_mean_absolute_error: 0.0944\n",
      "Epoch 169/200\n",
      "9375/9375 [==============================] - 1s 90us/sample - loss: 0.0297 - mean_absolute_error: 0.1158 - val_loss: 0.0212 - val_mean_absolute_error: 0.0956\n",
      "Epoch 170/200\n",
      "9375/9375 [==============================] - 1s 91us/sample - loss: 0.0292 - mean_absolute_error: 0.1147 - val_loss: 0.0212 - val_mean_absolute_error: 0.0940\n",
      "Epoch 171/200\n",
      "9375/9375 [==============================] - 1s 89us/sample - loss: 0.0292 - mean_absolute_error: 0.1149 - val_loss: 0.0211 - val_mean_absolute_error: 0.0942\n",
      "Epoch 172/200\n",
      "9375/9375 [==============================] - 1s 90us/sample - loss: 0.0297 - mean_absolute_error: 0.1161 - val_loss: 0.0224 - val_mean_absolute_error: 0.0962\n",
      "Epoch 173/200\n",
      "9375/9375 [==============================] - 1s 90us/sample - loss: 0.0295 - mean_absolute_error: 0.1156 - val_loss: 0.0212 - val_mean_absolute_error: 0.0929\n",
      "Epoch 174/200\n",
      "9375/9375 [==============================] - 1s 90us/sample - loss: 0.0292 - mean_absolute_error: 0.1149 - val_loss: 0.0208 - val_mean_absolute_error: 0.0922\n",
      "Epoch 175/200\n",
      "9375/9375 [==============================] - 1s 89us/sample - loss: 0.0295 - mean_absolute_error: 0.1151 - val_loss: 0.0211 - val_mean_absolute_error: 0.0917\n",
      "Epoch 176/200\n",
      "9375/9375 [==============================] - 1s 92us/sample - loss: 0.0294 - mean_absolute_error: 0.1151 - val_loss: 0.0264 - val_mean_absolute_error: 0.1068\n",
      "Epoch 177/200\n",
      "9375/9375 [==============================] - 1s 89us/sample - loss: 0.0295 - mean_absolute_error: 0.1152 - val_loss: 0.0233 - val_mean_absolute_error: 0.1014\n",
      "Epoch 178/200\n",
      "9375/9375 [==============================] - 1s 89us/sample - loss: 0.0297 - mean_absolute_error: 0.1157 - val_loss: 0.0274 - val_mean_absolute_error: 0.1155\n",
      "Epoch 179/200\n",
      "9375/9375 [==============================] - 1s 89us/sample - loss: 0.0297 - mean_absolute_error: 0.1156 - val_loss: 0.0210 - val_mean_absolute_error: 0.0942\n",
      "Epoch 180/200\n",
      "9375/9375 [==============================] - 1s 88us/sample - loss: 0.0294 - mean_absolute_error: 0.1153 - val_loss: 0.0212 - val_mean_absolute_error: 0.0941\n",
      "Epoch 181/200\n",
      "9375/9375 [==============================] - 1s 89us/sample - loss: 0.0296 - mean_absolute_error: 0.1158 - val_loss: 0.0217 - val_mean_absolute_error: 0.0968\n",
      "Epoch 182/200\n",
      "9375/9375 [==============================] - 1s 92us/sample - loss: 0.0296 - mean_absolute_error: 0.1157 - val_loss: 0.0213 - val_mean_absolute_error: 0.0951\n",
      "Epoch 183/200\n",
      "9375/9375 [==============================] - 1s 89us/sample - loss: 0.0296 - mean_absolute_error: 0.1155 - val_loss: 0.0216 - val_mean_absolute_error: 0.0959\n",
      "Epoch 184/200\n",
      "9375/9375 [==============================] - 1s 89us/sample - loss: 0.0297 - mean_absolute_error: 0.1158 - val_loss: 0.0254 - val_mean_absolute_error: 0.1088\n",
      "Epoch 185/200\n",
      "9375/9375 [==============================] - 1s 91us/sample - loss: 0.0297 - mean_absolute_error: 0.1158 - val_loss: 0.0236 - val_mean_absolute_error: 0.1009\n",
      "Epoch 186/200\n",
      "9375/9375 [==============================] - 1s 89us/sample - loss: 0.0294 - mean_absolute_error: 0.1152 - val_loss: 0.0222 - val_mean_absolute_error: 0.0961\n",
      "Epoch 187/200\n",
      "9375/9375 [==============================] - 1s 90us/sample - loss: 0.0291 - mean_absolute_error: 0.1145 - val_loss: 0.0212 - val_mean_absolute_error: 0.0943\n",
      "Epoch 188/200\n",
      "9375/9375 [==============================] - 1s 88us/sample - loss: 0.0290 - mean_absolute_error: 0.1142 - val_loss: 0.0214 - val_mean_absolute_error: 0.0976\n",
      "Epoch 189/200\n",
      "9375/9375 [==============================] - 1s 90us/sample - loss: 0.0295 - mean_absolute_error: 0.1150 - val_loss: 0.0218 - val_mean_absolute_error: 0.0975\n",
      "Epoch 190/200\n"
     ]
    },
    {
     "name": "stdout",
     "output_type": "stream",
     "text": [
      "9375/9375 [==============================] - 1s 90us/sample - loss: 0.0299 - mean_absolute_error: 0.1164 - val_loss: 0.0224 - val_mean_absolute_error: 0.0974\n",
      "Epoch 191/200\n",
      "9375/9375 [==============================] - 1s 92us/sample - loss: 0.0294 - mean_absolute_error: 0.1149 - val_loss: 0.0211 - val_mean_absolute_error: 0.0943\n",
      "Epoch 192/200\n",
      "9375/9375 [==============================] - 1s 89us/sample - loss: 0.0289 - mean_absolute_error: 0.1137 - val_loss: 0.0222 - val_mean_absolute_error: 0.0974\n",
      "Epoch 193/200\n",
      "9375/9375 [==============================] - 1s 89us/sample - loss: 0.0292 - mean_absolute_error: 0.1144 - val_loss: 0.0218 - val_mean_absolute_error: 0.0951\n",
      "Epoch 194/200\n",
      "9375/9375 [==============================] - 1s 91us/sample - loss: 0.0293 - mean_absolute_error: 0.1150 - val_loss: 0.0230 - val_mean_absolute_error: 0.0993\n",
      "Epoch 195/200\n",
      "9375/9375 [==============================] - 1s 91us/sample - loss: 0.0292 - mean_absolute_error: 0.1146 - val_loss: 0.0216 - val_mean_absolute_error: 0.0963\n",
      "Epoch 196/200\n",
      "9375/9375 [==============================] - 1s 90us/sample - loss: 0.0290 - mean_absolute_error: 0.1140 - val_loss: 0.0227 - val_mean_absolute_error: 0.1002\n",
      "Epoch 197/200\n",
      "9375/9375 [==============================] - 1s 88us/sample - loss: 0.0288 - mean_absolute_error: 0.1134 - val_loss: 0.0218 - val_mean_absolute_error: 0.0954\n",
      "Epoch 198/200\n",
      "9375/9375 [==============================] - 1s 90us/sample - loss: 0.0290 - mean_absolute_error: 0.1141 - val_loss: 0.0216 - val_mean_absolute_error: 0.0942\n",
      "Epoch 199/200\n",
      "9375/9375 [==============================] - 1s 94us/sample - loss: 0.0302 - mean_absolute_error: 0.1165 - val_loss: 0.0214 - val_mean_absolute_error: 0.0945\n",
      "Epoch 200/200\n",
      "9375/9375 [==============================] - 1s 92us/sample - loss: 0.0290 - mean_absolute_error: 0.1139 - val_loss: 0.0209 - val_mean_absolute_error: 0.0932\n"
     ]
    }
   ],
   "source": [
    "\n",
    "with tf.device('/cpu:0'):\n",
    "    hist = model.fit(x_train_1, q_train_1, epochs = 200, batch_size = 128, verbose = 1, validation_data=(IOD_x_test, IOD_q_test))\n",
    "#use_multiprocessing=True, workers=1000"
   ]
  },
  {
   "cell_type": "code",
   "execution_count": 9,
   "metadata": {},
   "outputs": [
    {
     "name": "stdout",
     "output_type": "stream",
     "text": [
      "Testing MAE: 0.09315\n",
      "Testing MAEX: 0.06260\n",
      "Q feature 0 has unnorm MAE: 0.3657 (Range -0.7330 to 0.4398) normalized MAE: 0.3118\n",
      "Q feature 1 has unnorm MAE: 0.3005 (Range -0.3840 to 0.5792) normalized MAE: 0.3119\n",
      "Q feature 2 has unnorm MAE: 0.0348 (Range -0.8200 to -0.0680) normalized MAE: 0.0463\n",
      "Q feature 3 has unnorm MAE: 0.0356 (Range -0.8381 to -0.0792) normalized MAE: 0.0470\n",
      "Q feature 4 has unnorm MAE: 0.0039 (Range 0.0070 to 0.0907) normalized MAE: 0.0461\n",
      "Q feature 5 has unnorm MAE: 0.0454 (Range 0.0000 to 1.0000) normalized MAE: 0.0454\n",
      "Q feature 6 has unnorm MAE: 0.0037 (Range -0.0822 to 0.0000) normalized MAE: 0.0456\n",
      "Q feature 7 has unnorm MAE: 0.0037 (Range 0.0000 to 0.0782) normalized MAE: 0.0469\n",
      "Q feature 8 has unnorm MAE: 0.0508 (Range -0.7850 to -0.1570) normalized MAE: 0.0808\n",
      "Q feature 9 has unnorm MAE: 0.1041 (Range -0.7850 to 0.4710) normalized MAE: 0.0829\n",
      "Q feature 10 has unnorm MAE: 0.0579 (Range 0.1543 to 0.8678) normalized MAE: 0.0811\n",
      "Q feature 11 has unnorm MAE: 0.0648 (Range 0.1576 to 0.9404) normalized MAE: 0.0828\n",
      "Q feature 12 has unnorm MAE: 0.0126 (Range -0.0304 to 0.1694) normalized MAE: 0.0633\n",
      "Q feature 13 has unnorm MAE: 0.0062 (Range -0.0687 to 0.0019) normalized MAE: 0.0878\n",
      "Q feature 14 has unnorm MAE: 0.0064 (Range -0.0245 to 0.0678) normalized MAE: 0.0689\n",
      "Q feature 15 has unnorm MAE: 0.0152 (Range -0.1222 to 0.1126) normalized MAE: 0.0646\n",
      "Q feature 16 has unnorm MAE: 0.0076 (Range -0.0639 to 0.0249) normalized MAE: 0.0851\n",
      "Q feature 17 has unnorm MAE: 0.0080 (Range -0.0510 to 0.0510) normalized MAE: 0.0784\n"
     ]
    }
   ],
   "source": [
    "q_pred = model.predict(IOD_x_test, verbose=0)\n",
    "q_unnorm = q_scaler.inverse_transform(IOD_q_test)\n",
    "q_pred_unnorm = q_scaler.inverse_transform(q_pred)\n",
    "\n",
    "global_mae = mean_absolute_error(IOD_q_test, q_pred)\n",
    "mae_1 = mean_absolute_error(q_unnorm, q_pred_unnorm)\n",
    "\n",
    "print(\"Testing MAE: {:.5f}\".format(global_mae))\n",
    "print(\"Testing MAEX: {:.5f}\".format(mae_1))\n",
    "\n",
    "\n",
    "# Compute MAE for each output independently.\n",
    "for i in range(IOD_q_test.shape[1]):\n",
    "    norm_mae_i = mean_absolute_error(IOD_q_test[:, i], q_pred[:, i])\n",
    "    mae_i = mean_absolute_error(q_unnorm[:, i], q_pred_unnorm[:, i])\n",
    "    print(\"Q feature {} has unnorm MAE: {:.4f} (Range {:.4f} to {:.4f}) normalized MAE: {:.4f}\".format(i, mae_i, q_scaler.data_min_[i], q_scaler.data_max_[i], norm_mae_i))\n"
   ]
  },
  {
   "cell_type": "markdown",
   "metadata": {},
   "source": [
    "# MC Dropout Regressor, O/P : mean, Std #"
   ]
  },
  {
   "cell_type": "code",
   "execution_count": 10,
   "metadata": {
    "scrolled": true
   },
   "outputs": [],
   "source": [
    "def test_mcdropout_regressor(x_test_values, q_test_values, model, data_scaler):   \n",
    "    mc_model = MCDropoutRegressor(model)\n",
    "    inp = x_test_values  \n",
    "    \n",
    "    mean, std = mc_model.predict(inp, num_samples = 10)\n",
    "    \n",
    "    q_pred_unnormalised = data_scaler.inverse_transform(mean)\n",
    "    \n",
    "    q_sd_unnromalised = data_scaler.inverse_transform(std)\n",
    "    \n",
    "    global_mae = mean_absolute_error(q_test_values, mean)\n",
    "\n",
    "    print(\"Testing MAE: {:.5f}\".format(global_mae))\n",
    "\n",
    "    return q_pred_unnormalised, q_sd_unnromalised\n",
    "  \n"
   ]
  },
  {
   "cell_type": "code",
   "execution_count": 11,
   "metadata": {},
   "outputs": [
    {
     "data": {
      "text/plain": [
       "'\\nmean_1, std_1 = test_mcdropout_regressor(x_test, q_test, model, q_scaler)\\n\\nq_test_unorm = q_scaler.inverse_transform(q_test)\\n\\nprint(\"NLL: {:.5f}\".format(numpy_regression_nll(q_test_unorm, mean_1, std_1**2)))\\n'"
      ]
     },
     "execution_count": 11,
     "metadata": {},
     "output_type": "execute_result"
    }
   ],
   "source": [
    "'''\n",
    "mean_1, std_1 = test_mcdropout_regressor(x_test, q_test, model, q_scaler)\n",
    "\n",
    "q_test_unorm = q_scaler.inverse_transform(q_test)\n",
    "\n",
    "print(\"NLL: {:.5f}\".format(numpy_regression_nll(q_test_unorm, mean_1, std_1**2)))\n",
    "'''"
   ]
  },
  {
   "cell_type": "code",
   "execution_count": 12,
   "metadata": {
    "scrolled": true
   },
   "outputs": [
    {
     "name": "stdout",
     "output_type": "stream",
     "text": [
      "Testing MAE: 0.31325\n",
      "NLL: 30.88177\n"
     ]
    }
   ],
   "source": [
    "mean_test_IOD, sd_test_IOD = test_mcdropout_regressor(IOD_x_test, IOD_q_test, model, q_scaler)\n",
    "q_test_unorm = q_scaler.inverse_transform(IOD_q_test)\n",
    "print(\"NLL: {:.5f}\".format(numpy_regression_nll(q_test_unorm, mean_test_IOD, sd_test_IOD**2)))"
   ]
  },
  {
   "cell_type": "code",
   "execution_count": 13,
   "metadata": {},
   "outputs": [
    {
     "name": "stdout",
     "output_type": "stream",
     "text": [
      "Testing MAE: 0.44136\n",
      "NLL: 40.42627\n"
     ]
    }
   ],
   "source": [
    "mean_test_OOD, sd_test_OOD = test_mcdropout_regressor(OOD_x_test, OOD_q_test, model, q_scaler)\n",
    "q_test_unorm = q_scaler.inverse_transform(OOD_q_test)\n",
    "print(\"NLL: {:.5f}\".format(numpy_regression_nll(q_test_unorm, mean_test_OOD, sd_test_OOD**2)))"
   ]
  },
  {
   "cell_type": "code",
   "execution_count": 16,
   "metadata": {
    "scrolled": true
   },
   "outputs": [
    {
     "name": "stdout",
     "output_type": "stream",
     "text": [
      "-0.67982024\n",
      "-0.7300664\n"
     ]
    },
    {
     "data": {
      "text/plain": [
       "<matplotlib.legend.Legend at 0x7ff233ecd048>"
      ]
     },
     "execution_count": 16,
     "metadata": {},
     "output_type": "execute_result"
    },
    {
     "data": {
      "image/png": "[encoded data removed]",
      "text/plain": [
       "<matplotlib.figure.Figure at 0x7ff20a659fd0>"
      ]
     },
     "metadata": {
      "needs_background": "light"
     },
     "output_type": "display_data"
    }
   ],
   "source": [
    "sd_test_IOD_df = pd.DataFrame(sd_test_IOD)\n",
    "sd_test_OOD_df = pd.DataFrame(sd_test_OOD)\n",
    "new_scores = np.concatenate([sd_test_IOD_df[0], sd_test_OOD_df[0]], axis=0)\n",
    "new_labels = np.concatenate([np.zeros_like(sd_test_IOD_df[0]), np.ones_like(sd_test_OOD_df[0])], axis=0)\n",
    "histogram_df = pd.DataFrame(new_scores, new_labels)\n",
    "print(new_scores.max())\n",
    "print(new_scores.min())\n",
    "#histogram_df.hist(column=0)\n",
    "\n",
    "#sd_test_IOD_df.hist(column=0)\n",
    "#sd_test_OOD_df.hist(column=0)\n",
    "import matplotlib.pyplot as plt\n",
    "fig, ax = plt.subplots()\n",
    "\n",
    "a_heights, a_bins = np.histogram(sd_test_IOD_df[0])\n",
    "b_heights, b_bins = np.histogram(sd_test_OOD_df[0], bins=a_bins)\n",
    "\n",
    "width = (a_bins[1] - a_bins[0])/3\n",
    "\n",
    "ax.bar(a_bins[:-1], a_heights, width = width, facecolor='blue',label=\"IOD SD\")\n",
    "ax.bar(b_bins[:-1]+width, b_heights, width = width, facecolor='red', label=\"OOD SD\")\n",
    "ax.legend()\n"
   ]
  },
  {
   "cell_type": "code",
   "execution_count": 15,
   "metadata": {},
   "outputs": [
    {
     "name": "stdout",
     "output_type": "stream",
     "text": [
      "0.5176189210679796\n"
     ]
    },
    {
     "data": {
      "image/png": "[encoded data removed]",
      "text/plain": [
       "<matplotlib.figure.Figure at 0x7ff2081e5710>"
      ]
     },
     "metadata": {
      "needs_background": "light"
     },
     "output_type": "display_data"
    }
   ],
   "source": [
    "from sklearn.metrics import roc_curve, roc_auc_score\n",
    "\n",
    "norm_scores = new_scores - min(new_scores) / (max(new_scores) - min(new_scores))\n",
    "\n",
    "auc = roc_auc_score(new_labels, new_scores)\n",
    "fpr, tpr, threshs = roc_curve(new_labels, norm_scores, drop_intermediate=True)\n",
    "print(auc)\n",
    "\n",
    "plt.title('Receiver Operating Characteristic')\n",
    "plt.plot(fpr, tpr)\n",
    "plt.show()\n"
   ]
  },
  {
   "cell_type": "code",
   "execution_count": null,
   "metadata": {},
   "outputs": [],
   "source": []
  },
  {
   "cell_type": "code",
   "execution_count": null,
   "metadata": {},
   "outputs": [],
   "source": []
  }
 ],
 "metadata": {
  "kernelspec": {
   "display_name": "Python 3",
   "language": "python",
   "name": "python3"
  },
  "language_info": {
   "codemirror_mode": {
    "name": "ipython",
    "version": 3
   },
   "file_extension": ".py",
   "mimetype": "text/x-python",
   "name": "python",
   "nbconvert_exporter": "python",
   "pygments_lexer": "ipython3",
   "version": "3.6.9"
  }
 },
 "nbformat": 4,
 "nbformat_minor": 4
}
