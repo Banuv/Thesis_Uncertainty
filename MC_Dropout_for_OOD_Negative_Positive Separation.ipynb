{
 "cells": [
  {
   "cell_type": "markdown",
   "metadata": {},
   "source": [
    "# All imports #"
   ]
  },
  {
   "cell_type": "code",
   "execution_count": 1,
   "metadata": {
    "scrolled": true
   },
   "outputs": [
    {
     "name": "stderr",
     "output_type": "stream",
     "text": [
      "/home/dfki.uni-bremen.de/bmanickavasakan/.local/lib/python3.6/site-packages/tensorflow/python/framework/dtypes.py:526: FutureWarning: Passing (type, 1) or '1type' as a synonym of type is deprecated; in a future version of numpy, it will be understood as (type, (1,)) / '(1,)type'.\n",
      "  _np_qint8 = np.dtype([(\"qint8\", np.int8, 1)])\n",
      "/home/dfki.uni-bremen.de/bmanickavasakan/.local/lib/python3.6/site-packages/tensorflow/python/framework/dtypes.py:527: FutureWarning: Passing (type, 1) or '1type' as a synonym of type is deprecated; in a future version of numpy, it will be understood as (type, (1,)) / '(1,)type'.\n",
      "  _np_quint8 = np.dtype([(\"quint8\", np.uint8, 1)])\n",
      "/home/dfki.uni-bremen.de/bmanickavasakan/.local/lib/python3.6/site-packages/tensorflow/python/framework/dtypes.py:528: FutureWarning: Passing (type, 1) or '1type' as a synonym of type is deprecated; in a future version of numpy, it will be understood as (type, (1,)) / '(1,)type'.\n",
      "  _np_qint16 = np.dtype([(\"qint16\", np.int16, 1)])\n",
      "/home/dfki.uni-bremen.de/bmanickavasakan/.local/lib/python3.6/site-packages/tensorflow/python/framework/dtypes.py:529: FutureWarning: Passing (type, 1) or '1type' as a synonym of type is deprecated; in a future version of numpy, it will be understood as (type, (1,)) / '(1,)type'.\n",
      "  _np_quint16 = np.dtype([(\"quint16\", np.uint16, 1)])\n",
      "/home/dfki.uni-bremen.de/bmanickavasakan/.local/lib/python3.6/site-packages/tensorflow/python/framework/dtypes.py:530: FutureWarning: Passing (type, 1) or '1type' as a synonym of type is deprecated; in a future version of numpy, it will be understood as (type, (1,)) / '(1,)type'.\n",
      "  _np_qint32 = np.dtype([(\"qint32\", np.int32, 1)])\n",
      "/home/dfki.uni-bremen.de/bmanickavasakan/.local/lib/python3.6/site-packages/tensorflow/python/framework/dtypes.py:535: FutureWarning: Passing (type, 1) or '1type' as a synonym of type is deprecated; in a future version of numpy, it will be understood as (type, (1,)) / '(1,)type'.\n",
      "  np_resource = np.dtype([(\"resource\", np.ubyte, 1)])\n",
      "Using TensorFlow backend.\n"
     ]
    }
   ],
   "source": [
    "from __future__ import print_function\n",
    "\n",
    "import sys, os\n",
    "import tensorflow as tf\n",
    "import tensorflow.keras\n",
    "import pandas as pd\n",
    "import numpy as np\n",
    "import sklearn\n",
    "import keras\n",
    "import csv\n",
    "\n",
    "from sklearn.preprocessing import MinMaxScaler\n",
    "from sklearn.metrics import mean_absolute_error\n",
    "from sklearn.model_selection import train_test_split\n",
    "\n",
    "from tensorflow.keras.models import Sequential, load_model\n",
    "from tensorflow.keras.layers import Dense, BatchNormalization, Dropout\n",
    "\n",
    "from keras_uncertainty.models import MCDropoutClassifier, MCDropoutRegressor\n",
    "from keras_uncertainty.utils import numpy_regression_nll\n"
   ]
  },
  {
   "cell_type": "code",
   "execution_count": 2,
   "metadata": {},
   "outputs": [],
   "source": [
    "def load_joint_space_csv_chunks(file_path):\n",
    "    data_frame = pd.read_csv(file_path, skiprows=1, header=None)\n",
    "    del data_frame[18]\n",
    "    return data_frame\n",
    "\n",
    "def load_task_space_csv_chunks(file_path):\n",
    "    return pd.read_csv(file_path, skiprows=1, header=None)\n"
   ]
  },
  {
   "cell_type": "code",
   "execution_count": 3,
   "metadata": {},
   "outputs": [],
   "source": [
    "##please select the appropriate folder, willl use os.path.join() for completed script\n",
    "TRAIN_FOLDER = '/home/dfki.uni-bremen.de/bmanickavasakan/newdataset_rh5_leg/leg_5steps/'\n",
    "TEST_FOLDER = '/home/dfki.uni-bremen.de/bmanickavasakan/newdataset_rh5_leg/leg_5steps/test_4steps'\n",
    "\n",
    "X_TRAIN_FILE = os.path.join(TRAIN_FOLDER, 'leg_forwardkinematics_x.csv')\n",
    "Q_TRAIN_FILE = os.path.join(TRAIN_FOLDER, 'leg_sysstate_q.csv')\n",
    "x_train = load_task_space_csv_chunks(X_TRAIN_FILE)\n",
    "q_train = load_joint_space_csv_chunks(Q_TRAIN_FILE)\n",
    "\n",
    "X_TEST_FILE = os.path.join(TEST_FOLDER, 'leg_forwardkinematics_x.csv')\n",
    "Q_TEST_FILE = os.path.join(TEST_FOLDER, 'leg_sysstate_q.csv')\n",
    "x_test = load_task_space_csv_chunks(X_TEST_FILE)\n",
    "q_test = load_joint_space_csv_chunks(Q_TEST_FILE)"
   ]
  },
  {
   "cell_type": "markdown",
   "metadata": {},
   "source": [
    "# Building the model with MC Droput #"
   ]
  },
  {
   "cell_type": "code",
   "execution_count": 4,
   "metadata": {
    "scrolled": true
   },
   "outputs": [
    {
     "name": "stdout",
     "output_type": "stream",
     "text": [
      "//////////////////////\n",
      "(9375, 9) (6250, 9) (2048, 9) (1792, 9)\n"
     ]
    }
   ],
   "source": [
    "\"\"\"\n",
    "+/- based data splitting\n",
    "We consider the Q features and use the feature with the highest SD for dividing the dataset. \n",
    "We consider all the positive values as IOD and all the negative values as OOD\n",
    "\"\"\"\n",
    "\n",
    "stats_q_train = pd.DataFrame()\n",
    "stats_q_train[\"Mean\"] = q_train.mean()\n",
    "stats_q_train[\"Var\"] = q_train.var()\n",
    "stats_q_train[\"STD\"] = q_train.std()\n",
    "stats_q_train[\"OneSigmaMax\"] = stats_q_train[\"Mean\"] + stats_q_train[\"STD\"]\n",
    "stats_q_train[\"OneSigmaMin\"] = stats_q_train[\"Mean\"] - stats_q_train[\"STD\"]\n",
    "stats_q_train.T\n",
    "\n",
    "max_std = stats_q_train[\"STD\"].max()\n",
    "colomn_max_std = stats_q_train[\"STD\"].idxmax()\n",
    "\n",
    "value = 0\n",
    "\n",
    "InDistribution_Q_Train =  q_train[q_train[colomn_max_std] > value]\n",
    "OutDistribution_Q_Train = q_train[q_train[colomn_max_std] < value]\n",
    "InDistribution_X_Train =  x_train[q_train[colomn_max_std] > value]\n",
    "OutDistribution_X_Train = x_train[q_train[colomn_max_std] < value]\n",
    "\n",
    "InDistribution_Q_Test =  q_test[q_test[colomn_max_std] > value]\n",
    "OutDistribution_Q_Test = q_test[q_test[colomn_max_std] < value]\n",
    "InDistribution_X_Test =  x_test[q_test[colomn_max_std] > value]\n",
    "OutDistribution_X_Test = x_test[q_test[colomn_max_std] < value]\n",
    "\n",
    "x_train_1 = InDistribution_X_Train\n",
    "q_train_1 = InDistribution_Q_Train\n",
    "x_test_1 = InDistribution_X_Test\n",
    "q_test_1 = InDistribution_Q_Test\n",
    "\n",
    "OOD_x_train = OutDistribution_X_Train\n",
    "OOD_q_train = OutDistribution_Q_Train\n",
    "OOD_x_test = OutDistribution_X_Test\n",
    "OOD_q_test = OutDistribution_Q_Test\n",
    "\n",
    "print(\"//////////////////////\")\n",
    "print(x_train_1.shape, OOD_x_train.shape, x_test_1.shape, OOD_x_test.shape)\n"
   ]
  },
  {
   "cell_type": "code",
   "execution_count": 5,
   "metadata": {},
   "outputs": [],
   "source": [
    "\n",
    "x_scaler = MinMaxScaler()\n",
    "q_scaler = MinMaxScaler()\n",
    "\n",
    "#In order training set\n",
    "x_train_1 = x_scaler.fit_transform(x_train_1)\n",
    "q_train_1 = q_scaler.fit_transform(q_train_1)\n",
    "\n",
    "#complete test set\n",
    "x_test = x_scaler.transform(x_test)\n",
    "#q_test = q_scaler.transform(q_test)\n",
    "\n",
    "#split testing data\n",
    "IOD_x_test = x_scaler.transform(x_test_1)\n",
    "IOD_q_test = q_scaler.transform(q_test_1)\n",
    "\n",
    "OOD_x_test = x_scaler.transform(OOD_x_test)\n",
    "OOD_q_test = q_scaler.transform(OOD_q_test)"
   ]
  },
  {
   "cell_type": "code",
   "execution_count": 6,
   "metadata": {},
   "outputs": [],
   "source": [
    "def model_builder(input_shape, output_shape):\n",
    "    def build_model(depth, width, reduction_factor):\n",
    "        model = Sequential()\n",
    "\n",
    "        for i in range(depth):\n",
    "            num_neurons = max(int(width * (reduction_factor ** i)), 4)\n",
    "            if i == 0:\n",
    "                model.add(Dense(num_neurons, activation='relu', input_shape=(input_shape,)))\n",
    "            else:\n",
    "                model.add(Dense(num_neurons, activation='relu'))\n",
    "                model.add(Dropout(0.5))\n",
    "\n",
    "            model.add(BatchNormalization())\n",
    "\n",
    "        model.add(Dense(output_shape, activation='sigmoid'))\n",
    "\n",
    "        model.compile(loss='mse', optimizer='adam', metrics=[\"mae\"])\n",
    "\n",
    "        return model\n",
    "    return build_model\n"
   ]
  },
  {
   "cell_type": "code",
   "execution_count": 7,
   "metadata": {
    "scrolled": true
   },
   "outputs": [
    {
     "name": "stdout",
     "output_type": "stream",
     "text": [
      "WARNING:tensorflow:From /home/dfki.uni-bremen.de/bmanickavasakan/.local/lib/python3.6/site-packages/tensorflow/python/ops/resource_variable_ops.py:435: colocate_with (from tensorflow.python.framework.ops) is deprecated and will be removed in a future version.\n",
      "Instructions for updating:\n",
      "Colocations handled automatically by placer.\n",
      "WARNING:tensorflow:From /home/dfki.uni-bremen.de/bmanickavasakan/.local/lib/python3.6/site-packages/tensorflow/python/keras/layers/core.py:143: calling dropout (from tensorflow.python.ops.nn_ops) with keep_prob is deprecated and will be removed in a future version.\n",
      "Instructions for updating:\n",
      "Please use `rate` instead of `keep_prob`. Rate should be set to `rate = 1 - keep_prob`.\n",
      "WARNING:tensorflow:From /home/dfki.uni-bremen.de/bmanickavasakan/.local/lib/python3.6/site-packages/tensorflow/python/keras/utils/losses_utils.py:170: to_float (from tensorflow.python.ops.math_ops) is deprecated and will be removed in a future version.\n",
      "Instructions for updating:\n",
      "Use tf.cast instead.\n"
     ]
    }
   ],
   "source": [
    "HYPERPARAMETERS = {'depth': 6, 'width': 64, 'reduction_factor':  0.9}\n",
    "with tf.device('/cpu:0'):\n",
    "    model = model_builder(9, 18)(**HYPERPARAMETERS)\n"
   ]
  },
  {
   "cell_type": "code",
   "execution_count": 8,
   "metadata": {
    "scrolled": true
   },
   "outputs": [
    {
     "name": "stdout",
     "output_type": "stream",
     "text": [
      "Train on 9375 samples, validate on 2048 samples\n",
      "WARNING:tensorflow:From /home/dfki.uni-bremen.de/bmanickavasakan/.local/lib/python3.6/site-packages/tensorflow/python/ops/math_ops.py:3066: to_int32 (from tensorflow.python.ops.math_ops) is deprecated and will be removed in a future version.\n",
      "Instructions for updating:\n",
      "Use tf.cast instead.\n",
      "Epoch 1/25\n",
      "9375/9375 [==============================] - 1s 136us/sample - loss: 0.1446 - mean_absolute_error: 0.3158 - val_loss: 0.1094 - val_mean_absolute_error: 0.2878\n",
      "Epoch 2/25\n",
      "9375/9375 [==============================] - 0s 34us/sample - loss: 0.1202 - mean_absolute_error: 0.2890 - val_loss: 0.1107 - val_mean_absolute_error: 0.2887\n",
      "Epoch 3/25\n",
      "9375/9375 [==============================] - 0s 36us/sample - loss: 0.1112 - mean_absolute_error: 0.2776 - val_loss: 0.1106 - val_mean_absolute_error: 0.2885\n",
      "Epoch 4/25\n",
      "9375/9375 [==============================] - 0s 34us/sample - loss: 0.1046 - mean_absolute_error: 0.2691 - val_loss: 0.1078 - val_mean_absolute_error: 0.2859\n",
      "Epoch 5/25\n",
      "9375/9375 [==============================] - 0s 34us/sample - loss: 0.0989 - mean_absolute_error: 0.2609 - val_loss: 0.0951 - val_mean_absolute_error: 0.2713\n",
      "Epoch 6/25\n",
      "9375/9375 [==============================] - 0s 36us/sample - loss: 0.0940 - mean_absolute_error: 0.2535 - val_loss: 0.0845 - val_mean_absolute_error: 0.2538\n",
      "Epoch 7/25\n",
      "9375/9375 [==============================] - 0s 36us/sample - loss: 0.0899 - mean_absolute_error: 0.2472 - val_loss: 0.0742 - val_mean_absolute_error: 0.2331\n",
      "Epoch 8/25\n",
      "9375/9375 [==============================] - 0s 35us/sample - loss: 0.0863 - mean_absolute_error: 0.2412 - val_loss: 0.0685 - val_mean_absolute_error: 0.2213\n",
      "Epoch 9/25\n",
      "9375/9375 [==============================] - 0s 37us/sample - loss: 0.0841 - mean_absolute_error: 0.2375 - val_loss: 0.0658 - val_mean_absolute_error: 0.2145\n",
      "Epoch 10/25\n",
      "9375/9375 [==============================] - 0s 35us/sample - loss: 0.0824 - mean_absolute_error: 0.2344 - val_loss: 0.0640 - val_mean_absolute_error: 0.2107\n",
      "Epoch 11/25\n",
      "9375/9375 [==============================] - 0s 38us/sample - loss: 0.0808 - mean_absolute_error: 0.2314 - val_loss: 0.0619 - val_mean_absolute_error: 0.2070\n",
      "Epoch 12/25\n",
      "9375/9375 [==============================] - 0s 36us/sample - loss: 0.0783 - mean_absolute_error: 0.2270 - val_loss: 0.0602 - val_mean_absolute_error: 0.2022\n",
      "Epoch 13/25\n",
      "9375/9375 [==============================] - 0s 36us/sample - loss: 0.0768 - mean_absolute_error: 0.2235 - val_loss: 0.0600 - val_mean_absolute_error: 0.2025\n",
      "Epoch 14/25\n",
      "9375/9375 [==============================] - 0s 35us/sample - loss: 0.0764 - mean_absolute_error: 0.2228 - val_loss: 0.0573 - val_mean_absolute_error: 0.1953\n",
      "Epoch 15/25\n",
      "9375/9375 [==============================] - 0s 35us/sample - loss: 0.0746 - mean_absolute_error: 0.2194 - val_loss: 0.0581 - val_mean_absolute_error: 0.1972\n",
      "Epoch 16/25\n",
      "9375/9375 [==============================] - 0s 35us/sample - loss: 0.0739 - mean_absolute_error: 0.2175 - val_loss: 0.0553 - val_mean_absolute_error: 0.1886\n",
      "Epoch 17/25\n",
      "9375/9375 [==============================] - 0s 34us/sample - loss: 0.0725 - mean_absolute_error: 0.2147 - val_loss: 0.0546 - val_mean_absolute_error: 0.1875\n",
      "Epoch 18/25\n",
      "9375/9375 [==============================] - 0s 35us/sample - loss: 0.0720 - mean_absolute_error: 0.2134 - val_loss: 0.0542 - val_mean_absolute_error: 0.1863\n",
      "Epoch 19/25\n",
      "9375/9375 [==============================] - 0s 37us/sample - loss: 0.0712 - mean_absolute_error: 0.2117 - val_loss: 0.0533 - val_mean_absolute_error: 0.1838\n",
      "Epoch 20/25\n",
      "9375/9375 [==============================] - 0s 35us/sample - loss: 0.0706 - mean_absolute_error: 0.2103 - val_loss: 0.0530 - val_mean_absolute_error: 0.1832\n",
      "Epoch 21/25\n",
      "9375/9375 [==============================] - 0s 36us/sample - loss: 0.0703 - mean_absolute_error: 0.2095 - val_loss: 0.0518 - val_mean_absolute_error: 0.1800\n",
      "Epoch 22/25\n",
      "9375/9375 [==============================] - 0s 35us/sample - loss: 0.0693 - mean_absolute_error: 0.2075 - val_loss: 0.0527 - val_mean_absolute_error: 0.1830\n",
      "Epoch 23/25\n",
      "9375/9375 [==============================] - 0s 37us/sample - loss: 0.0688 - mean_absolute_error: 0.2060 - val_loss: 0.0512 - val_mean_absolute_error: 0.1795\n",
      "Epoch 24/25\n",
      "9375/9375 [==============================] - 0s 35us/sample - loss: 0.0683 - mean_absolute_error: 0.2048 - val_loss: 0.0510 - val_mean_absolute_error: 0.1777\n",
      "Epoch 25/25\n",
      "9375/9375 [==============================] - 0s 36us/sample - loss: 0.0675 - mean_absolute_error: 0.2032 - val_loss: 0.0521 - val_mean_absolute_error: 0.1819\n"
     ]
    }
   ],
   "source": [
    "\n",
    "with tf.device('/cpu:0'):\n",
    "    hist = model.fit(x_train_1, q_train_1, epochs = 25, batch_size = 128, verbose = 1, validation_data=(IOD_x_test, IOD_q_test))\n",
    "#use_multiprocessing=True, workers=1000"
   ]
  },
  {
   "cell_type": "code",
   "execution_count": 9,
   "metadata": {},
   "outputs": [
    {
     "name": "stdout",
     "output_type": "stream",
     "text": [
      "Testing MAE: 0.18194\n",
      "Testing MAEX: 0.10295\n",
      "Q feature 0 has unnorm MAE: 0.3663 (Range -0.7330 to 0.4398) normalized MAE: 0.3123\n",
      "Q feature 1 has unnorm MAE: 0.3009 (Range -0.3840 to 0.5792) normalized MAE: 0.3124\n",
      "Q feature 2 has unnorm MAE: 0.2338 (Range -0.8200 to -0.0680) normalized MAE: 0.3109\n",
      "Q feature 3 has unnorm MAE: 0.2336 (Range -0.8381 to -0.0792) normalized MAE: 0.3078\n",
      "Q feature 4 has unnorm MAE: 0.0262 (Range 0.0070 to 0.0907) normalized MAE: 0.3133\n",
      "Q feature 5 has unnorm MAE: 0.1231 (Range 0.0000 to 1.0000) normalized MAE: 0.1231\n",
      "Q feature 6 has unnorm MAE: 0.0066 (Range -0.0822 to 0.0000) normalized MAE: 0.0806\n",
      "Q feature 7 has unnorm MAE: 0.0102 (Range 0.0000 to 0.0782) normalized MAE: 0.1300\n",
      "Q feature 8 has unnorm MAE: 0.1015 (Range -0.7850 to -0.1570) normalized MAE: 0.1615\n",
      "Q feature 9 has unnorm MAE: 0.1494 (Range -0.7850 to 0.4710) normalized MAE: 0.1190\n",
      "Q feature 10 has unnorm MAE: 0.0916 (Range 0.1543 to 0.8678) normalized MAE: 0.1283\n",
      "Q feature 11 has unnorm MAE: 0.1053 (Range 0.1576 to 0.9404) normalized MAE: 0.1345\n",
      "Q feature 12 has unnorm MAE: 0.0236 (Range -0.0304 to 0.1694) normalized MAE: 0.1182\n",
      "Q feature 13 has unnorm MAE: 0.0140 (Range -0.0687 to 0.0019) normalized MAE: 0.1976\n",
      "Q feature 14 has unnorm MAE: 0.0095 (Range -0.0245 to 0.0678) normalized MAE: 0.1025\n",
      "Q feature 15 has unnorm MAE: 0.0302 (Range -0.1222 to 0.1126) normalized MAE: 0.1286\n",
      "Q feature 16 has unnorm MAE: 0.0172 (Range -0.0639 to 0.0249) normalized MAE: 0.1939\n",
      "Q feature 17 has unnorm MAE: 0.0102 (Range -0.0510 to 0.0510) normalized MAE: 0.1003\n"
     ]
    }
   ],
   "source": [
    "q_pred = model.predict(IOD_x_test, verbose=0)\n",
    "q_unnorm = q_scaler.inverse_transform(IOD_q_test)\n",
    "q_pred_unnorm = q_scaler.inverse_transform(q_pred)\n",
    "\n",
    "global_mae = mean_absolute_error(IOD_q_test, q_pred)\n",
    "mae_1 = mean_absolute_error(q_unnorm, q_pred_unnorm)\n",
    "\n",
    "print(\"Testing MAE: {:.5f}\".format(global_mae))\n",
    "print(\"Testing MAEX: {:.5f}\".format(mae_1))\n",
    "\n",
    "\n",
    "# Compute MAE for each output independently.\n",
    "for i in range(IOD_q_test.shape[1]):\n",
    "    norm_mae_i = mean_absolute_error(IOD_q_test[:, i], q_pred[:, i])\n",
    "    mae_i = mean_absolute_error(q_unnorm[:, i], q_pred_unnorm[:, i])\n",
    "    print(\"Q feature {} has unnorm MAE: {:.4f} (Range {:.4f} to {:.4f}) normalized MAE: {:.4f}\".format(i, mae_i, q_scaler.data_min_[i], q_scaler.data_max_[i], norm_mae_i))\n"
   ]
  },
  {
   "cell_type": "markdown",
   "metadata": {},
   "source": [
    "# MC Dropout Regressor, O/P : mean, Std #"
   ]
  },
  {
   "cell_type": "code",
   "execution_count": 10,
   "metadata": {
    "scrolled": true
   },
   "outputs": [],
   "source": [
    "def test_mcdropout_regressor(x_test_values, q_test_values, model, data_scaler):   \n",
    "    mc_model = MCDropoutRegressor(model)\n",
    "    inp = x_test_values  \n",
    "    \n",
    "    mean, std = mc_model.predict(inp, num_samples = 10)\n",
    "    \n",
    "    q_pred_unnormalised = data_scaler.inverse_transform(mean)\n",
    "    \n",
    "    q_sd_unnromalised = data_scaler.inverse_transform(std)\n",
    "    \n",
    "    global_mae = mean_absolute_error(q_test_values, mean)\n",
    "\n",
    "    print(\"Testing MAE: {:.5f}\".format(global_mae))\n",
    "\n",
    "    return q_pred_unnormalised, q_sd_unnromalised\n",
    "  \n"
   ]
  },
  {
   "cell_type": "code",
   "execution_count": 11,
   "metadata": {},
   "outputs": [
    {
     "data": {
      "text/plain": [
       "'\\nmean_1, std_1 = test_mcdropout_regressor(x_test, q_test, model, q_scaler)\\n\\nq_test_unorm = q_scaler.inverse_transform(q_test)\\n\\nprint(\"NLL: {:.5f}\".format(numpy_regression_nll(q_test_unorm, mean_1, std_1**2)))\\n'"
      ]
     },
     "execution_count": 11,
     "metadata": {},
     "output_type": "execute_result"
    }
   ],
   "source": [
    "'''\n",
    "mean_1, std_1 = test_mcdropout_regressor(x_test, q_test, model, q_scaler)\n",
    "\n",
    "q_test_unorm = q_scaler.inverse_transform(q_test)\n",
    "\n",
    "print(\"NLL: {:.5f}\".format(numpy_regression_nll(q_test_unorm, mean_1, std_1**2)))\n",
    "'''"
   ]
  },
  {
   "cell_type": "code",
   "execution_count": 12,
   "metadata": {
    "scrolled": true
   },
   "outputs": [
    {
     "name": "stdout",
     "output_type": "stream",
     "text": [
      "Testing MAE: 0.30912\n",
      "NLL: 18.56316\n"
     ]
    }
   ],
   "source": [
    "mean_test_IOD, sd_test_IOD = test_mcdropout_regressor(IOD_x_test, IOD_q_test, model, q_scaler)\n",
    "q_test_unorm = q_scaler.inverse_transform(IOD_q_test)\n",
    "print(\"NLL: {:.5f}\".format(numpy_regression_nll(q_test_unorm, mean_test_IOD, sd_test_IOD**2)))"
   ]
  },
  {
   "cell_type": "code",
   "execution_count": 13,
   "metadata": {},
   "outputs": [
    {
     "name": "stdout",
     "output_type": "stream",
     "text": [
      "Testing MAE: 0.43582\n",
      "NLL: 18.51786\n"
     ]
    }
   ],
   "source": [
    "mean_test_OOD, sd_test_OOD = test_mcdropout_regressor(OOD_x_test, OOD_q_test, model, q_scaler)\n",
    "q_test_unorm = q_scaler.inverse_transform(OOD_q_test)\n",
    "print(\"NLL: {:.5f}\".format(numpy_regression_nll(q_test_unorm, mean_test_OOD, sd_test_OOD**2)))"
   ]
  },
  {
   "cell_type": "code",
   "execution_count": 15,
   "metadata": {
    "scrolled": true
   },
   "outputs": [
    {
     "name": "stdout",
     "output_type": "stream",
     "text": [
      "-0.69679797\n",
      "-0.7304319\n"
     ]
    },
    {
     "data": {
      "text/plain": [
       "<matplotlib.legend.Legend at 0x7f65d8129828>"
      ]
     },
     "execution_count": 15,
     "metadata": {},
     "output_type": "execute_result"
    },
    {
     "data": {
      "image/png": "[encoded data removed]",
      "text/plain": [
       "<matplotlib.figure.Figure at 0x7f65d802e128>"
      ]
     },
     "metadata": {
      "needs_background": "light"
     },
     "output_type": "display_data"
    }
   ],
   "source": [
    "sd_test_IOD_df = pd.DataFrame(sd_test_IOD)\n",
    "sd_test_OOD_df = pd.DataFrame(sd_test_OOD)\n",
    "new_scores = np.concatenate([sd_test_IOD_df[0], sd_test_OOD_df[0]], axis=0)\n",
    "new_labels = np.concatenate([np.zeros_like(sd_test_IOD_df[0]), np.ones_like(sd_test_OOD_df[0])], axis=0)\n",
    "histogram_df = pd.DataFrame(new_scores, new_labels)\n",
    "print(new_scores.max())\n",
    "print(new_scores.min())\n",
    "#histogram_df.hist(column=0)\n",
    "\n",
    "#sd_test_IOD_df.hist(column=0)\n",
    "#sd_test_OOD_df.hist(column=0)\n",
    "import matplotlib.pyplot as plt\n",
    "fig, ax = plt.subplots()\n",
    "\n",
    "a_heights, a_bins = np.histogram(sd_test_IOD_df[0])\n",
    "b_heights, b_bins = np.histogram(sd_test_OOD_df[0], bins=a_bins)\n",
    "\n",
    "width = (a_bins[1] - a_bins[0])/3\n",
    "\n",
    "ax.bar(a_bins[:-1], a_heights, width = width, facecolor='blue',label=\"IOD SD\")\n",
    "ax.bar(b_bins[:-1]+width, b_heights, width = width, facecolor='red', label=\"OOD SD\")\n",
    "ax.legend()\n"
   ]
  },
  {
   "cell_type": "code",
   "execution_count": 17,
   "metadata": {},
   "outputs": [
    {
     "name": "stdout",
     "output_type": "stream",
     "text": [
      "0.5004724775041852\n"
     ]
    },
    {
     "data": {
      "image/png": "[encoded data removed]",
      "text/plain": [
       "<matplotlib.figure.Figure at 0x7f65d8087438>"
      ]
     },
     "metadata": {
      "needs_background": "light"
     },
     "output_type": "display_data"
    }
   ],
   "source": [
    "from sklearn.metrics import roc_curve, roc_auc_score\n",
    "\n",
    "norm_scores = new_scores - min(new_scores) / (max(new_scores) - min(new_scores))\n",
    "\n",
    "auc = roc_auc_score(new_labels, new_scores)\n",
    "fpr, tpr, threshs = roc_curve(new_labels, norm_scores, drop_intermediate=True)\n",
    "print(auc)\n",
    "\n",
    "plt.title('Receiver Operating Characteristic')\n",
    "plt.plot(fpr, tpr)\n",
    "plt.show()\n"
   ]
  },
  {
   "cell_type": "code",
   "execution_count": null,
   "metadata": {},
   "outputs": [],
   "source": []
  },
  {
   "cell_type": "code",
   "execution_count": null,
   "metadata": {},
   "outputs": [],
   "source": []
  }
 ],
 "metadata": {
  "kernelspec": {
   "display_name": "Python 3",
   "language": "python",
   "name": "python3"
  },
  "language_info": {
   "codemirror_mode": {
    "name": "ipython",
    "version": 3
   },
   "file_extension": ".py",
   "mimetype": "text/x-python",
   "name": "python",
   "nbconvert_exporter": "python",
   "pygments_lexer": "ipython3",
   "version": "3.6.9"
  }
 },
 "nbformat": 4,
 "nbformat_minor": 4
}
