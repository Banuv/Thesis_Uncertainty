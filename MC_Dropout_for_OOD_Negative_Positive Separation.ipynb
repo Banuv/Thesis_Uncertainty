{
 "cells": [
  {
   "cell_type": "markdown",
   "metadata": {},
   "source": [
    "# All imports #"
   ]
  },
  {
   "cell_type": "code",
   "execution_count": 1,
   "metadata": {
    "scrolled": true
   },
   "outputs": [
    {
     "name": "stderr",
     "output_type": "stream",
     "text": [
      "/home/dfki.uni-bremen.de/bmanickavasakan/.local/lib/python3.6/site-packages/tensorflow/python/framework/dtypes.py:526: FutureWarning: Passing (type, 1) or '1type' as a synonym of type is deprecated; in a future version of numpy, it will be understood as (type, (1,)) / '(1,)type'.\n",
      "  _np_qint8 = np.dtype([(\"qint8\", np.int8, 1)])\n",
      "/home/dfki.uni-bremen.de/bmanickavasakan/.local/lib/python3.6/site-packages/tensorflow/python/framework/dtypes.py:527: FutureWarning: Passing (type, 1) or '1type' as a synonym of type is deprecated; in a future version of numpy, it will be understood as (type, (1,)) / '(1,)type'.\n",
      "  _np_quint8 = np.dtype([(\"quint8\", np.uint8, 1)])\n",
      "/home/dfki.uni-bremen.de/bmanickavasakan/.local/lib/python3.6/site-packages/tensorflow/python/framework/dtypes.py:528: FutureWarning: Passing (type, 1) or '1type' as a synonym of type is deprecated; in a future version of numpy, it will be understood as (type, (1,)) / '(1,)type'.\n",
      "  _np_qint16 = np.dtype([(\"qint16\", np.int16, 1)])\n",
      "/home/dfki.uni-bremen.de/bmanickavasakan/.local/lib/python3.6/site-packages/tensorflow/python/framework/dtypes.py:529: FutureWarning: Passing (type, 1) or '1type' as a synonym of type is deprecated; in a future version of numpy, it will be understood as (type, (1,)) / '(1,)type'.\n",
      "  _np_quint16 = np.dtype([(\"quint16\", np.uint16, 1)])\n",
      "/home/dfki.uni-bremen.de/bmanickavasakan/.local/lib/python3.6/site-packages/tensorflow/python/framework/dtypes.py:530: FutureWarning: Passing (type, 1) or '1type' as a synonym of type is deprecated; in a future version of numpy, it will be understood as (type, (1,)) / '(1,)type'.\n",
      "  _np_qint32 = np.dtype([(\"qint32\", np.int32, 1)])\n",
      "/home/dfki.uni-bremen.de/bmanickavasakan/.local/lib/python3.6/site-packages/tensorflow/python/framework/dtypes.py:535: FutureWarning: Passing (type, 1) or '1type' as a synonym of type is deprecated; in a future version of numpy, it will be understood as (type, (1,)) / '(1,)type'.\n",
      "  np_resource = np.dtype([(\"resource\", np.ubyte, 1)])\n",
      "Using TensorFlow backend.\n"
     ]
    }
   ],
   "source": [
    "from __future__ import print_function\n",
    "\n",
    "import sys, os\n",
    "import tensorflow as tf\n",
    "import tensorflow.keras\n",
    "import pandas as pd\n",
    "import numpy as np\n",
    "import sklearn\n",
    "import keras\n",
    "import csv\n",
    "\n",
    "from sklearn.preprocessing import MinMaxScaler\n",
    "from sklearn.metrics import mean_absolute_error\n",
    "from sklearn.model_selection import train_test_split\n",
    "\n",
    "from tensorflow.keras.models import Sequential, load_model\n",
    "from tensorflow.keras.layers import Dense, BatchNormalization, Dropout\n",
    "\n",
    "from keras_uncertainty.models import MCDropoutClassifier, MCDropoutRegressor\n",
    "from keras_uncertainty.utils import numpy_regression_nll\n"
   ]
  },
  {
   "cell_type": "code",
   "execution_count": 2,
   "metadata": {},
   "outputs": [],
   "source": [
    "def load_joint_space_csv_chunks(file_path):\n",
    "    data_frame = pd.read_csv(file_path, skiprows=1, header=None)\n",
    "    del data_frame[18]\n",
    "    return data_frame\n",
    "\n",
    "def load_task_space_csv_chunks(file_path):\n",
    "    return pd.read_csv(file_path, skiprows=1, header=None)\n"
   ]
  },
  {
   "cell_type": "code",
   "execution_count": 3,
   "metadata": {},
   "outputs": [],
   "source": [
    "##please select the appropriate folder, willl use os.path.join() for completed script\n",
    "TRAIN_FOLDER = '/home/dfki.uni-bremen.de/bmanickavasakan/newdataset_rh5_leg/leg_5steps/'\n",
    "TEST_FOLDER = '/home/dfki.uni-bremen.de/bmanickavasakan/newdataset_rh5_leg/leg_5steps/test_4steps'\n",
    "\n",
    "X_TRAIN_FILE = os.path.join(TRAIN_FOLDER, 'leg_forwardkinematics_x.csv')\n",
    "Q_TRAIN_FILE = os.path.join(TRAIN_FOLDER, 'leg_sysstate_q.csv')\n",
    "x_train = load_task_space_csv_chunks(X_TRAIN_FILE)\n",
    "q_train = load_joint_space_csv_chunks(Q_TRAIN_FILE)\n",
    "\n",
    "X_TEST_FILE = os.path.join(TEST_FOLDER, 'leg_forwardkinematics_x.csv')\n",
    "Q_TEST_FILE = os.path.join(TEST_FOLDER, 'leg_sysstate_q.csv')\n",
    "x_test = load_task_space_csv_chunks(X_TEST_FILE)\n",
    "q_test = load_joint_space_csv_chunks(Q_TEST_FILE)"
   ]
  },
  {
   "cell_type": "markdown",
   "metadata": {},
   "source": [
    "# Building the model with MC Droput #"
   ]
  },
  {
   "cell_type": "code",
   "execution_count": 5,
   "metadata": {
    "scrolled": true
   },
   "outputs": [
    {
     "name": "stdout",
     "output_type": "stream",
     "text": [
      "//////////////////////\n",
      "(9375, 9) (6250, 9) (2048, 9) (1792, 9)\n"
     ]
    }
   ],
   "source": [
    "\"\"\"\n",
    "+/- based data splitting\n",
    "We consider the Q features and use the feature with the highest SD for dividing the dataset. \n",
    "We consider all the positive values as IOD and all the negative values as OOD\n",
    "\"\"\"\n",
    "\n",
    "stats_q_train = pd.DataFrame()\n",
    "stats_q_train[\"Mean\"] = q_train.mean()\n",
    "stats_q_train[\"Var\"] = q_train.var()\n",
    "stats_q_train[\"STD\"] = q_train.std()\n",
    "stats_q_train[\"OneSigmaMax\"] = stats_q_train[\"Mean\"] + stats_q_train[\"STD\"]\n",
    "stats_q_train[\"OneSigmaMin\"] = stats_q_train[\"Mean\"] - stats_q_train[\"STD\"]\n",
    "stats_q_train.T\n",
    "\n",
    "max_std = stats_q_train[\"STD\"].max()\n",
    "colomn_max_std = stats_q_train[\"STD\"].idxmax()\n",
    "\n",
    "value = 0\n",
    "\n",
    "InDistribution_Q_Train =  q_train[q_train[colomn_max_std] > value]\n",
    "OutDistribution_Q_Train = q_train[q_train[colomn_max_std] < value]\n",
    "InDistribution_X_Train =  x_train[q_train[colomn_max_std] > value]\n",
    "OutDistribution_X_Train = x_train[q_train[colomn_max_std] < value]\n",
    "\n",
    "InDistribution_Q_Test =  q_test[q_test[colomn_max_std] > value]\n",
    "OutDistribution_Q_Test = q_test[q_test[colomn_max_std] < value]\n",
    "InDistribution_X_Test =  x_test[q_test[colomn_max_std] > value]\n",
    "OutDistribution_X_Test = x_test[q_test[colomn_max_std] < value]\n",
    "\n",
    "x_train_1 = InDistribution_X_Train\n",
    "q_train_1 = InDistribution_Q_Train\n",
    "x_test_1 = InDistribution_X_Test\n",
    "q_test_1 = InDistribution_Q_Test\n",
    "\n",
    "OOD_x_train = OutDistribution_X_Train\n",
    "OOD_q_train = OutDistribution_Q_Train\n",
    "OOD_x_test = OutDistribution_X_Test\n",
    "OOD_q_test = OutDistribution_Q_Test\n",
    "\n",
    "print(\"//////////////////////\")\n",
    "print(x_train_1.shape, OOD_x_train.shape, x_test_1.shape, OOD_x_test.shape)\n"
   ]
  },
  {
   "cell_type": "code",
   "execution_count": 6,
   "metadata": {},
   "outputs": [],
   "source": [
    "\n",
    "x_scaler = MinMaxScaler()\n",
    "q_scaler = MinMaxScaler()\n",
    "\n",
    "#In order training set\n",
    "x_train_1 = x_scaler.fit_transform(x_train_1)\n",
    "q_train_1 = q_scaler.fit_transform(q_train_1)\n",
    "\n",
    "#complete test set\n",
    "x_test = x_scaler.transform(x_test)\n",
    "#q_test = q_scaler.transform(q_test)\n",
    "\n",
    "#split testing data\n",
    "IOD_x_test = x_scaler.transform(x_test_1)\n",
    "IOD_q_test = q_scaler.transform(q_test_1)\n",
    "\n",
    "OOD_x_test = x_scaler.transform(OOD_x_test)\n",
    "OOD_q_test = q_scaler.transform(OOD_q_test)"
   ]
  },
  {
   "cell_type": "code",
   "execution_count": 7,
   "metadata": {},
   "outputs": [],
   "source": [
    "def model_builder(input_shape, output_shape):\n",
    "    def build_model(depth, width, reduction_factor):\n",
    "        model = Sequential()\n",
    "\n",
    "        for i in range(depth):\n",
    "            num_neurons = max(int(width * (reduction_factor ** i)), 4)\n",
    "            if i == 0:\n",
    "                model.add(Dense(num_neurons, activation='relu', input_shape=(input_shape,)))\n",
    "            else:\n",
    "                model.add(Dense(num_neurons, activation='relu'))\n",
    "                model.add(Dropout(0.5))\n",
    "\n",
    "            model.add(BatchNormalization())\n",
    "\n",
    "        model.add(Dense(output_shape, activation='sigmoid'))\n",
    "\n",
    "        model.compile(loss='mse', optimizer='adam', metrics=[\"mae\"])\n",
    "\n",
    "        return model\n",
    "    return build_model\n"
   ]
  },
  {
   "cell_type": "code",
   "execution_count": 9,
   "metadata": {
    "scrolled": true
   },
   "outputs": [],
   "source": [
    "HYPERPARAMETERS = {'depth': 6, 'width': 64, 'reduction_factor':  1.1}\n",
    "with tf.device('/cpu:0'):\n",
    "    model = model_builder(9, 18)(**HYPERPARAMETERS)\n"
   ]
  },
  {
   "cell_type": "code",
   "execution_count": 10,
   "metadata": {
    "scrolled": true
   },
   "outputs": [
    {
     "name": "stdout",
     "output_type": "stream",
     "text": [
      "Train on 9375 samples, validate on 2048 samples\n",
      "WARNING:tensorflow:From /home/dfki.uni-bremen.de/bmanickavasakan/.local/lib/python3.6/site-packages/tensorflow/python/ops/math_ops.py:3066: to_int32 (from tensorflow.python.ops.math_ops) is deprecated and will be removed in a future version.\n",
      "Instructions for updating:\n",
      "Use tf.cast instead.\n",
      "Epoch 1/200\n",
      "9375/9375 [==============================] - 1s 158us/sample - loss: 0.1576 - mean_absolute_error: 0.3272 - val_loss: 0.1116 - val_mean_absolute_error: 0.2886\n",
      "Epoch 2/200\n",
      "9375/9375 [==============================] - 1s 58us/sample - loss: 0.1202 - mean_absolute_error: 0.2855 - val_loss: 0.1127 - val_mean_absolute_error: 0.2871\n",
      "Epoch 3/200\n",
      "9375/9375 [==============================] - 1s 62us/sample - loss: 0.1031 - mean_absolute_error: 0.2636 - val_loss: 0.1033 - val_mean_absolute_error: 0.2749\n",
      "Epoch 4/200\n",
      "9375/9375 [==============================] - 1s 61us/sample - loss: 0.0930 - mean_absolute_error: 0.2484 - val_loss: 0.0897 - val_mean_absolute_error: 0.2542\n",
      "Epoch 5/200\n",
      "9375/9375 [==============================] - 1s 61us/sample - loss: 0.0851 - mean_absolute_error: 0.2360 - val_loss: 0.0780 - val_mean_absolute_error: 0.2331\n",
      "Epoch 6/200\n",
      "9375/9375 [==============================] - 1s 59us/sample - loss: 0.0799 - mean_absolute_error: 0.2274 - val_loss: 0.0739 - val_mean_absolute_error: 0.2243\n",
      "Epoch 7/200\n",
      "9375/9375 [==============================] - 1s 62us/sample - loss: 0.0757 - mean_absolute_error: 0.2208 - val_loss: 0.0665 - val_mean_absolute_error: 0.2116\n",
      "Epoch 8/200\n",
      "9375/9375 [==============================] - 1s 60us/sample - loss: 0.0728 - mean_absolute_error: 0.2160 - val_loss: 0.0598 - val_mean_absolute_error: 0.2002\n",
      "Epoch 9/200\n",
      "9375/9375 [==============================] - 1s 61us/sample - loss: 0.0701 - mean_absolute_error: 0.2112 - val_loss: 0.0505 - val_mean_absolute_error: 0.1822\n",
      "Epoch 10/200\n",
      "9375/9375 [==============================] - 1s 60us/sample - loss: 0.0672 - mean_absolute_error: 0.2056 - val_loss: 0.0415 - val_mean_absolute_error: 0.1632\n",
      "Epoch 11/200\n",
      "9375/9375 [==============================] - 1s 61us/sample - loss: 0.0640 - mean_absolute_error: 0.1999 - val_loss: 0.0344 - val_mean_absolute_error: 0.1468\n",
      "Epoch 12/200\n",
      "9375/9375 [==============================] - 1s 60us/sample - loss: 0.0612 - mean_absolute_error: 0.1943 - val_loss: 0.0322 - val_mean_absolute_error: 0.1398\n",
      "Epoch 13/200\n",
      "9375/9375 [==============================] - 1s 60us/sample - loss: 0.0585 - mean_absolute_error: 0.1888 - val_loss: 0.0299 - val_mean_absolute_error: 0.1333\n",
      "Epoch 14/200\n",
      "9375/9375 [==============================] - 1s 60us/sample - loss: 0.0575 - mean_absolute_error: 0.1865 - val_loss: 0.0275 - val_mean_absolute_error: 0.1254\n",
      "Epoch 15/200\n",
      "9375/9375 [==============================] - 1s 60us/sample - loss: 0.0557 - mean_absolute_error: 0.1832 - val_loss: 0.0285 - val_mean_absolute_error: 0.1298\n",
      "Epoch 16/200\n",
      "9375/9375 [==============================] - 1s 60us/sample - loss: 0.0544 - mean_absolute_error: 0.1799 - val_loss: 0.0262 - val_mean_absolute_error: 0.1214\n",
      "Epoch 17/200\n",
      "9375/9375 [==============================] - 1s 60us/sample - loss: 0.0535 - mean_absolute_error: 0.1782 - val_loss: 0.0249 - val_mean_absolute_error: 0.1170\n",
      "Epoch 18/200\n",
      "9375/9375 [==============================] - 1s 60us/sample - loss: 0.0525 - mean_absolute_error: 0.1759 - val_loss: 0.0247 - val_mean_absolute_error: 0.1156\n",
      "Epoch 19/200\n",
      "9375/9375 [==============================] - 1s 61us/sample - loss: 0.0511 - mean_absolute_error: 0.1726 - val_loss: 0.0279 - val_mean_absolute_error: 0.1263\n",
      "Epoch 20/200\n",
      "9375/9375 [==============================] - 1s 58us/sample - loss: 0.0504 - mean_absolute_error: 0.1713 - val_loss: 0.0245 - val_mean_absolute_error: 0.1155\n",
      "Epoch 21/200\n",
      "9375/9375 [==============================] - 1s 61us/sample - loss: 0.0499 - mean_absolute_error: 0.1702 - val_loss: 0.0238 - val_mean_absolute_error: 0.1125\n",
      "Epoch 22/200\n",
      "9375/9375 [==============================] - 1s 60us/sample - loss: 0.0496 - mean_absolute_error: 0.1688 - val_loss: 0.0243 - val_mean_absolute_error: 0.1151\n",
      "Epoch 23/200\n",
      "9375/9375 [==============================] - 1s 60us/sample - loss: 0.0487 - mean_absolute_error: 0.1672 - val_loss: 0.0231 - val_mean_absolute_error: 0.1096\n",
      "Epoch 24/200\n",
      "9375/9375 [==============================] - 1s 60us/sample - loss: 0.0478 - mean_absolute_error: 0.1651 - val_loss: 0.0232 - val_mean_absolute_error: 0.1094\n",
      "Epoch 25/200\n",
      "9375/9375 [==============================] - 1s 60us/sample - loss: 0.0480 - mean_absolute_error: 0.1655 - val_loss: 0.0237 - val_mean_absolute_error: 0.1123\n",
      "Epoch 26/200\n",
      "9375/9375 [==============================] - 1s 58us/sample - loss: 0.0469 - mean_absolute_error: 0.1633 - val_loss: 0.0234 - val_mean_absolute_error: 0.1107\n",
      "Epoch 27/200\n",
      "9375/9375 [==============================] - 1s 58us/sample - loss: 0.0469 - mean_absolute_error: 0.1632 - val_loss: 0.0231 - val_mean_absolute_error: 0.1101\n",
      "Epoch 28/200\n",
      "9375/9375 [==============================] - 1s 60us/sample - loss: 0.0462 - mean_absolute_error: 0.1616 - val_loss: 0.0224 - val_mean_absolute_error: 0.1067\n",
      "Epoch 29/200\n",
      "9375/9375 [==============================] - 1s 59us/sample - loss: 0.0461 - mean_absolute_error: 0.1615 - val_loss: 0.0229 - val_mean_absolute_error: 0.1089\n",
      "Epoch 30/200\n",
      "9375/9375 [==============================] - 1s 61us/sample - loss: 0.0457 - mean_absolute_error: 0.1604 - val_loss: 0.0222 - val_mean_absolute_error: 0.1066\n",
      "Epoch 31/200\n",
      "9375/9375 [==============================] - 1s 59us/sample - loss: 0.0452 - mean_absolute_error: 0.1594 - val_loss: 0.0218 - val_mean_absolute_error: 0.1037\n",
      "Epoch 32/200\n",
      "9375/9375 [==============================] - 1s 59us/sample - loss: 0.0448 - mean_absolute_error: 0.1586 - val_loss: 0.0217 - val_mean_absolute_error: 0.1035\n",
      "Epoch 33/200\n",
      "9375/9375 [==============================] - 1s 59us/sample - loss: 0.0447 - mean_absolute_error: 0.1582 - val_loss: 0.0232 - val_mean_absolute_error: 0.1101\n",
      "Epoch 34/200\n",
      "9375/9375 [==============================] - 1s 60us/sample - loss: 0.0446 - mean_absolute_error: 0.1573 - val_loss: 0.0224 - val_mean_absolute_error: 0.1065\n",
      "Epoch 35/200\n",
      "9375/9375 [==============================] - 1s 61us/sample - loss: 0.0443 - mean_absolute_error: 0.1569 - val_loss: 0.0227 - val_mean_absolute_error: 0.1077\n",
      "Epoch 36/200\n",
      "9375/9375 [==============================] - 1s 59us/sample - loss: 0.0443 - mean_absolute_error: 0.1570 - val_loss: 0.0256 - val_mean_absolute_error: 0.1191\n",
      "Epoch 37/200\n",
      "9375/9375 [==============================] - 1s 60us/sample - loss: 0.0435 - mean_absolute_error: 0.1553 - val_loss: 0.0229 - val_mean_absolute_error: 0.1091\n",
      "Epoch 38/200\n",
      "9375/9375 [==============================] - 1s 60us/sample - loss: 0.0438 - mean_absolute_error: 0.1556 - val_loss: 0.0221 - val_mean_absolute_error: 0.1057\n",
      "Epoch 39/200\n",
      "9375/9375 [==============================] - 1s 61us/sample - loss: 0.0430 - mean_absolute_error: 0.1539 - val_loss: 0.0218 - val_mean_absolute_error: 0.1019\n",
      "Epoch 40/200\n",
      "9375/9375 [==============================] - 1s 60us/sample - loss: 0.0428 - mean_absolute_error: 0.1534 - val_loss: 0.0211 - val_mean_absolute_error: 0.1006\n",
      "Epoch 41/200\n",
      "9375/9375 [==============================] - 1s 60us/sample - loss: 0.0422 - mean_absolute_error: 0.1523 - val_loss: 0.0215 - val_mean_absolute_error: 0.1031\n",
      "Epoch 42/200\n",
      "9375/9375 [==============================] - 1s 59us/sample - loss: 0.0425 - mean_absolute_error: 0.1529 - val_loss: 0.0219 - val_mean_absolute_error: 0.1044\n",
      "Epoch 43/200\n",
      "9375/9375 [==============================] - 1s 59us/sample - loss: 0.0423 - mean_absolute_error: 0.1522 - val_loss: 0.0215 - val_mean_absolute_error: 0.1018\n",
      "Epoch 44/200\n",
      "9375/9375 [==============================] - 1s 59us/sample - loss: 0.0421 - mean_absolute_error: 0.1515 - val_loss: 0.0204 - val_mean_absolute_error: 0.0960\n",
      "Epoch 45/200\n",
      "9375/9375 [==============================] - 1s 59us/sample - loss: 0.0423 - mean_absolute_error: 0.1518 - val_loss: 0.0208 - val_mean_absolute_error: 0.0980\n",
      "Epoch 46/200\n",
      "9375/9375 [==============================] - 1s 60us/sample - loss: 0.0416 - mean_absolute_error: 0.1503 - val_loss: 0.0206 - val_mean_absolute_error: 0.0969\n"
     ]
    },
    {
     "name": "stdout",
     "output_type": "stream",
     "text": [
      "Epoch 47/200\n",
      "9375/9375 [==============================] - 1s 63us/sample - loss: 0.0411 - mean_absolute_error: 0.1492 - val_loss: 0.0209 - val_mean_absolute_error: 0.0982\n",
      "Epoch 48/200\n",
      "9375/9375 [==============================] - 1s 61us/sample - loss: 0.0413 - mean_absolute_error: 0.1498 - val_loss: 0.0213 - val_mean_absolute_error: 0.1012\n",
      "Epoch 49/200\n",
      "9375/9375 [==============================] - 1s 63us/sample - loss: 0.0409 - mean_absolute_error: 0.1483 - val_loss: 0.0207 - val_mean_absolute_error: 0.0981\n",
      "Epoch 50/200\n",
      "9375/9375 [==============================] - 1s 63us/sample - loss: 0.0410 - mean_absolute_error: 0.1487 - val_loss: 0.0207 - val_mean_absolute_error: 0.0979\n",
      "Epoch 51/200\n",
      "9375/9375 [==============================] - 1s 63us/sample - loss: 0.0404 - mean_absolute_error: 0.1474 - val_loss: 0.0219 - val_mean_absolute_error: 0.1029\n",
      "Epoch 52/200\n",
      "9375/9375 [==============================] - 1s 63us/sample - loss: 0.0405 - mean_absolute_error: 0.1477 - val_loss: 0.0214 - val_mean_absolute_error: 0.1010\n",
      "Epoch 53/200\n",
      "9375/9375 [==============================] - 1s 62us/sample - loss: 0.0403 - mean_absolute_error: 0.1469 - val_loss: 0.0207 - val_mean_absolute_error: 0.0967\n",
      "Epoch 54/200\n",
      "9375/9375 [==============================] - 1s 63us/sample - loss: 0.0399 - mean_absolute_error: 0.1461 - val_loss: 0.0211 - val_mean_absolute_error: 0.0993\n",
      "Epoch 55/200\n",
      "9375/9375 [==============================] - 1s 60us/sample - loss: 0.0398 - mean_absolute_error: 0.1459 - val_loss: 0.0212 - val_mean_absolute_error: 0.0981\n",
      "Epoch 56/200\n",
      "9375/9375 [==============================] - 1s 61us/sample - loss: 0.0396 - mean_absolute_error: 0.1450 - val_loss: 0.0205 - val_mean_absolute_error: 0.0962\n",
      "Epoch 57/200\n",
      "9375/9375 [==============================] - 0s 52us/sample - loss: 0.0397 - mean_absolute_error: 0.1452 - val_loss: 0.0210 - val_mean_absolute_error: 0.0978\n",
      "Epoch 58/200\n",
      "9375/9375 [==============================] - 0s 44us/sample - loss: 0.0393 - mean_absolute_error: 0.1448 - val_loss: 0.0205 - val_mean_absolute_error: 0.0973\n",
      "Epoch 59/200\n",
      "9375/9375 [==============================] - 0s 52us/sample - loss: 0.0387 - mean_absolute_error: 0.1430 - val_loss: 0.0211 - val_mean_absolute_error: 0.0991\n",
      "Epoch 60/200\n",
      "9375/9375 [==============================] - 0s 45us/sample - loss: 0.0393 - mean_absolute_error: 0.1440 - val_loss: 0.0203 - val_mean_absolute_error: 0.0941\n",
      "Epoch 61/200\n",
      "9375/9375 [==============================] - 0s 43us/sample - loss: 0.0387 - mean_absolute_error: 0.1428 - val_loss: 0.0199 - val_mean_absolute_error: 0.0923\n",
      "Epoch 62/200\n",
      "9375/9375 [==============================] - 0s 49us/sample - loss: 0.0388 - mean_absolute_error: 0.1429 - val_loss: 0.0208 - val_mean_absolute_error: 0.0974\n",
      "Epoch 63/200\n",
      "9375/9375 [==============================] - 1s 60us/sample - loss: 0.0387 - mean_absolute_error: 0.1423 - val_loss: 0.0204 - val_mean_absolute_error: 0.0944\n",
      "Epoch 64/200\n",
      "9375/9375 [==============================] - 1s 63us/sample - loss: 0.0381 - mean_absolute_error: 0.1409 - val_loss: 0.0208 - val_mean_absolute_error: 0.0972\n",
      "Epoch 65/200\n",
      "9375/9375 [==============================] - 1s 60us/sample - loss: 0.0378 - mean_absolute_error: 0.1407 - val_loss: 0.0197 - val_mean_absolute_error: 0.0923\n",
      "Epoch 66/200\n",
      "9375/9375 [==============================] - 1s 62us/sample - loss: 0.0376 - mean_absolute_error: 0.1402 - val_loss: 0.0207 - val_mean_absolute_error: 0.0956\n",
      "Epoch 67/200\n",
      "9375/9375 [==============================] - 1s 63us/sample - loss: 0.0379 - mean_absolute_error: 0.1402 - val_loss: 0.0203 - val_mean_absolute_error: 0.0953\n",
      "Epoch 68/200\n",
      "9375/9375 [==============================] - 1s 62us/sample - loss: 0.0376 - mean_absolute_error: 0.1398 - val_loss: 0.0208 - val_mean_absolute_error: 0.0966\n",
      "Epoch 69/200\n",
      "9375/9375 [==============================] - 1s 62us/sample - loss: 0.0378 - mean_absolute_error: 0.1397 - val_loss: 0.0216 - val_mean_absolute_error: 0.0968\n",
      "Epoch 70/200\n",
      "9375/9375 [==============================] - 1s 61us/sample - loss: 0.0377 - mean_absolute_error: 0.1395 - val_loss: 0.0202 - val_mean_absolute_error: 0.0938\n",
      "Epoch 71/200\n",
      "9375/9375 [==============================] - 1s 62us/sample - loss: 0.0372 - mean_absolute_error: 0.1383 - val_loss: 0.0198 - val_mean_absolute_error: 0.0919\n",
      "Epoch 72/200\n",
      "9375/9375 [==============================] - 1s 62us/sample - loss: 0.0374 - mean_absolute_error: 0.1386 - val_loss: 0.0209 - val_mean_absolute_error: 0.0982\n",
      "Epoch 73/200\n",
      "9375/9375 [==============================] - 1s 60us/sample - loss: 0.0367 - mean_absolute_error: 0.1370 - val_loss: 0.0222 - val_mean_absolute_error: 0.1034\n",
      "Epoch 74/200\n",
      "9375/9375 [==============================] - 1s 61us/sample - loss: 0.0365 - mean_absolute_error: 0.1363 - val_loss: 0.0197 - val_mean_absolute_error: 0.0921\n",
      "Epoch 75/200\n",
      "9375/9375 [==============================] - 1s 62us/sample - loss: 0.0364 - mean_absolute_error: 0.1365 - val_loss: 0.0200 - val_mean_absolute_error: 0.0935\n",
      "Epoch 76/200\n",
      "9375/9375 [==============================] - 1s 61us/sample - loss: 0.0360 - mean_absolute_error: 0.1355 - val_loss: 0.0204 - val_mean_absolute_error: 0.0949\n",
      "Epoch 77/200\n",
      "9375/9375 [==============================] - 1s 60us/sample - loss: 0.0363 - mean_absolute_error: 0.1360 - val_loss: 0.0191 - val_mean_absolute_error: 0.0886\n",
      "Epoch 78/200\n",
      "9375/9375 [==============================] - 1s 62us/sample - loss: 0.0359 - mean_absolute_error: 0.1347 - val_loss: 0.0194 - val_mean_absolute_error: 0.0896\n",
      "Epoch 79/200\n",
      "9375/9375 [==============================] - 1s 62us/sample - loss: 0.0358 - mean_absolute_error: 0.1345 - val_loss: 0.0201 - val_mean_absolute_error: 0.0928\n",
      "Epoch 80/200\n",
      "9375/9375 [==============================] - 1s 62us/sample - loss: 0.0355 - mean_absolute_error: 0.1335 - val_loss: 0.0207 - val_mean_absolute_error: 0.0958\n",
      "Epoch 81/200\n",
      "9375/9375 [==============================] - 1s 61us/sample - loss: 0.0354 - mean_absolute_error: 0.1335 - val_loss: 0.0201 - val_mean_absolute_error: 0.0937\n",
      "Epoch 82/200\n",
      "9375/9375 [==============================] - 1s 61us/sample - loss: 0.0356 - mean_absolute_error: 0.1340 - val_loss: 0.0218 - val_mean_absolute_error: 0.0997\n",
      "Epoch 83/200\n",
      "9375/9375 [==============================] - 1s 60us/sample - loss: 0.0355 - mean_absolute_error: 0.1335 - val_loss: 0.0203 - val_mean_absolute_error: 0.0924\n",
      "Epoch 84/200\n",
      "9375/9375 [==============================] - 1s 59us/sample - loss: 0.0349 - mean_absolute_error: 0.1325 - val_loss: 0.0197 - val_mean_absolute_error: 0.0913\n",
      "Epoch 85/200\n",
      "9375/9375 [==============================] - 1s 60us/sample - loss: 0.0352 - mean_absolute_error: 0.1327 - val_loss: 0.0193 - val_mean_absolute_error: 0.0887\n",
      "Epoch 86/200\n",
      "9375/9375 [==============================] - 1s 61us/sample - loss: 0.0350 - mean_absolute_error: 0.1320 - val_loss: 0.0209 - val_mean_absolute_error: 0.0945\n",
      "Epoch 87/200\n",
      "9375/9375 [==============================] - 1s 59us/sample - loss: 0.0348 - mean_absolute_error: 0.1315 - val_loss: 0.0198 - val_mean_absolute_error: 0.0911\n",
      "Epoch 88/200\n",
      "9375/9375 [==============================] - 1s 58us/sample - loss: 0.0348 - mean_absolute_error: 0.1314 - val_loss: 0.0196 - val_mean_absolute_error: 0.0913\n",
      "Epoch 89/200\n",
      "9375/9375 [==============================] - 1s 59us/sample - loss: 0.0342 - mean_absolute_error: 0.1298 - val_loss: 0.0201 - val_mean_absolute_error: 0.0928\n",
      "Epoch 90/200\n",
      "9375/9375 [==============================] - 1s 60us/sample - loss: 0.0342 - mean_absolute_error: 0.1300 - val_loss: 0.0198 - val_mean_absolute_error: 0.0913\n",
      "Epoch 91/200\n",
      "9375/9375 [==============================] - 1s 61us/sample - loss: 0.0367 - mean_absolute_error: 0.1353 - val_loss: 0.0204 - val_mean_absolute_error: 0.0913\n",
      "Epoch 92/200\n",
      "9375/9375 [==============================] - 1s 60us/sample - loss: 0.0352 - mean_absolute_error: 0.1320 - val_loss: 0.0192 - val_mean_absolute_error: 0.0878\n",
      "Epoch 93/200\n",
      "9375/9375 [==============================] - 1s 59us/sample - loss: 0.0347 - mean_absolute_error: 0.1308 - val_loss: 0.0207 - val_mean_absolute_error: 0.0941\n",
      "Epoch 94/200\n",
      "9375/9375 [==============================] - 1s 61us/sample - loss: 0.0345 - mean_absolute_error: 0.1300 - val_loss: 0.0198 - val_mean_absolute_error: 0.0901\n"
     ]
    },
    {
     "name": "stdout",
     "output_type": "stream",
     "text": [
      "Epoch 95/200\n",
      "9375/9375 [==============================] - 1s 62us/sample - loss: 0.0344 - mean_absolute_error: 0.1300 - val_loss: 0.0202 - val_mean_absolute_error: 0.0906\n",
      "Epoch 96/200\n",
      "9375/9375 [==============================] - 1s 62us/sample - loss: 0.0344 - mean_absolute_error: 0.1298 - val_loss: 0.0194 - val_mean_absolute_error: 0.0875\n",
      "Epoch 97/200\n",
      "9375/9375 [==============================] - 1s 63us/sample - loss: 0.0335 - mean_absolute_error: 0.1279 - val_loss: 0.0194 - val_mean_absolute_error: 0.0884\n",
      "Epoch 98/200\n",
      "9375/9375 [==============================] - 1s 64us/sample - loss: 0.0337 - mean_absolute_error: 0.1280 - val_loss: 0.0193 - val_mean_absolute_error: 0.0880\n",
      "Epoch 99/200\n",
      "9375/9375 [==============================] - 1s 62us/sample - loss: 0.0344 - mean_absolute_error: 0.1292 - val_loss: 0.0198 - val_mean_absolute_error: 0.0909\n",
      "Epoch 100/200\n",
      "9375/9375 [==============================] - 1s 62us/sample - loss: 0.0335 - mean_absolute_error: 0.1274 - val_loss: 0.0195 - val_mean_absolute_error: 0.0886\n",
      "Epoch 101/200\n",
      "9375/9375 [==============================] - 1s 63us/sample - loss: 0.0340 - mean_absolute_error: 0.1286 - val_loss: 0.0200 - val_mean_absolute_error: 0.0885\n",
      "Epoch 102/200\n",
      "9375/9375 [==============================] - 1s 62us/sample - loss: 0.0330 - mean_absolute_error: 0.1266 - val_loss: 0.0198 - val_mean_absolute_error: 0.0896\n",
      "Epoch 103/200\n",
      "9375/9375 [==============================] - 1s 61us/sample - loss: 0.0331 - mean_absolute_error: 0.1266 - val_loss: 0.0192 - val_mean_absolute_error: 0.0881\n",
      "Epoch 104/200\n",
      "9375/9375 [==============================] - 1s 61us/sample - loss: 0.0329 - mean_absolute_error: 0.1257 - val_loss: 0.0184 - val_mean_absolute_error: 0.0835\n",
      "Epoch 105/200\n",
      "9375/9375 [==============================] - 1s 63us/sample - loss: 0.0331 - mean_absolute_error: 0.1263 - val_loss: 0.0203 - val_mean_absolute_error: 0.0932\n",
      "Epoch 106/200\n",
      "9375/9375 [==============================] - 1s 62us/sample - loss: 0.0337 - mean_absolute_error: 0.1273 - val_loss: 0.0205 - val_mean_absolute_error: 0.0906\n",
      "Epoch 107/200\n",
      "9375/9375 [==============================] - 1s 61us/sample - loss: 0.0331 - mean_absolute_error: 0.1263 - val_loss: 0.0202 - val_mean_absolute_error: 0.0911\n",
      "Epoch 108/200\n",
      "9375/9375 [==============================] - 1s 61us/sample - loss: 0.0329 - mean_absolute_error: 0.1259 - val_loss: 0.0208 - val_mean_absolute_error: 0.0935\n",
      "Epoch 109/200\n",
      "9375/9375 [==============================] - 1s 58us/sample - loss: 0.0326 - mean_absolute_error: 0.1249 - val_loss: 0.0199 - val_mean_absolute_error: 0.0880\n",
      "Epoch 110/200\n",
      "9375/9375 [==============================] - 1s 61us/sample - loss: 0.0332 - mean_absolute_error: 0.1261 - val_loss: 0.0224 - val_mean_absolute_error: 0.0957\n",
      "Epoch 111/200\n",
      "9375/9375 [==============================] - 1s 62us/sample - loss: 0.0328 - mean_absolute_error: 0.1252 - val_loss: 0.0195 - val_mean_absolute_error: 0.0880\n",
      "Epoch 112/200\n",
      "9375/9375 [==============================] - 1s 62us/sample - loss: 0.0325 - mean_absolute_error: 0.1244 - val_loss: 0.0202 - val_mean_absolute_error: 0.0923\n",
      "Epoch 113/200\n",
      "9375/9375 [==============================] - 1s 62us/sample - loss: 0.0324 - mean_absolute_error: 0.1241 - val_loss: 0.0188 - val_mean_absolute_error: 0.0841\n",
      "Epoch 114/200\n",
      "9375/9375 [==============================] - 1s 61us/sample - loss: 0.0327 - mean_absolute_error: 0.1248 - val_loss: 0.0200 - val_mean_absolute_error: 0.0901\n",
      "Epoch 115/200\n",
      "9375/9375 [==============================] - 1s 62us/sample - loss: 0.0323 - mean_absolute_error: 0.1235 - val_loss: 0.0195 - val_mean_absolute_error: 0.0877\n",
      "Epoch 116/200\n",
      "9375/9375 [==============================] - 1s 61us/sample - loss: 0.0325 - mean_absolute_error: 0.1242 - val_loss: 0.0192 - val_mean_absolute_error: 0.0868\n",
      "Epoch 117/200\n",
      "9375/9375 [==============================] - 1s 60us/sample - loss: 0.0320 - mean_absolute_error: 0.1231 - val_loss: 0.0183 - val_mean_absolute_error: 0.0831\n",
      "Epoch 118/200\n",
      "9375/9375 [==============================] - 1s 62us/sample - loss: 0.0323 - mean_absolute_error: 0.1236 - val_loss: 0.0206 - val_mean_absolute_error: 0.0940\n",
      "Epoch 119/200\n",
      "9375/9375 [==============================] - 1s 60us/sample - loss: 0.0326 - mean_absolute_error: 0.1242 - val_loss: 0.0190 - val_mean_absolute_error: 0.0851\n",
      "Epoch 120/200\n",
      "9375/9375 [==============================] - 1s 60us/sample - loss: 0.0325 - mean_absolute_error: 0.1241 - val_loss: 0.0196 - val_mean_absolute_error: 0.0917\n",
      "Epoch 121/200\n",
      "9375/9375 [==============================] - 1s 60us/sample - loss: 0.0318 - mean_absolute_error: 0.1223 - val_loss: 0.0191 - val_mean_absolute_error: 0.0860\n",
      "Epoch 122/200\n",
      "9375/9375 [==============================] - 1s 61us/sample - loss: 0.0321 - mean_absolute_error: 0.1229 - val_loss: 0.0208 - val_mean_absolute_error: 0.0893\n",
      "Epoch 123/200\n",
      "9375/9375 [==============================] - 1s 61us/sample - loss: 0.0331 - mean_absolute_error: 0.1253 - val_loss: 0.0214 - val_mean_absolute_error: 0.0911\n",
      "Epoch 124/200\n",
      "9375/9375 [==============================] - 1s 61us/sample - loss: 0.0322 - mean_absolute_error: 0.1232 - val_loss: 0.0194 - val_mean_absolute_error: 0.0866\n",
      "Epoch 125/200\n",
      "9375/9375 [==============================] - 1s 62us/sample - loss: 0.0317 - mean_absolute_error: 0.1217 - val_loss: 0.0192 - val_mean_absolute_error: 0.0858\n",
      "Epoch 126/200\n",
      "9375/9375 [==============================] - 1s 61us/sample - loss: 0.0319 - mean_absolute_error: 0.1224 - val_loss: 0.0200 - val_mean_absolute_error: 0.0892\n",
      "Epoch 127/200\n",
      "9375/9375 [==============================] - 1s 59us/sample - loss: 0.0314 - mean_absolute_error: 0.1211 - val_loss: 0.0189 - val_mean_absolute_error: 0.0870\n",
      "Epoch 128/200\n",
      "9375/9375 [==============================] - 1s 59us/sample - loss: 0.0318 - mean_absolute_error: 0.1220 - val_loss: 0.0188 - val_mean_absolute_error: 0.0848\n",
      "Epoch 129/200\n",
      "9375/9375 [==============================] - 1s 60us/sample - loss: 0.0319 - mean_absolute_error: 0.1222 - val_loss: 0.0192 - val_mean_absolute_error: 0.0872\n",
      "Epoch 130/200\n",
      "9375/9375 [==============================] - 1s 59us/sample - loss: 0.0314 - mean_absolute_error: 0.1211 - val_loss: 0.0196 - val_mean_absolute_error: 0.0885\n",
      "Epoch 131/200\n",
      "9375/9375 [==============================] - 1s 59us/sample - loss: 0.0324 - mean_absolute_error: 0.1228 - val_loss: 0.0193 - val_mean_absolute_error: 0.0883\n",
      "Epoch 132/200\n",
      "9375/9375 [==============================] - 1s 61us/sample - loss: 0.0315 - mean_absolute_error: 0.1212 - val_loss: 0.0186 - val_mean_absolute_error: 0.0846\n",
      "Epoch 133/200\n",
      "9375/9375 [==============================] - 1s 59us/sample - loss: 0.0316 - mean_absolute_error: 0.1209 - val_loss: 0.0216 - val_mean_absolute_error: 0.0942\n",
      "Epoch 134/200\n",
      "9375/9375 [==============================] - 1s 62us/sample - loss: 0.0312 - mean_absolute_error: 0.1201 - val_loss: 0.0208 - val_mean_absolute_error: 0.0905\n",
      "Epoch 135/200\n",
      "9375/9375 [==============================] - 1s 60us/sample - loss: 0.0309 - mean_absolute_error: 0.1193 - val_loss: 0.0207 - val_mean_absolute_error: 0.0895\n",
      "Epoch 136/200\n",
      "9375/9375 [==============================] - 1s 60us/sample - loss: 0.0309 - mean_absolute_error: 0.1189 - val_loss: 0.0201 - val_mean_absolute_error: 0.0892\n",
      "Epoch 137/200\n",
      "9375/9375 [==============================] - 1s 60us/sample - loss: 0.0319 - mean_absolute_error: 0.1216 - val_loss: 0.0201 - val_mean_absolute_error: 0.0906\n",
      "Epoch 138/200\n",
      "9375/9375 [==============================] - 1s 59us/sample - loss: 0.0315 - mean_absolute_error: 0.1205 - val_loss: 0.0203 - val_mean_absolute_error: 0.0896\n",
      "Epoch 139/200\n",
      "9375/9375 [==============================] - 1s 59us/sample - loss: 0.0316 - mean_absolute_error: 0.1212 - val_loss: 0.0199 - val_mean_absolute_error: 0.0888\n",
      "Epoch 140/200\n",
      "9375/9375 [==============================] - 1s 60us/sample - loss: 0.0317 - mean_absolute_error: 0.1212 - val_loss: 0.0193 - val_mean_absolute_error: 0.0865\n",
      "Epoch 141/200\n",
      "9375/9375 [==============================] - 1s 60us/sample - loss: 0.0312 - mean_absolute_error: 0.1199 - val_loss: 0.0186 - val_mean_absolute_error: 0.0828\n",
      "Epoch 142/200\n",
      "9375/9375 [==============================] - 1s 60us/sample - loss: 0.0309 - mean_absolute_error: 0.1197 - val_loss: 0.0196 - val_mean_absolute_error: 0.0872\n"
     ]
    },
    {
     "name": "stdout",
     "output_type": "stream",
     "text": [
      "Epoch 143/200\n",
      "9375/9375 [==============================] - 1s 64us/sample - loss: 0.0318 - mean_absolute_error: 0.1210 - val_loss: 0.0254 - val_mean_absolute_error: 0.1083\n",
      "Epoch 144/200\n",
      "9375/9375 [==============================] - 1s 61us/sample - loss: 0.0317 - mean_absolute_error: 0.1206 - val_loss: 0.0205 - val_mean_absolute_error: 0.0902\n",
      "Epoch 145/200\n",
      "9375/9375 [==============================] - 1s 62us/sample - loss: 0.0314 - mean_absolute_error: 0.1203 - val_loss: 0.0203 - val_mean_absolute_error: 0.0890\n",
      "Epoch 146/200\n",
      "9375/9375 [==============================] - 1s 64us/sample - loss: 0.0310 - mean_absolute_error: 0.1192 - val_loss: 0.0190 - val_mean_absolute_error: 0.0862\n",
      "Epoch 147/200\n",
      "9375/9375 [==============================] - 1s 63us/sample - loss: 0.0312 - mean_absolute_error: 0.1197 - val_loss: 0.0191 - val_mean_absolute_error: 0.0873\n",
      "Epoch 148/200\n",
      "9375/9375 [==============================] - 1s 62us/sample - loss: 0.0307 - mean_absolute_error: 0.1182 - val_loss: 0.0199 - val_mean_absolute_error: 0.0911\n",
      "Epoch 149/200\n",
      "9375/9375 [==============================] - 1s 63us/sample - loss: 0.0306 - mean_absolute_error: 0.1180 - val_loss: 0.0185 - val_mean_absolute_error: 0.0833\n",
      "Epoch 150/200\n",
      "9375/9375 [==============================] - 1s 62us/sample - loss: 0.0305 - mean_absolute_error: 0.1181 - val_loss: 0.0189 - val_mean_absolute_error: 0.0858\n",
      "Epoch 151/200\n",
      "9375/9375 [==============================] - 1s 61us/sample - loss: 0.0309 - mean_absolute_error: 0.1184 - val_loss: 0.0203 - val_mean_absolute_error: 0.0888\n",
      "Epoch 152/200\n",
      "9375/9375 [==============================] - 1s 63us/sample - loss: 0.0306 - mean_absolute_error: 0.1180 - val_loss: 0.0194 - val_mean_absolute_error: 0.0882\n",
      "Epoch 153/200\n",
      "9375/9375 [==============================] - 1s 63us/sample - loss: 0.0307 - mean_absolute_error: 0.1182 - val_loss: 0.0202 - val_mean_absolute_error: 0.0897\n",
      "Epoch 154/200\n",
      "9375/9375 [==============================] - 1s 62us/sample - loss: 0.0306 - mean_absolute_error: 0.1178 - val_loss: 0.0208 - val_mean_absolute_error: 0.0894\n",
      "Epoch 155/200\n",
      "9375/9375 [==============================] - 1s 61us/sample - loss: 0.0306 - mean_absolute_error: 0.1180 - val_loss: 0.0186 - val_mean_absolute_error: 0.0845\n",
      "Epoch 156/200\n",
      "9375/9375 [==============================] - 1s 62us/sample - loss: 0.0303 - mean_absolute_error: 0.1174 - val_loss: 0.0199 - val_mean_absolute_error: 0.0901\n",
      "Epoch 157/200\n",
      "9375/9375 [==============================] - 1s 61us/sample - loss: 0.0300 - mean_absolute_error: 0.1163 - val_loss: 0.0192 - val_mean_absolute_error: 0.0851\n",
      "Epoch 158/200\n",
      "9375/9375 [==============================] - 1s 59us/sample - loss: 0.0303 - mean_absolute_error: 0.1173 - val_loss: 0.0196 - val_mean_absolute_error: 0.0867\n",
      "Epoch 159/200\n",
      "9375/9375 [==============================] - 1s 61us/sample - loss: 0.0310 - mean_absolute_error: 0.1186 - val_loss: 0.0194 - val_mean_absolute_error: 0.0869\n",
      "Epoch 160/200\n",
      "9375/9375 [==============================] - 1s 63us/sample - loss: 0.0306 - mean_absolute_error: 0.1177 - val_loss: 0.0205 - val_mean_absolute_error: 0.0930\n",
      "Epoch 161/200\n",
      "9375/9375 [==============================] - 1s 62us/sample - loss: 0.0306 - mean_absolute_error: 0.1175 - val_loss: 0.0197 - val_mean_absolute_error: 0.0887\n",
      "Epoch 162/200\n",
      "9375/9375 [==============================] - 1s 61us/sample - loss: 0.0300 - mean_absolute_error: 0.1162 - val_loss: 0.0194 - val_mean_absolute_error: 0.0869\n",
      "Epoch 163/200\n",
      "9375/9375 [==============================] - 1s 60us/sample - loss: 0.0303 - mean_absolute_error: 0.1173 - val_loss: 0.0192 - val_mean_absolute_error: 0.0848\n",
      "Epoch 164/200\n",
      "9375/9375 [==============================] - 1s 61us/sample - loss: 0.0306 - mean_absolute_error: 0.1178 - val_loss: 0.0204 - val_mean_absolute_error: 0.0883\n",
      "Epoch 165/200\n",
      "9375/9375 [==============================] - 1s 63us/sample - loss: 0.0302 - mean_absolute_error: 0.1165 - val_loss: 0.0189 - val_mean_absolute_error: 0.0847\n",
      "Epoch 166/200\n",
      "9375/9375 [==============================] - 1s 61us/sample - loss: 0.0300 - mean_absolute_error: 0.1159 - val_loss: 0.0180 - val_mean_absolute_error: 0.0808\n",
      "Epoch 167/200\n",
      "9375/9375 [==============================] - 1s 61us/sample - loss: 0.0302 - mean_absolute_error: 0.1161 - val_loss: 0.0188 - val_mean_absolute_error: 0.0840\n",
      "Epoch 168/200\n",
      "9375/9375 [==============================] - 1s 60us/sample - loss: 0.0301 - mean_absolute_error: 0.1162 - val_loss: 0.0190 - val_mean_absolute_error: 0.0852\n",
      "Epoch 169/200\n",
      "9375/9375 [==============================] - 1s 62us/sample - loss: 0.0306 - mean_absolute_error: 0.1173 - val_loss: 0.0200 - val_mean_absolute_error: 0.0875\n",
      "Epoch 170/200\n",
      "9375/9375 [==============================] - 1s 60us/sample - loss: 0.0313 - mean_absolute_error: 0.1190 - val_loss: 0.0194 - val_mean_absolute_error: 0.0841\n",
      "Epoch 171/200\n",
      "9375/9375 [==============================] - 1s 62us/sample - loss: 0.0304 - mean_absolute_error: 0.1171 - val_loss: 0.0202 - val_mean_absolute_error: 0.0867\n",
      "Epoch 172/200\n",
      "9375/9375 [==============================] - 1s 63us/sample - loss: 0.0303 - mean_absolute_error: 0.1166 - val_loss: 0.0209 - val_mean_absolute_error: 0.0914\n",
      "Epoch 173/200\n",
      "9375/9375 [==============================] - 1s 60us/sample - loss: 0.0303 - mean_absolute_error: 0.1168 - val_loss: 0.0200 - val_mean_absolute_error: 0.0893\n",
      "Epoch 174/200\n",
      "9375/9375 [==============================] - 1s 60us/sample - loss: 0.0297 - mean_absolute_error: 0.1153 - val_loss: 0.0199 - val_mean_absolute_error: 0.0884\n",
      "Epoch 175/200\n",
      "9375/9375 [==============================] - 1s 61us/sample - loss: 0.0303 - mean_absolute_error: 0.1164 - val_loss: 0.0203 - val_mean_absolute_error: 0.0885\n",
      "Epoch 176/200\n",
      "9375/9375 [==============================] - 1s 59us/sample - loss: 0.0299 - mean_absolute_error: 0.1157 - val_loss: 0.0185 - val_mean_absolute_error: 0.0833\n",
      "Epoch 177/200\n",
      "9375/9375 [==============================] - 1s 60us/sample - loss: 0.0296 - mean_absolute_error: 0.1150 - val_loss: 0.0197 - val_mean_absolute_error: 0.0872\n",
      "Epoch 178/200\n",
      "9375/9375 [==============================] - 1s 61us/sample - loss: 0.0300 - mean_absolute_error: 0.1158 - val_loss: 0.0212 - val_mean_absolute_error: 0.0926\n",
      "Epoch 179/200\n",
      "9375/9375 [==============================] - 1s 59us/sample - loss: 0.0297 - mean_absolute_error: 0.1156 - val_loss: 0.0192 - val_mean_absolute_error: 0.0858\n",
      "Epoch 180/200\n",
      "9375/9375 [==============================] - 1s 62us/sample - loss: 0.0298 - mean_absolute_error: 0.1148 - val_loss: 0.0200 - val_mean_absolute_error: 0.0919\n",
      "Epoch 181/200\n",
      "9375/9375 [==============================] - 1s 59us/sample - loss: 0.0300 - mean_absolute_error: 0.1153 - val_loss: 0.0191 - val_mean_absolute_error: 0.0864\n",
      "Epoch 182/200\n",
      "9375/9375 [==============================] - 1s 62us/sample - loss: 0.0297 - mean_absolute_error: 0.1147 - val_loss: 0.0203 - val_mean_absolute_error: 0.0913\n",
      "Epoch 183/200\n",
      "9375/9375 [==============================] - 1s 59us/sample - loss: 0.0306 - mean_absolute_error: 0.1163 - val_loss: 0.0194 - val_mean_absolute_error: 0.0877\n",
      "Epoch 184/200\n",
      "9375/9375 [==============================] - 1s 60us/sample - loss: 0.0296 - mean_absolute_error: 0.1145 - val_loss: 0.0213 - val_mean_absolute_error: 0.0933\n",
      "Epoch 185/200\n",
      "9375/9375 [==============================] - 1s 59us/sample - loss: 0.0299 - mean_absolute_error: 0.1147 - val_loss: 0.0193 - val_mean_absolute_error: 0.0859\n",
      "Epoch 186/200\n",
      "9375/9375 [==============================] - 1s 60us/sample - loss: 0.0295 - mean_absolute_error: 0.1143 - val_loss: 0.0209 - val_mean_absolute_error: 0.0928\n",
      "Epoch 187/200\n",
      "9375/9375 [==============================] - 1s 62us/sample - loss: 0.0299 - mean_absolute_error: 0.1152 - val_loss: 0.0187 - val_mean_absolute_error: 0.0854\n",
      "Epoch 188/200\n",
      "9375/9375 [==============================] - 1s 60us/sample - loss: 0.0305 - mean_absolute_error: 0.1164 - val_loss: 0.0207 - val_mean_absolute_error: 0.0915\n",
      "Epoch 189/200\n",
      "9375/9375 [==============================] - 1s 59us/sample - loss: 0.0300 - mean_absolute_error: 0.1156 - val_loss: 0.0202 - val_mean_absolute_error: 0.0908\n",
      "Epoch 190/200\n"
     ]
    },
    {
     "name": "stdout",
     "output_type": "stream",
     "text": [
      "9375/9375 [==============================] - 1s 63us/sample - loss: 0.0295 - mean_absolute_error: 0.1141 - val_loss: 0.0197 - val_mean_absolute_error: 0.0886\n",
      "Epoch 191/200\n",
      "9375/9375 [==============================] - 1s 63us/sample - loss: 0.0299 - mean_absolute_error: 0.1152 - val_loss: 0.0188 - val_mean_absolute_error: 0.0852\n",
      "Epoch 192/200\n",
      "9375/9375 [==============================] - 1s 65us/sample - loss: 0.0295 - mean_absolute_error: 0.1144 - val_loss: 0.0198 - val_mean_absolute_error: 0.0874\n",
      "Epoch 193/200\n",
      "9375/9375 [==============================] - 1s 60us/sample - loss: 0.0299 - mean_absolute_error: 0.1151 - val_loss: 0.0206 - val_mean_absolute_error: 0.0938\n",
      "Epoch 194/200\n",
      "9375/9375 [==============================] - 1s 62us/sample - loss: 0.0295 - mean_absolute_error: 0.1138 - val_loss: 0.0188 - val_mean_absolute_error: 0.0851\n",
      "Epoch 195/200\n",
      "9375/9375 [==============================] - 1s 63us/sample - loss: 0.0305 - mean_absolute_error: 0.1163 - val_loss: 0.0211 - val_mean_absolute_error: 0.0909\n",
      "Epoch 196/200\n",
      "9375/9375 [==============================] - 1s 62us/sample - loss: 0.0296 - mean_absolute_error: 0.1147 - val_loss: 0.0203 - val_mean_absolute_error: 0.0881\n",
      "Epoch 197/200\n",
      "9375/9375 [==============================] - 1s 62us/sample - loss: 0.0299 - mean_absolute_error: 0.1153 - val_loss: 0.0204 - val_mean_absolute_error: 0.0889\n",
      "Epoch 198/200\n",
      "9375/9375 [==============================] - 1s 61us/sample - loss: 0.0294 - mean_absolute_error: 0.1138 - val_loss: 0.0194 - val_mean_absolute_error: 0.0888\n",
      "Epoch 199/200\n",
      "9375/9375 [==============================] - 1s 63us/sample - loss: 0.0292 - mean_absolute_error: 0.1133 - val_loss: 0.0194 - val_mean_absolute_error: 0.0867\n",
      "Epoch 200/200\n",
      "9375/9375 [==============================] - 1s 62us/sample - loss: 0.0295 - mean_absolute_error: 0.1137 - val_loss: 0.0190 - val_mean_absolute_error: 0.0868\n"
     ]
    }
   ],
   "source": [
    "\n",
    "with tf.device('/cpu:0'):\n",
    "    hist = model.fit(x_train_1, q_train_1, epochs = 200, batch_size = 128, verbose = 1, validation_data=(IOD_x_test, IOD_q_test))\n",
    "#use_multiprocessing=True, workers=1000"
   ]
  },
  {
   "cell_type": "code",
   "execution_count": 11,
   "metadata": {},
   "outputs": [
    {
     "name": "stdout",
     "output_type": "stream",
     "text": [
      "Testing MAE: 0.08681\n",
      "Testing MAEX: 0.05858\n",
      "Q feature 0 has unnorm MAE: 0.3661 (Range -0.7330 to 0.4398) normalized MAE: 0.3122\n",
      "Q feature 1 has unnorm MAE: 0.3000 (Range -0.3840 to 0.5792) normalized MAE: 0.3115\n",
      "Q feature 2 has unnorm MAE: 0.0328 (Range -0.8200 to -0.0680) normalized MAE: 0.0436\n",
      "Q feature 3 has unnorm MAE: 0.0347 (Range -0.8381 to -0.0792) normalized MAE: 0.0457\n",
      "Q feature 4 has unnorm MAE: 0.0036 (Range 0.0070 to 0.0907) normalized MAE: 0.0433\n",
      "Q feature 5 has unnorm MAE: 0.0425 (Range 0.0000 to 1.0000) normalized MAE: 0.0425\n",
      "Q feature 6 has unnorm MAE: 0.0044 (Range -0.0822 to 0.0000) normalized MAE: 0.0537\n",
      "Q feature 7 has unnorm MAE: 0.0034 (Range 0.0000 to 0.0782) normalized MAE: 0.0441\n",
      "Q feature 8 has unnorm MAE: 0.0439 (Range -0.7850 to -0.1570) normalized MAE: 0.0699\n",
      "Q feature 9 has unnorm MAE: 0.0653 (Range -0.7850 to 0.4710) normalized MAE: 0.0520\n",
      "Q feature 10 has unnorm MAE: 0.0500 (Range 0.1543 to 0.8678) normalized MAE: 0.0701\n",
      "Q feature 11 has unnorm MAE: 0.0587 (Range 0.1576 to 0.9404) normalized MAE: 0.0750\n",
      "Q feature 12 has unnorm MAE: 0.0116 (Range -0.0304 to 0.1694) normalized MAE: 0.0580\n",
      "Q feature 13 has unnorm MAE: 0.0068 (Range -0.0687 to 0.0019) normalized MAE: 0.0958\n",
      "Q feature 14 has unnorm MAE: 0.0034 (Range -0.0245 to 0.0678) normalized MAE: 0.0370\n",
      "Q feature 15 has unnorm MAE: 0.0128 (Range -0.1222 to 0.1126) normalized MAE: 0.0544\n",
      "Q feature 16 has unnorm MAE: 0.0091 (Range -0.0639 to 0.0249) normalized MAE: 0.1024\n",
      "Q feature 17 has unnorm MAE: 0.0053 (Range -0.0510 to 0.0510) normalized MAE: 0.0516\n"
     ]
    }
   ],
   "source": [
    "q_pred = model.predict(IOD_x_test, verbose=0)\n",
    "q_unnorm = q_scaler.inverse_transform(IOD_q_test)\n",
    "q_pred_unnorm = q_scaler.inverse_transform(q_pred)\n",
    "\n",
    "global_mae = mean_absolute_error(IOD_q_test, q_pred)\n",
    "mae_1 = mean_absolute_error(q_unnorm, q_pred_unnorm)\n",
    "\n",
    "print(\"Testing MAE: {:.5f}\".format(global_mae))\n",
    "print(\"Testing MAEX: {:.5f}\".format(mae_1))\n",
    "\n",
    "\n",
    "# Compute MAE for each output independently.\n",
    "for i in range(IOD_q_test.shape[1]):\n",
    "    norm_mae_i = mean_absolute_error(IOD_q_test[:, i], q_pred[:, i])\n",
    "    mae_i = mean_absolute_error(q_unnorm[:, i], q_pred_unnorm[:, i])\n",
    "    print(\"Q feature {} has unnorm MAE: {:.4f} (Range {:.4f} to {:.4f}) normalized MAE: {:.4f}\".format(i, mae_i, q_scaler.data_min_[i], q_scaler.data_max_[i], norm_mae_i))\n"
   ]
  },
  {
   "cell_type": "markdown",
   "metadata": {},
   "source": [
    "# MC Dropout Regressor, O/P : mean, Std #"
   ]
  },
  {
   "cell_type": "code",
   "execution_count": 12,
   "metadata": {
    "scrolled": true
   },
   "outputs": [],
   "source": [
    "def test_mcdropout_regressor(x_test_values, q_test_values, model, data_scaler):   \n",
    "    mc_model = MCDropoutRegressor(model)\n",
    "    inp = x_test_values  \n",
    "    \n",
    "    mean, std = mc_model.predict(inp, num_samples = 10)\n",
    "    \n",
    "    q_pred_unnormalised = data_scaler.inverse_transform(mean)\n",
    "    \n",
    "    q_sd_unnromalised = data_scaler.inverse_transform(std)\n",
    "    \n",
    "    global_mae = mean_absolute_error(q_test_values, mean)\n",
    "\n",
    "    print(\"Testing MAE: {:.5f}\".format(global_mae))\n",
    "\n",
    "    return q_pred_unnormalised, q_sd_unnromalised\n",
    "  \n"
   ]
  },
  {
   "cell_type": "code",
   "execution_count": 11,
   "metadata": {},
   "outputs": [
    {
     "data": {
      "text/plain": [
       "'\\nmean_1, std_1 = test_mcdropout_regressor(x_test, q_test, model, q_scaler)\\n\\nq_test_unorm = q_scaler.inverse_transform(q_test)\\n\\nprint(\"NLL: {:.5f}\".format(numpy_regression_nll(q_test_unorm, mean_1, std_1**2)))\\n'"
      ]
     },
     "execution_count": 11,
     "metadata": {},
     "output_type": "execute_result"
    }
   ],
   "source": [
    "'''\n",
    "mean_1, std_1 = test_mcdropout_regressor(x_test, q_test, model, q_scaler)\n",
    "\n",
    "q_test_unorm = q_scaler.inverse_transform(q_test)\n",
    "\n",
    "print(\"NLL: {:.5f}\".format(numpy_regression_nll(q_test_unorm, mean_1, std_1**2)))\n",
    "'''"
   ]
  },
  {
   "cell_type": "code",
   "execution_count": 13,
   "metadata": {
    "scrolled": true
   },
   "outputs": [
    {
     "name": "stdout",
     "output_type": "stream",
     "text": [
      "Testing MAE: 0.30251\n",
      "NLL: 38.68025\n"
     ]
    }
   ],
   "source": [
    "mean_test_IOD, sd_test_IOD = test_mcdropout_regressor(IOD_x_test, IOD_q_test, model, q_scaler)\n",
    "q_test_unorm = q_scaler.inverse_transform(IOD_q_test)\n",
    "print(\"NLL: {:.5f}\".format(numpy_regression_nll(q_test_unorm, mean_test_IOD, sd_test_IOD**2)))"
   ]
  },
  {
   "cell_type": "code",
   "execution_count": 14,
   "metadata": {},
   "outputs": [
    {
     "name": "stdout",
     "output_type": "stream",
     "text": [
      "Testing MAE: 0.43982\n",
      "NLL: 53.58577\n"
     ]
    }
   ],
   "source": [
    "mean_test_OOD, sd_test_OOD = test_mcdropout_regressor(OOD_x_test, OOD_q_test, model, q_scaler)\n",
    "q_test_unorm = q_scaler.inverse_transform(OOD_q_test)\n",
    "print(\"NLL: {:.5f}\".format(numpy_regression_nll(q_test_unorm, mean_test_OOD, sd_test_OOD**2)))"
   ]
  },
  {
   "cell_type": "code",
   "execution_count": 16,
   "metadata": {
    "scrolled": true
   },
   "outputs": [
    {
     "name": "stdout",
     "output_type": "stream",
     "text": [
      "-0.68104345\n",
      "-0.7306986\n"
     ]
    },
    {
     "data": {
      "text/plain": [
       "<matplotlib.legend.Legend at 0x7fcaecb29ac8>"
      ]
     },
     "execution_count": 16,
     "metadata": {},
     "output_type": "execute_result"
    },
    {
     "data": {
      "image/png": "[encoded data removed]",
      "text/plain": [
       "<matplotlib.figure.Figure at 0x7fcafddffc88>"
      ]
     },
     "metadata": {
      "needs_background": "light"
     },
     "output_type": "display_data"
    }
   ],
   "source": [
    "sd_test_IOD_df = pd.DataFrame(sd_test_IOD)\n",
    "sd_test_OOD_df = pd.DataFrame(sd_test_OOD)\n",
    "new_scores = np.concatenate([sd_test_IOD_df[0], sd_test_OOD_df[0]], axis=0)\n",
    "new_labels = np.concatenate([np.zeros_like(sd_test_IOD_df[0]), np.ones_like(sd_test_OOD_df[0])], axis=0)\n",
    "histogram_df = pd.DataFrame(new_scores, new_labels)\n",
    "print(new_scores.max())\n",
    "print(new_scores.min())\n",
    "#histogram_df.hist(column=0)\n",
    "\n",
    "#sd_test_IOD_df.hist(column=0)\n",
    "#sd_test_OOD_df.hist(column=0)\n",
    "import matplotlib.pyplot as plt\n",
    "fig, ax = plt.subplots()\n",
    "\n",
    "a_heights, a_bins = np.histogram(sd_test_IOD_df[0])\n",
    "b_heights, b_bins = np.histogram(sd_test_OOD_df[0], bins=a_bins)\n",
    "\n",
    "width = (a_bins[1] - a_bins[0])/3\n",
    "\n",
    "ax.bar(a_bins[:-1], a_heights, width = width, facecolor='blue',label=\"IOD SD\")\n",
    "ax.bar(b_bins[:-1]+width, b_heights, width = width, facecolor='red', label=\"OOD SD\")\n",
    "ax.legend()\n"
   ]
  },
  {
   "cell_type": "code",
   "execution_count": 15,
   "metadata": {},
   "outputs": [
    {
     "name": "stdout",
     "output_type": "stream",
     "text": [
      "0.5176189210679796\n"
     ]
    },
    {
     "data": {
      "image/png": "[encoded data removed]",
      "text/plain": [
       "<matplotlib.figure.Figure at 0x7ff2081e5710>"
      ]
     },
     "metadata": {
      "needs_background": "light"
     },
     "output_type": "display_data"
    }
   ],
   "source": [
    "from sklearn.metrics import roc_curve, roc_auc_score\n",
    "\n",
    "norm_scores = new_scores - min(new_scores) / (max(new_scores) - min(new_scores))\n",
    "\n",
    "auc = roc_auc_score(new_labels, new_scores)\n",
    "fpr, tpr, threshs = roc_curve(new_labels, norm_scores, drop_intermediate=True)\n",
    "print(auc)\n",
    "\n",
    "plt.title('Receiver Operating Characteristic')\n",
    "plt.plot(fpr, tpr)\n",
    "plt.show()\n"
   ]
  },
  {
   "cell_type": "code",
   "execution_count": null,
   "metadata": {},
   "outputs": [],
   "source": []
  },
  {
   "cell_type": "code",
   "execution_count": null,
   "metadata": {},
   "outputs": [],
   "source": []
  }
 ],
 "metadata": {
  "kernelspec": {
   "display_name": "Python 3",
   "language": "python",
   "name": "python3"
  },
  "language_info": {
   "codemirror_mode": {
    "name": "ipython",
    "version": 3
   },
   "file_extension": ".py",
   "mimetype": "text/x-python",
   "name": "python",
   "nbconvert_exporter": "python",
   "pygments_lexer": "ipython3",
   "version": "3.6.9"
  }
 },
 "nbformat": 4,
 "nbformat_minor": 4
}
