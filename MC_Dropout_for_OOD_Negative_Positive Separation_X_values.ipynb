{
 "cells": [
  {
   "cell_type": "markdown",
   "metadata": {},
   "source": [
    "# All imports #"
   ]
  },
  {
   "cell_type": "code",
   "execution_count": 1,
   "metadata": {
    "scrolled": true
   },
   "outputs": [
    {
     "name": "stderr",
     "output_type": "stream",
     "text": [
      "/home/dfki.uni-bremen.de/bmanickavasakan/.local/lib/python3.6/site-packages/tensorflow/python/framework/dtypes.py:526: FutureWarning: Passing (type, 1) or '1type' as a synonym of type is deprecated; in a future version of numpy, it will be understood as (type, (1,)) / '(1,)type'.\n",
      "  _np_qint8 = np.dtype([(\"qint8\", np.int8, 1)])\n",
      "/home/dfki.uni-bremen.de/bmanickavasakan/.local/lib/python3.6/site-packages/tensorflow/python/framework/dtypes.py:527: FutureWarning: Passing (type, 1) or '1type' as a synonym of type is deprecated; in a future version of numpy, it will be understood as (type, (1,)) / '(1,)type'.\n",
      "  _np_quint8 = np.dtype([(\"quint8\", np.uint8, 1)])\n",
      "/home/dfki.uni-bremen.de/bmanickavasakan/.local/lib/python3.6/site-packages/tensorflow/python/framework/dtypes.py:528: FutureWarning: Passing (type, 1) or '1type' as a synonym of type is deprecated; in a future version of numpy, it will be understood as (type, (1,)) / '(1,)type'.\n",
      "  _np_qint16 = np.dtype([(\"qint16\", np.int16, 1)])\n",
      "/home/dfki.uni-bremen.de/bmanickavasakan/.local/lib/python3.6/site-packages/tensorflow/python/framework/dtypes.py:529: FutureWarning: Passing (type, 1) or '1type' as a synonym of type is deprecated; in a future version of numpy, it will be understood as (type, (1,)) / '(1,)type'.\n",
      "  _np_quint16 = np.dtype([(\"quint16\", np.uint16, 1)])\n",
      "/home/dfki.uni-bremen.de/bmanickavasakan/.local/lib/python3.6/site-packages/tensorflow/python/framework/dtypes.py:530: FutureWarning: Passing (type, 1) or '1type' as a synonym of type is deprecated; in a future version of numpy, it will be understood as (type, (1,)) / '(1,)type'.\n",
      "  _np_qint32 = np.dtype([(\"qint32\", np.int32, 1)])\n",
      "/home/dfki.uni-bremen.de/bmanickavasakan/.local/lib/python3.6/site-packages/tensorflow/python/framework/dtypes.py:535: FutureWarning: Passing (type, 1) or '1type' as a synonym of type is deprecated; in a future version of numpy, it will be understood as (type, (1,)) / '(1,)type'.\n",
      "  np_resource = np.dtype([(\"resource\", np.ubyte, 1)])\n",
      "Using TensorFlow backend.\n"
     ]
    }
   ],
   "source": [
    "from __future__ import print_function\n",
    "\n",
    "import sys, os\n",
    "import tensorflow as tf\n",
    "import tensorflow.keras\n",
    "import pandas as pd\n",
    "import numpy as np\n",
    "import sklearn\n",
    "import keras\n",
    "import csv\n",
    "\n",
    "from sklearn.preprocessing import MinMaxScaler\n",
    "from sklearn.metrics import mean_absolute_error\n",
    "from sklearn.model_selection import train_test_split\n",
    "\n",
    "from tensorflow.keras.models import Sequential, load_model\n",
    "from tensorflow.keras.layers import Dense, BatchNormalization, Dropout\n",
    "\n",
    "from keras_uncertainty.models import MCDropoutClassifier, MCDropoutRegressor\n",
    "from keras_uncertainty.utils import numpy_regression_nll\n"
   ]
  },
  {
   "cell_type": "code",
   "execution_count": 2,
   "metadata": {},
   "outputs": [],
   "source": [
    "def load_joint_space_csv_chunks(file_path):\n",
    "    data_frame = pd.read_csv(file_path, skiprows=1, header=None)\n",
    "    del data_frame[18]\n",
    "    return data_frame\n",
    "\n",
    "def load_task_space_csv_chunks(file_path):\n",
    "    return pd.read_csv(file_path, skiprows=1, header=None)\n"
   ]
  },
  {
   "cell_type": "code",
   "execution_count": 3,
   "metadata": {},
   "outputs": [],
   "source": [
    "##please select the appropriate folder, willl use os.path.join() for completed script\n",
    "TRAIN_FOLDER = '/home/dfki.uni-bremen.de/bmanickavasakan/newdataset_rh5_leg/leg_5steps/'\n",
    "TEST_FOLDER = '/home/dfki.uni-bremen.de/bmanickavasakan/newdataset_rh5_leg/leg_5steps/test_4steps'\n",
    "\n",
    "X_TRAIN_FILE = os.path.join(TRAIN_FOLDER, 'leg_forwardkinematics_x.csv')\n",
    "Q_TRAIN_FILE = os.path.join(TRAIN_FOLDER, 'leg_sysstate_q.csv')\n",
    "x_train = load_task_space_csv_chunks(X_TRAIN_FILE)\n",
    "q_train = load_joint_space_csv_chunks(Q_TRAIN_FILE)\n",
    "\n",
    "X_TEST_FILE = os.path.join(TEST_FOLDER, 'leg_forwardkinematics_x.csv')\n",
    "Q_TEST_FILE = os.path.join(TEST_FOLDER, 'leg_sysstate_q.csv')\n",
    "x_test = load_task_space_csv_chunks(X_TEST_FILE)\n",
    "q_test = load_joint_space_csv_chunks(Q_TEST_FILE)"
   ]
  },
  {
   "cell_type": "markdown",
   "metadata": {},
   "source": [
    "# Building the model with MC Droput #"
   ]
  },
  {
   "cell_type": "code",
   "execution_count": 4,
   "metadata": {
    "scrolled": true
   },
   "outputs": [
    {
     "name": "stdout",
     "output_type": "stream",
     "text": [
      "//////////////////////\n",
      "(5226, 9) (10399, 9) (1485, 9) (2611, 9)\n"
     ]
    }
   ],
   "source": [
    "\"\"\"\n",
    "+/- based data splitting\n",
    "We consider the Q features and use the feature with the highest SD for dividing the dataset. \n",
    "We consider all the positive values as IOD and all the negative values as OOD\n",
    "\"\"\"\n",
    "\n",
    "stats_x_train = pd.DataFrame()\n",
    "stats_x_train[\"Mean\"] = x_train.mean()\n",
    "stats_x_train[\"Var\"] = x_train.var()\n",
    "stats_x_train[\"STD\"] = x_train.std()\n",
    "stats_x_train[\"OneSigmaMax\"] = stats_x_train[\"Mean\"] + stats_x_train[\"STD\"]\n",
    "stats_x_train[\"OneSigmaMin\"] = stats_x_train[\"Mean\"] - stats_x_train[\"STD\"]\n",
    "stats_x_train.T\n",
    "\n",
    "max_std = stats_x_train[\"STD\"].max()\n",
    "colomn_max_std = stats_x_train[\"STD\"].idxmax()\n",
    "\n",
    "value = 0\n",
    "\n",
    "InDistribution_Q_Train =  q_train[x_train[0] > value]\n",
    "OutDistribution_Q_Train = q_train[x_train[0] < value]\n",
    "InDistribution_X_Train =  x_train[x_train[0] > value]\n",
    "OutDistribution_X_Train = x_train[x_train[0] < value]\n",
    "\n",
    "InDistribution_Q_Test =  q_test[x_test[0] > value]\n",
    "OutDistribution_Q_Test = q_test[x_test[0] < value]\n",
    "InDistribution_X_Test =  x_test[x_test[0] > value]\n",
    "OutDistribution_X_Test = x_test[x_test[0] < value]\n",
    "\n",
    "x_train_1 = InDistribution_X_Train\n",
    "q_train_1 = InDistribution_Q_Train\n",
    "x_test_1 = InDistribution_X_Test\n",
    "q_test_1 = InDistribution_Q_Test\n",
    "\n",
    "OOD_x_train = OutDistribution_X_Train\n",
    "OOD_q_train = OutDistribution_Q_Train\n",
    "OOD_x_test = OutDistribution_X_Test\n",
    "OOD_q_test = OutDistribution_Q_Test\n",
    "\n",
    "print(\"//////////////////////\")\n",
    "print(x_train_1.shape, OOD_x_train.shape, x_test_1.shape, OOD_x_test.shape)\n"
   ]
  },
  {
   "cell_type": "code",
   "execution_count": 5,
   "metadata": {},
   "outputs": [],
   "source": [
    "\n",
    "x_scaler = MinMaxScaler()\n",
    "q_scaler = MinMaxScaler()\n",
    "\n",
    "#In order training set\n",
    "x_train_1 = x_scaler.fit_transform(x_train_1)\n",
    "q_train_1 = q_scaler.fit_transform(q_train_1)\n",
    "\n",
    "#complete test set\n",
    "x_test = x_scaler.transform(x_test)\n",
    "#q_test = q_scaler.transform(q_test)\n",
    "\n",
    "#split testing data\n",
    "IOD_x_test = x_scaler.transform(x_test_1)\n",
    "IOD_q_test = q_scaler.transform(q_test_1)\n",
    "\n",
    "OOD_x_test = x_scaler.transform(OOD_x_test)\n",
    "OOD_q_test = q_scaler.transform(OOD_q_test)"
   ]
  },
  {
   "cell_type": "code",
   "execution_count": 6,
   "metadata": {},
   "outputs": [],
   "source": [
    "def model_builder(input_shape, output_shape):\n",
    "    def build_model(depth, width, reduction_factor):\n",
    "        model = Sequential()\n",
    "\n",
    "        for i in range(depth):\n",
    "            num_neurons = max(int(width * (reduction_factor ** i)), 4)\n",
    "            if i == 0:\n",
    "                model.add(Dense(num_neurons, activation='relu', input_shape=(input_shape,)))\n",
    "            else:\n",
    "                model.add(Dropout(0.5))\n",
    "                model.add(Dense(num_neurons, activation='relu'))\n",
    "                \n",
    "\n",
    "            model.add(BatchNormalization())\n",
    "\n",
    "        model.add(Dense(output_shape, activation='sigmoid'))\n",
    "\n",
    "        model.compile(loss='mse', optimizer='adam', metrics=[\"mae\"])\n",
    "\n",
    "        return model\n",
    "    return build_model\n"
   ]
  },
  {
   "cell_type": "code",
   "execution_count": 7,
   "metadata": {
    "scrolled": true
   },
   "outputs": [
    {
     "name": "stdout",
     "output_type": "stream",
     "text": [
      "WARNING:tensorflow:From /home/dfki.uni-bremen.de/bmanickavasakan/.local/lib/python3.6/site-packages/tensorflow/python/ops/resource_variable_ops.py:435: colocate_with (from tensorflow.python.framework.ops) is deprecated and will be removed in a future version.\n",
      "Instructions for updating:\n",
      "Colocations handled automatically by placer.\n",
      "WARNING:tensorflow:From /home/dfki.uni-bremen.de/bmanickavasakan/.local/lib/python3.6/site-packages/tensorflow/python/keras/layers/core.py:143: calling dropout (from tensorflow.python.ops.nn_ops) with keep_prob is deprecated and will be removed in a future version.\n",
      "Instructions for updating:\n",
      "Please use `rate` instead of `keep_prob`. Rate should be set to `rate = 1 - keep_prob`.\n",
      "WARNING:tensorflow:From /home/dfki.uni-bremen.de/bmanickavasakan/.local/lib/python3.6/site-packages/tensorflow/python/keras/utils/losses_utils.py:170: to_float (from tensorflow.python.ops.math_ops) is deprecated and will be removed in a future version.\n",
      "Instructions for updating:\n",
      "Use tf.cast instead.\n"
     ]
    }
   ],
   "source": [
    "HYPERPARAMETERS = {'depth': 6, 'width': 64, 'reduction_factor':  0.9}\n",
    "with tf.device('/cpu:0'):\n",
    "    model = model_builder(9, 18)(**HYPERPARAMETERS)\n"
   ]
  },
  {
   "cell_type": "code",
   "execution_count": 8,
   "metadata": {
    "scrolled": true
   },
   "outputs": [
    {
     "name": "stdout",
     "output_type": "stream",
     "text": [
      "Train on 5226 samples, validate on 1485 samples\n",
      "WARNING:tensorflow:From /home/dfki.uni-bremen.de/bmanickavasakan/.local/lib/python3.6/site-packages/tensorflow/python/ops/math_ops.py:3066: to_int32 (from tensorflow.python.ops.math_ops) is deprecated and will be removed in a future version.\n",
      "Instructions for updating:\n",
      "Use tf.cast instead.\n",
      "Epoch 1/25\n",
      "5226/5226 [==============================] - 1s 229us/sample - loss: 0.1443 - mean_absolute_error: 0.3130 - val_loss: 0.1070 - val_mean_absolute_error: 0.2838\n",
      "Epoch 2/25\n",
      "5226/5226 [==============================] - 0s 37us/sample - loss: 0.1231 - mean_absolute_error: 0.2912 - val_loss: 0.1062 - val_mean_absolute_error: 0.2803\n",
      "Epoch 3/25\n",
      "5226/5226 [==============================] - 0s 40us/sample - loss: 0.1075 - mean_absolute_error: 0.2728 - val_loss: 0.1063 - val_mean_absolute_error: 0.2759\n",
      "Epoch 4/25\n",
      "5226/5226 [==============================] - 0s 36us/sample - loss: 0.0975 - mean_absolute_error: 0.2589 - val_loss: 0.1049 - val_mean_absolute_error: 0.2734\n",
      "Epoch 5/25\n",
      "5226/5226 [==============================] - 0s 38us/sample - loss: 0.0899 - mean_absolute_error: 0.2474 - val_loss: 0.0985 - val_mean_absolute_error: 0.2661\n",
      "Epoch 6/25\n",
      "5226/5226 [==============================] - 0s 37us/sample - loss: 0.0851 - mean_absolute_error: 0.2392 - val_loss: 0.0883 - val_mean_absolute_error: 0.2526\n",
      "Epoch 7/25\n",
      "5226/5226 [==============================] - 0s 39us/sample - loss: 0.0803 - mean_absolute_error: 0.2313 - val_loss: 0.0762 - val_mean_absolute_error: 0.2327\n",
      "Epoch 8/25\n",
      "5226/5226 [==============================] - 0s 39us/sample - loss: 0.0766 - mean_absolute_error: 0.2250 - val_loss: 0.0671 - val_mean_absolute_error: 0.2171\n",
      "Epoch 9/25\n",
      "5226/5226 [==============================] - 0s 35us/sample - loss: 0.0739 - mean_absolute_error: 0.2200 - val_loss: 0.0614 - val_mean_absolute_error: 0.2066\n",
      "Epoch 10/25\n",
      "5226/5226 [==============================] - 0s 40us/sample - loss: 0.0706 - mean_absolute_error: 0.2143 - val_loss: 0.0555 - val_mean_absolute_error: 0.1954\n",
      "Epoch 11/25\n",
      "5226/5226 [==============================] - 0s 36us/sample - loss: 0.0683 - mean_absolute_error: 0.2103 - val_loss: 0.0511 - val_mean_absolute_error: 0.1864\n",
      "Epoch 12/25\n",
      "5226/5226 [==============================] - 0s 39us/sample - loss: 0.0669 - mean_absolute_error: 0.2077 - val_loss: 0.0465 - val_mean_absolute_error: 0.1768\n",
      "Epoch 13/25\n",
      "5226/5226 [==============================] - 0s 37us/sample - loss: 0.0645 - mean_absolute_error: 0.2034 - val_loss: 0.0425 - val_mean_absolute_error: 0.1681\n",
      "Epoch 14/25\n",
      "5226/5226 [==============================] - 0s 36us/sample - loss: 0.0631 - mean_absolute_error: 0.2011 - val_loss: 0.0388 - val_mean_absolute_error: 0.1602\n",
      "Epoch 15/25\n",
      "5226/5226 [==============================] - 0s 37us/sample - loss: 0.0611 - mean_absolute_error: 0.1978 - val_loss: 0.0363 - val_mean_absolute_error: 0.1547\n",
      "Epoch 16/25\n",
      "5226/5226 [==============================] - 0s 37us/sample - loss: 0.0597 - mean_absolute_error: 0.1948 - val_loss: 0.0335 - val_mean_absolute_error: 0.1478\n",
      "Epoch 17/25\n",
      "5226/5226 [==============================] - 0s 38us/sample - loss: 0.0583 - mean_absolute_error: 0.1925 - val_loss: 0.0318 - val_mean_absolute_error: 0.1441\n",
      "Epoch 18/25\n",
      "5226/5226 [==============================] - 0s 36us/sample - loss: 0.0573 - mean_absolute_error: 0.1908 - val_loss: 0.0302 - val_mean_absolute_error: 0.1404\n",
      "Epoch 19/25\n",
      "5226/5226 [==============================] - 0s 38us/sample - loss: 0.0551 - mean_absolute_error: 0.1865 - val_loss: 0.0290 - val_mean_absolute_error: 0.1374\n",
      "Epoch 20/25\n",
      "5226/5226 [==============================] - 0s 37us/sample - loss: 0.0539 - mean_absolute_error: 0.1846 - val_loss: 0.0274 - val_mean_absolute_error: 0.1329\n",
      "Epoch 21/25\n",
      "5226/5226 [==============================] - 0s 36us/sample - loss: 0.0535 - mean_absolute_error: 0.1835 - val_loss: 0.0263 - val_mean_absolute_error: 0.1293\n",
      "Epoch 22/25\n",
      "5226/5226 [==============================] - 0s 37us/sample - loss: 0.0518 - mean_absolute_error: 0.1810 - val_loss: 0.0251 - val_mean_absolute_error: 0.1260\n",
      "Epoch 23/25\n",
      "5226/5226 [==============================] - 0s 36us/sample - loss: 0.0505 - mean_absolute_error: 0.1782 - val_loss: 0.0241 - val_mean_absolute_error: 0.1238\n",
      "Epoch 24/25\n",
      "5226/5226 [==============================] - 0s 37us/sample - loss: 0.0504 - mean_absolute_error: 0.1778 - val_loss: 0.0233 - val_mean_absolute_error: 0.1214\n",
      "Epoch 25/25\n",
      "5226/5226 [==============================] - 0s 36us/sample - loss: 0.0497 - mean_absolute_error: 0.1766 - val_loss: 0.0224 - val_mean_absolute_error: 0.1190\n"
     ]
    }
   ],
   "source": [
    "\n",
    "with tf.device('/cpu:0'):\n",
    "    hist = model.fit(x_train_1, q_train_1, epochs = 25, batch_size = 128, verbose = 1, validation_data=(IOD_x_test, IOD_q_test))\n",
    "#use_multiprocessing=True, workers=1000"
   ]
  },
  {
   "cell_type": "code",
   "execution_count": 9,
   "metadata": {},
   "outputs": [
    {
     "name": "stdout",
     "output_type": "stream",
     "text": [
      "Testing MAE: 0.11898\n",
      "Testing MAEX: 0.07467\n",
      "Q feature 0 has unnorm MAE: 0.2904 (Range -0.7330 to 0.4398) normalized MAE: 0.2476\n",
      "Q feature 1 has unnorm MAE: 0.1619 (Range -0.3840 to 0.5792) normalized MAE: 0.1681\n",
      "Q feature 2 has unnorm MAE: 0.0863 (Range -0.8200 to -0.0680) normalized MAE: 0.1148\n",
      "Q feature 3 has unnorm MAE: 0.0840 (Range -0.8381 to -0.0792) normalized MAE: 0.1106\n",
      "Q feature 4 has unnorm MAE: 0.0095 (Range 0.0070 to 0.0907) normalized MAE: 0.1132\n",
      "Q feature 5 has unnorm MAE: 0.0822 (Range 0.0000 to 1.0000) normalized MAE: 0.0822\n",
      "Q feature 6 has unnorm MAE: 0.0059 (Range -0.0822 to 0.0000) normalized MAE: 0.0722\n",
      "Q feature 7 has unnorm MAE: 0.0067 (Range 0.0000 to 0.0782) normalized MAE: 0.0861\n",
      "Q feature 8 has unnorm MAE: 0.1207 (Range -0.7850 to 0.4710) normalized MAE: 0.0961\n",
      "Q feature 9 has unnorm MAE: 0.1408 (Range -0.7850 to 0.4710) normalized MAE: 0.1121\n",
      "Q feature 10 has unnorm MAE: 0.1256 (Range -0.5905 to 0.8678) normalized MAE: 0.0861\n",
      "Q feature 11 has unnorm MAE: 0.1252 (Range -0.5744 to 0.9404) normalized MAE: 0.0827\n",
      "Q feature 12 has unnorm MAE: 0.0224 (Range -0.0783 to 0.1694) normalized MAE: 0.0903\n",
      "Q feature 13 has unnorm MAE: 0.0165 (Range -0.0687 to 0.0186) normalized MAE: 0.1891\n",
      "Q feature 14 has unnorm MAE: 0.0112 (Range -0.0468 to 0.0678) normalized MAE: 0.0974\n",
      "Q feature 15 has unnorm MAE: 0.0266 (Range -0.1222 to 0.1126) normalized MAE: 0.1134\n",
      "Q feature 16 has unnorm MAE: 0.0188 (Range -0.0687 to 0.0249) normalized MAE: 0.2012\n",
      "Q feature 17 has unnorm MAE: 0.0093 (Range -0.0510 to 0.0678) normalized MAE: 0.0785\n"
     ]
    }
   ],
   "source": [
    "q_pred = model.predict(IOD_x_test, verbose=0)\n",
    "q_unnorm = q_scaler.inverse_transform(IOD_q_test)\n",
    "q_pred_unnorm = q_scaler.inverse_transform(q_pred)\n",
    "\n",
    "global_mae = mean_absolute_error(IOD_q_test, q_pred)\n",
    "mae_1 = mean_absolute_error(q_unnorm, q_pred_unnorm)\n",
    "\n",
    "print(\"Testing MAE: {:.5f}\".format(global_mae))\n",
    "print(\"Testing MAEX: {:.5f}\".format(mae_1))\n",
    "\n",
    "\n",
    "# Compute MAE for each output independently.\n",
    "for i in range(IOD_q_test.shape[1]):\n",
    "    norm_mae_i = mean_absolute_error(IOD_q_test[:, i], q_pred[:, i])\n",
    "    mae_i = mean_absolute_error(q_unnorm[:, i], q_pred_unnorm[:, i])\n",
    "    print(\"Q feature {} has unnorm MAE: {:.4f} (Range {:.4f} to {:.4f}) normalized MAE: {:.4f}\".format(i, mae_i, q_scaler.data_min_[i], q_scaler.data_max_[i], norm_mae_i))\n"
   ]
  },
  {
   "cell_type": "markdown",
   "metadata": {},
   "source": [
    "# MC Dropout Regressor, O/P : mean, Std #"
   ]
  },
  {
   "cell_type": "code",
   "execution_count": 10,
   "metadata": {
    "scrolled": true
   },
   "outputs": [],
   "source": [
    "def test_mcdropout_regressor(x_test_values, q_test_values, model, data_scaler):   \n",
    "    mc_model = MCDropoutRegressor(model)\n",
    "    inp = x_test_values  \n",
    "    \n",
    "    mean, std = mc_model.predict(inp, num_samples = 10)\n",
    "    \n",
    "    q_pred_unnormalised = data_scaler.inverse_transform(mean)\n",
    "    \n",
    "    q_sd_unnromalised = data_scaler.inverse_transform(std)\n",
    "    \n",
    "    global_mae = mean_absolute_error(q_test_values, mean)\n",
    "\n",
    "    print(\"Testing MAE: {:.5f}\".format(global_mae))\n",
    "\n",
    "    return q_pred_unnormalised, std\n",
    "  \n"
   ]
  },
  {
   "cell_type": "code",
   "execution_count": 11,
   "metadata": {},
   "outputs": [
    {
     "data": {
      "text/plain": [
       "'\\nmean_1, std_1 = test_mcdropout_regressor(x_test, q_test, model, q_scaler)\\n\\nq_test_unorm = q_scaler.inverse_transform(q_test)\\n\\nprint(\"NLL: {:.5f}\".format(numpy_regression_nll(q_test_unorm, mean_1, std_1**2)))\\n'"
      ]
     },
     "execution_count": 11,
     "metadata": {},
     "output_type": "execute_result"
    }
   ],
   "source": [
    "'''\n",
    "mean_1, std_1 = test_mcdropout_regressor(x_test, q_test, model, q_scaler)\n",
    "\n",
    "q_test_unorm = q_scaler.inverse_transform(q_test)\n",
    "\n",
    "print(\"NLL: {:.5f}\".format(numpy_regression_nll(q_test_unorm, mean_1, std_1**2)))\n",
    "'''"
   ]
  },
  {
   "cell_type": "code",
   "execution_count": 12,
   "metadata": {
    "scrolled": true
   },
   "outputs": [
    {
     "name": "stdout",
     "output_type": "stream",
     "text": [
      "Testing MAE: 0.23119\n",
      "NLL: 0.22267\n"
     ]
    }
   ],
   "source": [
    "mean_test_IOD, sd_test_IOD = test_mcdropout_regressor(IOD_x_test, IOD_q_test, model, q_scaler)\n",
    "q_test_unorm = q_scaler.inverse_transform(IOD_q_test)\n",
    "print(\"NLL: {:.5f}\".format(numpy_regression_nll(q_test_unorm, mean_test_IOD, sd_test_IOD**2)))"
   ]
  },
  {
   "cell_type": "code",
   "execution_count": 13,
   "metadata": {},
   "outputs": [
    {
     "name": "stdout",
     "output_type": "stream",
     "text": [
      "Testing MAE: 0.27314\n",
      "NLL: 6.29963\n"
     ]
    }
   ],
   "source": [
    "mean_test_OOD, sd_test_OOD = test_mcdropout_regressor(OOD_x_test, OOD_q_test, model, q_scaler)\n",
    "q_test_unorm = q_scaler.inverse_transform(OOD_q_test)\n",
    "print(\"NLL: {:.5f}\".format(numpy_regression_nll(q_test_unorm, mean_test_OOD, sd_test_OOD**2)))"
   ]
  },
  {
   "cell_type": "code",
   "execution_count": 19,
   "metadata": {
    "scrolled": true
   },
   "outputs": [
    {
     "data": {
      "text/plain": [
       "Text(0, 0.5, 'Normalised Density of Samples')"
      ]
     },
     "execution_count": 19,
     "metadata": {},
     "output_type": "execute_result"
    },
    {
     "data": {
      "image/png": "[encoded data removed]",
      "text/plain": [
       "<Figure size 432x288 with 1 Axes>"
      ]
     },
     "metadata": {
      "needs_background": "light"
     },
     "output_type": "display_data"
    }
   ],
   "source": [
    "sd_test_IOD_df = pd.DataFrame(sd_test_IOD)\n",
    "sd_test_OOD_df = pd.DataFrame(sd_test_OOD)\n",
    "new_scores = np.concatenate([sd_test_IOD_df[0], sd_test_OOD_df[0]], axis=0)\n",
    "minmaxscaler = MinMaxScaler()\n",
    "new_scores_scaled = minmaxscaler.fit_transform(new_scores.reshape(-1, 1))\n",
    "\n",
    "new_labels = np.concatenate([np.zeros_like(sd_test_IOD_df[0]), np.ones_like(sd_test_OOD_df[0])], axis=0)\n",
    "histogram_df = pd.DataFrame(new_scores_scaled, new_labels)\n",
    "\n",
    "#histogram_df.hist(column=0)\n",
    "\n",
    "#sd_test_IOD_df.hist(column=0)\n",
    "#sd_test_OOD_df.hist(column=0)\n",
    "import matplotlib.pyplot as plt\n",
    "fig, ax = plt.subplots()\n",
    "\n",
    "a_heights, a_bins = np.histogram(minmaxscaler.fit_transform(sd_test_IOD_df[0].values.reshape(-1, 1)), density=True)\n",
    "b_heights, b_bins = np.histogram(minmaxscaler.fit_transform(sd_test_OOD_df[0].values.reshape(-1, 1)), bins=a_bins, density=True)\n",
    "\n",
    "width = (a_bins[1] - a_bins[0])/3\n",
    "\n",
    "ax.bar(a_bins[:-1], a_heights, width = width, facecolor='blue',label=\"IOD SD\")\n",
    "ax.bar(b_bins[:-1]+width, b_heights, width = width, facecolor='red', label=\"OOD SD\")\n",
    "ax.legend()\n",
    "ax.set_xlabel(\"Normailsed Standard Deviation\")\n",
    "ax.set_ylabel(\"Normalised Density of Samples\")"
   ]
  },
  {
   "cell_type": "code",
   "execution_count": 18,
   "metadata": {},
   "outputs": [
    {
     "name": "stdout",
     "output_type": "stream",
     "text": [
      "0.5857907557639461\n"
     ]
    },
    {
     "data": {
      "image/png": "[encoded data removed]",
      "text/plain": [
       "<Figure size 432x288 with 1 Axes>"
      ]
     },
     "metadata": {
      "needs_background": "light"
     },
     "output_type": "display_data"
    }
   ],
   "source": [
    "from sklearn.metrics import roc_curve, roc_auc_score\n",
    "\n",
    "norm_scores = new_scores - min(new_scores) / (max(new_scores) - min(new_scores))\n",
    "\n",
    "auc = roc_auc_score(new_labels, new_scores)\n",
    "fpr, tpr, threshs = roc_curve(new_labels, norm_scores, drop_intermediate=True)\n",
    "print(auc)\n",
    "\n",
    "plt.title('Receiver Operating Characteristic')\n",
    "plt.plot(fpr, tpr)\n",
    "plt.show()\n"
   ]
  },
  {
   "cell_type": "code",
   "execution_count": null,
   "metadata": {},
   "outputs": [],
   "source": []
  },
  {
   "cell_type": "code",
   "execution_count": null,
   "metadata": {},
   "outputs": [],
   "source": []
  }
 ],
 "metadata": {
  "kernelspec": {
   "display_name": "Python 3",
   "language": "python",
   "name": "python3"
  },
  "language_info": {
   "codemirror_mode": {
    "name": "ipython",
    "version": 3
   },
   "file_extension": ".py",
   "mimetype": "text/x-python",
   "name": "python",
   "nbconvert_exporter": "python",
   "pygments_lexer": "ipython3",
   "version": "3.6.9"
  }
 },
 "nbformat": 4,
 "nbformat_minor": 4
}
