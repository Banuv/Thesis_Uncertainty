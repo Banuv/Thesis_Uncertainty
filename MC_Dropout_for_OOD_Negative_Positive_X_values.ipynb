{
 "cells": [
  {
   "cell_type": "markdown",
   "metadata": {},
   "source": [
    "# All imports #"
   ]
  },
  {
   "cell_type": "code",
   "execution_count": 26,
   "metadata": {
    "scrolled": true
   },
   "outputs": [],
   "source": [
    "from __future__ import print_function\n",
    "\n",
    "import sys, os\n",
    "os.environ[\"CUDA_VISIBLE_DEVICES\"] = \"-1\"\n",
    "import tensorflow as tf\n",
    "import tensorflow.keras\n",
    "import pandas as pd\n",
    "import numpy as np\n",
    "import sklearn\n",
    "import keras\n",
    "import csv\n",
    "\n",
    "from sklearn.preprocessing import MinMaxScaler\n",
    "from sklearn.metrics import mean_absolute_error\n",
    "from sklearn.model_selection import train_test_split\n",
    "\n",
    "from tensorflow.keras.models import Sequential, load_model\n",
    "from tensorflow.keras.layers import Dense, BatchNormalization, Dropout\n",
    "\n",
    "from keras_uncertainty.models import MCDropoutClassifier, MCDropoutRegressor\n",
    "from keras_uncertainty.utils import numpy_regression_nll\n"
   ]
  },
  {
   "cell_type": "code",
   "execution_count": 27,
   "metadata": {},
   "outputs": [],
   "source": [
    "def load_joint_space_csv_chunks(file_path):\n",
    "    data_frame = pd.read_csv(file_path, skiprows=1, header=None)\n",
    "    del data_frame[18]\n",
    "    return data_frame\n",
    "\n",
    "def load_task_space_csv_chunks(file_path):\n",
    "    return pd.read_csv(file_path, skiprows=1, header=None)\n"
   ]
  },
  {
   "cell_type": "code",
   "execution_count": 28,
   "metadata": {},
   "outputs": [],
   "source": [
    "##please select the appropriate folder, willl use os.path.join() for completed script\n",
    "TRAIN_FOLDER = '/home/dfki.uni-bremen.de/bmanickavasakan/newdataset_rh5_leg/leg_5steps/'\n",
    "TEST_FOLDER = '/home/dfki.uni-bremen.de/bmanickavasakan/newdataset_rh5_leg/leg_5steps/test_4steps'\n",
    "\n",
    "X_TRAIN_FILE = os.path.join(TRAIN_FOLDER, 'leg_forwardkinematics_x.csv')\n",
    "Q_TRAIN_FILE = os.path.join(TRAIN_FOLDER, 'leg_sysstate_q.csv')\n",
    "x_train = load_task_space_csv_chunks(X_TRAIN_FILE)\n",
    "q_train = load_joint_space_csv_chunks(Q_TRAIN_FILE)\n",
    "\n",
    "X_TEST_FILE = os.path.join(TEST_FOLDER, 'leg_forwardkinematics_x.csv')\n",
    "Q_TEST_FILE = os.path.join(TEST_FOLDER, 'leg_sysstate_q.csv')\n",
    "x_test = load_task_space_csv_chunks(X_TEST_FILE)\n",
    "q_test = load_joint_space_csv_chunks(Q_TEST_FILE)"
   ]
  },
  {
   "cell_type": "markdown",
   "metadata": {},
   "source": [
    "# Building the model with MC Droput #"
   ]
  },
  {
   "cell_type": "code",
   "execution_count": 29,
   "metadata": {
    "scrolled": true
   },
   "outputs": [
    {
     "name": "stdout",
     "output_type": "stream",
     "text": [
      "(5226, 9) (10399, 9) (1485, 9) (2611, 9)\n",
      "(5226, 18) (10399, 18) (1485, 18) (2611, 18)\n"
     ]
    }
   ],
   "source": [
    "\"\"\"\n",
    "+/- based data splitting\n",
    "We consider the Q features and use the feature with the highest SD for dividing the dataset. \n",
    "We consider all the positive values as IOD and all the negative values as OOD\n",
    "\"\"\"\n",
    "\n",
    "stats_x_train = pd.DataFrame()\n",
    "stats_x_train[\"Mean\"] = x_train.mean()\n",
    "stats_x_train[\"Var\"] = x_train.var()\n",
    "stats_x_train[\"STD\"] = x_train.std()\n",
    "stats_x_train[\"OneSigmaMax\"] = stats_x_train[\"Mean\"] + stats_x_train[\"STD\"]\n",
    "stats_x_train[\"OneSigmaMin\"] = stats_x_train[\"Mean\"] - stats_x_train[\"STD\"]\n",
    "stats_x_train.T\n",
    "\n",
    "max_std = stats_x_train[\"STD\"].max()\n",
    "colomn_max_std = stats_x_train[\"STD\"].idxmax()\n",
    "\n",
    "value = 0\n",
    "\n",
    "InDistribution_Q_Train =  q_train[x_train[0] > value]\n",
    "OutDistribution_Q_Train = q_train[x_train[0] < value]\n",
    "InDistribution_X_Train =  x_train[x_train[0] > value]\n",
    "OutDistribution_X_Train = x_train[x_train[0] < value]\n",
    "\n",
    "InDistribution_Q_Test =  q_test[x_test[0] > value]\n",
    "OutDistribution_Q_Test = q_test[x_test[0] < value]\n",
    "InDistribution_X_Test =  x_test[x_test[0] > value]\n",
    "OutDistribution_X_Test = x_test[x_test[0] < value]\n",
    "\n",
    "x_train_1 = InDistribution_X_Train\n",
    "q_train_1 = InDistribution_Q_Train\n",
    "x_test_1 = InDistribution_X_Test\n",
    "q_test_1 = InDistribution_Q_Test\n",
    "\n",
    "OOD_x_train = OutDistribution_X_Train\n",
    "OOD_q_train = OutDistribution_Q_Train\n",
    "OOD_x_test = OutDistribution_X_Test\n",
    "OOD_q_test = OutDistribution_Q_Test\n",
    "\n",
    "print(x_train_1.shape, OOD_x_train.shape, x_test_1.shape, OOD_x_test.shape)\n",
    "print(q_train_1.shape, OOD_q_train.shape, q_test_1.shape, OOD_q_test.shape)\n"
   ]
  },
  {
   "cell_type": "code",
   "execution_count": 30,
   "metadata": {},
   "outputs": [
    {
     "name": "stdout",
     "output_type": "stream",
     "text": [
      "(15625, 9) (4096, 9)\n"
     ]
    }
   ],
   "source": [
    "print(x_train.shape, x_test.shape)"
   ]
  },
  {
   "cell_type": "code",
   "execution_count": 31,
   "metadata": {},
   "outputs": [],
   "source": [
    "\n",
    "x_scaler = MinMaxScaler()\n",
    "q_scaler = MinMaxScaler()\n",
    "\n",
    "#complete test set\n",
    "x_train = x_scaler.fit_transform(x_train)\n",
    "q_train = q_scaler.fit_transform(q_train)\n",
    "x_test = x_scaler.transform(x_test)\n",
    "q_test = q_scaler.transform(q_test)\n",
    "\n",
    "#In order training set\n",
    "x_train_1 = x_scaler.transform(x_train_1)\n",
    "q_train_1 = q_scaler.transform(q_train_1)\n",
    "\n",
    "IOD_x_train = x_train_1\n",
    "IOD_q_train = q_train_1\n",
    "\n",
    "\n",
    "#split testing data\n",
    "IOD_x_test = x_scaler.transform(x_test_1)\n",
    "IOD_q_test = q_scaler.transform(q_test_1)\n",
    "\n",
    "OOD_x_test = x_scaler.transform(OOD_x_test)\n",
    "OOD_q_test = q_scaler.transform(OOD_q_test)"
   ]
  },
  {
   "cell_type": "code",
   "execution_count": 121,
   "metadata": {},
   "outputs": [],
   "source": [
    "dropoutRate = 0.2"
   ]
  },
  {
   "cell_type": "code",
   "execution_count": 122,
   "metadata": {},
   "outputs": [],
   "source": [
    "def model_builder(input_shape, output_shape):\n",
    "    def build_model(depth, width, reduction_factor):\n",
    "        model = Sequential()\n",
    "\n",
    "        for i in range(depth):\n",
    "            num_neurons = max(int(width * (reduction_factor ** i)), 4)\n",
    "            if i == 0:\n",
    "                model.add(Dense(num_neurons, activation='relu', input_shape=(input_shape,)))\n",
    "            else:\n",
    "                model.add(Dropout(dropoutRate))\n",
    "                model.add(Dense(num_neurons, activation='relu'))                \n",
    "\n",
    "            model.add(BatchNormalization())\n",
    "\n",
    "        model.add(Dense(output_shape, activation='sigmoid'))\n",
    "\n",
    "        model.compile(loss='mse', optimizer='adam', metrics=[\"mae\"])\n",
    "\n",
    "        return model\n",
    "    return build_model\n"
   ]
  },
  {
   "cell_type": "code",
   "execution_count": 123,
   "metadata": {},
   "outputs": [
    {
     "name": "stdout",
     "output_type": "stream",
     "text": [
      "Train on 5226 samples, validate on 1485 samples\n",
      "Epoch 1/100\n",
      "5226/5226 [==============================] - 2s 338us/sample - loss: 0.1232 - mean_absolute_error: 0.2877 - val_loss: 0.1025 - val_mean_absolute_error: 0.2796\n",
      "Epoch 2/100\n",
      "5226/5226 [==============================] - 0s 48us/sample - loss: 0.0846 - mean_absolute_error: 0.2368 - val_loss: 0.0954 - val_mean_absolute_error: 0.2666\n",
      "Epoch 3/100\n",
      "5226/5226 [==============================] - 0s 53us/sample - loss: 0.0632 - mean_absolute_error: 0.2026 - val_loss: 0.0855 - val_mean_absolute_error: 0.2487\n",
      "Epoch 4/100\n",
      "5226/5226 [==============================] - 0s 52us/sample - loss: 0.0508 - mean_absolute_error: 0.1809 - val_loss: 0.0663 - val_mean_absolute_error: 0.2183\n",
      "Epoch 5/100\n",
      "5226/5226 [==============================] - 0s 53us/sample - loss: 0.0429 - mean_absolute_error: 0.1647 - val_loss: 0.0461 - val_mean_absolute_error: 0.1804\n",
      "Epoch 6/100\n",
      "5226/5226 [==============================] - 0s 54us/sample - loss: 0.0375 - mean_absolute_error: 0.1536 - val_loss: 0.0348 - val_mean_absolute_error: 0.1551\n",
      "Epoch 7/100\n",
      "5226/5226 [==============================] - 0s 53us/sample - loss: 0.0341 - mean_absolute_error: 0.1458 - val_loss: 0.0280 - val_mean_absolute_error: 0.1377\n",
      "Epoch 8/100\n",
      "5226/5226 [==============================] - 0s 55us/sample - loss: 0.0314 - mean_absolute_error: 0.1396 - val_loss: 0.0237 - val_mean_absolute_error: 0.1258\n",
      "Epoch 9/100\n",
      "5226/5226 [==============================] - 0s 53us/sample - loss: 0.0296 - mean_absolute_error: 0.1353 - val_loss: 0.0205 - val_mean_absolute_error: 0.1170\n",
      "Epoch 10/100\n",
      "5226/5226 [==============================] - 0s 52us/sample - loss: 0.0279 - mean_absolute_error: 0.1313 - val_loss: 0.0177 - val_mean_absolute_error: 0.1081\n",
      "Epoch 11/100\n",
      "5226/5226 [==============================] - 0s 54us/sample - loss: 0.0266 - mean_absolute_error: 0.1275 - val_loss: 0.0143 - val_mean_absolute_error: 0.0967\n",
      "Epoch 12/100\n",
      "5226/5226 [==============================] - 0s 52us/sample - loss: 0.0255 - mean_absolute_error: 0.1251 - val_loss: 0.0117 - val_mean_absolute_error: 0.0871\n",
      "Epoch 13/100\n",
      "5226/5226 [==============================] - 0s 54us/sample - loss: 0.0248 - mean_absolute_error: 0.1232 - val_loss: 0.0101 - val_mean_absolute_error: 0.0807\n",
      "Epoch 14/100\n",
      "5226/5226 [==============================] - 0s 52us/sample - loss: 0.0240 - mean_absolute_error: 0.1205 - val_loss: 0.0090 - val_mean_absolute_error: 0.0761\n",
      "Epoch 15/100\n",
      "5226/5226 [==============================] - 0s 50us/sample - loss: 0.0235 - mean_absolute_error: 0.1194 - val_loss: 0.0080 - val_mean_absolute_error: 0.0713\n",
      "Epoch 16/100\n",
      "5226/5226 [==============================] - 0s 53us/sample - loss: 0.0234 - mean_absolute_error: 0.1186 - val_loss: 0.0077 - val_mean_absolute_error: 0.0699\n",
      "Epoch 17/100\n",
      "5226/5226 [==============================] - 0s 54us/sample - loss: 0.0226 - mean_absolute_error: 0.1170 - val_loss: 0.0070 - val_mean_absolute_error: 0.0664\n",
      "Epoch 18/100\n",
      "5226/5226 [==============================] - 0s 55us/sample - loss: 0.0222 - mean_absolute_error: 0.1158 - val_loss: 0.0069 - val_mean_absolute_error: 0.0659\n",
      "Epoch 19/100\n",
      "5226/5226 [==============================] - 0s 52us/sample - loss: 0.0219 - mean_absolute_error: 0.1145 - val_loss: 0.0065 - val_mean_absolute_error: 0.0640\n",
      "Epoch 20/100\n",
      "5226/5226 [==============================] - 0s 52us/sample - loss: 0.0214 - mean_absolute_error: 0.1131 - val_loss: 0.0063 - val_mean_absolute_error: 0.0627\n",
      "Epoch 21/100\n",
      "5226/5226 [==============================] - 0s 53us/sample - loss: 0.0210 - mean_absolute_error: 0.1122 - val_loss: 0.0066 - val_mean_absolute_error: 0.0645\n",
      "Epoch 22/100\n",
      "5226/5226 [==============================] - 0s 53us/sample - loss: 0.0209 - mean_absolute_error: 0.1119 - val_loss: 0.0063 - val_mean_absolute_error: 0.0629\n",
      "Epoch 23/100\n",
      "5226/5226 [==============================] - 0s 52us/sample - loss: 0.0204 - mean_absolute_error: 0.1108 - val_loss: 0.0059 - val_mean_absolute_error: 0.0608\n",
      "Epoch 24/100\n",
      "5226/5226 [==============================] - 0s 54us/sample - loss: 0.0204 - mean_absolute_error: 0.1105 - val_loss: 0.0058 - val_mean_absolute_error: 0.0605\n",
      "Epoch 25/100\n",
      "5226/5226 [==============================] - 0s 50us/sample - loss: 0.0204 - mean_absolute_error: 0.1103 - val_loss: 0.0061 - val_mean_absolute_error: 0.0618\n",
      "Epoch 26/100\n",
      "5226/5226 [==============================] - 0s 54us/sample - loss: 0.0200 - mean_absolute_error: 0.1090 - val_loss: 0.0056 - val_mean_absolute_error: 0.0591\n",
      "Epoch 27/100\n",
      "5226/5226 [==============================] - 0s 52us/sample - loss: 0.0200 - mean_absolute_error: 0.1091 - val_loss: 0.0057 - val_mean_absolute_error: 0.0597\n",
      "Epoch 28/100\n",
      "5226/5226 [==============================] - 0s 52us/sample - loss: 0.0194 - mean_absolute_error: 0.1077 - val_loss: 0.0056 - val_mean_absolute_error: 0.0592\n",
      "Epoch 29/100\n",
      "5226/5226 [==============================] - 0s 57us/sample - loss: 0.0198 - mean_absolute_error: 0.1085 - val_loss: 0.0057 - val_mean_absolute_error: 0.0596\n",
      "Epoch 30/100\n",
      "5226/5226 [==============================] - 0s 52us/sample - loss: 0.0191 - mean_absolute_error: 0.1070 - val_loss: 0.0055 - val_mean_absolute_error: 0.0584\n",
      "Epoch 31/100\n",
      "5226/5226 [==============================] - 0s 52us/sample - loss: 0.0194 - mean_absolute_error: 0.1073 - val_loss: 0.0056 - val_mean_absolute_error: 0.0587\n",
      "Epoch 32/100\n",
      "5226/5226 [==============================] - 0s 52us/sample - loss: 0.0188 - mean_absolute_error: 0.1061 - val_loss: 0.0053 - val_mean_absolute_error: 0.0576\n",
      "Epoch 33/100\n",
      "5226/5226 [==============================] - 0s 52us/sample - loss: 0.0188 - mean_absolute_error: 0.1057 - val_loss: 0.0054 - val_mean_absolute_error: 0.0571\n",
      "Epoch 34/100\n",
      "5226/5226 [==============================] - 0s 54us/sample - loss: 0.0184 - mean_absolute_error: 0.1046 - val_loss: 0.0052 - val_mean_absolute_error: 0.0566\n",
      "Epoch 35/100\n",
      "5226/5226 [==============================] - 0s 52us/sample - loss: 0.0183 - mean_absolute_error: 0.1040 - val_loss: 0.0054 - val_mean_absolute_error: 0.0573\n",
      "Epoch 36/100\n",
      "5226/5226 [==============================] - 0s 54us/sample - loss: 0.0189 - mean_absolute_error: 0.1060 - val_loss: 0.0053 - val_mean_absolute_error: 0.0573\n",
      "Epoch 37/100\n",
      "5226/5226 [==============================] - 0s 50us/sample - loss: 0.0186 - mean_absolute_error: 0.1055 - val_loss: 0.0053 - val_mean_absolute_error: 0.0569\n",
      "Epoch 38/100\n",
      "5226/5226 [==============================] - 0s 53us/sample - loss: 0.0183 - mean_absolute_error: 0.1041 - val_loss: 0.0050 - val_mean_absolute_error: 0.0556\n",
      "Epoch 39/100\n",
      "5226/5226 [==============================] - 0s 54us/sample - loss: 0.0177 - mean_absolute_error: 0.1027 - val_loss: 0.0050 - val_mean_absolute_error: 0.0554\n",
      "Epoch 40/100\n",
      "5226/5226 [==============================] - 0s 51us/sample - loss: 0.0180 - mean_absolute_error: 0.1036 - val_loss: 0.0051 - val_mean_absolute_error: 0.0559\n",
      "Epoch 41/100\n",
      "5226/5226 [==============================] - 0s 51us/sample - loss: 0.0178 - mean_absolute_error: 0.1033 - val_loss: 0.0050 - val_mean_absolute_error: 0.0562\n",
      "Epoch 42/100\n",
      "5226/5226 [==============================] - 0s 52us/sample - loss: 0.0179 - mean_absolute_error: 0.1032 - val_loss: 0.0051 - val_mean_absolute_error: 0.0559\n",
      "Epoch 43/100\n",
      "5226/5226 [==============================] - 0s 52us/sample - loss: 0.0177 - mean_absolute_error: 0.1024 - val_loss: 0.0052 - val_mean_absolute_error: 0.0559\n",
      "Epoch 44/100\n",
      "5226/5226 [==============================] - 0s 51us/sample - loss: 0.0176 - mean_absolute_error: 0.1020 - val_loss: 0.0049 - val_mean_absolute_error: 0.0549\n",
      "Epoch 45/100\n",
      "5226/5226 [==============================] - 0s 52us/sample - loss: 0.0175 - mean_absolute_error: 0.1019 - val_loss: 0.0049 - val_mean_absolute_error: 0.0547\n",
      "Epoch 46/100\n",
      "5226/5226 [==============================] - 0s 52us/sample - loss: 0.0176 - mean_absolute_error: 0.1021 - val_loss: 0.0047 - val_mean_absolute_error: 0.0535\n",
      "Epoch 47/100\n",
      "5226/5226 [==============================] - 0s 53us/sample - loss: 0.0175 - mean_absolute_error: 0.1019 - val_loss: 0.0047 - val_mean_absolute_error: 0.0537\n",
      "Epoch 48/100\n",
      "5226/5226 [==============================] - 0s 54us/sample - loss: 0.0174 - mean_absolute_error: 0.1016 - val_loss: 0.0047 - val_mean_absolute_error: 0.0533\n"
     ]
    },
    {
     "name": "stdout",
     "output_type": "stream",
     "text": [
      "Epoch 49/100\n",
      "5226/5226 [==============================] - 0s 53us/sample - loss: 0.0173 - mean_absolute_error: 0.1014 - val_loss: 0.0050 - val_mean_absolute_error: 0.0548\n",
      "Epoch 50/100\n",
      "5226/5226 [==============================] - 0s 53us/sample - loss: 0.0171 - mean_absolute_error: 0.1006 - val_loss: 0.0049 - val_mean_absolute_error: 0.0546\n",
      "Epoch 51/100\n",
      "5226/5226 [==============================] - 0s 54us/sample - loss: 0.0172 - mean_absolute_error: 0.1009 - val_loss: 0.0047 - val_mean_absolute_error: 0.0540\n",
      "Epoch 52/100\n",
      "5226/5226 [==============================] - 0s 54us/sample - loss: 0.0171 - mean_absolute_error: 0.1010 - val_loss: 0.0054 - val_mean_absolute_error: 0.0569\n",
      "Epoch 53/100\n",
      "5226/5226 [==============================] - 0s 56us/sample - loss: 0.0168 - mean_absolute_error: 0.0999 - val_loss: 0.0058 - val_mean_absolute_error: 0.0598\n",
      "Epoch 54/100\n",
      "5226/5226 [==============================] - 0s 54us/sample - loss: 0.0172 - mean_absolute_error: 0.1008 - val_loss: 0.0048 - val_mean_absolute_error: 0.0533\n",
      "Epoch 55/100\n",
      "5226/5226 [==============================] - 0s 54us/sample - loss: 0.0169 - mean_absolute_error: 0.0999 - val_loss: 0.0050 - val_mean_absolute_error: 0.0556\n",
      "Epoch 56/100\n",
      "5226/5226 [==============================] - 0s 54us/sample - loss: 0.0165 - mean_absolute_error: 0.0988 - val_loss: 0.0045 - val_mean_absolute_error: 0.0528\n",
      "Epoch 57/100\n",
      "5226/5226 [==============================] - 0s 51us/sample - loss: 0.0165 - mean_absolute_error: 0.0991 - val_loss: 0.0047 - val_mean_absolute_error: 0.0535\n",
      "Epoch 58/100\n",
      "5226/5226 [==============================] - 0s 55us/sample - loss: 0.0165 - mean_absolute_error: 0.0994 - val_loss: 0.0049 - val_mean_absolute_error: 0.0537\n",
      "Epoch 59/100\n",
      "5226/5226 [==============================] - 0s 53us/sample - loss: 0.0164 - mean_absolute_error: 0.0986 - val_loss: 0.0048 - val_mean_absolute_error: 0.0535\n",
      "Epoch 60/100\n",
      "5226/5226 [==============================] - 0s 52us/sample - loss: 0.0166 - mean_absolute_error: 0.0991 - val_loss: 0.0045 - val_mean_absolute_error: 0.0525\n",
      "Epoch 61/100\n",
      "5226/5226 [==============================] - 0s 54us/sample - loss: 0.0161 - mean_absolute_error: 0.0978 - val_loss: 0.0045 - val_mean_absolute_error: 0.0521\n",
      "Epoch 62/100\n",
      "5226/5226 [==============================] - 0s 53us/sample - loss: 0.0162 - mean_absolute_error: 0.0982 - val_loss: 0.0047 - val_mean_absolute_error: 0.0524\n",
      "Epoch 63/100\n",
      "5226/5226 [==============================] - 0s 54us/sample - loss: 0.0160 - mean_absolute_error: 0.0973 - val_loss: 0.0046 - val_mean_absolute_error: 0.0518\n",
      "Epoch 64/100\n",
      "5226/5226 [==============================] - 0s 54us/sample - loss: 0.0161 - mean_absolute_error: 0.0977 - val_loss: 0.0043 - val_mean_absolute_error: 0.0515\n",
      "Epoch 65/100\n",
      "5226/5226 [==============================] - 0s 52us/sample - loss: 0.0161 - mean_absolute_error: 0.0977 - val_loss: 0.0043 - val_mean_absolute_error: 0.0507\n",
      "Epoch 66/100\n",
      "5226/5226 [==============================] - 0s 54us/sample - loss: 0.0157 - mean_absolute_error: 0.0964 - val_loss: 0.0043 - val_mean_absolute_error: 0.0509\n",
      "Epoch 67/100\n",
      "5226/5226 [==============================] - 0s 55us/sample - loss: 0.0158 - mean_absolute_error: 0.0967 - val_loss: 0.0043 - val_mean_absolute_error: 0.0510\n",
      "Epoch 68/100\n",
      "5226/5226 [==============================] - 0s 52us/sample - loss: 0.0158 - mean_absolute_error: 0.0967 - val_loss: 0.0048 - val_mean_absolute_error: 0.0536\n",
      "Epoch 69/100\n",
      "5226/5226 [==============================] - 0s 53us/sample - loss: 0.0159 - mean_absolute_error: 0.0968 - val_loss: 0.0044 - val_mean_absolute_error: 0.0510\n",
      "Epoch 70/100\n",
      "5226/5226 [==============================] - 0s 52us/sample - loss: 0.0158 - mean_absolute_error: 0.0963 - val_loss: 0.0044 - val_mean_absolute_error: 0.0511\n",
      "Epoch 71/100\n",
      "5226/5226 [==============================] - 0s 52us/sample - loss: 0.0158 - mean_absolute_error: 0.0967 - val_loss: 0.0044 - val_mean_absolute_error: 0.0507\n",
      "Epoch 72/100\n",
      "5226/5226 [==============================] - 0s 52us/sample - loss: 0.0161 - mean_absolute_error: 0.0972 - val_loss: 0.0044 - val_mean_absolute_error: 0.0512\n",
      "Epoch 73/100\n",
      "5226/5226 [==============================] - 0s 55us/sample - loss: 0.0159 - mean_absolute_error: 0.0968 - val_loss: 0.0044 - val_mean_absolute_error: 0.0515\n",
      "Epoch 74/100\n",
      "5226/5226 [==============================] - 0s 54us/sample - loss: 0.0156 - mean_absolute_error: 0.0960 - val_loss: 0.0045 - val_mean_absolute_error: 0.0514\n",
      "Epoch 75/100\n",
      "5226/5226 [==============================] - 0s 54us/sample - loss: 0.0153 - mean_absolute_error: 0.0952 - val_loss: 0.0044 - val_mean_absolute_error: 0.0510\n",
      "Epoch 76/100\n",
      "5226/5226 [==============================] - 0s 53us/sample - loss: 0.0154 - mean_absolute_error: 0.0956 - val_loss: 0.0042 - val_mean_absolute_error: 0.0500\n",
      "Epoch 77/100\n",
      "5226/5226 [==============================] - 0s 53us/sample - loss: 0.0155 - mean_absolute_error: 0.0956 - val_loss: 0.0043 - val_mean_absolute_error: 0.0500\n",
      "Epoch 78/100\n",
      "5226/5226 [==============================] - 0s 53us/sample - loss: 0.0153 - mean_absolute_error: 0.0952 - val_loss: 0.0041 - val_mean_absolute_error: 0.0490\n",
      "Epoch 79/100\n",
      "5226/5226 [==============================] - 0s 54us/sample - loss: 0.0156 - mean_absolute_error: 0.0961 - val_loss: 0.0046 - val_mean_absolute_error: 0.0517\n",
      "Epoch 80/100\n",
      "5226/5226 [==============================] - 0s 53us/sample - loss: 0.0155 - mean_absolute_error: 0.0952 - val_loss: 0.0045 - val_mean_absolute_error: 0.0512\n",
      "Epoch 81/100\n",
      "5226/5226 [==============================] - 0s 53us/sample - loss: 0.0149 - mean_absolute_error: 0.0938 - val_loss: 0.0042 - val_mean_absolute_error: 0.0496\n",
      "Epoch 82/100\n",
      "5226/5226 [==============================] - 0s 53us/sample - loss: 0.0153 - mean_absolute_error: 0.0947 - val_loss: 0.0046 - val_mean_absolute_error: 0.0522\n",
      "Epoch 83/100\n",
      "5226/5226 [==============================] - 0s 52us/sample - loss: 0.0153 - mean_absolute_error: 0.0951 - val_loss: 0.0049 - val_mean_absolute_error: 0.0538\n",
      "Epoch 84/100\n",
      "5226/5226 [==============================] - 0s 52us/sample - loss: 0.0151 - mean_absolute_error: 0.0942 - val_loss: 0.0043 - val_mean_absolute_error: 0.0499\n",
      "Epoch 85/100\n",
      "5226/5226 [==============================] - 0s 52us/sample - loss: 0.0152 - mean_absolute_error: 0.0947 - val_loss: 0.0044 - val_mean_absolute_error: 0.0511\n",
      "Epoch 86/100\n",
      "5226/5226 [==============================] - 0s 51us/sample - loss: 0.0150 - mean_absolute_error: 0.0940 - val_loss: 0.0039 - val_mean_absolute_error: 0.0479\n",
      "Epoch 87/100\n",
      "5226/5226 [==============================] - 0s 54us/sample - loss: 0.0149 - mean_absolute_error: 0.0934 - val_loss: 0.0041 - val_mean_absolute_error: 0.0489\n",
      "Epoch 88/100\n",
      "5226/5226 [==============================] - 0s 53us/sample - loss: 0.0147 - mean_absolute_error: 0.0927 - val_loss: 0.0041 - val_mean_absolute_error: 0.0489\n",
      "Epoch 89/100\n",
      "5226/5226 [==============================] - 0s 52us/sample - loss: 0.0148 - mean_absolute_error: 0.0930 - val_loss: 0.0043 - val_mean_absolute_error: 0.0502\n",
      "Epoch 90/100\n",
      "5226/5226 [==============================] - 0s 55us/sample - loss: 0.0149 - mean_absolute_error: 0.0932 - val_loss: 0.0042 - val_mean_absolute_error: 0.0488\n",
      "Epoch 91/100\n",
      "5226/5226 [==============================] - 0s 55us/sample - loss: 0.0150 - mean_absolute_error: 0.0939 - val_loss: 0.0044 - val_mean_absolute_error: 0.0509\n",
      "Epoch 92/100\n",
      "5226/5226 [==============================] - 0s 53us/sample - loss: 0.0146 - mean_absolute_error: 0.0924 - val_loss: 0.0040 - val_mean_absolute_error: 0.0482\n",
      "Epoch 93/100\n",
      "5226/5226 [==============================] - 0s 52us/sample - loss: 0.0145 - mean_absolute_error: 0.0919 - val_loss: 0.0042 - val_mean_absolute_error: 0.0493\n",
      "Epoch 94/100\n",
      "5226/5226 [==============================] - 0s 53us/sample - loss: 0.0149 - mean_absolute_error: 0.0931 - val_loss: 0.0040 - val_mean_absolute_error: 0.0484\n",
      "Epoch 95/100\n",
      "5226/5226 [==============================] - 0s 52us/sample - loss: 0.0142 - mean_absolute_error: 0.0908 - val_loss: 0.0040 - val_mean_absolute_error: 0.0485\n",
      "Epoch 96/100\n",
      "5226/5226 [==============================] - 0s 53us/sample - loss: 0.0143 - mean_absolute_error: 0.0919 - val_loss: 0.0041 - val_mean_absolute_error: 0.0491\n"
     ]
    },
    {
     "name": "stdout",
     "output_type": "stream",
     "text": [
      "Epoch 97/100\n",
      "5226/5226 [==============================] - 0s 55us/sample - loss: 0.0145 - mean_absolute_error: 0.0918 - val_loss: 0.0041 - val_mean_absolute_error: 0.0490\n",
      "Epoch 98/100\n",
      "5226/5226 [==============================] - 0s 55us/sample - loss: 0.0143 - mean_absolute_error: 0.0917 - val_loss: 0.0039 - val_mean_absolute_error: 0.0479\n",
      "Epoch 99/100\n",
      "5226/5226 [==============================] - 0s 53us/sample - loss: 0.0146 - mean_absolute_error: 0.0924 - val_loss: 0.0042 - val_mean_absolute_error: 0.0495\n",
      "Epoch 100/100\n",
      "5226/5226 [==============================] - 0s 54us/sample - loss: 0.0144 - mean_absolute_error: 0.0919 - val_loss: 0.0039 - val_mean_absolute_error: 0.0476\n"
     ]
    }
   ],
   "source": [
    "HYPERPARAMETERS = {'depth': 6, 'width': 64, 'reduction_factor':  0.9}\n",
    "with tf.device('/cpu:0'):\n",
    "    model = model_builder(9, 18)(**HYPERPARAMETERS)\n",
    "    hist = model.fit(x_train_1, q_train_1, epochs = 100, batch_size = 128, verbose = 1, validation_data=(IOD_x_test, IOD_q_test))\n",
    "\n",
    "#use_multiprocessing=True, workers=1000"
   ]
  },
  {
   "cell_type": "code",
   "execution_count": 124,
   "metadata": {},
   "outputs": [
    {
     "name": "stdout",
     "output_type": "stream",
     "text": [
      "Testing MAE: 0.09037\n",
      "Testing MAEX: 0.06336\n"
     ]
    },
    {
     "data": {
      "text/plain": [
       "'\\n# Compute MAE for each output independently.\\nfor i in range(IOD_q_test.shape[1]):\\n    norm_mae_i = mean_absolute_error(IOD_q_test[:, i], q_pred[:, i])\\n    mae_i = mean_absolute_error(q_unnorm[:, i], q_pred_unnorm[:, i])\\n    print(\"Q feature {} has unnorm MAE: {:.4f} (Range {:.4f} to {:.4f}) normalized MAE: {:.4f}\".format(i, mae_i, q_scaler.data_min_[i], q_scaler.data_max_[i], norm_mae_i))\\n'"
      ]
     },
     "execution_count": 124,
     "metadata": {},
     "output_type": "execute_result"
    }
   ],
   "source": [
    "q_pred = model.predict(x_test, verbose=0)\n",
    "q_unnorm = q_scaler.inverse_transform(q_test)\n",
    "q_pred_unnorm = q_scaler.inverse_transform(q_pred)\n",
    "\n",
    "global_mae = mean_absolute_error(q_test, q_pred)\n",
    "mae_1 = mean_absolute_error(q_unnorm, q_pred_unnorm)\n",
    "\n",
    "print(\"Testing MAE: {:.5f}\".format(global_mae))\n",
    "print(\"Testing MAEX: {:.5f}\".format(mae_1))\n",
    "\n",
    "'''\n",
    "# Compute MAE for each output independently.\n",
    "for i in range(IOD_q_test.shape[1]):\n",
    "    norm_mae_i = mean_absolute_error(IOD_q_test[:, i], q_pred[:, i])\n",
    "    mae_i = mean_absolute_error(q_unnorm[:, i], q_pred_unnorm[:, i])\n",
    "    print(\"Q feature {} has unnorm MAE: {:.4f} (Range {:.4f} to {:.4f}) normalized MAE: {:.4f}\".format(i, mae_i, q_scaler.data_min_[i], q_scaler.data_max_[i], norm_mae_i))\n",
    "'''"
   ]
  },
  {
   "cell_type": "markdown",
   "metadata": {},
   "source": [
    "# MC Dropout Regressor, O/P : mean, Std #"
   ]
  },
  {
   "cell_type": "code",
   "execution_count": 125,
   "metadata": {
    "scrolled": true
   },
   "outputs": [],
   "source": [
    "def test_mcdropout_regressor(x_test_values, q_test_values, model, data_scaler):   \n",
    "    mc_model = MCDropoutRegressor(model)\n",
    "    inp = x_test_values  \n",
    "    \n",
    "    mean, std = mc_model.predict(inp, num_samples = 10)\n",
    "    \n",
    "    q_pred_unnormalised = data_scaler.inverse_transform(mean)\n",
    "    \n",
    "    #q_sd_unnromalised = data_scaler.inverse_transform(std)\n",
    "    \n",
    "    global_mae = mean_absolute_error(q_test_values, mean)\n",
    "\n",
    "    print(\"Testing MAE: {:.5f}\".format(global_mae))\n",
    "\n",
    "    return q_pred_unnormalised, std\n",
    "  \n"
   ]
  },
  {
   "cell_type": "code",
   "execution_count": 126,
   "metadata": {},
   "outputs": [
    {
     "name": "stdout",
     "output_type": "stream",
     "text": [
      "Testing MAE: 0.29805\n"
     ]
    }
   ],
   "source": [
    "\n",
    "mean_1, std_1 = test_mcdropout_regressor(x_test, q_test, model, q_scaler)\n",
    "\n",
    "q_test_unorm = q_scaler.inverse_transform(q_test)\n",
    "\n"
   ]
  },
  {
   "cell_type": "code",
   "execution_count": 127,
   "metadata": {},
   "outputs": [
    {
     "name": "stdout",
     "output_type": "stream",
     "text": [
      "0.01151756\n"
     ]
    }
   ],
   "source": [
    "sd_test_1 = pd.DataFrame(std_1)\n",
    "\n",
    "print(sd_test_1[0].min())"
   ]
  },
  {
   "cell_type": "code",
   "execution_count": 128,
   "metadata": {
    "scrolled": true
   },
   "outputs": [
    {
     "name": "stdout",
     "output_type": "stream",
     "text": [
      "Testing MAE: 0.22076\n",
      "NLL: 2.45675\n"
     ]
    }
   ],
   "source": [
    "mean_test_IOD, sd_test_IOD = test_mcdropout_regressor(IOD_x_test, IOD_q_test, model, q_scaler)\n",
    "q_test_unorm = q_scaler.inverse_transform(IOD_q_test)\n",
    "print(\"NLL: {:.5f}\".format(numpy_regression_nll(q_test_unorm, mean_test_IOD, sd_test_IOD**2)))"
   ]
  },
  {
   "cell_type": "code",
   "execution_count": 129,
   "metadata": {},
   "outputs": [
    {
     "name": "stdout",
     "output_type": "stream",
     "text": [
      "Testing MAE: 0.27568\n",
      "NLL: 16.82573\n"
     ]
    }
   ],
   "source": [
    "mean_test_OOD, sd_test_OOD = test_mcdropout_regressor(OOD_x_test, OOD_q_test, model, q_scaler)\n",
    "q_test_unorm = q_scaler.inverse_transform(OOD_q_test)\n",
    "print(\"NLL: {:.5f}\".format(numpy_regression_nll(q_test_unorm, mean_test_OOD, sd_test_OOD**2)))"
   ]
  },
  {
   "cell_type": "code",
   "execution_count": 160,
   "metadata": {},
   "outputs": [],
   "source": [
    "col_no = 2"
   ]
  },
  {
   "cell_type": "code",
   "execution_count": 161,
   "metadata": {
    "scrolled": true
   },
   "outputs": [
    {
     "data": {
      "image/png": "[encoded data removed]",
      "text/plain": [
       "<Figure size 432x288 with 1 Axes>"
      ]
     },
     "metadata": {
      "needs_background": "light"
     },
     "output_type": "display_data"
    }
   ],
   "source": [
    "sd_test_IOD_df = pd.DataFrame(sd_test_IOD)\n",
    "sd_test_OOD_df = pd.DataFrame(sd_test_OOD)\n",
    "new_scores = np.concatenate([sd_test_IOD_df[col_no], sd_test_OOD_df[col_no]], axis=0)\n",
    "minmaxscaler = MinMaxScaler()\n",
    "new_scores_scaled = minmaxscaler.fit_transform(new_scores.reshape(-1, 1))\n",
    "new_labels = np.concatenate([np.zeros_like(sd_test_IOD_df[col_no]), np.ones_like(sd_test_OOD_df[col_no])], axis=0)\n",
    "histogram_df = pd.DataFrame(new_scores_scaled, new_labels)\n",
    "\n",
    "#histogram_df.hist(column=0)\n",
    "\n",
    "#sd_test_IOD_df.hist(column=0)\n",
    "#sd_test_OOD_df.hist(column=0)\n",
    "import matplotlib.pyplot as plt\n",
    "fig, ax = plt.subplots()\n",
    "\n",
    "a_heights, a_bins = np.histogram(sd_test_IOD_df[col_no].values.reshape(-1, 1), density=True)\n",
    "b_heights, b_bins = np.histogram(sd_test_OOD_df[col_no].values.reshape(-1, 1), bins=a_bins, density=True)\n",
    "\n",
    "width = (a_bins[1] - a_bins[0])/3\n",
    "\n",
    "ax.bar(a_bins[:-1], a_heights, width = width, facecolor='blue',label=\"IOD SD\")\n",
    "ax.bar(b_bins[:-1]+width, b_heights, width = width, facecolor='red', label=\"OOD SD\")\n",
    "ax.legend()\n",
    "ax.set_xlabel(\"Standard Deviation\")\n",
    "ax.set_ylabel(\"Normalised density of Samples\")\n",
    "fig.savefig(\"density_vs_sd_dropout_neg_split_col_2.pdf\")\n"
   ]
  },
  {
   "cell_type": "code",
   "execution_count": 162,
   "metadata": {
    "scrolled": false
   },
   "outputs": [
    {
     "name": "stdout",
     "output_type": "stream",
     "text": [
      "18\n"
     ]
    }
   ],
   "source": [
    "print(sd_test_IOD.shape[1])"
   ]
  },
  {
   "cell_type": "code",
   "execution_count": 163,
   "metadata": {},
   "outputs": [
    {
     "name": "stdout",
     "output_type": "stream",
     "text": [
      "AUC Score:  0.5215618459586288\n"
     ]
    },
    {
     "data": {
      "image/png": "[encoded data removed]",
      "text/plain": [
       "<Figure size 432x288 with 1 Axes>"
      ]
     },
     "metadata": {
      "needs_background": "light"
     },
     "output_type": "display_data"
    }
   ],
   "source": [
    "from sklearn.metrics import roc_curve, roc_auc_score\n",
    "norm_scores = new_scores - min(new_scores) / (max(new_scores) - min(new_scores))\n",
    "\n",
    "auc = roc_auc_score(new_labels, new_scores)\n",
    "fpr, tpr, threshs = roc_curve(new_labels, norm_scores, drop_intermediate=True)\n",
    "print(\"AUC Score: \",auc)\n",
    "plt.xlabel('FPR')\n",
    "plt.ylabel('TPR')\n",
    "plt.title('Receiver Operating Characteristic')\n",
    "plt.plot(fpr, tpr)\n",
    "plt.savefig(\"auc_dropout_neg_split_col_2.pdf\")\n",
    "plt.show()\n"
   ]
  },
  {
   "cell_type": "code",
   "execution_count": null,
   "metadata": {},
   "outputs": [],
   "source": []
  },
  {
   "cell_type": "code",
   "execution_count": null,
   "metadata": {},
   "outputs": [],
   "source": []
  }
 ],
 "metadata": {
  "kernelspec": {
   "display_name": "Python 3",
   "language": "python",
   "name": "python3"
  },
  "language_info": {
   "codemirror_mode": {
    "name": "ipython",
    "version": 3
   },
   "file_extension": ".py",
   "mimetype": "text/x-python",
   "name": "python",
   "nbconvert_exporter": "python",
   "pygments_lexer": "ipython3",
   "version": "3.6.9"
  }
 },
 "nbformat": 4,
 "nbformat_minor": 4
}
