{
 "cells": [
  {
   "cell_type": "markdown",
   "metadata": {},
   "source": [
    "# All imports #"
   ]
  },
  {
   "cell_type": "code",
   "execution_count": 36,
   "metadata": {
    "scrolled": true
   },
   "outputs": [],
   "source": [
    "from __future__ import print_function\n",
    "\n",
    "import sys, os\n",
    "os.environ[\"CUDA_VISIBLE_DEVICES\"] = \"-1\"\n",
    "import tensorflow as tf\n",
    "import tensorflow.keras\n",
    "import pandas as pd\n",
    "import numpy as np\n",
    "import sklearn\n",
    "import keras\n",
    "import csv\n",
    "\n",
    "from sklearn.preprocessing import MinMaxScaler\n",
    "from sklearn.metrics import mean_absolute_error\n",
    "from sklearn.model_selection import train_test_split\n",
    "\n",
    "from tensorflow.keras.models import Sequential, load_model\n",
    "from tensorflow.keras.layers import Dense, BatchNormalization, Dropout\n",
    "\n",
    "from keras_uncertainty.models import MCDropoutClassifier, MCDropoutRegressor\n",
    "from keras_uncertainty.utils import numpy_regression_nll\n"
   ]
  },
  {
   "cell_type": "code",
   "execution_count": 37,
   "metadata": {},
   "outputs": [],
   "source": [
    "def load_joint_space_csv_chunks(file_path):\n",
    "    data_frame = pd.read_csv(file_path, skiprows=1, header=None)\n",
    "    del data_frame[18]\n",
    "    return data_frame\n",
    "\n",
    "def load_task_space_csv_chunks(file_path):\n",
    "    return pd.read_csv(file_path, skiprows=1, header=None)\n"
   ]
  },
  {
   "cell_type": "code",
   "execution_count": 38,
   "metadata": {},
   "outputs": [],
   "source": [
    "##please select the appropriate folder, willl use os.path.join() for completed script\n",
    "TRAIN_FOLDER = '/home/dfki.uni-bremen.de/bmanickavasakan/newdataset_rh5_leg/leg_5steps/'\n",
    "TEST_FOLDER = '/home/dfki.uni-bremen.de/bmanickavasakan/newdataset_rh5_leg/leg_5steps/test_4steps'\n",
    "\n",
    "X_TRAIN_FILE = os.path.join(TRAIN_FOLDER, 'leg_forwardkinematics_x.csv')\n",
    "Q_TRAIN_FILE = os.path.join(TRAIN_FOLDER, 'leg_sysstate_q.csv')\n",
    "x_train = load_task_space_csv_chunks(X_TRAIN_FILE)\n",
    "q_train = load_joint_space_csv_chunks(Q_TRAIN_FILE)\n",
    "\n",
    "X_TEST_FILE = os.path.join(TEST_FOLDER, 'leg_forwardkinematics_x.csv')\n",
    "Q_TEST_FILE = os.path.join(TEST_FOLDER, 'leg_sysstate_q.csv')\n",
    "x_test = load_task_space_csv_chunks(X_TEST_FILE)\n",
    "q_test = load_joint_space_csv_chunks(Q_TEST_FILE)"
   ]
  },
  {
   "cell_type": "markdown",
   "metadata": {},
   "source": [
    "# Building the model with MC Droput #"
   ]
  },
  {
   "cell_type": "code",
   "execution_count": 39,
   "metadata": {
    "scrolled": true
   },
   "outputs": [
    {
     "name": "stdout",
     "output_type": "stream",
     "text": [
      "0.9119140506494964 -0.5558160506494813\n",
      "//////////////////////\n",
      "(13750, 9) (1875, 9) (3840, 9) (256, 9)\n"
     ]
    }
   ],
   "source": [
    "'''\n",
    "\n",
    "Standard deviation based data splitting\n",
    "\n",
    "We consider the Q features and use the feature with the \n",
    "\n",
    "highest SD for dividing the dataset\n",
    "'''\n",
    "\n",
    "stats_q_train = pd.DataFrame()\n",
    "stats_q_train[\"Mean\"] = q_train.mean()\n",
    "stats_q_train[\"Var\"] = q_train.var()\n",
    "stats_q_train[\"STD\"] = q_train.std()\n",
    "stats_q_train[\"OneSigmaMax\"] = stats_q_train[\"Mean\"] + stats_q_train[\"STD\"]\n",
    "stats_q_train[\"OneSigmaMin\"] = stats_q_train[\"Mean\"] - stats_q_train[\"STD\"]\n",
    "stats_q_train.T\n",
    "\n",
    "max_std = stats_q_train[\"STD\"].max()\n",
    "colomn_max_std = stats_q_train[\"STD\"].idxmax()\n",
    "\n",
    "maximum = stats_q_train.loc[colomn_max_std, \"Mean\"] + (1.5 * max_std)\n",
    "minimum = stats_q_train.loc[colomn_max_std, \"Mean\"] - (1.5 * max_std)\n",
    "print(maximum, minimum)\n",
    "\n",
    "InDistribution_Q_Train = q_train[q_train[colomn_max_std].le(maximum) & q_train[colomn_max_std].ge(minimum)]\n",
    "OutDistribution_Q_Train = q_train[q_train[colomn_max_std].ge(maximum) | q_train[colomn_max_std].le(minimum)]\n",
    "InDistribution_X_Train = x_train[q_train[colomn_max_std].le(maximum) & q_train[colomn_max_std].ge(minimum)]\n",
    "OutDistribution_X_Train = x_train[q_train[colomn_max_std].ge(maximum) | q_train[colomn_max_std].le(minimum)]\n",
    "\n",
    "InDistribution_Q_Test = q_test[q_test[colomn_max_std].le(maximum) & q_test[colomn_max_std].ge(minimum)]\n",
    "OutDistribution_Q_Test = q_test[q_test[colomn_max_std].ge(maximum) | q_test[colomn_max_std].le(minimum)]\n",
    "InDistribution_X_Test = x_test[q_test[colomn_max_std].le(maximum) & q_test[colomn_max_std].ge(minimum)]\n",
    "OutDistribution_X_Test = x_test[q_test[colomn_max_std].ge(maximum) | q_test[colomn_max_std].le(minimum)]\n",
    "\n",
    "x_train_1 = InDistribution_X_Train\n",
    "q_train_1 = InDistribution_Q_Train\n",
    "x_test_1 = InDistribution_X_Test\n",
    "q_test_1 = InDistribution_Q_Test\n",
    "\n",
    "OOD_x_train = OutDistribution_X_Train\n",
    "OOD_q_train = OutDistribution_Q_Train\n",
    "OOD_x_test = OutDistribution_X_Test\n",
    "OOD_q_test = OutDistribution_Q_Test\n",
    "\n",
    "\n",
    "\n",
    "print(\"//////////////////////\")\n",
    "print(x_train_1.shape, OOD_x_train.shape, x_test_1.shape, OOD_x_test.shape)\n"
   ]
  },
  {
   "cell_type": "code",
   "execution_count": 40,
   "metadata": {},
   "outputs": [
    {
     "name": "stdout",
     "output_type": "stream",
     "text": [
      "(15625, 9) (4096, 9)\n"
     ]
    }
   ],
   "source": [
    "print(x_train.shape, x_test.shape)"
   ]
  },
  {
   "cell_type": "code",
   "execution_count": 41,
   "metadata": {},
   "outputs": [],
   "source": [
    "\n",
    "x_scaler = MinMaxScaler()\n",
    "q_scaler = MinMaxScaler()\n",
    "\n",
    "#complete test set\n",
    "x_train = x_scaler.fit_transform(x_train)\n",
    "q_train = q_scaler.fit_transform(q_train)\n",
    "x_test = x_scaler.transform(x_test)\n",
    "q_test = q_scaler.transform(q_test)\n",
    "\n",
    "#In order training set\n",
    "x_train_1 = x_scaler.transform(x_train_1)\n",
    "q_train_1 = q_scaler.transform(q_train_1)\n",
    "\n",
    "IOD_x_train = x_train_1\n",
    "IOD_q_train = q_train_1\n",
    "\n",
    "\n",
    "#split testing data\n",
    "IOD_x_test = x_scaler.transform(x_test_1)\n",
    "IOD_q_test = q_scaler.transform(q_test_1)\n",
    "\n",
    "OOD_x_test = x_scaler.transform(OOD_x_test)\n",
    "OOD_q_test = q_scaler.transform(OOD_q_test)"
   ]
  },
  {
   "cell_type": "code",
   "execution_count": 42,
   "metadata": {},
   "outputs": [],
   "source": [
    "dropoutRate = 0.5"
   ]
  },
  {
   "cell_type": "code",
   "execution_count": 43,
   "metadata": {},
   "outputs": [],
   "source": [
    "def model_builder(input_shape, output_shape):\n",
    "    def build_model(depth, width, reduction_factor):\n",
    "        model = Sequential()\n",
    "\n",
    "        for i in range(depth):\n",
    "            num_neurons = max(int(width * (reduction_factor ** i)), 4)\n",
    "            if i == 0:\n",
    "                model.add(Dense(num_neurons, activation='relu', input_shape=(input_shape,)))\n",
    "            else:\n",
    "                model.add(Dropout(dropoutRate))\n",
    "                model.add(Dense(num_neurons, activation='relu'))                \n",
    "\n",
    "            model.add(BatchNormalization())\n",
    "\n",
    "        model.add(Dense(output_shape, activation='sigmoid'))\n",
    "\n",
    "        model.compile(loss='mse', optimizer='adam', metrics=[\"mae\"])\n",
    "\n",
    "        return model\n",
    "    return build_model\n"
   ]
  },
  {
   "cell_type": "code",
   "execution_count": 66,
   "metadata": {},
   "outputs": [
    {
     "name": "stdout",
     "output_type": "stream",
     "text": [
      "Train on 13750 samples, validate on 3840 samples\n",
      "Epoch 1/100\n",
      "13750/13750 [==============================] - 2s 148us/sample - loss: 0.1202 - mean_absolute_error: 0.2860 - val_loss: 0.1032 - val_mean_absolute_error: 0.2701\n",
      "Epoch 2/100\n",
      "13750/13750 [==============================] - 1s 48us/sample - loss: 0.0937 - mean_absolute_error: 0.2530 - val_loss: 0.1049 - val_mean_absolute_error: 0.2710\n",
      "Epoch 3/100\n",
      "13750/13750 [==============================] - 1s 49us/sample - loss: 0.0860 - mean_absolute_error: 0.2403 - val_loss: 0.0925 - val_mean_absolute_error: 0.2574\n",
      "Epoch 4/100\n",
      "13750/13750 [==============================] - 1s 49us/sample - loss: 0.0821 - mean_absolute_error: 0.2333 - val_loss: 0.0782 - val_mean_absolute_error: 0.2345\n",
      "Epoch 5/100\n",
      "13750/13750 [==============================] - 1s 48us/sample - loss: 0.0786 - mean_absolute_error: 0.2274 - val_loss: 0.0701 - val_mean_absolute_error: 0.2190\n",
      "Epoch 6/100\n",
      "13750/13750 [==============================] - 1s 47us/sample - loss: 0.0753 - mean_absolute_error: 0.2218 - val_loss: 0.0640 - val_mean_absolute_error: 0.2068\n",
      "Epoch 7/100\n",
      "13750/13750 [==============================] - 1s 47us/sample - loss: 0.0718 - mean_absolute_error: 0.2158 - val_loss: 0.0610 - val_mean_absolute_error: 0.1996\n",
      "Epoch 8/100\n",
      "13750/13750 [==============================] - 1s 48us/sample - loss: 0.0692 - mean_absolute_error: 0.2112 - val_loss: 0.0586 - val_mean_absolute_error: 0.1956\n",
      "Epoch 9/100\n",
      "13750/13750 [==============================] - 1s 47us/sample - loss: 0.0670 - mean_absolute_error: 0.2073 - val_loss: 0.0542 - val_mean_absolute_error: 0.1868\n",
      "Epoch 10/100\n",
      "13750/13750 [==============================] - 1s 49us/sample - loss: 0.0646 - mean_absolute_error: 0.2029 - val_loss: 0.0491 - val_mean_absolute_error: 0.1767\n",
      "Epoch 11/100\n",
      "13750/13750 [==============================] - 1s 48us/sample - loss: 0.0618 - mean_absolute_error: 0.1976 - val_loss: 0.0457 - val_mean_absolute_error: 0.1699\n",
      "Epoch 12/100\n",
      "13750/13750 [==============================] - 1s 48us/sample - loss: 0.0597 - mean_absolute_error: 0.1934 - val_loss: 0.0441 - val_mean_absolute_error: 0.1652\n",
      "Epoch 13/100\n",
      "13750/13750 [==============================] - 1s 48us/sample - loss: 0.0584 - mean_absolute_error: 0.1910 - val_loss: 0.0438 - val_mean_absolute_error: 0.1646\n",
      "Epoch 14/100\n",
      "13750/13750 [==============================] - 1s 49us/sample - loss: 0.0573 - mean_absolute_error: 0.1887 - val_loss: 0.0433 - val_mean_absolute_error: 0.1625\n",
      "Epoch 15/100\n",
      "13750/13750 [==============================] - 1s 49us/sample - loss: 0.0564 - mean_absolute_error: 0.1872 - val_loss: 0.0433 - val_mean_absolute_error: 0.1625\n",
      "Epoch 16/100\n",
      "13750/13750 [==============================] - 1s 46us/sample - loss: 0.0558 - mean_absolute_error: 0.1859 - val_loss: 0.0430 - val_mean_absolute_error: 0.1617\n",
      "Epoch 17/100\n",
      "13750/13750 [==============================] - 1s 49us/sample - loss: 0.0553 - mean_absolute_error: 0.1849 - val_loss: 0.0429 - val_mean_absolute_error: 0.1618\n",
      "Epoch 18/100\n",
      "13750/13750 [==============================] - 1s 48us/sample - loss: 0.0550 - mean_absolute_error: 0.1844 - val_loss: 0.0429 - val_mean_absolute_error: 0.1619\n",
      "Epoch 19/100\n",
      "13750/13750 [==============================] - 1s 49us/sample - loss: 0.0545 - mean_absolute_error: 0.1836 - val_loss: 0.0425 - val_mean_absolute_error: 0.1609\n",
      "Epoch 20/100\n",
      "13750/13750 [==============================] - 1s 50us/sample - loss: 0.0539 - mean_absolute_error: 0.1821 - val_loss: 0.0425 - val_mean_absolute_error: 0.1599\n",
      "Epoch 21/100\n",
      "13750/13750 [==============================] - 1s 49us/sample - loss: 0.0539 - mean_absolute_error: 0.1822 - val_loss: 0.0421 - val_mean_absolute_error: 0.1598\n",
      "Epoch 22/100\n",
      "13750/13750 [==============================] - 1s 47us/sample - loss: 0.0535 - mean_absolute_error: 0.1813 - val_loss: 0.0419 - val_mean_absolute_error: 0.1592\n",
      "Epoch 23/100\n",
      "13750/13750 [==============================] - 1s 49us/sample - loss: 0.0530 - mean_absolute_error: 0.1805 - val_loss: 0.0419 - val_mean_absolute_error: 0.1590\n",
      "Epoch 24/100\n",
      "13750/13750 [==============================] - 1s 47us/sample - loss: 0.0528 - mean_absolute_error: 0.1802 - val_loss: 0.0415 - val_mean_absolute_error: 0.1577\n",
      "Epoch 25/100\n",
      "13750/13750 [==============================] - 1s 49us/sample - loss: 0.0526 - mean_absolute_error: 0.1795 - val_loss: 0.0414 - val_mean_absolute_error: 0.1580\n",
      "Epoch 26/100\n",
      "13750/13750 [==============================] - 1s 48us/sample - loss: 0.0522 - mean_absolute_error: 0.1789 - val_loss: 0.0409 - val_mean_absolute_error: 0.1574\n",
      "Epoch 27/100\n",
      "13750/13750 [==============================] - 1s 47us/sample - loss: 0.0516 - mean_absolute_error: 0.1778 - val_loss: 0.0399 - val_mean_absolute_error: 0.1554\n",
      "Epoch 28/100\n",
      "13750/13750 [==============================] - 1s 48us/sample - loss: 0.0511 - mean_absolute_error: 0.1769 - val_loss: 0.0390 - val_mean_absolute_error: 0.1534\n",
      "Epoch 29/100\n",
      "13750/13750 [==============================] - 1s 47us/sample - loss: 0.0502 - mean_absolute_error: 0.1751 - val_loss: 0.0373 - val_mean_absolute_error: 0.1503\n",
      "Epoch 30/100\n",
      "13750/13750 [==============================] - 1s 48us/sample - loss: 0.0496 - mean_absolute_error: 0.1736 - val_loss: 0.0360 - val_mean_absolute_error: 0.1474\n",
      "Epoch 31/100\n",
      "13750/13750 [==============================] - 1s 49us/sample - loss: 0.0484 - mean_absolute_error: 0.1714 - val_loss: 0.0362 - val_mean_absolute_error: 0.1475\n",
      "Epoch 32/100\n",
      "13750/13750 [==============================] - 1s 47us/sample - loss: 0.0475 - mean_absolute_error: 0.1696 - val_loss: 0.0351 - val_mean_absolute_error: 0.1453\n",
      "Epoch 33/100\n",
      "13750/13750 [==============================] - 1s 48us/sample - loss: 0.0461 - mean_absolute_error: 0.1667 - val_loss: 0.0313 - val_mean_absolute_error: 0.1356\n",
      "Epoch 34/100\n",
      "13750/13750 [==============================] - 1s 49us/sample - loss: 0.0456 - mean_absolute_error: 0.1655 - val_loss: 0.0299 - val_mean_absolute_error: 0.1317\n",
      "Epoch 35/100\n",
      "13750/13750 [==============================] - 1s 49us/sample - loss: 0.0452 - mean_absolute_error: 0.1645 - val_loss: 0.0295 - val_mean_absolute_error: 0.1307\n",
      "Epoch 36/100\n",
      "13750/13750 [==============================] - 1s 48us/sample - loss: 0.0442 - mean_absolute_error: 0.1624 - val_loss: 0.0284 - val_mean_absolute_error: 0.1268\n",
      "Epoch 37/100\n",
      "13750/13750 [==============================] - 1s 48us/sample - loss: 0.0440 - mean_absolute_error: 0.1617 - val_loss: 0.0287 - val_mean_absolute_error: 0.1279\n",
      "Epoch 38/100\n",
      "13750/13750 [==============================] - 1s 48us/sample - loss: 0.0432 - mean_absolute_error: 0.1603 - val_loss: 0.0284 - val_mean_absolute_error: 0.1271\n",
      "Epoch 39/100\n",
      "13750/13750 [==============================] - 1s 48us/sample - loss: 0.0429 - mean_absolute_error: 0.1591 - val_loss: 0.0280 - val_mean_absolute_error: 0.1252\n",
      "Epoch 40/100\n",
      "13750/13750 [==============================] - 1s 48us/sample - loss: 0.0425 - mean_absolute_error: 0.1586 - val_loss: 0.0283 - val_mean_absolute_error: 0.1264\n",
      "Epoch 41/100\n",
      "13750/13750 [==============================] - 1s 49us/sample - loss: 0.0422 - mean_absolute_error: 0.1579 - val_loss: 0.0281 - val_mean_absolute_error: 0.1254\n",
      "Epoch 42/100\n",
      "13750/13750 [==============================] - 1s 49us/sample - loss: 0.0417 - mean_absolute_error: 0.1567 - val_loss: 0.0276 - val_mean_absolute_error: 0.1241\n",
      "Epoch 43/100\n",
      "13750/13750 [==============================] - 1s 49us/sample - loss: 0.0414 - mean_absolute_error: 0.1559 - val_loss: 0.0278 - val_mean_absolute_error: 0.1241\n",
      "Epoch 44/100\n",
      "13750/13750 [==============================] - 1s 49us/sample - loss: 0.0411 - mean_absolute_error: 0.1552 - val_loss: 0.0275 - val_mean_absolute_error: 0.1231\n",
      "Epoch 45/100\n",
      "13750/13750 [==============================] - 1s 48us/sample - loss: 0.0405 - mean_absolute_error: 0.1539 - val_loss: 0.0276 - val_mean_absolute_error: 0.1231\n",
      "Epoch 46/100\n",
      "13750/13750 [==============================] - 1s 48us/sample - loss: 0.0406 - mean_absolute_error: 0.1538 - val_loss: 0.0279 - val_mean_absolute_error: 0.1244\n",
      "Epoch 47/100\n",
      "13750/13750 [==============================] - 1s 48us/sample - loss: 0.0402 - mean_absolute_error: 0.1532 - val_loss: 0.0276 - val_mean_absolute_error: 0.1239\n",
      "Epoch 48/100\n",
      "13750/13750 [==============================] - 1s 48us/sample - loss: 0.0399 - mean_absolute_error: 0.1525 - val_loss: 0.0276 - val_mean_absolute_error: 0.1230\n",
      "Epoch 49/100\n",
      "13750/13750 [==============================] - 1s 48us/sample - loss: 0.0396 - mean_absolute_error: 0.1514 - val_loss: 0.0273 - val_mean_absolute_error: 0.1220\n",
      "Epoch 50/100\n",
      "13750/13750 [==============================] - 1s 51us/sample - loss: 0.0392 - mean_absolute_error: 0.1505 - val_loss: 0.0272 - val_mean_absolute_error: 0.1215\n",
      "Epoch 51/100\n",
      "13750/13750 [==============================] - 1s 50us/sample - loss: 0.0390 - mean_absolute_error: 0.1499 - val_loss: 0.0277 - val_mean_absolute_error: 0.1228\n",
      "Epoch 52/100\n",
      "13750/13750 [==============================] - 1s 50us/sample - loss: 0.0385 - mean_absolute_error: 0.1486 - val_loss: 0.0263 - val_mean_absolute_error: 0.1194\n",
      "Epoch 53/100\n",
      "13750/13750 [==============================] - 1s 49us/sample - loss: 0.0386 - mean_absolute_error: 0.1488 - val_loss: 0.0267 - val_mean_absolute_error: 0.1195\n",
      "Epoch 54/100\n",
      "13750/13750 [==============================] - 1s 49us/sample - loss: 0.0381 - mean_absolute_error: 0.1477 - val_loss: 0.0261 - val_mean_absolute_error: 0.1178\n",
      "Epoch 55/100\n",
      "13750/13750 [==============================] - 1s 49us/sample - loss: 0.0377 - mean_absolute_error: 0.1466 - val_loss: 0.0257 - val_mean_absolute_error: 0.1166\n",
      "Epoch 56/100\n",
      "13750/13750 [==============================] - 1s 47us/sample - loss: 0.0375 - mean_absolute_error: 0.1458 - val_loss: 0.0258 - val_mean_absolute_error: 0.1166\n",
      "Epoch 57/100\n",
      "13750/13750 [==============================] - 1s 49us/sample - loss: 0.0375 - mean_absolute_error: 0.1460 - val_loss: 0.0254 - val_mean_absolute_error: 0.1168\n",
      "Epoch 58/100\n",
      "13750/13750 [==============================] - 1s 50us/sample - loss: 0.0369 - mean_absolute_error: 0.1444 - val_loss: 0.0248 - val_mean_absolute_error: 0.1137\n",
      "Epoch 59/100\n",
      "13750/13750 [==============================] - 1s 49us/sample - loss: 0.0366 - mean_absolute_error: 0.1433 - val_loss: 0.0247 - val_mean_absolute_error: 0.1124\n",
      "Epoch 60/100\n",
      "13750/13750 [==============================] - 1s 50us/sample - loss: 0.0363 - mean_absolute_error: 0.1428 - val_loss: 0.0249 - val_mean_absolute_error: 0.1130\n",
      "Epoch 61/100\n",
      "13750/13750 [==============================] - 1s 48us/sample - loss: 0.0361 - mean_absolute_error: 0.1423 - val_loss: 0.0243 - val_mean_absolute_error: 0.1117\n",
      "Epoch 62/100\n",
      "13750/13750 [==============================] - 1s 50us/sample - loss: 0.0361 - mean_absolute_error: 0.1419 - val_loss: 0.0240 - val_mean_absolute_error: 0.1113\n",
      "Epoch 63/100\n",
      "13750/13750 [==============================] - 1s 50us/sample - loss: 0.0356 - mean_absolute_error: 0.1407 - val_loss: 0.0236 - val_mean_absolute_error: 0.1091\n",
      "Epoch 64/100\n",
      "13750/13750 [==============================] - 1s 51us/sample - loss: 0.0355 - mean_absolute_error: 0.1405 - val_loss: 0.0238 - val_mean_absolute_error: 0.1099\n",
      "Epoch 65/100\n",
      "13750/13750 [==============================] - 1s 48us/sample - loss: 0.0353 - mean_absolute_error: 0.1397 - val_loss: 0.0235 - val_mean_absolute_error: 0.1081\n",
      "Epoch 66/100\n",
      "13750/13750 [==============================] - 1s 48us/sample - loss: 0.0352 - mean_absolute_error: 0.1392 - val_loss: 0.0232 - val_mean_absolute_error: 0.1080\n",
      "Epoch 67/100\n",
      "13750/13750 [==============================] - 1s 49us/sample - loss: 0.0348 - mean_absolute_error: 0.1385 - val_loss: 0.0232 - val_mean_absolute_error: 0.1062\n",
      "Epoch 68/100\n",
      "13750/13750 [==============================] - 1s 49us/sample - loss: 0.0347 - mean_absolute_error: 0.1379 - val_loss: 0.0228 - val_mean_absolute_error: 0.1055\n",
      "Epoch 69/100\n",
      "13750/13750 [==============================] - 1s 50us/sample - loss: 0.0345 - mean_absolute_error: 0.1375 - val_loss: 0.0231 - val_mean_absolute_error: 0.1069\n",
      "Epoch 70/100\n",
      "13750/13750 [==============================] - 1s 49us/sample - loss: 0.0346 - mean_absolute_error: 0.1378 - val_loss: 0.0227 - val_mean_absolute_error: 0.1061\n",
      "Epoch 71/100\n",
      "13750/13750 [==============================] - 1s 50us/sample - loss: 0.0344 - mean_absolute_error: 0.1366 - val_loss: 0.0224 - val_mean_absolute_error: 0.1048\n",
      "Epoch 72/100\n",
      "13750/13750 [==============================] - 1s 50us/sample - loss: 0.0343 - mean_absolute_error: 0.1364 - val_loss: 0.0227 - val_mean_absolute_error: 0.1062\n",
      "Epoch 73/100\n",
      "13750/13750 [==============================] - 1s 48us/sample - loss: 0.0341 - mean_absolute_error: 0.1362 - val_loss: 0.0231 - val_mean_absolute_error: 0.1064\n",
      "Epoch 74/100\n",
      "13750/13750 [==============================] - 1s 48us/sample - loss: 0.0342 - mean_absolute_error: 0.1364 - val_loss: 0.0224 - val_mean_absolute_error: 0.1040\n",
      "Epoch 75/100\n",
      "13750/13750 [==============================] - 1s 50us/sample - loss: 0.0339 - mean_absolute_error: 0.1356 - val_loss: 0.0225 - val_mean_absolute_error: 0.1043\n",
      "Epoch 76/100\n",
      "13750/13750 [==============================] - 1s 51us/sample - loss: 0.0339 - mean_absolute_error: 0.1356 - val_loss: 0.0227 - val_mean_absolute_error: 0.1046\n",
      "Epoch 77/100\n",
      "13750/13750 [==============================] - 1s 50us/sample - loss: 0.0337 - mean_absolute_error: 0.1349 - val_loss: 0.0226 - val_mean_absolute_error: 0.1054\n",
      "Epoch 78/100\n",
      "13750/13750 [==============================] - 1s 48us/sample - loss: 0.0338 - mean_absolute_error: 0.1350 - val_loss: 0.0230 - val_mean_absolute_error: 0.1062\n",
      "Epoch 79/100\n",
      "13750/13750 [==============================] - 1s 48us/sample - loss: 0.0334 - mean_absolute_error: 0.1341 - val_loss: 0.0233 - val_mean_absolute_error: 0.1083\n",
      "Epoch 80/100\n",
      "13750/13750 [==============================] - 1s 49us/sample - loss: 0.0335 - mean_absolute_error: 0.1341 - val_loss: 0.0225 - val_mean_absolute_error: 0.1045\n",
      "Epoch 81/100\n",
      "13750/13750 [==============================] - 1s 48us/sample - loss: 0.0336 - mean_absolute_error: 0.1347 - val_loss: 0.0229 - val_mean_absolute_error: 0.1055\n",
      "Epoch 82/100\n",
      "13750/13750 [==============================] - 1s 47us/sample - loss: 0.0331 - mean_absolute_error: 0.1333 - val_loss: 0.0226 - val_mean_absolute_error: 0.1037\n",
      "Epoch 83/100\n",
      "13750/13750 [==============================] - 1s 47us/sample - loss: 0.0329 - mean_absolute_error: 0.1329 - val_loss: 0.0228 - val_mean_absolute_error: 0.1052\n",
      "Epoch 84/100\n",
      "13750/13750 [==============================] - 1s 49us/sample - loss: 0.0332 - mean_absolute_error: 0.1334 - val_loss: 0.0230 - val_mean_absolute_error: 0.1061\n",
      "Epoch 85/100\n",
      "13750/13750 [==============================] - 1s 46us/sample - loss: 0.0333 - mean_absolute_error: 0.1335 - val_loss: 0.0224 - val_mean_absolute_error: 0.1042\n",
      "Epoch 86/100\n",
      "13750/13750 [==============================] - 1s 48us/sample - loss: 0.0329 - mean_absolute_error: 0.1327 - val_loss: 0.0228 - val_mean_absolute_error: 0.1050\n",
      "Epoch 87/100\n",
      "13750/13750 [==============================] - 1s 47us/sample - loss: 0.0330 - mean_absolute_error: 0.1325 - val_loss: 0.0224 - val_mean_absolute_error: 0.1048\n",
      "Epoch 88/100\n",
      "13750/13750 [==============================] - 1s 47us/sample - loss: 0.0327 - mean_absolute_error: 0.1320 - val_loss: 0.0226 - val_mean_absolute_error: 0.1036\n",
      "Epoch 89/100\n",
      "13750/13750 [==============================] - 1s 47us/sample - loss: 0.0330 - mean_absolute_error: 0.1326 - val_loss: 0.0228 - val_mean_absolute_error: 0.1057\n",
      "Epoch 90/100\n",
      "13750/13750 [==============================] - 1s 49us/sample - loss: 0.0330 - mean_absolute_error: 0.1325 - val_loss: 0.0229 - val_mean_absolute_error: 0.1059\n",
      "Epoch 91/100\n",
      "13750/13750 [==============================] - 1s 48us/sample - loss: 0.0326 - mean_absolute_error: 0.1319 - val_loss: 0.0227 - val_mean_absolute_error: 0.1040\n",
      "Epoch 92/100\n",
      "13750/13750 [==============================] - 1s 49us/sample - loss: 0.0327 - mean_absolute_error: 0.1318 - val_loss: 0.0224 - val_mean_absolute_error: 0.1033\n",
      "Epoch 93/100\n",
      "13750/13750 [==============================] - 1s 50us/sample - loss: 0.0328 - mean_absolute_error: 0.1318 - val_loss: 0.0225 - val_mean_absolute_error: 0.1042\n",
      "Epoch 94/100\n",
      "13750/13750 [==============================] - 1s 48us/sample - loss: 0.0327 - mean_absolute_error: 0.1317 - val_loss: 0.0225 - val_mean_absolute_error: 0.1045\n",
      "Epoch 95/100\n"
     ]
    },
    {
     "name": "stdout",
     "output_type": "stream",
     "text": [
      "13750/13750 [==============================] - 1s 50us/sample - loss: 0.0327 - mean_absolute_error: 0.1317 - val_loss: 0.0224 - val_mean_absolute_error: 0.1044\n",
      "Epoch 96/100\n",
      "13750/13750 [==============================] - 1s 48us/sample - loss: 0.0324 - mean_absolute_error: 0.1310 - val_loss: 0.0224 - val_mean_absolute_error: 0.1039\n",
      "Epoch 97/100\n",
      "13750/13750 [==============================] - 1s 50us/sample - loss: 0.0325 - mean_absolute_error: 0.1309 - val_loss: 0.0224 - val_mean_absolute_error: 0.1042\n",
      "Epoch 98/100\n",
      "13750/13750 [==============================] - 1s 49us/sample - loss: 0.0324 - mean_absolute_error: 0.1309 - val_loss: 0.0226 - val_mean_absolute_error: 0.1042\n",
      "Epoch 99/100\n",
      "13750/13750 [==============================] - 1s 50us/sample - loss: 0.0324 - mean_absolute_error: 0.1308 - val_loss: 0.0225 - val_mean_absolute_error: 0.1044\n",
      "Epoch 100/100\n",
      "13750/13750 [==============================] - 1s 50us/sample - loss: 0.0328 - mean_absolute_error: 0.1320 - val_loss: 0.0228 - val_mean_absolute_error: 0.1052\n"
     ]
    }
   ],
   "source": [
    "HYPERPARAMETERS = {'depth': 6, 'width': 64, 'reduction_factor':  0.9}\n",
    "with tf.device('/cpu:0'):\n",
    "    model = model_builder(9, 18)(**HYPERPARAMETERS)\n",
    "    hist = model.fit(x_train_1, q_train_1, epochs = 100, batch_size = 128, verbose = 1, validation_data=(IOD_x_test, IOD_q_test))\n",
    "\n",
    "#use_multiprocessing=True, workers=1000"
   ]
  },
  {
   "cell_type": "code",
   "execution_count": 67,
   "metadata": {},
   "outputs": [
    {
     "name": "stdout",
     "output_type": "stream",
     "text": [
      "Testing MAE: 0.10886\n",
      "Testing MAEX: 0.07804\n"
     ]
    },
    {
     "data": {
      "text/plain": [
       "'\\n# Compute MAE for each output independently.\\nfor i in range(IOD_q_test.shape[1]):\\n    norm_mae_i = mean_absolute_error(IOD_q_test[:, i], q_pred[:, i])\\n    mae_i = mean_absolute_error(q_unnorm[:, i], q_pred_unnorm[:, i])\\n    print(\"Q feature {} has unnorm MAE: {:.4f} (Range {:.4f} to {:.4f}) normalized MAE: {:.4f}\".format(i, mae_i, q_scaler.data_min_[i], q_scaler.data_max_[i], norm_mae_i))\\n'"
      ]
     },
     "execution_count": 67,
     "metadata": {},
     "output_type": "execute_result"
    }
   ],
   "source": [
    "q_pred = model.predict(x_test, verbose=0)\n",
    "q_unnorm = q_scaler.inverse_transform(q_test)\n",
    "q_pred_unnorm = q_scaler.inverse_transform(q_pred)\n",
    "\n",
    "global_mae = mean_absolute_error(q_test, q_pred)\n",
    "mae_1 = mean_absolute_error(q_unnorm, q_pred_unnorm)\n",
    "\n",
    "print(\"Testing MAE: {:.5f}\".format(global_mae))\n",
    "print(\"Testing MAEX: {:.5f}\".format(mae_1))\n",
    "\n",
    "'''\n",
    "# Compute MAE for each output independently.\n",
    "for i in range(IOD_q_test.shape[1]):\n",
    "    norm_mae_i = mean_absolute_error(IOD_q_test[:, i], q_pred[:, i])\n",
    "    mae_i = mean_absolute_error(q_unnorm[:, i], q_pred_unnorm[:, i])\n",
    "    print(\"Q feature {} has unnorm MAE: {:.4f} (Range {:.4f} to {:.4f}) normalized MAE: {:.4f}\".format(i, mae_i, q_scaler.data_min_[i], q_scaler.data_max_[i], norm_mae_i))\n",
    "'''"
   ]
  },
  {
   "cell_type": "markdown",
   "metadata": {},
   "source": [
    "# MC Dropout Regressor, O/P : mean, Std #"
   ]
  },
  {
   "cell_type": "code",
   "execution_count": 68,
   "metadata": {
    "scrolled": true
   },
   "outputs": [],
   "source": [
    "def test_mcdropout_regressor(x_test_values, q_test_values, model, data_scaler):   \n",
    "    mc_model = MCDropoutRegressor(model)\n",
    "    inp = x_test_values  \n",
    "    \n",
    "    mean, std = mc_model.predict(inp, num_samples = 10)\n",
    "    \n",
    "    q_pred_unnormalised = data_scaler.inverse_transform(mean)\n",
    "    \n",
    "    #q_sd_unnromalised = data_scaler.inverse_transform(std)\n",
    "    \n",
    "    global_mae = mean_absolute_error(q_test_values, mean)\n",
    "\n",
    "    print(\"Testing MAE: {:.5f}\".format(global_mae))\n",
    "\n",
    "    return q_pred_unnormalised, std\n",
    "  \n"
   ]
  },
  {
   "cell_type": "code",
   "execution_count": 69,
   "metadata": {},
   "outputs": [
    {
     "name": "stdout",
     "output_type": "stream",
     "text": [
      "Testing MAE: 0.30185\n"
     ]
    }
   ],
   "source": [
    "\n",
    "mean_1, std_1 = test_mcdropout_regressor(x_test, q_test, model, q_scaler)\n",
    "\n",
    "q_test_unorm = q_scaler.inverse_transform(q_test)\n",
    "\n"
   ]
  },
  {
   "cell_type": "code",
   "execution_count": 70,
   "metadata": {},
   "outputs": [
    {
     "name": "stdout",
     "output_type": "stream",
     "text": [
      "0.0042438083\n"
     ]
    }
   ],
   "source": [
    "sd_test_1 = pd.DataFrame(std_1)\n",
    "\n",
    "print(sd_test_1[0].min())"
   ]
  },
  {
   "cell_type": "code",
   "execution_count": 71,
   "metadata": {
    "scrolled": true
   },
   "outputs": [
    {
     "name": "stdout",
     "output_type": "stream",
     "text": [
      "Testing MAE: 0.29542\n",
      "NLL: 34.28814\n"
     ]
    }
   ],
   "source": [
    "mean_test_IOD, sd_test_IOD = test_mcdropout_regressor(IOD_x_test, IOD_q_test, model, q_scaler)\n",
    "q_test_unorm = q_scaler.inverse_transform(IOD_q_test)\n",
    "print(\"NLL: {:.5f}\".format(numpy_regression_nll(q_test_unorm, mean_test_IOD, sd_test_IOD**2)))"
   ]
  },
  {
   "cell_type": "code",
   "execution_count": 72,
   "metadata": {},
   "outputs": [
    {
     "name": "stdout",
     "output_type": "stream",
     "text": [
      "Testing MAE: 0.39470\n",
      "NLL: 43.80406\n"
     ]
    }
   ],
   "source": [
    "mean_test_OOD, sd_test_OOD = test_mcdropout_regressor(OOD_x_test, OOD_q_test, model, q_scaler)\n",
    "q_test_unorm = q_scaler.inverse_transform(OOD_q_test)\n",
    "print(\"NLL: {:.5f}\".format(numpy_regression_nll(q_test_unorm, mean_test_OOD, sd_test_OOD**2)))"
   ]
  },
  {
   "cell_type": "code",
   "execution_count": 115,
   "metadata": {},
   "outputs": [],
   "source": [
    "column_no = 2"
   ]
  },
  {
   "cell_type": "code",
   "execution_count": 116,
   "metadata": {
    "scrolled": true
   },
   "outputs": [
    {
     "data": {
      "image/png": "[encoded data removed]",
      "text/plain": [
       "<Figure size 432x288 with 1 Axes>"
      ]
     },
     "metadata": {
      "needs_background": "light"
     },
     "output_type": "display_data"
    }
   ],
   "source": [
    "sd_test_IOD_df = pd.DataFrame(sd_test_IOD)\n",
    "sd_test_OOD_df = pd.DataFrame(sd_test_OOD)\n",
    "new_scores = np.concatenate([sd_test_IOD_df[column_no], sd_test_OOD_df[column_no]], axis=0)\n",
    "minmaxscaler = MinMaxScaler()\n",
    "new_scores_scaled = minmaxscaler.fit_transform(new_scores.reshape(-1, 1))\n",
    "new_labels = np.concatenate([np.zeros_like(sd_test_IOD_df[column_no]), np.ones_like(sd_test_OOD_df[column_no])], axis=0)\n",
    "histogram_df = pd.DataFrame(new_scores_scaled, new_labels)\n",
    "\n",
    "#histogram_df.hist(column=0)\n",
    "\n",
    "#sd_test_IOD_df.hist(column=0)\n",
    "#sd_test_OOD_df.hist(column=0)\n",
    "import matplotlib.pyplot as plt\n",
    "fig, ax = plt.subplots()\n",
    "\n",
    "a_heights, a_bins = np.histogram(sd_test_IOD_df[column_no].values.reshape(-1, 1), density=True)\n",
    "b_heights, b_bins = np.histogram(sd_test_OOD_df[column_no].values.reshape(-1, 1), bins=a_bins, density=True)\n",
    "\n",
    "width = (a_bins[1] - a_bins[0])/3\n",
    "\n",
    "ax.bar(a_bins[:-1], a_heights, width = width, facecolor='blue',label=\"IOD SD\")\n",
    "ax.bar(b_bins[:-1]+width, b_heights, width = width, facecolor='red', label=\"OOD SD\")\n",
    "ax.legend()\n",
    "ax.set_xlabel(\"Standard Deviation\")\n",
    "ax.set_ylabel(\"Normalised density of Samples\")\n",
    "fig.savefig(\"density_vs_sd_dropout_sd_split_col_2.pdf\")\n"
   ]
  },
  {
   "cell_type": "code",
   "execution_count": 117,
   "metadata": {
    "scrolled": false
   },
   "outputs": [
    {
     "name": "stdout",
     "output_type": "stream",
     "text": [
      "18\n"
     ]
    }
   ],
   "source": [
    "print(sd_test_IOD.shape[1])"
   ]
  },
  {
   "cell_type": "code",
   "execution_count": 118,
   "metadata": {},
   "outputs": [
    {
     "name": "stdout",
     "output_type": "stream",
     "text": [
      "0.4660929361979166\n"
     ]
    },
    {
     "data": {
      "image/png": "[encoded data removed]",
      "text/plain": [
       "<Figure size 432x288 with 1 Axes>"
      ]
     },
     "metadata": {
      "needs_background": "light"
     },
     "output_type": "display_data"
    }
   ],
   "source": [
    "from sklearn.metrics import roc_curve, roc_auc_score\n",
    "norm_scores = new_scores - min(new_scores) / (max(new_scores) - min(new_scores))\n",
    "\n",
    "auc = roc_auc_score(new_labels, new_scores)\n",
    "fpr, tpr, threshs = roc_curve(new_labels, norm_scores, drop_intermediate=True)\n",
    "print(auc)\n",
    "\n",
    "plt.xlabel('FPR', fontsize=13)\n",
    "plt.ylabel('TPR', fontsize=13)\n",
    "plt.title('Receiver Operating Characteristic')\n",
    "plt.plot(fpr, tpr)\n",
    "plt.savefig(\"auc_dropout_sd_split_col_2.pdf\")\n",
    "plt.show()\n",
    "\n"
   ]
  },
  {
   "cell_type": "code",
   "execution_count": null,
   "metadata": {},
   "outputs": [],
   "source": []
  },
  {
   "cell_type": "code",
   "execution_count": null,
   "metadata": {},
   "outputs": [],
   "source": []
  }
 ],
 "metadata": {
  "kernelspec": {
   "display_name": "Python 3",
   "language": "python",
   "name": "python3"
  },
  "language_info": {
   "codemirror_mode": {
    "name": "ipython",
    "version": 3
   },
   "file_extension": ".py",
   "mimetype": "text/x-python",
   "name": "python",
   "nbconvert_exporter": "python",
   "pygments_lexer": "ipython3",
   "version": "3.6.9"
  }
 },
 "nbformat": 4,
 "nbformat_minor": 4
}
